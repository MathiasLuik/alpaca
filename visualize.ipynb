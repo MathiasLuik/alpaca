{
 "cells": [
  {
   "cell_type": "code",
   "execution_count": null,
   "metadata": {
    "collapsed": true
   },
   "outputs": [],
   "source": [
    "%load_ext autoreload\n",
    "%autoreload 2"
   ]
  },
  {
   "cell_type": "code",
   "execution_count": 3,
   "metadata": {
    "pycharm": {
     "name": "#%%\n"
    }
   },
   "outputs": [],
   "source": [
    "import random\n",
    "import numpy as np\n",
    "import matplotlib.pyplot as plt\n",
    "from mpl_toolkits.mplot3d import Axes3D\n",
    "import torch\n",
    "\n",
    "from dataloader.rosen import RosenData\n",
    "from visualize import get_vae, get_model, set_random, build_estimator\n",
    "config = {\n",
    "    'estimator': 'nngp',\n",
    "    'random_seed': 43,\n",
    "    'n_dim': 10,\n",
    "    'data_size': 2000,\n",
    "    'data_split': [0.2, 0.1, 0.1, 0.6],\n",
    "    'update_size': 100,\n",
    "    'al_iterations': 10,\n",
    "    'verbose': True,\n",
    "    'use_cache': True,\n",
    "    'layers': [10, 128, 64, 32, 1],\n",
    "    'patience': 5,\n",
    "    'retrain': False,\n",
    "    'model_path': 'model/data/rosen_visual.ckpt'\n",
    "}\n"
   ]
  },
  {
   "cell_type": "code",
   "execution_count": null,
   "metadata": {},
   "outputs": [],
   "source": [
    "epochs = 100_000\n",
    "patience = 5\n",
    "# rosen = RosenData(\n",
    "#     config['n_dim'], config['data_size'], config['data_split'],\n",
    "#     use_cache=config['use_cache'])\n",
    "rosen = RosenData(config['n_dim'], 20000, config['data_split'], use_cache=False)\n",
    "x_pool, y_pool = rosen.dataset('pool')\n",
    "x_train, y_train = rosen.dataset('train')\n",
    "x_val, y_val = rosen.dataset('train')\n",
    "\n",
    "set_random(config['random_seed'])\n",
    "model = get_model(config['retrain'], config['model_path'], (x_train, y_train), (x_val, y_val))\n",
    "estimator = build_estimator(config['estimator'], model)\n",
    "estimation = estimator.estimate(x_pool, x_train, y_train)\n",
    "\n",
    "\n"
   ]
  },
  {
   "cell_type": "code",
   "execution_count": null,
   "metadata": {},
   "outputs": [],
   "source": [
    "vae = get_vae(restore=False, rosen=rosen, patience=patience)\n",
    "\n",
    "# Check vae\n",
    "x_batch = x_train[:30]\n",
    "decoded = vae.predict(x_batch)\n",
    "for i in range(5):\n",
    "    plt.scatter([x[i] for x in x_batch], [y[i] for y in decoded])\n",
    "plt.show()\n"
   ]
  },
  {
   "cell_type": "code",
   "execution_count": null,
   "metadata": {},
   "outputs": [],
   "source": [
    "# Make 3d picture of pool points\n",
    "points = 500\n",
    "x_batch = x_pool[:points]\n",
    "vae.eval()\n",
    "with torch.no_grad():\n",
    "    surface = vae(torch.DoubleTensor(x_batch))[1].tolist()\n",
    "xs = [point[0] for point in surface]\n",
    "ys = [point[1] for point in surface]\n",
    "\n",
    "from mpl_toolkits.mplot3d import Axes3D\n",
    "\n",
    "fig = plt.figure()\n",
    "ax = fig.add_subplot(111, projection='3d')\n",
    "Axes3D(fig).scatter(xs, ys, zs=y_pool[:points])\n",
    "plt.show()"
   ]
  }
 ],
 "metadata": {
  "kernelspec": {
   "display_name": "Python 3",
   "language": "python",
   "name": "python3"
  },
  "language_info": {
   "codemirror_mode": {
    "name": "ipython",
    "version": 3
   },
   "file_extension": ".py",
   "mimetype": "text/x-python",
   "name": "python",
   "nbconvert_exporter": "python",
   "pygments_lexer": "ipython3",
   "version": "3.7.4"
  },
  "pycharm": {
   "stem_cell": {
    "cell_type": "raw",
    "source": [],
    "metadata": {
     "collapsed": false
    }
   }
  }
 },
 "nbformat": 4,
 "nbformat_minor": 1
}