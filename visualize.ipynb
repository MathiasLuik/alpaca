{
 "cells": [
  {
   "cell_type": "code",
   "execution_count": 1,
   "metadata": {},
   "outputs": [],
   "source": [
    "%load_ext autoreload\n",
    "%autoreload 2"
   ]
  },
  {
   "cell_type": "code",
   "execution_count": 16,
   "metadata": {
    "pycharm": {
     "name": "#%%\n"
    }
   },
   "outputs": [],
   "source": [
    "import random\n",
    "\n",
    "import numpy as np\n",
    "import matplotlib.pyplot as plt\n",
    "from mpl_toolkits.mplot3d import Axes3D\n",
    "import torch\n",
    "\n",
    "from dataloader.rosen import RosenData\n",
    "from visualize import get_vae, get_model, set_random, build_estimator\n",
    "config = {\n",
    "    'estimator': 'nngp',\n",
    "    'random_seed': 43,\n",
    "    'n_dim': 10,\n",
    "    'data_size': 2000,\n",
    "    'data_split': [0.2, 0.1, 0.1, 0.6],\n",
    "    'update_size': 100,\n",
    "    'al_iterations': 10,\n",
    "    'verbose': True,\n",
    "    'use_cache': True,\n",
    "    'layers': [10, 128, 64, 32, 1],\n",
    "    'patience': 5,\n",
    "    'retrain': True,\n",
    "    'model_path': 'model/data/rosen_visual.ckpt',\n",
    "    'epochs': 20_000,\n",
    "    'patience': 5\n",
    "}\n"
   ]
  },
  {
   "cell_type": "code",
   "execution_count": 18,
   "metadata": {
    "scrolled": true
   },
   "outputs": [],
   "source": [
    "rosen = RosenData(\n",
    "    config['n_dim'], config['data_size'], config['data_split'],\n",
    "    use_cache=config['use_cache'])\n",
    "\n",
    "x_pool, y_pool = rosen.dataset('pool')\n",
    "x_train, y_train = rosen.dataset('train')\n",
    "x_val, y_val = rosen.dataset('train')\n",
    "\n",
    "set_random(config['random_seed'])\n",
    "x_full = np.concatenate((x_train, x_pool))\n",
    "y_full = np.concatenate((y_train, y_pool))\n",
    "model = get_model(config['retrain'], config['model_path'], (x_full, y_full), (x_val, y_val), epochs=30_000)\n",
    "\n"
   ]
  },
  {
   "cell_type": "code",
   "execution_count": 23,
   "metadata": {},
   "outputs": [],
   "source": []
  },
  {
   "cell_type": "code",
   "execution_count": 24,
   "metadata": {},
   "outputs": [],
   "source": [
    "estimator = build_estimator('mcdue', model)\n",
    "estimations = estimator.estimate(x_val, x_train, y_train)\n",
    "predictions = model(x_val).cpu().numpy()\n",
    "error = 2*np.abs(predictions-y_val)/(predictions+y_val)\n",
    "plt.figure(figsize=(12, 9))\n",
    "plt.scatter(estimations/max(estimations), error)\n",
    "plt.xlabel('Uncertainty')\n",
    "plt.ylabel('Error')\n"
   ]
  },
  {
   "cell_type": "code",
   "execution_count": 25,
   "metadata": {},
   "outputs": [],
   "source": [
    "estimator = build_estimator('mcdue', model)\n",
    "estimations = estimator.estimate(x_val, x_train, y_train)\n",
    "predictions = model(x_val).cpu().numpy()\n",
    "error = 2*np.abs(predictions-y_val)/(predictions+y_val)\n",
    "plt.figure(figsize=(12, 9))\n",
    "plt.scatter(estimations/max(estimations), error)\n",
    "plt.xlabel('Uncertainty')\n",
    "plt.ylabel('Error')"
   ]
  },
  {
   "cell_type": "code",
   "execution_count": 26,
   "metadata": {},
   "outputs": [],
   "source": [
    "estimator = build_estimator('mcdue', model)\n",
    "estimations = estimator.estimate(x_val, x_train, y_train)\n",
    "predictions = model(x_val).cpu().numpy()\n",
    "error = 2*np.abs(predictions-y_val)/(predictions+y_val)\n",
    "plt.figure(figsize=(12, 9))\n",
    "plt.scatter(estimations/max(estimations), error)\n",
    "plt.xlabel('Uncertainty')\n",
    "plt.ylabel('Error')"
   ]
  },
  {
   "cell_type": "code",
   "execution_count": 27,
   "metadata": {},
   "outputs": [],
   "source": [
    "estimator = build_estimator('mcdue', model)\n",
    "estimations = estimator.estimate(x_val, x_train, y_train)\n",
    "predictions = model(x_val).cpu().numpy()\n",
    "error = 2*np.abs(predictions-y_val)/(predictions+y_val)\n",
    "plt.figure(figsize=(12, 9))\n",
    "plt.scatter(estimations/max(estimations), error)\n",
    "plt.xlabel('Uncertainty')\n",
    "plt.ylabel('Error')"
   ]
  }
 ],
 "metadata": {
  "kernelspec": {
   "display_name": "Python 3",
   "language": "python",
   "name": "python3"
  },
  "language_info": {
   "codemirror_mode": {
    "name": "ipython",
    "version": 3
   },
   "file_extension": ".py",
   "mimetype": "text/x-python",
   "name": "python",
   "nbconvert_exporter": "python",
   "pygments_lexer": "ipython3",
   "version": "3.7.4"
  },
  "pycharm": {
   "stem_cell": {
    "cell_type": "raw",
    "metadata": {
     "collapsed": false
    },
    "source": []
   }
  }
 },
 "nbformat": 4,
 "nbformat_minor": 1
}