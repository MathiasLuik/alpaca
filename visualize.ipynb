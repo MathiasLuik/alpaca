{
 "cells": [
  {
   "cell_type": "code",
   "execution_count": 1,
   "metadata": {},
   "outputs": [],
   "source": [
    "%load_ext autoreload\n",
    "%autoreload 2"
   ]
  },
  {
   "cell_type": "code",
   "execution_count": 2,
   "metadata": {
    "pycharm": {
     "name": "#%%\n"
    }
   },
   "outputs": [],
   "source": [
    "import numpy as np\n",
    "import matplotlib.pyplot as plt\n",
    "\n",
    "from dataloader.rosen import RosenData\n",
    "from visualize import get_vae, get_model, set_random, build_estimator\n",
    "config = {\n",
    "    'estimator': 'nngp',\n",
    "    'random_seed': 43,\n",
    "    'n_dim': 10,\n",
    "    'data_size': 2000,\n",
    "    'data_split': [0.2, 0.8, 0, 0],\n",
    "    'update_size': 100,\n",
    "    'al_iterations': 10,\n",
    "    'verbose': True,\n",
    "    'use_cache': True,\n",
    "    'layers': [10, 128, 64, 32, 1],\n",
    "    'patience': 5,\n",
    "    'retrain': True,\n",
    "    'model_path': 'model/data/rosen_visual.ckpt',\n",
    "    'epochs': 20_000,\n",
    "}\n"
   ]
  },
  {
   "cell_type": "code",
   "execution_count": null,
   "metadata": {
    "scrolled": true
   },
   "outputs": [],
   "source": [
    "rosen = RosenData(\n",
    "    config['n_dim'], config['data_size'], config['data_split'],\n",
    "    use_cache=config['use_cache'])\n",
    "\n",
    "x_pool, y_pool = rosen.dataset('pool')\n",
    "x_train, y_train = rosen.dataset('train')\n",
    "x_val, y_val = rosen.dataset('train')\n",
    "\n",
    "set_random(config['random_seed'])\n",
    "model = get_model(\n",
    "    config['layers'], config['retrain'], config['model_path'],\n",
    "    (x_train, y_train), (x_val, y_val), epochs=30_000)"
   ]
  },
  {
   "cell_type": "code",
   "execution_count": null,
   "metadata": {
    "pycharm": {
     "name": "#%%\n"
    }
   },
   "outputs": [],
   "source": [
    "num = 10\n",
    "prediction = model(x_val).cpu().numpy()\n",
    "for x, y in zip(prediction[-num:], y_val[-num:]):\n",
    "    print(x, y)\n"
   ]
  },
  {
   "cell_type": "code",
   "execution_count": null,
   "metadata": {},
   "outputs": [],
   "source": [
    "estimator = build_estimator('nngp', model)\n",
    "estimations = estimator.estimate(x_val, x_train, y_train)\n",
    "predictions = model(x_val).cpu().numpy()\n",
    "error = np.abs(predictions-y_val)/(predictions+y_val)\n",
    "plt.figure(figsize=(12, 9))\n",
    "plt.ylabel('Uncertainty')\n",
    "plt.xlabel('Error')\n",
    "plt.scatter(error, estimations)\n"
   ]
  },
  {
   "cell_type": "code",
   "execution_count": null,
   "metadata": {
    "scrolled": true
   },
   "outputs": [],
   "source": [
    "from analysis.metrics import uq_accuracy\n",
    "\n",
    "error = np.abs(predictions - y_val)\n",
    "uq_accuracy(estimations, error, 0.05)\n"
   ]
  },
  {
   "cell_type": "code",
   "execution_count": 3,
   "metadata": {},
   "outputs": [],
   "source": [
    "import numpy as np\n",
    "import matplotlib.pyplot as plt \n",
    "\n",
    "import pandas as pd  \n",
    "import seaborn as sns \n",
    "\n",
    "from sklearn.datasets import load_boston\n",
    "from sklearn.model_selection import train_test_split"
   ]
  },
  {
   "cell_type": "code",
   "execution_count": 4,
   "metadata": {},
   "outputs": [],
   "source": [
    "dataset = load_boston()\n",
    "print(dataset.keys())\n",
    "dataset['target'].shape"
   ]
  },
  {
   "cell_type": "code",
   "execution_count": null,
   "metadata": {},
   "outputs": [],
   "source": []
  },
  {
   "cell_type": "code",
   "execution_count": 5,
   "metadata": {},
   "outputs": [],
   "source": [
    "layers = [13, 64, 32, 16, 1]\n",
    "x_train, x_val, y_train, y_val = train_test_split(dataset['data'], dataset['target'], test_size=0.2)\n",
    "print(x_train.shape, y_train.shape)"
   ]
  },
  {
   "cell_type": "code",
   "execution_count": null,
   "metadata": {
    "scrolled": true
   },
   "outputs": [],
   "source": [
    "retrain = True\n",
    "from model.mlp import MLP\n",
    "import torch\n",
    "\n",
    "model_path = 'model/data/boston.ckpt'\n",
    "model = MLP(layers, l2_reg=1e-3)\n",
    "if retrain:\n",
    "    model.fit((x_train, y_train), (x_val, y_val), epochs=30000, patience=10)\n",
    "    torch.save(model.state_dict(), model_path)\n",
    "else:\n",
    "    model.load_state_dict(torch.load(model_path))\n",
    "    model.eval()\n"
   ]
  },
  {
   "cell_type": "code",
   "execution_count": 7,
   "metadata": {},
   "outputs": [],
   "source": [
    "predictions = model(x_val).cpu().numpy()\n",
    "for x, y in zip(y_val[-10:], predictions[-10:]):\n",
    "    print(x, y)\n",
    "\n",
    "# estimator = build_estimator('nngp', model)\n",
    "# estimations = estimator.estimate(x_vak, x_train, y_train)\n",
    "\n",
    "# error = np.abs(predictions-y_val)/(predictions+y_val)\n",
    "# plt.figure(figsize=(12, 9))\n",
    "# plt.ylabel('Uncertainty')\n",
    "# plt.xlabel('Error')\n",
    "# plt.scatter(error, estimations)\n"
   ]
  }
 ],
 "metadata": {
  "kernelspec": {
   "display_name": "Python 3",
   "language": "python",
   "name": "python3"
  },
  "language_info": {
   "codemirror_mode": {
    "name": "ipython",
    "version": 3
   },
   "file_extension": ".py",
   "mimetype": "text/x-python",
   "name": "python",
   "nbconvert_exporter": "python",
   "pygments_lexer": "ipython3",
   "version": "3.7.4"
  },
  "pycharm": {
   "stem_cell": {
    "cell_type": "raw",
    "metadata": {
     "collapsed": false
    },
    "source": []
   }
  }
 },
 "nbformat": 4,
 "nbformat_minor": 1
}