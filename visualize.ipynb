{
 "cells": [
  {
   "cell_type": "code",
   "execution_count": 1,
   "metadata": {},
   "outputs": [],
   "source": [
    "%load_ext autoreload\n",
    "%autoreload 2"
   ]
  },
  {
   "cell_type": "code",
   "execution_count": 2,
   "metadata": {
    "pycharm": {
     "name": "#%%\n"
    }
   },
   "outputs": [],
   "source": [
    "import numpy as np\n",
    "import matplotlib.pyplot as plt\n",
    "\n",
    "from dataloader.rosen import RosenData\n",
    "from visualize import get_vae, get_model, set_random, build_estimator\n",
    "config = {\n",
    "    'estimator': 'nngp',\n",
    "    'random_seed': 43,\n",
    "    'n_dim': 10,\n",
    "    'data_size': 2000,\n",
    "    'data_split': [0.2, 0.8, 0, 0],\n",
    "    'update_size': 100,\n",
    "    'al_iterations': 10,\n",
    "    'verbose': True,\n",
    "    'use_cache': True,\n",
    "    'layers': [10, 128, 64, 32, 1],\n",
    "    'patience': 5,\n",
    "    'retrain': True,\n",
    "    'model_path': 'model/data/rosen_visual.ckpt',\n",
    "    'epochs': 20_000,\n",
    "}\n"
   ]
  },
  {
   "cell_type": "markdown",
   "metadata": {},
   "source": [
    "### UQ estimation on 10d rosen function data"
   ]
  },
  {
   "cell_type": "code",
   "execution_count": 16,
   "metadata": {
    "scrolled": true
   },
   "outputs": [],
   "source": [
    "rosen = RosenData(\n",
    "    config['n_dim'], config['data_size'], config['data_split'],\n",
    "    use_cache=config['use_cache'])\n",
    "\n",
    "x_pool, y_pool = rosen.dataset('pool')\n",
    "x_train, y_train = rosen.dataset('train')\n",
    "x_val, y_val = rosen.dataset('train')\n",
    "\n",
    "set_random(config['random_seed'])\n",
    "model = get_model(\n",
    "    config['layers'], retrain=False, model_path=config['model_path'],\n",
    "    (x_train, y_train), (x_val, y_val), epochs=30_000)"
   ]
  },
  {
   "cell_type": "code",
   "execution_count": 18,
   "metadata": {
    "pycharm": {
     "name": "#%%\n"
    }
   },
   "outputs": [],
   "source": [
    "num = 10\n",
    "prediction = model(x_val).cpu().numpy()\n",
    "for x, y in zip(prediction[-num:], y_val[-num:]):\n",
    "    print(x, y)\n"
   ]
  },
  {
   "cell_type": "code",
   "execution_count": 57,
   "metadata": {},
   "outputs": [],
   "source": [
    "estimator = build_estimator('mcdue', model)\n",
    "estimations = estimator.estimate(x_val, x_train, y_train)\n",
    "predictions = model(x_val).cpu().numpy()\n",
    "errors = np.abs(predictions-y_val)/(predictions+y_val)\n",
    "plt.figure(figsize=(12, 9))\n",
    "plt.ylabel('Uncertainty')\n",
    "plt.xlabel('Error')\n",
    "plt.scatter(errors, estimations)\n"
   ]
  },
  {
   "cell_type": "code",
   "execution_count": 58,
   "metadata": {
    "scrolled": true
   },
   "outputs": [],
   "source": [
    "from analysis.metrics import uq_accuracy\n",
    "\n",
    "errors = np.abs(predictions - y_val)\n",
    "percentile = 0.10\n",
    "acc = uq_accuracy(estimations, errors, percentile)\n",
    "print(f\"Accuracy on worst {percentile*100}%: {acc}\")"
   ]
  },
  {
   "cell_type": "code",
   "execution_count": 131,
   "metadata": {},
   "outputs": [],
   "source": [
    "from analysis.metrics import dcg, ndcg, uq_ndcg\n",
    "\n",
    "print(uq_ndcg(errors, estimations))\n",
    "random_baseline = np.random.rand(*estimations.shape)\n",
    "print(uq_ndcg(errors, random_baseline))\n"
   ]
  },
  {
   "cell_type": "code",
   "execution_count": 50,
   "metadata": {},
   "outputs": [],
   "source": [
    "np.max(errors)"
   ]
  },
  {
   "cell_type": "markdown",
   "metadata": {},
   "source": [
    "### UQ estimation on blog feedback data"
   ]
  },
  {
   "cell_type": "code",
   "execution_count": 8,
   "metadata": {},
   "outputs": [],
   "source": [
    "from dataloader.blog_feedback import BlogFeedbackData\n",
    "from sklearn.model_selection import train_test_split\n",
    "import torch"
   ]
  },
  {
   "cell_type": "code",
   "execution_count": 6,
   "metadata": {},
   "outputs": [],
   "source": [
    "bf_data = BlogFeedbackData()\n",
    "x_train, y_train = bf_data.dataset('train')\n",
    "x_test, y_test = bf_data.dataset('test')"
   ]
  },
  {
   "cell_type": "code",
   "execution_count": 9,
   "metadata": {},
   "outputs": [],
   "source": [
    "x_val, y_val = x_test, y_test"
   ]
  },
  {
   "cell_type": "code",
   "execution_count": 10,
   "metadata": {},
   "outputs": [],
   "source": [
    "from model.mlp import MLP\n",
    "\n",
    "layers = [280, 256, 128, 64, 1]\n",
    "retrain = True\n",
    "model_path = 'model/data/blog.ckpt'\n",
    "model = MLP(layers, l2_reg=1e-3)\n",
    "if retrain:\n",
    "    model.fit((x_train, y_train), (x_val, y_val), epochs=30000, patience=10)\n",
    "    torch.save(model.state_dict(), model_path)\n",
    "else:\n",
    "    model.load_state_dict(torch.load(model_path))\n",
    "    model.eval()\n"
   ]
  },
  {
   "cell_type": "code",
   "execution_count": 11,
   "metadata": {},
   "outputs": [],
   "source": [
    "predictions = model(x_val).cpu().numpy()\n",
    "for x, y in zip(y_val[-10:], predictions[-10:]):\n",
    "    print(x, y)\n",
    "\n",
    "# estimator = build_estimator('nngp', model)\n",
    "# estimations = estimator.estimate(x_vak, x_train, y_train)\n",
    "\n",
    "# error = np.abs(predictions-y_val)/(predictions+y_val)\n",
    "# plt.figure(figsize=(12, 9))\n",
    "# plt.ylabel('Uncertainty')\n",
    "# plt.xlabel('Error')\n",
    "# plt.scatter(error, estimations)\n"
   ]
  },
  {
   "cell_type": "code",
   "execution_count": 15,
   "metadata": {},
   "outputs": [],
   "source": [
    "# -*- coding: utf-8 -*-\n",
    "\"\"\"\n",
    "Created on Sun Jan 03 22:13:19 2016\n",
    "TODO - Reduce Dimensionality of data and preprocess data to decrease error\n",
    "And test on the individual files provided\n",
    "@author: Rupak Chakraborty\n",
    "\"\"\"\n",
    "import pandas as pd\n",
    "import numpy as np\n",
    "from sklearn.ensemble import RandomForestRegressor\n",
    "from sklearn.ensemble import AdaBoostRegressor\n",
    "from sklearn.ensemble import BaggingRegressor\n",
    "from sklearn.ensemble import GradientBoostingRegressor\n",
    "from sklearn.linear_model import BayesianRidge\n",
    "from sklearn import metrics\n",
    "from sklearn.model_selection import train_test_split\n",
    "from sklearn import preprocessing\n",
    "\n",
    "filename = \"dataloader/data/blog_feedback/blogData_train.csv\"\n",
    "data = pd.read_csv(filename,header=None)\n",
    "data = data.iloc[np.random.permutation(len(data))]\n",
    "output_variables = data[len(data.columns)-1]\n",
    "del data[len(data.columns)-1]\n",
    "\n",
    "train_data,test_data,train_output,test_output = train_test_split(data.values,output_variables.values,test_size=0.3)\n",
    "\n",
    "rf = RandomForestRegressor(n_estimators=101)\n",
    "ada = AdaBoostRegressor(n_estimators=101)\n",
    "bagging = BaggingRegressor(n_estimators=101)\n",
    "gradBoost = GradientBoostingRegressor(n_estimators=101)\n",
    "bayes = BayesianRidge()\n",
    "\n",
    "regressors = [rf,ada,bagging,gradBoost,bayes]\n",
    "regressor_names = [\"Random Forests\",\"Adaboost\",\"Bagging\",\"Gradient Boosting\",\"Bayesian Ridge\"]\n",
    "\n",
    "for regressor,regressor_name in zip(regressors,regressor_names):\n",
    "    \n",
    "    regressor.fit(train_data,train_output)\n",
    "    predicted_values = regressor.predict(test_data)\n",
    "    \n",
    "    print(\"--------------------------------\\n\")\n",
    "    print(\"Mean Absolute Error for \",regressor_name,\" : \",metrics.mean_absolute_error(test_output,predicted_values))\n",
    "    print(\"Median Absolute Error for \",regressor_name, \" : \",metrics.median_absolute_error(test_output,predicted_values))\n",
    "    print(\"Mean Squared Error for \",regressor_name, \" : \",metrics.mean_squared_error(test_output,predicted_values))\n",
    "    print(\"R2 score for \",regressor_name, \" : \",metrics.r2_score(test_output,predicted_values))\n",
    "    print(\"--------------------------------\\n\")\n"
   ]
  }
 ],
 "metadata": {
  "kernelspec": {
   "display_name": "Python 3",
   "language": "python",
   "name": "python3"
  },
  "language_info": {
   "codemirror_mode": {
    "name": "ipython",
    "version": 3
   },
   "file_extension": ".py",
   "mimetype": "text/x-python",
   "name": "python",
   "nbconvert_exporter": "python",
   "pygments_lexer": "ipython3",
   "version": "3.7.4"
  },
  "pycharm": {
   "stem_cell": {
    "cell_type": "raw",
    "metadata": {
     "collapsed": false
    },
    "source": []
   }
  }
 },
 "nbformat": 4,
 "nbformat_minor": 1
}