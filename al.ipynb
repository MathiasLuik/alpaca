{
 "cells": [
  {
   "cell_type": "code",
   "execution_count": 1,
   "metadata": {
    "collapsed": true,
    "pycharm": {
     "is_executing": false
    }
   },
   "outputs": [],
   "source": [
    "%load_ext autoreload\n",
    "%autoreload 2"
   ]
  },
  {
   "cell_type": "code",
   "execution_count": 3,
   "outputs": [],
   "source": [
    "print('hello')"
   ],
   "metadata": {
    "collapsed": false,
    "pycharm": {
     "name": "#%%\n",
     "is_executing": false
    }
   }
  },
  {
   "cell_type": "code",
   "execution_count": 4,
   "outputs": [],
   "source": [
    "import random\n",
    "import argparse\n",
    "\n",
    "import numpy as np\n",
    "import matplotlib.pyplot as plt\n",
    "import torch\n",
    "\n",
    "from model.mlp import MLP\n",
    "from dataloader.rosen import RosenData\n",
    "from uncertainty_estimator.nngp import NNGPRegression\n",
    "from uncertainty_estimator.mcdue import MCDUE\n",
    "from uncertainty_estimator.random_estimator import RandomEstimator\n",
    "from sample_selector.eager import EagerSampleSelector\n",
    "from oracle.identity import IdentityOracle\n",
    "from al_trainer import ALTrainer\n",
    "\n",
    "\n",
    "def run_experiment(config):\n",
    "    \"\"\"\n",
    "    Run active learning for the 10D rosenbrock function data\n",
    "    It starts from small train dataset and then extends it with points from pool\n",
    "\n",
    "    We compare three sampling methods:\n",
    "    - Random datapoints\n",
    "    - Points with highest uncertainty by MCDUE\n",
    "    - Points with highest uncertainty by NNGP (proposed method)\n",
    "    \"\"\"\n",
    "    rmses = {}\n",
    "\n",
    "    for estimator_name in config['estimators']:\n",
    "        print(\"\\nEstimator:\", estimator_name)\n",
    "\n",
    "        # load data\n",
    "\n",
    "        rosen = RosenData(\n",
    "            config['n_dim'], config['data_size'], config['data_split'],\n",
    "            use_cache=config['use_cache'])\n",
    "        x_train, y_train = rosen.dataset('train')\n",
    "        x_val, y_val = rosen.dataset('train')\n",
    "        x_pool, y_pool = rosen.dataset('pool')\n",
    "\n",
    "        # Build neural net and set random seed\n",
    "        set_random(config['random_seed'])\n",
    "        model = MLP(config['layers'])\n",
    "\n",
    "        estimator = build_estimator(estimator_name, model)  # to estimate uncertainties\n",
    "        oracle = IdentityOracle(y_pool)  # generate y for X from pool\n",
    "        sampler = EagerSampleSelector()  # sample X and y from pool by uncertainty estimations\n",
    "\n",
    "        # Active learning training\n",
    "        trainer = ALTrainer(\n",
    "            model, estimator, sampler, oracle, config['al_iterations'],\n",
    "            config['update_size'], verbose=config['verbose'])\n",
    "        rmses[estimator_name] = trainer.train(x_train, y_train, x_val, y_val, x_pool)\n",
    "\n",
    "    visualize(rmses)\n",
    "\n",
    "\n",
    "def set_random(random_seed):\n",
    "    # Setting seeds for reproducibility\n",
    "    if random_seed is not None:\n",
    "        torch.manual_seed(random_seed)\n",
    "        np.random.seed(random_seed)\n",
    "        random.seed(random_seed)\n",
    "\n",
    "\n",
    "def build_estimator(name, model):\n",
    "    if name == 'nngp':\n",
    "        estimator = NNGPRegression(model)\n",
    "    elif name == 'random':\n",
    "        estimator = RandomEstimator()\n",
    "    elif name == 'mcdue':\n",
    "        estimator = MCDUE(model)\n",
    "    else:\n",
    "        raise ValueError(\"Wrong estimator name\")\n",
    "    return estimator\n",
    "\n",
    "\n",
    "def visualize(rmses):\n",
    "    print(rmses)\n",
    "    plt.figure(figsize=(12, 9))\n",
    "    plt.xlabel('Active learning iteration')\n",
    "    plt.ylabel('Validation RMSE')\n",
    "    for estimator_name, rmse in rmses.items():\n",
    "        plt.plot(rmse, label=estimator_name, marker='.')\n",
    "\n",
    "    plt.title('RMS Error by active learning iterations')\n",
    "    plt.legend()\n",
    "\n",
    "    plt.show()"
   ],
   "metadata": {
    "collapsed": false,
    "pycharm": {
     "name": "#%%\n",
     "is_executing": false
    }
   }
  },
  {
   "cell_type": "code",
   "execution_count": null,
   "outputs": [],
   "source": [
    "config = {\n",
    "    'estimators': ['nngp', 'mcdue', 'random'],\n",
    "    'random_seed': None,\n",
    "    'n_dim': 10,\n",
    "    'data_size': 2000,\n",
    "    'data_split': [0.1, 0.1, 0.1, 0.7],\n",
    "    'update_size': 100,\n",
    "    'al_iterations': 10,\n",
    "    'verbose': False,\n",
    "    'use_cache': True,\n",
    "    'layers': [10, 128, 64, 32, 1]\n",
    "}\n",
    "\n",
    "run_experiment(config)\n"
   ],
   "metadata": {
    "collapsed": false,
    "pycharm": {
     "name": "#%%\n"
    }
   }
  }
 ],
 "metadata": {
  "language_info": {
   "codemirror_mode": {
    "name": "ipython",
    "version": 2
   },
   "file_extension": ".py",
   "mimetype": "text/x-python",
   "name": "python",
   "nbconvert_exporter": "python",
   "pygments_lexer": "ipython2",
   "version": "2.7.6"
  },
  "kernelspec": {
   "name": "python3",
   "language": "python",
   "display_name": "Python 3"
  },
  "pycharm": {
   "stem_cell": {
    "cell_type": "raw",
    "source": [],
    "metadata": {
     "collapsed": false
    }
   }
  }
 },
 "nbformat": 4,
 "nbformat_minor": 0
}