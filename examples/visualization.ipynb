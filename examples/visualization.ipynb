{
 "cells": [
  {
   "cell_type": "code",
   "execution_count": null,
   "outputs": [],
   "source": [
    "%load_ext autoreload\n",
    "%autoreload 2"
   ],
   "metadata": {
    "collapsed": false,
    "pycharm": {
     "name": "#%%\n",
     "is_executing": false
    }
   }
  },
  {
   "cell_type": "code",
   "execution_count": null,
   "outputs": [],
   "source": [
    "from itertools import product\n",
    "\n",
    "import torch\n",
    "import torch.nn as nn\n",
    "import numpy as np\n",
    "import matplotlib.pyplot as plt\n",
    "import seaborn as sns\n",
    "\n",
    "\n",
    "from alpaca.dataloader.builder import build_dataset\n",
    "from alpaca.model.mlp import MLP\n",
    "from alpaca.uncertainty_estimator.masks import build_masks, DEFAULT_MASKS\n",
    "from alpaca.uncertainty_estimator import build_estimator\n",
    "from alpaca.dataloader.utils import loader, scale\n",
    "from alpaca.analysis.autoencoder import AutoEncoder \n",
    "\n",
    "device = 'cuda' if torch.cuda.is_available() else 'cpu'\n",
    "plt.rcParams['figure.facecolor'] = 'white'\n",
    "if device == 'cuda':\n",
    "    torch.cuda.set_device(1)\n"
   ],
   "metadata": {
    "collapsed": false,
    "pycharm": {
     "name": "#%%\n",
     "is_executing": false
    }
   }
  },
  {
   "cell_type": "code",
   "execution_count": null,
   "outputs": [],
   "source": [
    "config = {\n",
    "    'nn_runs': 100,\n",
    "    'runs': 2,\n",
    "    'max_runs': 20,\n",
    "    'k_folds': 10,\n",
    "    'verbose': False,\n",
    "    'layers': [8, 256, 256, 128, 1],\n",
    "    'epochs': 10_000,\n",
    "    'validation_step': 50,\n",
    "    'acc_percentile': 0.1,\n",
    "    'patience': 3,\n",
    "    'dropout_rate': 0.2,\n",
    "    'dropout_uq': 0.5,\n",
    "    'batch_size': 256,\n",
    "    'dataset': 'kin8nm',\n",
    "    'ood_percentile': 90,\n",
    "    'with_ensembles': True,\n",
    "    'optimizer': {'type': 'Adadelta', 'weight_decay':1e-3}\n",
    "}"
   ],
   "metadata": {
    "collapsed": false,
    "pycharm": {
     "name": "#%%\n",
     "is_executing": false
    }
   }
  },
  {
   "cell_type": "code",
   "execution_count": null,
   "outputs": [],
   "source": [
    "# Load dataset\n",
    "dataset = build_dataset(config['dataset'])\n",
    "\n",
    "x_train, y_train = dataset.dataset('train')\n",
    "x_val, y_val = dataset.dataset('val')\n",
    "config['layers'][0] = x_train.shape[-1]\n"
   ],
   "metadata": {
    "collapsed": false,
    "pycharm": {
     "name": "#%%\n",
     "is_executing": false
    }
   }
  },
  {
   "cell_type": "code",
   "execution_count": null,
   "outputs": [],
   "source": [
    "x_train, x_val, x_scaler = scale(x_train, x_val)\n",
    "y_train, y_val, y_scaler = scale(y_train, y_val)"
   ],
   "metadata": {
    "collapsed": false,
    "pycharm": {
     "name": "#%%\n",
     "is_executing": false
    }
   }
  },
  {
   "cell_type": "code",
   "execution_count": null,
   "outputs": [],
   "source": [
    "autoencoder = AutoEncoder(config['layers'][0], 128, 2, lr=1e-2)\n",
    "autoencoder.train()\n",
    "for e in range(100):\n",
    "    loss = autoencoder.fit(x_train)\n",
    "    if (e+1) % 20 == 0:\n",
    "        print(e+1, loss)\n"
   ],
   "metadata": {
    "collapsed": false,
    "pycharm": {
     "name": "#%%\n",
     "is_executing": false
    }
   }
  },
  {
   "cell_type": "code",
   "execution_count": null,
   "outputs": [],
   "source": [
    "autoencoder.eval()\n",
    "def encode(x):\n",
    "    samples = torch.DoubleTensor(x).to('cuda')\n",
    "    encoded = autoencoder.encode(samples)\n",
    "    return encoded.cpu().detach().numpy()\n",
    "\n",
    "def decode(x):\n",
    "    samples = torch.DoubleTensor(x).to('cuda')\n",
    "    encoded = autoencoder.decode(samples)\n",
    "    return encoded.cpu().detach().numpy()\n"
   ],
   "metadata": {
    "collapsed": false,
    "pycharm": {
     "name": "#%%\n",
     "is_executing": false
    }
   }
  },
  {
   "cell_type": "code",
   "execution_count": null,
   "outputs": [],
   "source": [
    "encoded_train = encode(x_train)\n",
    "plt.figure(figsize=(12, 10))\n",
    "sns.scatterplot(\n",
    "    x=encoded_train[:, 0], y=encoded_train[:, 1], hue=y_train.squeeze(),\n",
    "    palette=\"Accent\")\n"
   ],
   "metadata": {
    "collapsed": false,
    "pycharm": {
     "name": "#%%\n",
     "is_executing": false
    }
   }
  },
  {
   "cell_type": "code",
   "execution_count": null,
   "outputs": [],
   "source": [
    "# Train or load model\n",
    "model = MLP(config['layers'], optimizer=config['optimizer'])\n",
    "criterion = nn.MSELoss()\n",
    "optimizer = torch.optim.Adam(model.parameters())\n",
    "\n",
    "# model_path = f\"experiments/data/model_{config['dataset']}.ckpt\"\n",
    "# model = get_model(model, model_path, (x_train, y_train), (x_val, y_val))\n",
    "train_loader = loader(x_train, y_train)\n",
    "for epoch in range(3):\n",
    "    for x_batch, y_batch in train_loader: # Train for one epoch\n",
    "        predictions = model(x_batch.to(device))\n",
    "        loss = criterion(predictions, y_batch.to(device))\n",
    "        optimizer.zero_grad()\n",
    "        loss.backward()\n",
    "        optimizer.step()\n",
    "         \n"
   ],
   "metadata": {
    "collapsed": false,
    "pycharm": {
     "name": "#%%\n",
     "is_executing": false
    }
   }
  },
  {
   "cell_type": "code",
   "execution_count": null,
   "outputs": [],
   "source": [
    "ngridx = 150\n",
    "ngridy = 150\n",
    "x = encoded_train[:, 0]\n",
    "y = encoded_train[:, 1]\n",
    "\n",
    "x1, x2 = 3*min(x), 3*max(x)\n",
    "y1, y2 = 3*min(y), 3*max(y)\n",
    "\n",
    "xi = np.linspace(x1, x2, ngridx)\n",
    "yi = np.linspace(y1, y2, ngridy)\n",
    "\n",
    "# Countour coord; for some reason they are ortogonal to usual coord in pyplot\n",
    "points = np.array(list(product(yi, xi)))\n",
    "x_grid = decode(points)\n",
    "x_grid.shape"
   ],
   "metadata": {
    "collapsed": false,
    "pycharm": {
     "name": "#%%\n",
     "is_executing": false
    }
   }
  },
  {
   "cell_type": "code",
   "execution_count": null,
   "outputs": [],
   "source": [
    "\n",
    "# UE\n",
    "masks = build_masks(DEFAULT_MASKS)\n",
    "for name, mask in masks.items():\n",
    "    estimator = build_estimator('mcdue_masked', model, dropout_mask=mask)\n",
    "    estimations = estimator.estimate(torch.DoubleTensor(x_grid).to(device))\n",
    "    zi = estimations.reshape((ngridx, ngridy))\n",
    "\n",
    "    fig, ax1 = plt.subplots(figsize=(16, 12))\n",
    "    ax1.contour(xi, yi, zi, levels=14, linewidths=0.5, colors='k')\n",
    "    cntr1 = ax1.contourf(xi, yi, zi, levels=14, cmap=\"gray\")\n",
    "    fig.colorbar(cntr1, ax=ax1)\n",
    "\n",
    "    ax1.scatter(x, y, c=y_train.squeeze(), alpha=0.5)\n",
    "    ax1.set(xlim=(x1, x2), ylim=(y1, y2))\n",
    "    ax1.set_title('%s grid and contour (%d points, %d grid points)' %\n",
    "                  (name, len(x), ngridx * ngridy))"
   ],
   "metadata": {
    "collapsed": false,
    "pycharm": {
     "name": "#%%\n",
     "is_executing": false
    }
   }
  },
  {
   "cell_type": "code",
   "execution_count": null,
   "outputs": [],
   "source": [
    "decode(np.array([[10, 0.7]]))\n",
    "\n"
   ],
   "metadata": {
    "collapsed": false,
    "pycharm": {
     "name": "#%%\n",
     "is_executing": false
    }
   }
  }
 ],
 "metadata": {
  "kernelspec": {
   "display_name": "Python 3",
   "language": "python",
   "name": "python3"
  },
  "language_info": {
   "codemirror_mode": {
    "name": "ipython",
    "version": 2
   },
   "file_extension": ".py",
   "mimetype": "text/x-python",
   "name": "python",
   "nbconvert_exporter": "python",
   "pygments_lexer": "ipython2",
   "version": "2.7.6"
  },
  "pycharm": {
   "stem_cell": {
    "cell_type": "raw",
    "source": [],
    "metadata": {
     "collapsed": false
    }
   }
  }
 },
 "nbformat": 4,
 "nbformat_minor": 0
}