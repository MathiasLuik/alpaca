{
 "cells": [
  {
   "cell_type": "code",
   "execution_count": null,
   "metadata": {},
   "outputs": [],
   "source": [
    "%load_ext autoreload\n",
    "%autoreload 2"
   ]
  },
  {
   "cell_type": "code",
   "execution_count": null,
   "metadata": {
    "pycharm": {
     "name": "#%%\n"
    }
   },
   "outputs": [],
   "source": [
    "from copy import deepcopy\n",
    "\n",
    "import torch\n",
    "import numpy as np\n",
    "import matplotlib.pyplot as plt\n",
    "import pandas as pd\n",
    "import seaborn as sns\n",
    "\n",
    "from dataloader.rosen import RosenData\n",
    "from experiment_setup import get_model, set_random, build_estimator\n",
    "from analysis.metrics import uq_accuracy, uq_ndcg\n",
    "from uncertainty_estimator.masks import BasicMask, LHSMask, MirrorMask, DecorrelationMask\n",
    "\n",
    "config = {\n",
    "    'estimator': 'nngp',\n",
    "    'random_seed': 43,\n",
    "    'n_dim': 10,\n",
    "    'nn_runs': 25,\n",
    "    'data_size': 2000,\n",
    "    'data_split': [0.4, 0.6, 0, 0],\n",
    "    'update_size': 100,\n",
    "    'al_iterations': 10,\n",
    "    'verbose': True,\n",
    "    'use_cache': True,\n",
    "    'layers': [10, 128, 64, 32, 1],\n",
    "    'patience': 5,\n",
    "    'retrain': True,\n",
    "    'model_path': 'model/data/rosen_visual.ckpt',\n",
    "    'epochs': 20_000,\n",
    "    'runs': 10\n",
    "}\n"
   ]
  },
  {
   "cell_type": "markdown",
   "metadata": {},
   "source": [
    "### UQ estimation on 10d rosen function data"
   ]
  },
  {
   "cell_type": "code",
   "execution_count": null,
   "metadata": {
    "scrolled": true
   },
   "outputs": [],
   "source": [
    "rosen = RosenData(\n",
    "    config['n_dim'], config['data_size'], config['data_split'],\n",
    "    use_cache=config['use_cache'])\n",
    "\n",
    "x_pool, y_pool = rosen.dataset('pool')\n",
    "x_train, y_train = rosen.dataset('train')\n",
    "x_val, y_val = rosen.dataset('train')\n",
    "\n",
    "# set_random(config['random_seed'])\n"
   ]
  },
  {
   "cell_type": "code",
   "execution_count": null,
   "metadata": {},
   "outputs": [],
   "source": [
    "def print_uq_at_error(model, estimator, x_val, x_train, y_train):\n",
    "    estimations = estimator.estimate(x_val, x_train, y_train)\n",
    "    predictions = model(x_val).cpu().numpy()\n",
    "    errors = np.abs(predictions-y_val)/(predictions+y_val)\n",
    "    plt.figure(figsize=(12, 9))\n",
    "    plt.ylabel('Uncertainty')\n",
    "    plt.xlabel('Error')\n",
    "    plt.scatter(errors, estimations)"
   ]
  },
  {
   "cell_type": "markdown",
   "metadata": {},
   "source": [
    "### Base experiment"
   ]
  },
  {
   "cell_type": "code",
   "execution_count": null,
   "metadata": {
    "scrolled": true
   },
   "outputs": [],
   "source": [
    "runs = 1\n",
    "retrain = (runs != 1)\n",
    "epochs = 30_000\n",
    "percentile = 0.10\n",
    "\n",
    "results = []\n",
    "\n",
    "for run in range(runs):\n",
    "    print(f\"====== RUN {run} =====\")\n",
    "    model = get_model(\n",
    "        config['layers'], config['model_path'], (x_train, y_train), (x_val, y_val),\n",
    "        epochs=epochs, retrain=retrain)\n",
    "    \n",
    "    predictions = model(x_val).cpu().numpy()\n",
    "    errors = np.abs(predictions - y_val)\n",
    "    \n",
    "    for estimator_name in ['mcdue', 'nngp', 'random']:\n",
    "        estimator = build_estimator(estimator_name, model)\n",
    "        estimations = estimator.estimate(x_val, x_train, y_train)\n",
    "        \n",
    "        acc = uq_accuracy(estimations, errors, percentile)\n",
    "        ndcg = uq_ndcg(errors, estimations)\n",
    "        results.append([run, estimator_name, acc, ndcg])\n",
    "         "
   ]
  },
  {
   "cell_type": "code",
   "execution_count": null,
   "metadata": {},
   "outputs": [],
   "source": [
    "df = pd.DataFrame(results, columns=['run', 'estimator', 'acc', 'ndcg'])\n",
    "plt.figure()\n",
    "sns.boxplot(data=df, x='estimator', y='acc')\n",
    "plt.figure()\n",
    "sns.boxplot(data=df, x='estimator', y='ndcg')"
   ]
  },
  {
   "cell_type": "markdown",
   "metadata": {
    "scrolled": true
   },
   "source": [
    "### Masking"
   ]
  },
  {
   "cell_type": "code",
   "execution_count": null,
   "metadata": {},
   "outputs": [],
   "source": [
    "model = get_model(\n",
    "    config['layers'], config['model_path'],\n",
    "    (x_train, y_train), (x_val, y_val), epochs=config['epochs'])   "
   ]
  },
  {
   "cell_type": "code",
   "execution_count": null,
   "metadata": {},
   "outputs": [],
   "source": [
    "percentile = 0.10\n",
    "predictions = model(x_val).cpu().numpy()\n",
    "errors = np.abs(predictions - y_val)"
   ]
  },
  {
   "cell_type": "code",
   "execution_count": null,
   "metadata": {},
   "outputs": [],
   "source": [
    "results_2 = deepcopy(mask_results)\n",
    "\n",
    "config['runs'] = 20\n",
    "config['nn_runs'] = 100\n",
    "\n",
    "masks = {\n",
    "    'vanilla': None,\n",
    "    'basic_mask': BasicMask(),\n",
    "    'lhs': LHSMask(config['nn_runs']),\n",
    "    'lhs_shuffled': LHSMask(config['nn_runs'], shuffle=True),\n",
    "    'mirror_random': MirrorMask(),\n",
    "    'decorrelating': DecorrelationMask(),\n",
    "    'decorrelating_scaled': DecorrelationMask(scaling=True)\n",
    "}\n",
    "\n",
    "\n",
    "mask_results = []\n",
    "for name, mask in masks.items():\n",
    "    estimator = build_estimator(\n",
    "        'mcdue_masked', model, nn_runs=config['nn_runs'], dropout_mask=mask,\n",
    "        dropout_rate=0.3)\n",
    "    \n",
    "    for run in range(config['runs']):\n",
    "        estimations = estimator.estimate(x_val, x_train, y_train)\n",
    "        acc = uq_accuracy(estimations, errors, percentile)\n",
    "        ndcg = uq_ndcg(errors, estimations)\n",
    "        results_2.append([acc, ndcg, name])\n",
    "        \n",
    "        if hasattr(mask, 'reset'):\n",
    "            mask.reset()\n",
    "\n",
    "\n",
    "mask_df = pd.DataFrame(results_2, columns = ['acc', 'ndcg', 'mask'])\n",
    "\n",
    "\n",
    "plt.figure()\n",
    "plt.xticks(rotation=30)\n",
    "plt.ylim(0, 0.65)\n",
    "sns.boxplot(data=mask_df, x='mask', y='acc')\n",
    "plt.figure()\n",
    "plt.xticks(rotation=30)\n",
    "plt.ylim(0, 0.8)\n",
    "sns.boxplot(data=mask_df, x='mask', y='ndcg')"
   ]
  },
  {
   "cell_type": "code",
   "execution_count": null,
   "metadata": {},
   "outputs": [],
   "source": []
  }
 ],
 "metadata": {
  "kernelspec": {
   "display_name": "Python 3",
   "language": "python",
   "name": "python3"
  },
  "language_info": {
   "codemirror_mode": {
    "name": "ipython",
    "version": 3
   },
   "file_extension": ".py",
   "mimetype": "text/x-python",
   "name": "python",
   "nbconvert_exporter": "python",
   "pygments_lexer": "ipython3",
   "version": "3.7.4"
  },
  "pycharm": {
   "stem_cell": {
    "cell_type": "raw",
    "metadata": {
     "collapsed": false
    },
    "source": []
   }
  }
 },
 "nbformat": 4,
 "nbformat_minor": 1
}
