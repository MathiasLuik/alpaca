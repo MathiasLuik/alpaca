{
 "cells": [
  {
   "cell_type": "code",
   "execution_count": null,
   "metadata": {},
   "outputs": [],
   "source": [
    "import sys\n",
    "sys.path.append('..')\n",
    "%load_ext autoreload\n",
    "%autoreload 2\n",
    "%matplotlib inline"
   ]
  },
  {
   "cell_type": "code",
   "execution_count": null,
   "metadata": {},
   "outputs": [],
   "source": [
    "import numpy as np\n",
    "import pandas as pd\n",
    "import seaborn as sns\n",
    "import matplotlib.pyplot as plt\n",
    "from sklearn.preprocessing import StandardScaler\n",
    "from sklearn.model_selection import KFold\n",
    "\n",
    "from dataloader.boston_housing import BostonHousingData\n",
    "from dataloader.concrete import ConcreteData\n",
    "from dataloader.energy_efficiency import EnergyEfficiencyData\n",
    "from experiment_setup import get_model, build_estimator\n",
    "from model.mlp import MLP\n",
    "from analysis.metrics import uq_accuracy, uq_ndcg, uq_nll\n",
    "from uncertainty_estimator.masks import BasicMask, LHSMask, MirrorMask, DecorrelationMask, DPPMask\n",
    "\n",
    "plt.rcParams['figure.facecolor'] = 'white'"
   ]
  },
  {
   "cell_type": "code",
   "execution_count": null,
   "metadata": {},
   "outputs": [],
   "source": [
    "config = {\n",
    "    'random_seed': 43,\n",
    "    'nn_runs': 100,\n",
    "    'runs': 2,\n",
    "    'model_runs': 1,\n",
    "    'k_folds': 10,\n",
    "    'verbose': False,\n",
    "    'use_cache': False,\n",
    "    'layers': [13, 64, 32, 32, 1],\n",
    "    'epochs': 10_000,\n",
    "    'acc_percentile': 0.1,\n",
    "    'patience': 3,\n",
    "    'dropout_train': 0.2,\n",
    "    'dropout_uq': 0.4,\n",
    "    'batch_size': 32,\n",
    "    'dataset': 'energy_efficiency',\n",
    "    'scale': True,\n",
    "    'l2_reg': 1e-5\n",
    "}"
   ]
  },
  {
   "cell_type": "code",
   "execution_count": null,
   "metadata": {},
   "outputs": [],
   "source": []
  },
  {
   "cell_type": "code",
   "execution_count": null,
   "metadata": {},
   "outputs": [],
   "source": [
    "# Load data\n",
    "datasets = {\n",
    "    'boston_housing': BostonHousingData,\n",
    "    'concrete': ConcreteData,\n",
    "    'energy_efficiency': EnergyEfficiencyData}\n",
    "\n",
    "dataset = datasets[config['dataset']]()\n",
    "    \n",
    "model_paths = [\"model/data/{}_{}.ckpt\".format(config['dataset'], i) for i in range(config['model_runs'])]  \n",
    "x_set, y_set = dataset.dataset('train')\n",
    "x_test, y_test = dataset.dataset('val')\n",
    "config['layers'][0] = x_set.shape[-1]"
   ]
  },
  {
   "cell_type": "markdown",
   "metadata": {},
   "source": [
    "## k-fold"
   ]
  },
  {
   "cell_type": "code",
   "execution_count": null,
   "metadata": {},
   "outputs": [],
   "source": [
    "# Normalize dataset\n",
    "def scale(train, val):\n",
    "    scaler = StandardScaler()\n",
    "    scaler.fit(train)\n",
    "    train = scaler.transform(train)\n",
    "    val = scaler.transform(val)\n",
    "    return train, val, scaler\n",
    "\n",
    "# Train models\n",
    "def plot_evaluations(model, x, y, x_, y_):\n",
    "    predictions = model(x).cpu().numpy()\n",
    "    plt.figure(figsize=(10, 10))\n",
    "    plt.plot((min(y), max(y)), (min(y), max(y)))\n",
    "    plt.scatter(model(x).cpu().numpy(), y)\n",
    "    plt.scatter(model(x_).cpu().numpy(), y_)\n",
    "    \n",
    "# Evaluate different masks\n",
    "\n",
    "def get_metrics(estimations, errors, acc_percentile=0.1):\n",
    "    acc = uq_accuracy(estimations, errors, acc_percentile)\n",
    "    ndcg = uq_ndcg(errors, estimations)\n",
    "    nll = uq_nll(errors, estimations)\n",
    "    return acc, ndcg, nll\n",
    "\n",
    "def evaluate_masks(model, masks, x_val, y_val, y_scaler=None):\n",
    "    predictions = model(x_val).cpu().numpy()\n",
    "    errors = np.abs(predictions - y_val)\n",
    "    results = []\n",
    "\n",
    "    for name, mask in masks.items():\n",
    "        estimator = build_estimator(\n",
    "            'mcdue_masked', model, nn_runs=config['nn_runs'], dropout_mask=mask,\n",
    "            dropout_rate=config['dropout_uq'])\n",
    "\n",
    "        for run in range(config['runs']):\n",
    "            estimations = estimator.estimate(x_val)\n",
    "            acc, ndcg, nll = get_metrics(estimations, errors, config['acc_percentile'])\n",
    "            results.append([acc, ndcg, nll, name])\n",
    "\n",
    "            if hasattr(mask, 'reset'):\n",
    "                mask.reset()\n",
    "                \n",
    "    return results"
   ]
  },
  {
   "cell_type": "code",
   "execution_count": null,
   "metadata": {},
   "outputs": [],
   "source": [
    "# TODO\n",
    "# make the split\n",
    "# scale\n",
    "# train\n",
    "# evaluate\n",
    "# regroup the results\n",
    "# display the results"
   ]
  },
  {
   "cell_type": "code",
   "execution_count": null,
   "metadata": {},
   "outputs": [],
   "source": [
    "masks = {\n",
    "    'vanilla': None,\n",
    "    'mirror_random': MirrorMask(),\n",
    "    'decorrelating': DecorrelationMask(),\n",
    "    'dpp': DPPMask()\n",
    "}"
   ]
  },
  {
   "cell_type": "code",
   "execution_count": null,
   "metadata": {},
   "outputs": [],
   "source": [
    "config['epochs'] = 3000\n",
    "config['k_folds'] = 20\n",
    "kfold = KFold(config['k_folds'], shuffle=True)\n",
    "\n",
    "mask_results = [] \n",
    "for train_idx, val_idx in kfold.split(x_set):\n",
    "    x_train, y_train = x_set[train_idx], y_set[train_idx]\n",
    "    x_val, y_val = x_set[val_idx], y_set[val_idx]\n",
    "    print('train', x_train.shape, y_train.shape, 'val', x_val.shape, y_val.shape)\n",
    "    \n",
    "    if config['scale']:\n",
    "        x_train, x_val, _ = scale(x_train, x_val)\n",
    "        y_train, y_val, y_scaler = scale(y_train, y_val)\n",
    "    else:\n",
    "        y_scaler = None\n",
    "        \n",
    "    \n",
    "    model = MLP(config['layers'], l2_reg=config['l2_reg'])\n",
    "    train_config = {k: config[k] for k in config if k in ['patience', 'dropout_rate', 'epochs', 'batch_size']}\n",
    "    model.fit((x_train, y_train), (x_val, y_val), **train_config)\n",
    "    plot_evaluations(model, x_train, y_train, x_val, y_val)\n",
    "    results = evaluate_masks(model, masks, x_val, y_val)\n",
    "    mask_results.extend(results)"
   ]
  },
  {
   "cell_type": "code",
   "execution_count": null,
   "metadata": {},
   "outputs": [],
   "source": [
    "# Plot the results\n",
    "\n",
    "mask_df = pd.DataFrame(mask_results, columns = ['acc', 'ndcg', 'nll', 'mask'])\n",
    "\n",
    "plt.figure(figsize=(16, 6))\n",
    "def boxplot(df, x_label, y_label, i, bottom=0, top=1):\n",
    "    plt.subplot(1, 3, i)\n",
    "    plt.xticks(rotation=45)\n",
    "    if bottom is not None:\n",
    "        plt.ylim(bottom, top)\n",
    "    sns.boxplot(data=df, x=x_label, y=y_label)\n",
    "    \n",
    "boxplot(mask_df, 'mask', 'acc', 1, 0, 0.8)\n",
    "boxplot(mask_df, 'mask', 'ndcg', 2, 0, 0.9)\n",
    "boxplot(mask_df, 'mask', 'nll', 3, None)"
   ]
  },
  {
   "cell_type": "code",
   "execution_count": null,
   "metadata": {},
   "outputs": [],
   "source": []
  },
  {
   "cell_type": "code",
   "execution_count": null,
   "metadata": {},
   "outputs": [],
   "source": []
  },
  {
   "cell_type": "code",
   "execution_count": null,
   "metadata": {},
   "outputs": [],
   "source": []
  }
 ],
 "metadata": {
  "kernelspec": {
   "display_name": "Python 3",
   "language": "python",
   "name": "python3"
  },
  "language_info": {
   "codemirror_mode": {
    "name": "ipython",
    "version": 3
   },
   "file_extension": ".py",
   "mimetype": "text/x-python",
   "name": "python",
   "nbconvert_exporter": "python",
   "pygments_lexer": "ipython3",
   "version": "3.7.4"
  }
 },
 "nbformat": 4,
 "nbformat_minor": 4
}
