{
 "cells": [
  {
   "cell_type": "code",
   "execution_count": 1,
   "outputs": [],
   "source": [
    "import sys\n",
    "sys.path.append('..')\n",
    "%load_ext autoreload\n",
    "%autoreload 2\n",
    "%matplotlib inline"
   ],
   "metadata": {
    "collapsed": false,
    "pycharm": {
     "name": "#%%\n",
     "is_executing": false
    }
   }
  },
  {
   "cell_type": "code",
   "execution_count": 16,
   "metadata": {
    "collapsed": true,
    "pycharm": {
     "is_executing": false
    }
   },
   "outputs": [],
   "source": [
    "import numpy as np\n",
    "import pandas as pd\n",
    "import seaborn as sns\n",
    "from sklearn.metrics import accuracy_score\n",
    "import matplotlib.pyplot as plt\n",
    "from dataloader.builder import build_dataset\n",
    "from experiment_setup import build_estimator\n",
    "from uncertainty_estimator.masks import build_masks, DEFAULT_MASKS\n",
    "\n",
    "from model.cnn import SimpleConv, Trainer"
   ]
  },
  {
   "cell_type": "code",
   "execution_count": 3,
   "outputs": [],
   "source": [
    "config = {\n",
    "    'use_cuda': True,\n",
    "    'batch_size': 128,\n",
    "    'epochs': 50,\n",
    "    'lr': 1e-2,\n",
    "    'momentum': 0.5,\n",
    "    'seed': 1,\n",
    "    'log_interval': 10,\n",
    "    'nn_runs': 50,\n",
    "    'dropout_uq': 0.5\n",
    "}\n",
    "\n"
   ],
   "metadata": {
    "collapsed": false,
    "pycharm": {
     "name": "#%%\n",
     "is_executing": false
    }
   }
  },
  {
   "cell_type": "markdown",
   "source": [
    "#### Load data and preprocess"
   ],
   "metadata": {
    "collapsed": false,
    "pycharm": {
     "name": "#%% md\n",
     "is_executing": false
    }
   }
  },
  {
   "cell_type": "code",
   "execution_count": 4,
   "outputs": [],
   "source": [
    "mnist = build_dataset('mnist', val_size=10_000)\n",
    "x_train, y_train = mnist.dataset('train')\n",
    "x_val, y_val = mnist.dataset('val')\n",
    "\n",
    "ood = build_dataset('fashion_mnist', val_size=0)\n",
    "x_ood, _ = ood.dataset('train') "
   ],
   "metadata": {
    "collapsed": false,
    "pycharm": {
     "name": "#%%\n",
     "is_executing": false
    }
   }
  },
  {
   "cell_type": "code",
   "execution_count": 5,
   "outputs": [],
   "source": [
    "x_train = x_train.reshape(-1, 1, 28, 28)\n",
    "x_val = x_val.reshape(-1, 1, 28, 28)\n",
    "x_ood = x_ood.reshape(-1, 1, 28, 28)\n",
    "y_train = y_train.astype('long').reshape(-1)\n",
    "y_val = y_val.astype('long').reshape(-1)\n",
    "x_train /= 255.0\n",
    "x_val /= 255.0"
   ],
   "metadata": {
    "collapsed": false,
    "pycharm": {
     "name": "#%%\n",
     "is_executing": false
    }
   }
  },
  {
   "cell_type": "markdown",
   "source": [
    "#### Train model"
   ],
   "metadata": {
    "collapsed": false,
    "pycharm": {
     "name": "#%% md\n",
     "is_executing": false
    }
   }
  },
  {
   "cell_type": "code",
   "execution_count": 6,
   "outputs": [],
   "source": [
    "train_samples = 500\n",
    "model = SimpleConv()\n",
    "trainer = Trainer(model)\n",
    "trainer.fit(x_train[:train_samples], y_train[:train_samples], epochs=config['epochs'])\n",
    "accuracy_score(y_val, trainer.predict(x_val))\n"
   ],
   "metadata": {
    "collapsed": false,
    "pycharm": {
     "name": "#%%\n",
     "is_executing": false
    }
   }
  },
  {
   "cell_type": "markdown",
   "source": [
    "#### Basic BALD\n"
   ],
   "metadata": {
    "collapsed": false,
    "pycharm": {
     "name": "#%% md\n"
    }
   }
  },
  {
   "cell_type": "code",
   "execution_count": 20,
   "outputs": [],
   "source": [
    "# masks = build_masks(['vanilla', 'dpp'])\n",
    "masks = build_masks(DEFAULT_MASKS)"
   ],
   "metadata": {
    "collapsed": false,
    "pycharm": {
     "name": "#%%\n",
     "is_executing": false
    }
   }
  },
  {
   "cell_type": "code",
   "execution_count": 21,
   "outputs": [],
   "source": [
    "estimation_samples = 20 \n",
    "uqs, datasets, mask_type = [], [], []\n",
    "\n",
    "for name, mask in masks.items():\n",
    "    estimator = build_estimator(\n",
    "        'bald_masked', trainer, nn_runs=config['nn_runs'], dropout_mask=mask,\n",
    "        dropout_rate=config['dropout_uq'], num_classes=10)\n",
    "    uq_train = estimator.estimate(x_train[:estimation_samples])\n",
    "    uq_val = estimator.estimate(x_val[:estimation_samples])\n",
    "    uq_ood = estimator.estimate(x_ood[:estimation_samples])\n",
    "    \n",
    "    uqs = np.concatenate((uqs, uq_train, uq_val, uq_ood))\n",
    "    datasets = np.concatenate((datasets, ['train'] * len(uq_train), ['val'] * len(uq_val), ['ood']*len(uq_ood)))\n",
    "    mask_type = np.concatenate((mask_type, [name]*3*estimation_samples))\n",
    "    \n",
    "df = pd.DataFrame({'uq': uqs, 'dataset': datasets, 'mask_type': mask_type})\n",
    "sns.boxplot(data=df, x='dataset',  y='uq', hue='mask_type')"
   ],
   "metadata": {
    "collapsed": false,
    "pycharm": {
     "name": "#%%\n",
     "is_executing": false
    }
   }
  },
  {
   "cell_type": "code",
   "execution_count": 23,
   "outputs": [],
   "source": [
    "dpp = masks['dpp']"
   ],
   "metadata": {
    "collapsed": false,
    "pycharm": {
     "name": "#%%\n",
     "is_executing": false
    }
   }
  },
  {
   "cell_type": "code",
   "execution_count": null,
   "outputs": [],
   "source": [],
   "metadata": {
    "collapsed": false,
    "pycharm": {
     "name": "#%%\n"
    }
   }
  },
  {
   "cell_type": "code",
   "execution_count": null,
   "outputs": [],
   "source": [
    "\n"
   ],
   "metadata": {
    "collapsed": false,
    "pycharm": {
     "name": "#%%\n"
    }
   }
  }
 ],
 "metadata": {
  "kernelspec": {
   "display_name": "Python 3",
   "language": "python",
   "name": "python3"
  },
  "language_info": {
   "codemirror_mode": {
    "name": "ipython",
    "version": 2
   },
   "file_extension": ".py",
   "mimetype": "text/x-python",
   "name": "python",
   "nbconvert_exporter": "python",
   "pygments_lexer": "ipython2",
   "version": "2.7.6"
  },
  "pycharm": {
   "stem_cell": {
    "cell_type": "raw",
    "source": [],
    "metadata": {
     "collapsed": false
    }
   }
  }
 },
 "nbformat": 4,
 "nbformat_minor": 0
}