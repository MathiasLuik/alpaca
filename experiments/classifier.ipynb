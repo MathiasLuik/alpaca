{
 "cells": [
  {
   "cell_type": "code",
   "execution_count": null,
   "metadata": {
    "collapsed": false,
    "jupyter": {
     "outputs_hidden": false
    },
    "pycharm": {
     "is_executing": false,
     "name": "#%%\n"
    }
   },
   "outputs": [],
   "source": [
    "import sys\n",
    "sys.path.append('..')\n",
    "%load_ext autoreload\n",
    "%autoreload 2\n",
    "%matplotlib inline"
   ]
  },
  {
   "cell_type": "code",
   "execution_count": null,
   "metadata": {
    "pycharm": {
     "is_executing": false
    }
   },
   "outputs": [],
   "source": [
    "import numpy as np\n",
    "import pandas as pd\n",
    "import seaborn as sns\n",
    "from sklearn.metrics import accuracy_score\n",
    "from scipy.special import softmax as softmax\n",
    "import matplotlib.pyplot as plt\n",
    "\n",
    "from dataloader.builder import build_dataset\n",
    "from experiment_setup import build_estimator\n",
    "from uncertainty_estimator.masks import build_masks, DEFAULT_MASKS\n",
    "from analysis.metrics import uq_ndcg, ndcg, dcg\n",
    "\n",
    "from model.cnn import SimpleConv\n",
    "from model.trainer import Trainer, EnsembleTrainer"
   ]
  },
  {
   "cell_type": "code",
   "execution_count": null,
   "metadata": {
    "collapsed": false,
    "jupyter": {
     "outputs_hidden": false
    },
    "pycharm": {
     "is_executing": false,
     "name": "#%%\n"
    }
   },
   "outputs": [],
   "source": [
    "config = {\n",
    "    'use_cuda': True,\n",
    "    'batch_size': 256,\n",
    "    'epochs': 5,\n",
    "    'lr': 1e-2,\n",
    "    'momentum': 0.5,\n",
    "    'seed': 1,\n",
    "    'log_interval': 10,\n",
    "    'nn_runs': 100,\n",
    "    'dropout_uq': 0.5,\n",
    "    'train_samples': 500,\n",
    "    \n",
    "    'n_models': 10\n",
    "}\n",
    "\n"
   ]
  },
  {
   "cell_type": "markdown",
   "metadata": {
    "pycharm": {
     "is_executing": false,
     "name": "#%% md\n"
    }
   },
   "source": [
    "#### Load data and preprocess"
   ]
  },
  {
   "cell_type": "code",
   "execution_count": null,
   "metadata": {
    "collapsed": false,
    "jupyter": {
     "outputs_hidden": false
    },
    "pycharm": {
     "is_executing": false,
     "name": "#%%\n"
    }
   },
   "outputs": [],
   "source": [
    "mnist = build_dataset('mnist', val_size=10_000)\n",
    "x_train, y_train = mnist.dataset('train')\n",
    "x_val, y_val = mnist.dataset('val')\n",
    "\n",
    "ood = build_dataset('fashion_mnist', val_size=0)\n",
    "x_ood, _ = ood.dataset('train') "
   ]
  },
  {
   "cell_type": "code",
   "execution_count": null,
   "metadata": {
    "collapsed": false,
    "jupyter": {
     "outputs_hidden": false
    },
    "pycharm": {
     "is_executing": false,
     "name": "#%%\n"
    }
   },
   "outputs": [],
   "source": [
    "x_train = x_train.reshape(-1, 1, 28, 28)\n",
    "x_val = x_val.reshape(-1, 1, 28, 28)\n",
    "x_ood = x_ood.reshape(-1, 1, 28, 28)\n",
    "y_train = y_train.astype('long').reshape(-1)\n",
    "y_val = y_val.astype('long').reshape(-1)\n",
    "x_train /= 255.0\n",
    "x_val /= 255.0\n",
    "x_ood /= 255.0\n"
   ]
  },
  {
   "cell_type": "markdown",
   "metadata": {
    "pycharm": {
     "is_executing": false,
     "name": "#%% md\n"
    }
   },
   "source": [
    "#### Train model"
   ]
  },
  {
   "cell_type": "code",
   "execution_count": null,
   "metadata": {
    "collapsed": false,
    "jupyter": {
     "outputs_hidden": false
    },
    "pycharm": {
     "is_executing": false,
     "name": "#%%\n"
    }
   },
   "outputs": [],
   "source": [
    "unique, counts = np.unique(y_train[:config['train_samples']], return_counts=True)\n",
    "dict(zip(unique, counts))"
   ]
  },
  {
   "cell_type": "code",
   "execution_count": null,
   "metadata": {
    "collapsed": false,
    "jupyter": {
     "outputs_hidden": false
    },
    "pycharm": {
     "is_executing": false,
     "name": "#%%\n"
    }
   },
   "outputs": [],
   "source": [
    "model = SimpleConv()\n",
    "trainer = Trainer(model)\n",
    "trainer.fit(x_train[:config['train_samples']], y_train[:config['train_samples']], epochs=config['epochs'])\n",
    "accuracy_score(y_val, trainer.predict(x_val))\n"
   ]
  },
  {
   "cell_type": "markdown",
   "metadata": {
    "pycharm": {
     "name": "#%% md\n"
    }
   },
   "source": [
    "### BALD\n",
    "\n",
    "##### UQ by different masks"
   ]
  },
  {
   "cell_type": "code",
   "execution_count": null,
   "metadata": {
    "collapsed": false,
    "jupyter": {
     "outputs_hidden": false
    },
    "pycharm": {
     "is_executing": false,
     "name": "#%%\n"
    }
   },
   "outputs": [],
   "source": [
    "masks = build_masks(DEFAULT_MASKS)\n"
   ]
  },
  {
   "cell_type": "code",
   "execution_count": null,
   "metadata": {
    "collapsed": false,
    "jupyter": {
     "outputs_hidden": false
    },
    "pycharm": {
     "is_executing": false,
     "name": "#%%\n"
    }
   },
   "outputs": [],
   "source": [
    "estimation_samples = config['train_samples']\n",
    "uqs, datasets, mask_type = [], [], []\n",
    "\n",
    "for mask_name, mask in masks.items():\n",
    "    print(mask_name)\n",
    "    estimator = build_estimator(\n",
    "        'bald_masked', trainer, nn_runs=config['nn_runs'], dropout_mask=mask,\n",
    "        dropout_rate=config['dropout_uq'], num_classes=10)\n",
    "\n",
    "    for data_name, x_current in (('train', x_train), ('val', x_val), ('ood', x_ood)):\n",
    "        uq = estimator.estimate(x_current[:estimation_samples])\n",
    "        uqs = np.concatenate((uqs, uq))\n",
    "        datasets = np.concatenate((datasets, [data_name]*estimation_samples))\n",
    "        mask_type = np.concatenate((mask_type, [mask_name]*estimation_samples))\n",
    "        \n",
    "# for data_name, x_current in (('train', x_train), ('val', x_val), ('ood', x_ood)):\n",
    "# estimator = build_estimator('bald_ensemble', ensemble, num_classes=10)\n",
    "# current_ll = ll(trainer, x_current, y_current)\n",
    "# uq = estimator.estimate(x_current)\n",
    "# ndcgs.append(uq_ndcg(-current_ll, uq))\n",
    "# estimator_type.append('ensemble')\n",
    "# train_size.append(train_samples)\n"
   ]
  },
  {
   "cell_type": "code",
   "execution_count": null,
   "metadata": {
    "collapsed": false,
    "jupyter": {
     "outputs_hidden": false
    },
    "pycharm": {
     "is_executing": false,
     "name": "#%%\n"
    }
   },
   "outputs": [],
   "source": [
    "plt.figure(figsize=(16, 9))\n",
    "\n",
    "df = pd.DataFrame({'uq': uqs, 'dataset': datasets, 'mask_type': mask_type})\n",
    "sns.boxplot(data=df, x='mask_type',  y='uq', hue='dataset')\n",
    "\n"
   ]
  },
  {
   "cell_type": "code",
   "execution_count": null,
   "metadata": {
    "collapsed": false,
    "jupyter": {
     "outputs_hidden": false
    },
    "pycharm": {
     "is_executing": false,
     "name": "#%%\n"
    }
   },
   "outputs": [],
   "source": [
    "pool_size = 300\n",
    "x_pool, y_pool = x_val[:pool_size], y_val[:pool_size]\n",
    "\n",
    "def ll(trainer, x, y):\n",
    "    trainer.eval()\n",
    "    logits = trainer(x).detach().cpu().numpy()\n",
    "    probs = softmax(logits, axis=-1)[np.arange(len(x)), y]\n",
    "    return np.log(probs)\n",
    "\n",
    "pool_ll = ll(trainer, x_pool, y_pool)\n",
    "    "
   ]
  },
  {
   "cell_type": "code",
   "execution_count": null,
   "metadata": {
    "collapsed": false,
    "jupyter": {
     "outputs_hidden": false
    },
    "pycharm": {
     "is_executing": false,
     "name": "#%%\n"
    }
   },
   "outputs": [],
   "source": [
    "plt.figure(figsize=(16, 18))\n",
    "for name, mask in masks.items():\n",
    "    estimator = build_estimator(\n",
    "        'bald_masked', trainer, nn_runs=config['nn_runs'], dropout_mask=mask,\n",
    "        dropout_rate=config['dropout_uq'], num_classes=10)\n",
    "    estimations = estimator.estimate(x_pool)\n",
    "    plt.scatter(estimations, pool_ll, label=name, alpha=0.5)\n",
    "    plt.xlabel('Uncertainty estimation')\n",
    "    plt.ylabel('Log likelihood')\n",
    "plt.legend(loc='lower right')\n",
    "    "
   ]
  },
  {
   "cell_type": "code",
   "execution_count": null,
   "metadata": {
    "collapsed": false,
    "jupyter": {
     "outputs_hidden": false
    },
    "pycharm": {
     "is_executing": false,
     "name": "#%%\n"
    }
   },
   "outputs": [],
   "source": [
    "masks = build_masks(nn_runs=config['nn_runs'])\n",
    "plt.figure(figsize=(10, 25))\n",
    "num = (len(masks) + 1) // 2\n",
    "for i, (name, mask) in enumerate(masks.items()):\n",
    "    plt.subplot(num, 2, i+1)\n",
    "    estimator = build_estimator(\n",
    "        'bald_masked', trainer, nn_runs=config['nn_runs'], dropout_mask=mask,\n",
    "        dropout_rate=config['dropout_uq'], num_classes=10)\n",
    "    estimations = estimator.estimate(x_pool)\n",
    "    plt.scatter(estimations, pool_ll, alpha=0.5)\n",
    "    plt.xlabel('Uncertainty estimation')\n",
    "    plt.ylabel('Log likelihood')\n",
    "    plt.title(name)\n",
    "# plt.legend(loc='lower right')\n",
    "    \n",
    " \n",
    " "
   ]
  },
  {
   "cell_type": "code",
   "execution_count": null,
   "metadata": {
    "collapsed": false,
    "jupyter": {
     "outputs_hidden": false
    },
    "pycharm": {
     "is_executing": false,
     "name": "#%%\n"
    }
   },
   "outputs": [],
   "source": [
    "def retrain(train_samples):\n",
    "    idxs = np.random.choice(len(x_train), train_samples, replace=False)\n",
    "    \n",
    "    model = SimpleConv()\n",
    "    trainer = Trainer(model)\n",
    "    trainer.fit(x_train[idxs], y_train[idxs], epochs=config['epochs'])\n",
    "    \n",
    "    ensemble = EnsembleTrainer(SimpleConv, {}, config['n_models'])\n",
    "    ensemble.fit(x_train[idxs], y_train[idxs], epochs=config['epochs'])\n",
    "    \n",
    "    return trainer, ensemble"
   ]
  },
  {
   "cell_type": "code",
   "execution_count": null,
   "metadata": {
    "collapsed": false,
    "jupyter": {
     "outputs_hidden": false
    },
    "pycharm": {
     "is_executing": false,
     "name": "#%%\n"
    }
   },
   "outputs": [],
   "source": [
    "masks = build_masks(nn_runs=100)\n",
    "estimation_samples = 3000 \n",
    "ndcgs, estimator_type, train_size = [], [], []\n",
    "\n",
    "model_runs = 1\n",
    "repeat_runs = 1\n",
    "\n",
    "\n",
    "# for train_samples in [500, 2000, 5000, 20000, 60000]:\n",
    "for train_samples in [500]:\n",
    "    for i in range(model_runs):\n",
    "        trainer, ensemble = retrain(train_samples)\n",
    "        for j in range(repeat_runs):\n",
    "            idxs = np.random.choice(len(x_val), estimation_samples, replace=False)\n",
    "            x_current = x_val[idxs]\n",
    "            y_current = y_val[idxs]\n",
    "\n",
    "            # masks\n",
    "            current_ll = ll(trainer, x_current, y_current)\n",
    "            for mask_name, mask in masks.items():\n",
    "                estimator = build_estimator(\n",
    "                    'bald_masked', trainer, nn_runs=config['nn_runs'], dropout_mask=mask,\n",
    "                    dropout_rate=config['dropout_uq'], num_classes=10)\n",
    "                uq = estimator.estimate(x_current)\n",
    "                ndcgs.append(uq_ndcg(-current_ll, uq))\n",
    "                estimator_type.append(mask_name)\n",
    "                train_size.append(train_samples)\n",
    "                estimator.reset()\n",
    "                \n",
    "            # ensemble\n",
    "            estimator = build_estimator('bald_ensemble', ensemble, num_classes=10)\n",
    "            current_ll = ll(trainer, x_current, y_current)\n",
    "            uq = estimator.estimate(x_current)\n",
    "            ndcgs.append(uq_ndcg(-current_ll, uq))\n",
    "            estimator_type.append('ensemble')\n",
    "            train_size.append(train_samples)\n",
    "            \n",
    "    \n",
    "    "
   ]
  },
  {
   "cell_type": "code",
   "execution_count": null,
   "metadata": {
    "collapsed": false,
    "jupyter": {
     "outputs_hidden": false
    },
    "pycharm": {
     "is_executing": false,
     "name": "#%%\n"
    }
   },
   "outputs": [],
   "source": [
    "plt.figure(figsize=(12, 8))\n",
    "plt.title(f\"NDCG on different train samples\")\n",
    "\n",
    "df = pd.DataFrame({\n",
    "    'ndcg': ndcgs,\n",
    "    'estimator_type': estimator_type,\n",
    "    'train_size': train_size\n",
    "})\n",
    "sns.boxplot(data=df, x='estimator_type',  y='ndcg', hue='train_size')\n"
   ]
  },
  {
   "cell_type": "code",
   "execution_count": null,
   "metadata": {
    "collapsed": false,
    "jupyter": {
     "outputs_hidden": false
    },
    "pycharm": {
     "name": "#%%\n"
    }
   },
   "outputs": [],
   "source": [
    "\n"
   ]
  }
 ],
 "metadata": {
  "kernelspec": {
   "display_name": "Python 3",
   "language": "python",
   "name": "python3"
  },
  "language_info": {
   "codemirror_mode": {
    "name": "ipython",
    "version": 3
   },
   "file_extension": ".py",
   "mimetype": "text/x-python",
   "name": "python",
   "nbconvert_exporter": "python",
   "pygments_lexer": "ipython3",
   "version": "3.7.3"
  },
  "pycharm": {
   "stem_cell": {
    "cell_type": "raw",
    "metadata": {
     "collapsed": false
    },
    "source": []
   }
  }
 },
 "nbformat": 4,
 "nbformat_minor": 4
}
