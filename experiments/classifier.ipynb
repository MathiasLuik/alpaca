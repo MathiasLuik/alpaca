{
 "cells": [
  {
   "cell_type": "code",
   "execution_count": 1,
   "outputs": [],
   "source": [
    "import sys\n",
    "sys.path.append('..')\n",
    "%load_ext autoreload\n",
    "%autoreload 2\n",
    "%matplotlib inline"
   ],
   "metadata": {
    "collapsed": false,
    "pycharm": {
     "name": "#%%\n",
     "is_executing": false
    }
   }
  },
  {
   "cell_type": "code",
   "execution_count": 2,
   "metadata": {
    "collapsed": true,
    "pycharm": {
     "is_executing": false
    }
   },
   "outputs": [],
   "source": [
    "import numpy as np\n",
    "import pandas as pd\n",
    "import seaborn as sns\n",
    "from sklearn.metrics import accuracy_score\n",
    "import matplotlib.pyplot as plt\n",
    "from dataloader.builder import build_dataset\n",
    "from experiment_setup import build_estimator\n",
    "from uncertainty_estimator.masks import build_masks, DEFAULT_MASKS\n",
    "\n",
    "from model.cnn import SimpleConv, Trainer"
   ]
  },
  {
   "cell_type": "code",
   "execution_count": 3,
   "outputs": [],
   "source": [
    "config = {\n",
    "    'use_cuda': True,\n",
    "    'batch_size': 128,\n",
    "    'epochs': 3,\n",
    "    'lr': 1e-2,\n",
    "    'momentum': 0.5,\n",
    "    'seed': 1,\n",
    "    'log_interval': 10,\n",
    "    'nn_runs': 10,\n",
    "    'dropout_uq': 0.5\n",
    "}\n",
    "\n"
   ],
   "metadata": {
    "collapsed": false,
    "pycharm": {
     "name": "#%%\n",
     "is_executing": false
    }
   }
  },
  {
   "cell_type": "markdown",
   "source": [
    "#### Load data and preprocess"
   ],
   "metadata": {
    "collapsed": false,
    "pycharm": {
     "name": "#%% md\n",
     "is_executing": false
    }
   }
  },
  {
   "cell_type": "code",
   "execution_count": 4,
   "outputs": [],
   "source": [
    "mnist = build_dataset('mnist', val_size=10_000)\n",
    "x_train, y_train = mnist.dataset('train')\n",
    "x_val, y_val = mnist.dataset('val')\n",
    "\n",
    "ood = build_dataset('fashion_mnist', val_size=0)\n",
    "x_ood, _ = ood.dataset('train') "
   ],
   "metadata": {
    "collapsed": false,
    "pycharm": {
     "name": "#%%\n",
     "is_executing": false
    }
   }
  },
  {
   "cell_type": "code",
   "execution_count": 5,
   "outputs": [],
   "source": [
    "x_train = x_train.reshape(-1, 1, 28, 28)\n",
    "x_val = x_val.reshape(-1, 1, 28, 28)\n",
    "x_ood = x_ood.reshape(-1, 1, 28, 28)\n",
    "y_train = y_train.astype('long').reshape(-1)\n",
    "y_val = y_val.astype('long').reshape(-1)\n",
    "x_train /= 255.0\n",
    "x_val /= 255.0\n",
    "x_ood /= 255.0"
   ],
   "metadata": {
    "collapsed": false,
    "pycharm": {
     "name": "#%%\n",
     "is_executing": false
    }
   }
  },
  {
   "cell_type": "markdown",
   "source": [
    "#### Train model"
   ],
   "metadata": {
    "collapsed": false,
    "pycharm": {
     "name": "#%% md\n",
     "is_executing": false
    }
   }
  },
  {
   "cell_type": "code",
   "execution_count": 6,
   "outputs": [],
   "source": [
    "train_samples = 5000\n",
    "model = SimpleConv()\n",
    "trainer = Trainer(model)\n",
    "trainer.fit(x_train[:train_samples], y_train[:train_samples], epochs=config['epochs'])\n",
    "accuracy_score(y_val, trainer.predict(x_val))\n"
   ],
   "metadata": {
    "collapsed": false,
    "pycharm": {
     "name": "#%%\n",
     "is_executing": false
    }
   }
  },
  {
   "cell_type": "markdown",
   "source": [
    "#### BALD\n"
   ],
   "metadata": {
    "collapsed": false,
    "pycharm": {
     "name": "#%% md\n"
    }
   }
  },
  {
   "cell_type": "code",
   "execution_count": 7,
   "outputs": [],
   "source": [
    "masks = build_masks(['vanilla', 'dpp'])\n",
    "# masks = build_masks(DEFAULT_MASKS)"
   ],
   "metadata": {
    "collapsed": false,
    "pycharm": {
     "name": "#%%\n",
     "is_executing": false
    }
   }
  },
  {
   "cell_type": "code",
   "execution_count": 11,
   "outputs": [],
   "source": [
    "# estimation_samples = 50 \n",
    "# uqs, datasets, mask_type = [], [], []\n",
    "# \n",
    "# for mask_name, mask in masks.items():\n",
    "#     estimator = build_estimator(\n",
    "#         'bald_masked', trainer, nn_runs=config['nn_runs'], dropout_mask=mask,\n",
    "#         dropout_rate=config['dropout_uq'], num_classes=10)\n",
    "#     \n",
    "#     for data_name, x_current in (('train', x_train), ('val', x_val), ('ood', x_ood)):\n",
    "#         uq = estimator.estimate(x_current[:estimation_samples])\n",
    "#         uqs = np.concatenate((uqs, uq))\n",
    "#         datasets = np.concatenate((datasets, [data_name]*estimation_samples))\n",
    "#         mask_type = np.concatenate((mask_type, [mask_name]*estimation_samples))\n",
    "# \n",
    "#     \n",
    "# df = pd.DataFrame({'uq': uqs, 'dataset': datasets, 'mask_type': mask_type})\n",
    "# sns.boxplot(data=df, x='dataset',  y='uq', hue='mask_type')"
   ],
   "metadata": {
    "collapsed": false,
    "pycharm": {
     "name": "#%%\n",
     "is_executing": false
    }
   }
  },
  {
   "cell_type": "code",
   "execution_count": 13,
   "outputs": [],
   "source": [
    "mask = masks['dpp']\n",
    "estimator = build_estimator(\n",
    "    'bald_masked', trainer, nn_runs=config['nn_runs'], dropout_mask=mask,\n",
    "    dropout_rate=config['dropout_uq'], num_classes=10)\n",
    "# estimator.reset()\n"
   ],
   "metadata": {
    "collapsed": false,
    "pycharm": {
     "name": "#%%\n",
     "is_executing": false
    }
   }
  },
  {
   "cell_type": "code",
   "execution_count": 17,
   "outputs": [],
   "source": [
    "estimator.estimate(x_train[:10])"
   ],
   "metadata": {
    "collapsed": false,
    "pycharm": {
     "name": "#%%\n",
     "is_executing": false
    }
   }
  },
  {
   "cell_type": "code",
   "execution_count": 15,
   "outputs": [],
   "source": [],
   "metadata": {
    "collapsed": false,
    "pycharm": {
     "name": "#%%\n",
     "is_executing": false
    }
   }
  }
 ],
 "metadata": {
  "kernelspec": {
   "display_name": "Python 3",
   "language": "python",
   "name": "python3"
  },
  "language_info": {
   "codemirror_mode": {
    "name": "ipython",
    "version": 2
   },
   "file_extension": ".py",
   "mimetype": "text/x-python",
   "name": "python",
   "nbconvert_exporter": "python",
   "pygments_lexer": "ipython2",
   "version": "2.7.6"
  },
  "pycharm": {
   "stem_cell": {
    "cell_type": "raw",
    "source": [],
    "metadata": {
     "collapsed": false
    }
   }
  }
 },
 "nbformat": 4,
 "nbformat_minor": 0
}