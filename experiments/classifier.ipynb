{
 "cells": [
  {
   "cell_type": "code",
   "execution_count": null,
   "metadata": {
    "collapsed": false,
    "jupyter": {
     "outputs_hidden": false
    },
    "pycharm": {
     "is_executing": false,
     "name": "#%%\n"
    }
   },
   "outputs": [],
   "source": [
    "import sys\n",
    "sys.path.append('..')\n",
    "%load_ext autoreload\n",
    "%autoreload 2\n",
    "%matplotlib inline"
   ]
  },
  {
   "cell_type": "code",
   "execution_count": null,
   "metadata": {
    "pycharm": {
     "is_executing": false
    }
   },
   "outputs": [],
   "source": [
    "import numpy as np\n",
    "import pandas as pd\n",
    "import seaborn as sns\n",
    "from sklearn.metrics import accuracy_score\n",
    "from scipy.special import softmax as softmax\n",
    "import matplotlib.pyplot as plt\n",
    "import torch\n",
    "import matplotlib.pyplot as plt\n",
    "\n",
    "from dataloader.builder import build_dataset\n",
    "from experiment_setup import build_estimator\n",
    "from uncertainty_estimator.masks import build_masks, DEFAULT_MASKS\n",
    "from analysis.metrics import uq_ndcg, ndcg, dcg\n",
    "\n",
    "from model.cnn import SimpleConv, MediumConv\n",
    "from model.trainer import Trainer, EnsembleTrainer\n",
    "\n",
    "# torch.cuda.set_device(1)"
   ]
  },
  {
   "cell_type": "code",
   "execution_count": null,
   "metadata": {
    "collapsed": false,
    "jupyter": {
     "outputs_hidden": false
    },
    "pycharm": {
     "is_executing": false,
     "name": "#%%\n"
    }
   },
   "outputs": [],
   "source": [
    "\n",
    "model_setups = {\n",
    "    'mnist': {\n",
    "        'model_class': SimpleConv,\n",
    "        'train_samples': 3000,\n",
    "        'epochs': 5,\n",
    "        'batch_size': 256,\n",
    "        'log_interval': 10,\n",
    "        'lr': 1e-2\n",
    "    },\n",
    "    'cifar_10': {\n",
    "        'model_class': MediumConv,\n",
    "        'train_samples': 50_000,\n",
    "        'epochs': 20,\n",
    "        'batch_size': 256,\n",
    "        'log_interval': 150,\n",
    "        'lr': 1e-2\n",
    "    }\n",
    "}\n",
    "\n",
    "config = {\n",
    "    'use_cuda': True,\n",
    "    'seed': 1,\n",
    "    \n",
    "    'nn_runs': 100,\n",
    "    'dropout_uq': 0.5,\n",
    "    \n",
    "    'n_models': 10, \n",
    "    \n",
    "    'dataset': 'cifar_10',\n",
    "    \n",
    "    'model_runs': 1,\n",
    "    'repeat_runs': 4\n",
    "}\n",
    "\n",
    "config.update(model_setups[config['dataset']])\n"
   ]
  },
  {
   "cell_type": "markdown",
   "metadata": {
    "pycharm": {
     "is_executing": false,
     "name": "#%% md\n"
    }
   },
   "source": [
    "#### Load data and preprocess"
   ]
  },
  {
   "cell_type": "code",
   "execution_count": null,
   "metadata": {
    "collapsed": false,
    "jupyter": {
     "outputs_hidden": false
    },
    "pycharm": {
     "is_executing": false,
     "name": "#%%\n"
    }
   },
   "outputs": [],
   "source": [
    "dataset = build_dataset(config['dataset'], val_size=10_000)\n",
    "x_train, y_train = dataset.dataset('train')\n",
    "x_val, y_val = dataset.dataset('val')\n",
    "\n",
    "if config['dataset'] == 'mnist':\n",
    "    ood = build_dataset('fashion_mnist', val_size=0)\n",
    "    x_ood, _ = ood.dataset('train') \n",
    "else:\n",
    "    # x_ood = x_val.copy()\n",
    "    x_ood = np.array([])\n"
   ]
  },
  {
   "cell_type": "code",
   "execution_count": null,
   "metadata": {
    "collapsed": false,
    "jupyter": {
     "outputs_hidden": false
    },
    "pycharm": {
     "is_executing": false,
     "name": "#%%\n"
    }
   },
   "outputs": [],
   "source": [
    "if config['dataset'] == 'mnist':\n",
    "    input_shape = (-1, 1, 28, 28)\n",
    "elif config['dataset'] == 'cifar_10':\n",
    "    input_shape = (-1, 3, 32, 32)\n",
    "x_train = x_train.reshape(input_shape)\n",
    "x_val = x_val.reshape(input_shape)\n",
    "x_ood = x_ood.reshape(input_shape)\n",
    "\n",
    "y_train = y_train.astype('long').reshape(-1)\n",
    "y_val = y_val.astype('long').reshape(-1)\n",
    "x_train /= 255.0\n",
    "x_val /= 255.0\n",
    "x_ood /= 255.0\n"
   ]
  },
  {
   "cell_type": "markdown",
   "metadata": {
    "pycharm": {
     "is_executing": false,
     "name": "#%% md\n"
    }
   },
   "source": [
    "#### Train model"
   ]
  },
  {
   "cell_type": "code",
   "execution_count": null,
   "metadata": {
    "collapsed": false,
    "jupyter": {
     "outputs_hidden": false
    },
    "pycharm": {
     "is_executing": false,
     "name": "#%%\n"
    }
   },
   "outputs": [],
   "source": [
    "def retrain(train_samples, n_models=config['n_models'], epochs=config['epochs'], val_samples=2000):\n",
    "    idxs = np.random.choice(len(x_train), train_samples, replace=False)\n",
    "    train_set = (x_train[idxs], y_train[idxs])\n",
    "    idxs = np.random.choice(len(x_val), val_samples, replace=False)\n",
    "    val_set = (x_val[idxs], y_val[idxs]) \n",
    "    \n",
    "    model_class = config['model_class'] \n",
    "    model = model_class()\n",
    "    trainer = Trainer(model)\n",
    "    trainer.fit(\n",
    "        train_set, val_set , epochs=epochs, verbose=True,\n",
    "        log_interval=config['log_interval'])\n",
    "    # \n",
    "    # ensemble = EnsembleTrainer(model_class, {}, n_models)\n",
    "    # ensemble.fit(x_train[idxs], y_train[idxs], epochs=epochs)\n",
    "    ensemble = None\n",
    "    \n",
    "    return trainer, ensemble\n",
    "\n",
    "def ll(trainer, x, y):\n",
    "    trainer.eval()\n",
    "    logits = trainer(x).detach().cpu().numpy()\n",
    "    probs = softmax(logits, axis=-1)[np.arange(len(x)), y]\n",
    "    return np.log(probs)\n",
    "\n",
    "unique, counts = np.unique(y_train[:config['train_samples']], return_counts=True)\n",
    "dict(zip(unique, counts))"
   ]
  },
  {
   "cell_type": "code",
   "execution_count": null,
   "metadata": {
    "collapsed": false,
    "jupyter": {
     "outputs_hidden": false
    },
    "pycharm": {
     "is_executing": false,
     "name": "#%%\n"
    }
   },
   "outputs": [],
   "source": [
    "trainer, ensemble = retrain(config['train_samples'])"
   ]
  },
  {
   "cell_type": "code",
   "execution_count": null,
   "metadata": {
    "collapsed": false,
    "jupyter": {
     "outputs_hidden": false
    },
    "pycharm": {
     "is_executing": false,
     "name": "#%%\n"
    }
   },
   "outputs": [],
   "source": [
    "print('Model accuracy train', accuracy_score(y_train[:3000], trainer.predict(x_train[:3000])))\n",
    "print('Model accuracy val', accuracy_score(y_val[:3000], trainer.predict(x_val[:3000])))\n",
    "# print('Ensemble accuracy', accuracy_score(y_val, ensemble.predict(x_val)))\n",
    "\n",
    "\n"
   ]
  },
  {
   "cell_type": "markdown",
   "metadata": {
    "pycharm": {
     "name": "#%% md\n"
    }
   },
   "source": [
    "### BALD\n",
    "\n",
    "##### UQ by different masks"
   ]
  },
  {
   "cell_type": "code",
   "execution_count": null,
   "metadata": {
    "collapsed": false,
    "jupyter": {
     "outputs_hidden": false
    },
    "pycharm": {
     "is_executing": false,
     "name": "#%%\n"
    }
   },
   "outputs": [],
   "source": [
    "masks = build_masks(DEFAULT_MASKS, nn_runs=config['nn_runs'])\n",
    "estimation_samples = config['train_samples']\n",
    "uqs, datasets, mask_type = [], [], []\n",
    "\n",
    "for mask_name, mask in masks.items():\n",
    "    print(mask_name)\n",
    "    estimator = build_estimator(\n",
    "        'bald_masked', trainer, nn_runs=config['nn_runs'], dropout_mask=mask,\n",
    "        dropout_rate=config['dropout_uq'], num_classes=10)\n",
    "\n",
    "    # for data_name, x_current in (('train', x_train), ('val', x_val), ('ood', x_ood)):\n",
    "    for data_name, x_current in (('train', x_train), ('val', x_val)):\n",
    "        uq = estimator.estimate(x_current[:estimation_samples])\n",
    "        uqs = np.concatenate((uqs, uq))\n",
    "        datasets = np.concatenate((datasets, [data_name]*estimation_samples))\n",
    "        mask_type = np.concatenate((mask_type, [mask_name]*estimation_samples))\n",
    "        estimator.reset()\n",
    "        \n",
    "# print('Ensemble')        \n",
    "# estimator = build_estimator('bald_ensemble', ensemble, num_classes=10)\n",
    "# for data_name, x_current in (('train', x_train), ('val', x_val), ('ood', x_ood)):\n",
    "#     uq = estimator.estimate(x_current[:estimation_samples])\n",
    "#     uqs = np.concatenate((uqs, uq))\n",
    "#     datasets = np.concatenate((datasets, [data_name]*estimation_samples))\n",
    "#     mask_type = np.concatenate((mask_type, ['ensemble']*estimation_samples))\n"
   ]
  },
  {
   "cell_type": "code",
   "execution_count": null,
   "metadata": {
    "collapsed": false,
    "jupyter": {
     "outputs_hidden": false
    },
    "pycharm": {
     "is_executing": false,
     "name": "#%%\n"
    }
   },
   "outputs": [],
   "source": [
    "plt.figure(figsize=(16, 9))\n",
    "\n",
    "df = pd.DataFrame({'uq': uqs, 'dataset': datasets, 'mask_type': mask_type})\n",
    "sns.boxplot(data=df, x='mask_type',  y='uq', hue='dataset')\n"
   ]
  },
  {
   "cell_type": "markdown",
   "metadata": {
    "pycharm": {
     "name": "#%% md\n"
    }
   },
   "source": [
    "### LL prediction by UQ"
   ]
  },
  {
   "cell_type": "code",
   "execution_count": null,
   "metadata": {
    "collapsed": false,
    "jupyter": {
     "outputs_hidden": false
    },
    "pycharm": {
     "is_executing": false,
     "name": "#%%\n"
    }
   },
   "outputs": [],
   "source": [
    "pool_size = 300\n",
    "x_pool, y_pool = x_val[:pool_size], y_val[:pool_size]\n",
    "pool_ll = ll(trainer, x_pool, y_pool)\n",
    "    "
   ]
  },
  {
   "cell_type": "code",
   "execution_count": null,
   "metadata": {
    "collapsed": false,
    "jupyter": {
     "outputs_hidden": false
    },
    "pycharm": {
     "is_executing": false,
     "name": "#%%\n"
    }
   },
   "outputs": [],
   "source": [
    "plt.figure(figsize=(16, 18))\n",
    "for name, mask in masks.items():\n",
    "    estimator = build_estimator(\n",
    "        'bald_masked', trainer, nn_runs=config['nn_runs'], dropout_mask=mask,\n",
    "        dropout_rate=config['dropout_uq'], num_classes=10)\n",
    "    estimations = estimator.estimate(x_pool)\n",
    "    estimator.reset()\n",
    "    plt.scatter(estimations, pool_ll, label=name, alpha=0.5)\n",
    "    plt.xlabel('Uncertainty estimation')\n",
    "    plt.ylabel('Log likelihood')\n",
    "plt.legend(loc='lower right')\n",
    "    "
   ]
  },
  {
   "cell_type": "code",
   "execution_count": null,
   "metadata": {
    "collapsed": false,
    "jupyter": {
     "outputs_hidden": false
    },
    "pycharm": {
     "is_executing": false,
     "name": "#%%\n"
    }
   },
   "outputs": [],
   "source": [
    "plt.figure(figsize=(10, 25))\n",
    "num = (len(masks) + 3) // 2\n",
    "for i, (name, mask) in enumerate(masks.items()):\n",
    "    plt.subplot(num, 2, i+1)\n",
    "    estimator = build_estimator(\n",
    "        'bald_masked', trainer, nn_runs=config['nn_runs'], dropout_mask=mask,\n",
    "        dropout_rate=config['dropout_uq'], num_classes=10)\n",
    "    estimations = estimator.estimate(x_pool)\n",
    "    plt.scatter(estimations, pool_ll, alpha=0.5)\n",
    "    plt.xlabel('Uncertainty estimation')\n",
    "    plt.ylabel('Log likelihood')\n",
    "    plt.title(name)\n",
    "    estimator.reset()\n",
    "# plt.legend(loc='lower right')\n",
    "estimator = build_estimator('bald_ensemble', ensemble, num_classes=10)\n",
    "estimations = estimator.estimate(x_pool)\n",
    "pool_ll = ll(trainer, x_pool, y_pool)\n",
    "plt.subplot(num, 2, i+2)\n",
    "plt.scatter(estimations, pool_ll, alpha=0.5)\n",
    "plt.title('ensemble')\n",
    "\n",
    " "
   ]
  },
  {
   "cell_type": "markdown",
   "metadata": {
    "jupyter": {
     "outputs_hidden": false
    },
    "pycharm": {
     "is_executing": false,
     "name": "#%% md\n"
    }
   },
   "source": [
    "### NDCG estimation\n"
   ]
  },
  {
   "cell_type": "code",
   "execution_count": null,
   "metadata": {
    "collapsed": false,
    "jupyter": {
     "outputs_hidden": false
    },
    "pycharm": {
     "is_executing": false,
     "name": "#%%\n"
    }
   },
   "outputs": [],
   "source": [
    "estimation_samples = 3000 \n",
    "ndcgs, estimator_type, train_size = [], [], []\n",
    "\n",
    "\n",
    "for train_samples in [500, 2000, 5000, 20000, 60000]:\n",
    "    print('\\n', train_samples)\n",
    "    for i in range(config['model_runs']):\n",
    "        trainer, ensemble = retrain(train_samples)\n",
    "        for j in range(config['repeat_runs']):\n",
    "            idxs = np.random.choice(len(x_val), estimation_samples, replace=False)\n",
    "            x_current = x_val[idxs]\n",
    "            y_current = y_val[idxs]\n",
    "\n",
    "            # masks\n",
    "            current_ll = ll(trainer, x_current, y_current)\n",
    "            for mask_name, mask in masks.items():\n",
    "                print(mask_name)\n",
    "                estimator = build_estimator(\n",
    "                    'bald_masked', trainer, nn_runs=config['nn_runs'], dropout_mask=mask,\n",
    "                    dropout_rate=config['dropout_uq'], num_classes=10)\n",
    "                uq = estimator.estimate(x_current)\n",
    "                estimator.reset()\n",
    "                ndcgs.append(uq_ndcg(-current_ll, uq))\n",
    "                estimator_type.append(mask_name)\n",
    "                train_size.append(train_samples)\n",
    "                estimator.reset()\n",
    "                \n",
    "            # ensemble\n",
    "            print('ensemble')\n",
    "            estimator = build_estimator('bald_ensemble', ensemble, num_classes=10)\n",
    "            current_ll = ll(ensemble, x_current, y_current)\n",
    "            uq = estimator.estimate(x_current)\n",
    "            ndcgs.append(uq_ndcg(-current_ll, uq))\n",
    "            estimator_type.append('ensemble')\n",
    "            train_size.append(train_samples)\n",
    "            \n",
    "    \n",
    "    "
   ]
  },
  {
   "cell_type": "code",
   "execution_count": null,
   "metadata": {
    "collapsed": false,
    "jupyter": {
     "outputs_hidden": false
    },
    "pycharm": {
     "is_executing": false,
     "name": "#%%\n"
    }
   },
   "outputs": [],
   "source": [
    "plt.figure(figsize=(12, 8))\n",
    "plt.title(f\"NDCG on different train samples\")\n",
    "\n",
    "df = pd.DataFrame({\n",
    "    'ndcg': ndcgs,\n",
    "    'estimator_type': estimator_type,\n",
    "    'train_size': train_size\n",
    "})\n",
    "sns.boxplot(data=df, x='estimator_type',  y='ndcg', hue='train_size')\n"
   ]
  },
  {
   "cell_type": "markdown",
   "metadata": {
    "pycharm": {
     "is_executing": true,
     "name": "#%% md\n"
    }
   },
   "source": [
    "#### Different nn_runs"
   ]
  },
  {
   "cell_type": "code",
   "execution_count": null,
   "metadata": {
    "collapsed": false,
    "jupyter": {
     "outputs_hidden": false
    },
    "pycharm": {
     "is_executing": false,
     "name": "#%%\n"
    }
   },
   "outputs": [],
   "source": [
    "estimation_samples = 3000 \n",
    "ndcgs, estimator_type, nn_size = [], [], []\n",
    "\n",
    "train_samples = 3000\n",
    "\n",
    "\n",
    "for nn_runs in [20, 50, 100, 150]:\n",
    "    print('\\n', nn_runs)\n",
    "    masks = build_masks(DEFAULT_MASKS, nn_runs=nn_runs)\n",
    "    n_models = nn_runs // 10\n",
    "    for i in range(config['model_runs']):\n",
    "        trainer, ensemble = retrain(train_samples, n_models=n_models)\n",
    "        for j in range(config['repeat_runs']):\n",
    "            idxs = np.random.choice(len(x_val), estimation_samples, replace=False)\n",
    "            x_current = x_val[idxs]\n",
    "            y_current = y_val[idxs]\n",
    "\n",
    "            # masks\n",
    "            current_ll = ll(trainer, x_current, y_current)\n",
    "            for mask_name, mask in masks.items():\n",
    "                print(mask_name)\n",
    "                estimator = build_estimator(\n",
    "                    'bald_masked', trainer, nn_runs=nn_runs, dropout_mask=mask,\n",
    "                    dropout_rate=config['dropout_uq'], num_classes=10)\n",
    "                uq = estimator.estimate(x_current)\n",
    "                estimator.reset()\n",
    "                ndcgs.append(uq_ndcg(-current_ll, uq))\n",
    "                estimator_type.append(mask_name)\n",
    "                nn_size.append(nn_runs)\n",
    "                estimator.reset()\n",
    "                \n",
    "            # ensemble\n",
    "            print('ensemble')\n",
    "            estimator = build_estimator('bald_ensemble', ensemble, num_classes=10)\n",
    "            current_ll = ll(ensemble, x_current, y_current)\n",
    "            uq = estimator.estimate(x_current)\n",
    "            ndcgs.append(uq_ndcg(-current_ll, uq))\n",
    "            estimator_type.append('ensemble')\n",
    "            nn_size.append(nn_runs)\n",
    "    "
   ]
  },
  {
   "cell_type": "code",
   "execution_count": null,
   "metadata": {
    "collapsed": false,
    "jupyter": {
     "outputs_hidden": false
    },
    "pycharm": {
     "is_executing": false,
     "name": "#%%\n"
    }
   },
   "outputs": [],
   "source": [
    "plt.figure(figsize=(12, 8))\n",
    "plt.title(f\"NDCG on different nn_runs (ensemble size = nn_runs/10); train_size {train_samples}\")\n",
    "\n",
    "df = pd.DataFrame({\n",
    "    'ndcg': ndcgs,\n",
    "    'estimator_type': estimator_type,\n",
    "    'nn_runs': nn_size\n",
    "})\n",
    "sns.boxplot(data=df, x='estimator_type',  y='ndcg', hue='nn_runs')\n"
   ]
  },
  {
   "cell_type": "code",
   "execution_count": null,
   "metadata": {
    "collapsed": false,
    "jupyter": {
     "outputs_hidden": false
    },
    "pycharm": {
     "is_executing": false,
     "name": "#%%\n"
    }
   },
   "outputs": [],
   "source": [
    "\n"
   ]
  }
 ],
 "metadata": {
  "kernelspec": {
   "display_name": "Python 3",
   "language": "python",
   "name": "python3"
  },
  "language_info": {
   "codemirror_mode": {
    "name": "ipython",
    "version": 3
   },
   "file_extension": ".py",
   "mimetype": "text/x-python",
   "name": "python",
   "nbconvert_exporter": "python",
   "pygments_lexer": "ipython3",
   "version": "3.7.3"
  },
  "pycharm": {
   "stem_cell": {
    "cell_type": "raw",
    "metadata": {
     "collapsed": false
    },
    "source": []
   }
  }
 },
 "nbformat": 4,
 "nbformat_minor": 4
}
