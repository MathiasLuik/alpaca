{
 "cells": [
  {
   "cell_type": "code",
   "execution_count": 1,
   "outputs": [],
   "source": [
    "import sys\n",
    "sys.path.append('..')\n",
    "%load_ext autoreload\n",
    "%autoreload 2\n",
    "%matplotlib inline"
   ],
   "metadata": {
    "collapsed": false,
    "pycharm": {
     "name": "#%%\n",
     "is_executing": false
    }
   }
  },
  {
   "cell_type": "code",
   "execution_count": 14,
   "metadata": {
    "collapsed": true,
    "pycharm": {
     "is_executing": false
    }
   },
   "outputs": [],
   "source": [
    "import numpy as np\n",
    "import torch\n",
    "import pandas as pd\n",
    "import seaborn as sns\n",
    "from scipy.special import softmax as softmax\n",
    "from sklearn.datasets import fetch_openml\n",
    "from sklearn.model_selection import train_test_split\n",
    "from sklearn.metrics import accuracy_score\n",
    "import matplotlib.pyplot as plt\n",
    "\n",
    "from model.cnn import SimpleConv, Trainer"
   ]
  },
  {
   "cell_type": "code",
   "execution_count": 3,
   "outputs": [],
   "source": [
    "config = {\n",
    "    'use_cuda': True,\n",
    "    'batch_size': 128,\n",
    "    'epochs': 3,\n",
    "    'lr': 1e-2,\n",
    "    'momentum': 0.5,\n",
    "    'seed': 1,\n",
    "    'log_interval': 10\n",
    "}\n",
    "\n"
   ],
   "metadata": {
    "collapsed": false,
    "pycharm": {
     "name": "#%%\n",
     "is_executing": false
    }
   }
  },
  {
   "cell_type": "code",
   "execution_count": 4,
   "outputs": [],
   "source": [
    "x, y = fetch_openml('mnist_784', return_X_y=True, cache=True)"
   ],
   "metadata": {
    "collapsed": false,
    "pycharm": {
     "name": "#%%\n",
     "is_executing": false
    }
   }
  },
  {
   "cell_type": "code",
   "execution_count": 5,
   "outputs": [
    {
     "name": "stdout",
     "text": [
      "CPU times: user 12.4 s, sys: 270 ms, total: 12.7 s\nWall time: 12.7 s\n"
     ],
     "output_type": "stream"
    }
   ],
   "source": [
    "%%time\n",
    "x_ood, _ = fetch_openml('Fashion-MNIST', return_X_y=True, cache=True)"
   ],
   "metadata": {
    "collapsed": false,
    "pycharm": {
     "name": "#%%\n",
     "is_executing": false
    }
   }
  },
  {
   "cell_type": "code",
   "execution_count": 6,
   "outputs": [],
   "source": [
    "x = x.reshape(-1, 1, 28, 28)\n",
    "y = y.astype('long').reshape(-1)"
   ],
   "metadata": {
    "collapsed": false,
    "pycharm": {
     "name": "#%%\n",
     "is_executing": false
    }
   }
  },
  {
   "cell_type": "code",
   "execution_count": 7,
   "outputs": [],
   "source": [
    "x_train, x_val, y_train, y_val = train_test_split(x, y, test_size=10_000, stratify=y)\n",
    "x_train /= 255.0\n",
    "x_val /= 255.0\n"
   ],
   "metadata": {
    "collapsed": false,
    "pycharm": {
     "name": "#%%\n",
     "is_executing": false
    }
   }
  },
  {
   "cell_type": "code",
   "execution_count": 24,
   "outputs": [],
   "source": [
    "class MCDUEBald:\n",
    "    \"\"\"\n",
    "    Estimate uncertainty for samples with MCDUE approach\n",
    "    \"\"\"\n",
    "    def __init__(self, net, nn_runs=25, dropout_rate=.5, num_classes=1):\n",
    "        self.net = net\n",
    "        self.nn_runs = nn_runs\n",
    "        self.dropout_rate = dropout_rate\n",
    "        self.num_classes = num_classes\n",
    "\n",
    "    def estimate(self, X_pool, *args):\n",
    "        mcd_realizations = np.zeros((X_pool.shape[0], self.nn_runs, self.num_classes))\n",
    "\n",
    "        with torch.no_grad():\n",
    "            for nn_run in range(self.nn_runs):\n",
    "                prediction = self.net(X_pool, dropout_rate=self.dropout_rate)\n",
    "                mcd_realizations[:, nn_run] = prediction.to('cpu')\n",
    "                \n",
    "        return self._bald(mcd_realizations)\n",
    "\n",
    "                # mcd_realizations[:, nn_run] = np.ravel(prediction.to('cpu'))\n",
    "        # return np.ravel(np.std(mcd_realizations, axis=1))\n",
    "    \n",
    "    def _bald(self, logits):\n",
    "        # logits_samples = np.stack(\n",
    "        #         [model.predict(images) for _ in range(opts.predictions_per_example)],\n",
    "        #         axis=1)  # shape: [batch_size, num_samples, num_classes]\n",
    "        probs = softmax(logits, axis=-1).mean(-2)\n",
    "        probs_entropy = - np.sum(probs * np.log(probs + 1e-10), axis=-1)\n",
    "\n",
    "        samples = softmax(logits, axis=-1)\n",
    "        samples_entropy = - np.mean(np.sum(samples * np.log(samples + 1e-10), axis=-1), axis=1)\n",
    "\n",
    "        confidence = -probs_entropy + samples_entropy + 1\n",
    "        # confidence[confidence < 0] = 0\n",
    "        # return confidence\n",
    "        # return zip(probs_entropy, samples_entropy, confidence)\n",
    "        return confidence\n"
   ],
   "metadata": {
    "collapsed": false,
    "pycharm": {
     "name": "#%%\n",
     "is_executing": false
    }
   }
  },
  {
   "cell_type": "code",
   "execution_count": 39,
   "outputs": [
    {
     "name": "stdout",
     "text": [
      "Train Epoch: 0 [0/5000 (0%)]\tLoss: 2.312151\nTrain Epoch: 1 [0/5000 (0%)]\tLoss: 0.729372\n",
      "Train Epoch: 2 [0/5000 (0%)]\tLoss: 0.249479\n"
     ],
     "output_type": "stream"
    },
    {
     "data": {
      "text/plain": "0.945"
     },
     "metadata": {},
     "output_type": "execute_result",
     "execution_count": 39
    }
   ],
   "source": [
    "train_samples = 5000\n",
    "model = SimpleConv()\n",
    "trainer = Trainer(model)\n",
    "trainer.fit(x_train[:train_samples], y_train[:train_samples], epochs=config['epochs'])\n",
    "accuracy_score(y_val, trainer.predict(x_val))"
   ],
   "metadata": {
    "collapsed": false,
    "pycharm": {
     "name": "#%%\n",
     "is_executing": false
    }
   }
  },
  {
   "cell_type": "code",
   "execution_count": 40,
   "outputs": [],
   "source": [
    "estimator = MCDUEBald(trainer, num_classes=10)"
   ],
   "metadata": {
    "collapsed": false,
    "pycharm": {
     "name": "#%%\n",
     "is_executing": false
    }
   }
  },
  {
   "cell_type": "code",
   "execution_count": 41,
   "outputs": [
    {
     "data": {
      "text/plain": "array([0.78388152, 0.77646387, 0.88516392, 0.84221351, 0.91383698,\n       0.94196853, 0.89926413, 0.75674646, 0.9768737 , 0.94469614])"
     },
     "metadata": {},
     "output_type": "execute_result",
     "execution_count": 41
    }
   ],
   "source": [
    "estimator.estimate(x_train[:10])"
   ],
   "metadata": {
    "collapsed": false,
    "pycharm": {
     "name": "#%%\n",
     "is_executing": false
    }
   }
  },
  {
   "cell_type": "code",
   "execution_count": 42,
   "outputs": [],
   "source": [
    "confidence_train = estimator.estimate(x_train[:1000])\n",
    "confidence_val = estimator.estimate(x_val[:1000])\n",
    "confidence_ood = estimator.estimate(x_train[:1000])"
   ],
   "metadata": {
    "collapsed": false,
    "pycharm": {
     "name": "#%%\n",
     "is_executing": false
    }
   }
  },
  {
   "cell_type": "code",
   "execution_count": 43,
   "outputs": [
    {
     "name": "stdout",
     "text": [
      "train\ncount    1000.000000\nmean        0.865921\nstd         0.136583\nmin         0.315536\n25%         0.799611\n50%         0.915188\n75%         0.972598\nmax         0.999952\ndtype: float64\n\nval\ncount    1000.000000\nmean        0.855496\nstd         0.136754\nmin         0.300545\n25%         0.772838\n50%         0.902722\n75%         0.967670\nmax         0.999438\ndtype: float64\n\nood\ncount    1000.000000\nmean        0.866256\nstd         0.135273\nmin         0.305761\n25%         0.806920\n50%         0.913166\n75%         0.971934\nmax         0.999886\ndtype: float64\n\n"
     ],
     "output_type": "stream"
    }
   ],
   "source": [
    "print('train')\n",
    "print(pd.Series(confidence_train).describe())\n",
    "print()\n",
    "\n",
    "print('val')\n",
    "print(pd.Series(confidence_val).describe())\n",
    "print()\n",
    "\n",
    "print('ood')\n",
    "print(pd.Series(confidence_ood).describe())\n",
    "print()"
   ],
   "metadata": {
    "collapsed": false,
    "pycharm": {
     "name": "#%%\n",
     "is_executing": false
    }
   }
  },
  {
   "cell_type": "code",
   "execution_count": 22,
   "outputs": [
    {
     "data": {
      "text/plain": "<Figure size 432x288 with 1 Axes>",
      "image/png": "[encoded data removed]"
     },
     "metadata": {
      "needs_background": "light"
     },
     "output_type": "display_data"
    }
   ],
   "source": [
    "plt.imshow(x_ood[0].reshape((28, 28)), cmap='gray')\n",
    "plt.show()"
   ],
   "metadata": {
    "collapsed": false,
    "pycharm": {
     "name": "#%%\n",
     "is_executing": false
    }
   }
  },
  {
   "cell_type": "code",
   "execution_count": null,
   "outputs": [],
   "source": [
    "\n"
   ],
   "metadata": {
    "collapsed": false,
    "pycharm": {
     "name": "#%%\n"
    }
   }
  }
 ],
 "metadata": {
  "kernelspec": {
   "display_name": "Python 3",
   "language": "python",
   "name": "python3"
  },
  "language_info": {
   "codemirror_mode": {
    "name": "ipython",
    "version": 2
   },
   "file_extension": ".py",
   "mimetype": "text/x-python",
   "name": "python",
   "nbconvert_exporter": "python",
   "pygments_lexer": "ipython2",
   "version": "2.7.6"
  },
  "pycharm": {
   "stem_cell": {
    "cell_type": "raw",
    "source": [],
    "metadata": {
     "collapsed": false
    }
   }
  }
 },
 "nbformat": 4,
 "nbformat_minor": 0
}