{
 "cells": [
  {
   "cell_type": "code",
   "execution_count": null,
   "outputs": [],
   "source": [
    "import sys\n",
    "sys.path.append('..')\n",
    "%load_ext autoreload\n",
    "%autoreload 2"
   ],
   "metadata": {
    "collapsed": false,
    "pycharm": {
     "name": "#%%\n",
     "is_executing": false
    }
   }
  },
  {
   "cell_type": "code",
   "execution_count": null,
   "outputs": [],
   "source": [
    "import os\n",
    "from functools import partial\n",
    "\n",
    "import numpy as np\n",
    "import matplotlib.pyplot as plt\n",
    "import torch\n",
    "from torch.utils.data import TensorDataset\n",
    "\n",
    "from fastai.basic_train import Learner\n",
    "from fastai import train\n",
    "from fastai.basic_data import DataBunch\n",
    "from fastai.callbacks import EarlyStoppingCallback\n",
    "\n",
    "from dataloader.toy import ToySinData, ToyQubicData\n",
    "from model.dense import Dense\n",
    "from uncertainty_estimator.masks import build_masks, DEFAULT_MASKS\n",
    "from experiment_setup import build_estimator\n",
    "from experiments.utils.fastai import ImageArrayDS\n",
    "\n",
    "# Config\n",
    "config = {\n",
    "    'use_cache': False,\n",
    "    'layers': [1, 128, 128, 64, 1],\n",
    "    'batch_size': 2,\n",
    "    'retrain': True,\n",
    "    'nn_runs': 100,\n",
    "    'dropout_uq': 0.5,\n",
    "    'patience': 50\n",
    "}\n",
    "\n"
   ],
   "metadata": {
    "collapsed": false,
    "pycharm": {
     "name": "#%%\n",
     "is_executing": false
    }
   }
  },
  {
   "cell_type": "code",
   "execution_count": null,
   "outputs": [],
   "source": [
    "plt.rcParams['figure.facecolor'] = 'white'"
   ],
   "metadata": {
    "collapsed": false,
    "pycharm": {
     "name": "#%%\n",
     "is_executing": false
    }
   }
  },
  {
   "cell_type": "code",
   "execution_count": null,
   "outputs": [],
   "source": [
    "# Import data\n",
    "\n",
    "data_class = ToySinData\n",
    "# data_class = ToyQubicData\n",
    "\n",
    "x_train, y_train = data_class(use_cache=config['use_cache']).dataset('train')\n",
    "x_val, y_val = data_class(use_cache=config['use_cache']).dataset('val')\n",
    "x_true, y_true = data_class().dataset('ground_truth')\n",
    "\n",
    "plt.plot(x_true, y_true)\n",
    "plt.scatter(x_train, y_train, color='red')\n",
    "plt.scatter(x_val, y_val, color='green')\n",
    "\n",
    "train_ds = TensorDataset(torch.FloatTensor(x_train), torch.FloatTensor(y_train))\n",
    "val_ds = TensorDataset(torch.FloatTensor(x_val), torch.FloatTensor(y_val))\n",
    "data = DataBunch.create(train_ds, val_ds, bs=config['batch_size'])\n"
   ],
   "metadata": {
    "collapsed": false,
    "pycharm": {
     "name": "#%%\n",
     "is_executing": false
    }
   }
  },
  {
   "cell_type": "code",
   "execution_count": null,
   "outputs": [],
   "source": [
    "# Train model\n",
    "model = Dense(config['layers']).float()\n",
    "loss_func = torch.nn.MSELoss()\n",
    "callback_fns=[partial(EarlyStoppingCallback, monitor='valid_loss', min_delta=1e-3, patience=config['patience'])]\n",
    "learner = Learner(data, model, loss_func=loss_func, callback_fns=callback_fns)\n",
    "\n",
    "model_path = \"data/model_masks.pt\"\n",
    "if config['retrain'] or not os.path.exists(model_path):\n",
    "    learner.fit_one_cycle(1000, 5e-3, wd=1e-3, div_factor=10)\n",
    "    torch.save(model.state_dict(), model_path)\n",
    "else:\n",
    "    model.load_state_dict(torch.load(model_path))\n"
   ],
   "metadata": {
    "collapsed": false,
    "pycharm": {
     "name": "#%%\n",
     "is_executing": false
    }
   }
  },
  {
   "cell_type": "code",
   "execution_count": null,
   "outputs": [],
   "source": [
    "\n",
    "model.eval()\n",
    "\n",
    "x_ = np.concatenate((x_true, x_train))\n",
    "x_tensor = torch.FloatTensor(x_).to('cuda')\n",
    "x_true_tensor = torch.FloatTensor(x_true).to('cuda')\n",
    "y_ = model(x_tensor).detach().cpu().numpy()\n",
    "plt.figure(figsize=(22, 12))\n",
    "plt.plot(x_true, y_true, alpha=0.5)\n",
    "plt.scatter(x_train, y_train, color='red')\n",
    "plt.scatter(x_, y_, color='green', marker='+')\n"
   ],
   "metadata": {
    "collapsed": false,
    "pycharm": {
     "name": "#%%\n",
     "is_executing": false
    }
   }
  },
  {
   "cell_type": "code",
   "execution_count": null,
   "outputs": [],
   "source": [
    "masks = build_masks(DEFAULT_MASKS)\n",
    "y_pred = model(x_true_tensor).detach().cpu().numpy()\n",
    "\n",
    "def make_uq_graph(name, estimations):\n",
    "    plt.title(name)\n",
    "    plt.plot(x_true, y_true, alpha=0.5)\n",
    "    plt.scatter(x_true, y_pred, color='green', marker='+')\n",
    "    plt.fill_between(np.ravel(x_true), np.ravel(y_pred) - estimations, np.ravel(y_pred) + estimations, alpha=0.3,\n",
    "                     color='green')\n",
    "    plt.scatter(x_train, y_train, color='red')\n",
    "\n",
    "\n",
    "dropout_runs = {}\n",
    "\n",
    "plt.figure(figsize=(16, 30))\n",
    "for i, (name, mask) in enumerate(masks.items()):\n",
    "    if hasattr(mask, 'reset'):\n",
    "        mask.reset()\n",
    "    estimator = build_estimator(\n",
    "        'mcdue_masked', model, keep_runs=True, nn_runs=config['nn_runs'],\n",
    "        dropout_mask=mask, dropout_rate=config['dropout_uq'])\n",
    "\n",
    "    estimations = estimator.estimate(x_true_tensor)\n",
    "    dropout_runs[name] = estimator.last_mcd_runs()\n",
    "    plt.subplot(6, 2, i + 1)\n",
    "    make_uq_graph(name, estimations)\n"
   ],
   "metadata": {
    "collapsed": false,
    "pycharm": {
     "name": "#%%\n",
     "is_executing": false
    }
   }
  },
  {
   "cell_type": "code",
   "execution_count": null,
   "outputs": [],
   "source": [
    "### Dropout predictions\n",
    "def plot_dropout_runs(name, predictions, n=50):\n",
    "    plt.figure(figsize=(20, 10))\n",
    "    plt.title(name)\n",
    "    plt.plot(x_true, y_true)\n",
    "    plt.scatter(x_train, y_train, color='red')\n",
    "    axes = plt.gca()\n",
    "    axes.set_ylim([-4, 4])\n",
    "    for prediction_line in predictions[:n]:\n",
    "        plt.plot(x_true, prediction_line, alpha=0.5)\n",
    "    plt.show()\n",
    "\n",
    "\n",
    "for name, runs in dropout_runs.items():\n",
    "    plot_dropout_runs(name, runs.T, 200)\n",
    "\n"
   ],
   "metadata": {
    "collapsed": false,
    "pycharm": {
     "name": "#%%\n",
     "is_executing": false
    }
   }
  },
  {
   "cell_type": "code",
   "execution_count": null,
   "outputs": [],
   "source": [
    "### Print sampling\n",
    "dpp = masks[list(masks.keys())[-1]]\n",
    "samples = dpp.dpps[0].list_of_samples\n",
    "lengths = [len(sample) for sample in samples]\n",
    "print(sum(lengths) / len(lengths) / config['layers'][1])\n",
    "samples\n",
    "\n"
   ],
   "metadata": {
    "collapsed": false,
    "pycharm": {
     "name": "#%%\n",
     "is_executing": false
    }
   }
  }
 ],
 "metadata": {
  "kernelspec": {
   "display_name": "Python 3",
   "language": "python",
   "name": "python3"
  },
  "language_info": {
   "codemirror_mode": {
    "name": "ipython",
    "version": 3
   },
   "file_extension": ".py",
   "mimetype": "text/x-python",
   "name": "python",
   "nbconvert_exporter": "python",
   "pygments_lexer": "ipython3",
   "version": "3.7.3"
  },
  "pycharm": {
   "stem_cell": {
    "cell_type": "raw",
    "source": [],
    "metadata": {
     "collapsed": false
    }
   }
  }
 },
 "nbformat": 4,
 "nbformat_minor": 4
}