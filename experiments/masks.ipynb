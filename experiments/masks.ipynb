{
 "cells": [
  {
   "cell_type": "code",
   "execution_count": null,
   "metadata": {
    "pycharm": {
     "is_executing": false
    }
   },
   "outputs": [],
   "source": [
    "import sys\n",
    "sys.path.append('..')\n",
    "%load_ext autoreload\n",
    "%autoreload 2\n"
   ]
  },
  {
   "cell_type": "code",
   "execution_count": null,
   "metadata": {
    "pycharm": {
     "is_executing": false,
     "name": "#%%\n"
    }
   },
   "outputs": [],
   "source": [
    "import numpy as np\n",
    "import matplotlib.pyplot as plt\n",
    "import pandas as pd\n",
    "import seaborn as sns\n",
    "import torch\n",
    "\n",
    "from dataloader.rosen import RosenData\n",
    "from experiment_setup import get_model, set_random, build_estimator\n",
    "from analysis.metrics import uq_accuracy, uq_ndcg, uq_nll\n",
    "from uncertainty_estimator.masks import build_masks \n",
    "from dataloader.toy import ToyQubicData, ToySinData\n",
    "from model.mlp import MLP\n",
    "\n",
    "plt.rcParams['figure.facecolor'] = 'white'"
   ]
  },
  {
   "cell_type": "code",
   "execution_count": null,
   "metadata": {
    "collapsed": false,
    "jupyter": {
     "outputs_hidden": false
    },
    "pycharm": {
     "is_executing": false,
     "name": "#%%\n"
    }
   },
   "outputs": [],
   "source": [
    "import torch\n",
    "torch.cuda.set_device(1)"
   ]
  },
  {
   "cell_type": "code",
   "execution_count": null,
   "metadata": {
    "collapsed": false,
    "jupyter": {
     "outputs_hidden": false
    },
    "pycharm": {
     "is_executing": false,
     "name": "#%%\n"
    }
   },
   "outputs": [],
   "source": [
    "\n",
    "config = {\n",
    "    'nn_runs': 200,\n",
    "    'verbose': False,\n",
    "    'use_cache': False, \n",
    "    'layers': [1, 256, 256, 128, 1],\n",
    "    # 'layers': [1, 128, 128, 64, 1],\n",
    "    # 'layers': [1, 64, 64, 32, 1],\n",
    "    'patience': 10,\n",
    "    'dropout_train': 0.2,\n",
    "    'dropout_uq': 0.5\n",
    "}"
   ]
  },
  {
   "cell_type": "markdown",
   "metadata": {},
   "source": [
    "### Visualizing on toy data"
   ]
  },
  {
   "cell_type": "code",
   "execution_count": null,
   "metadata": {
    "pycharm": {
     "is_executing": false
    }
   },
   "outputs": [],
   "source": [
    "# Generate dataset\n",
    "dataset = 'qubic'\n",
    "# dataset = 'sin'\n",
    "\n",
    "if dataset == 'qubic':\n",
    "    x_train, y_train = ToyQubicData(use_cache=config['use_cache']).dataset('train')\n",
    "    x_val, y_val = ToyQubicData(use_cache=config['use_cache']).dataset('val')\n",
    "    x_true, y_true = ToyQubicData().dataset('ground_truth')\n",
    "else:\n",
    "    x_train, y_train = ToySinData(use_cache=config['use_cache']).dataset('train')\n",
    "    x_val, y_val = ToySinData(use_cache=config['use_cache']).dataset('val')\n",
    "    x_true, y_true = ToySinData().dataset('ground_truth')\n",
    "    \n",
    "plt.plot(x_true, y_true)\n",
    "plt.scatter(x_train, y_train, color='red')\n",
    "plt.scatter(x_val, y_val, color='green')"
   ]
  },
  {
   "cell_type": "code",
   "execution_count": null,
   "metadata": {
    "pycharm": {
     "is_executing": false
    },
    "scrolled": true
   },
   "outputs": [],
   "source": [
    "# Train model\n",
    "model = MLP(config['layers'], l2_reg=1e-5)\n",
    "model.fit((x_train, y_train), (x_train, y_train), patience=config['patience'], validation_step=50, batch_size=5, dropout_rate=config['dropout_train'])\n",
    "\n",
    "y_pred = model(x_true).cpu().numpy()\n",
    "plt.figure(figsize=(12, 8))\n",
    "plt.plot(x_true, y_true, alpha=0.5)\n",
    "plt.scatter(x_train, y_train, color='red')\n",
    "plt.scatter(x_true, y_pred, color='green', marker='+')"
   ]
  },
  {
   "cell_type": "code",
   "execution_count": null,
   "metadata": {
    "pycharm": {
     "is_executing": false
    }
   },
   "outputs": [],
   "source": [
    "masks = build_masks(nn_runs=config['nn_runs'])"
   ]
  },
  {
   "cell_type": "code",
   "execution_count": null,
   "metadata": {
    "collapsed": false,
    "jupyter": {
     "outputs_hidden": false
    },
    "pycharm": {
     "is_executing": false,
     "name": "#%%\n"
    }
   },
   "outputs": [],
   "source": [
    "# Evaluate UQ and plot the results\n",
    "plt.figure(figsize=(16, 30))\n",
    "\n",
    "def make_uq_graph(name, estimations):\n",
    "    plt.title(name)\n",
    "    plt.plot(x_true, y_true, alpha=0.5)\n",
    "    plt.scatter(x_true, y_pred, color='green', marker='+')\n",
    "    plt.fill_between(np.ravel(x_true), np.ravel(y_pred)-estimations, np.ravel(y_pred)+estimations, alpha=0.3, color='green')\n",
    "    plt.scatter(x_train, y_train, color='red')\n",
    "\n",
    "\n",
    "for i, (name, mask) in enumerate(masks.items()):\n",
    "    print(name)\n",
    "    if hasattr(mask, 'reset'):\n",
    "        mask.reset()\n",
    "    estimator = build_estimator(\n",
    "        'mcdue_masked', model, nn_runs=config['nn_runs'], dropout_mask=mask,\n",
    "        dropout_rate=config['dropout_uq'])\n",
    "\n",
    "    estimations = estimator.estimate(x_true)\n",
    "    plt.subplot(6, 2, i+1)\n",
    "    make_uq_graph(name, estimations)\n",
    "\n",
    "    \n",
    "nngp = build_estimator('nngp', model, nn_runs=config['nn_runs'], dropout_rate=config['dropout_uq'])\n",
    "estimations = nngp.estimate(x_true, x_train)\n",
    "plt.subplot(6, 2, len(masks)+1)\n",
    "make_uq_graph('nngp', estimations)"
   ]
  }
 ],
 "metadata": {
  "kernelspec": {
   "display_name": "Python 3",
   "language": "python",
   "name": "python3"
  },
  "language_info": {
   "codemirror_mode": {
    "name": "ipython",
    "version": 3
   },
   "file_extension": ".py",
   "mimetype": "text/x-python",
   "name": "python",
   "nbconvert_exporter": "python",
   "pygments_lexer": "ipython3",
   "version": "3.7.4"
  },
  "pycharm": {
   "stem_cell": {
    "cell_type": "raw",
    "source": [],
    "metadata": {
     "collapsed": false
    }
   }
  }
 },
 "nbformat": 4,
 "nbformat_minor": 4
}