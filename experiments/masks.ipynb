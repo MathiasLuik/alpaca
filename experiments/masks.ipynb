{
 "cells": [
  {
   "cell_type": "code",
   "execution_count": 1,
   "metadata": {},
   "outputs": [],
   "source": [
    "import sys\n",
    "sys.path.append('..')\n",
    "%load_ext autoreload\n",
    "%autoreload 2"
   ]
  },
  {
   "cell_type": "code",
   "execution_count": 2,
   "metadata": {
    "pycharm": {
     "name": "#%%\n"
    }
   },
   "outputs": [],
   "source": [
    "import numpy as np\n",
    "import matplotlib.pyplot as plt\n",
    "import pandas as pd\n",
    "import seaborn as sns\n",
    "\n",
    "from dataloader.rosen import RosenData\n",
    "from experiment_setup import get_model, set_random, build_estimator\n",
    "from analysis.metrics import uq_accuracy, uq_ndcg, uq_nll\n",
    "from uncertainty_estimator.masks import BasicMask, LHSMask, MirrorMask, DecorrelationMask\n",
    "from dataloader.toy import ToyQubicData, ToySinData\n",
    "\n",
    "plt.rcParams['figure.facecolor'] = 'white'"
   ]
  },
  {
   "cell_type": "code",
   "execution_count": 3,
   "metadata": {},
   "outputs": [],
   "source": [
    "config = {\n",
    "    'random_seed': 43,\n",
    "    'n_dim': 10,\n",
    "    'nn_runs': 100,\n",
    "    'runs': 2,\n",
    "    'model_runs': 10,\n",
    "    'data_size': 2000,\n",
    "    'data_split': [0.4, 0.6, 0, 0],\n",
    "    'verbose': False,\n",
    "    'use_cache': False,\n",
    "    'layers': [10, 256, 256, 128, 1],\n",
    "    'epochs': 30_000,\n",
    "    'acc_percentile': 0.1,\n",
    "    'patience': 10,\n",
    "    'dropout_train': 0.2,\n",
    "    'dropout_uq': 0.5\n",
    "}"
   ]
  },
  {
   "cell_type": "code",
   "execution_count": 4,
   "metadata": {
    "scrolled": true
   },
   "outputs": [],
   "source": [
    "# Get data\n",
    "rosen = RosenData(\n",
    "    config['n_dim'], config['data_size'], config['data_split'],\n",
    "    use_cache=config['use_cache'])\n",
    "\n",
    "x_train, y_train = rosen.dataset('train')\n",
    "x_val, y_val = rosen.dataset('train')\n",
    "\n",
    "# set_random(config['random_seed'])"
   ]
  },
  {
   "cell_type": "code",
   "execution_count": 5,
   "metadata": {},
   "outputs": [],
   "source": [
    "# Train models\n",
    "model_paths = [f\"model/data/rosen_visual_{i}.ckpt\" for i in range(config['model_runs'])]\n",
    "if not config['use_cache']:\n",
    "    for i in range(config['model_runs']):\n",
    "        model = get_model(\n",
    "            config['layers'], model_paths[i], (x_train, y_train), (x_val, y_val),\n",
    "            epochs=config['epochs'], retrain=True, verbose=config['verbose'], patience=config['patience'],\n",
    "            dropout_rate=config['dropout_train'])\n",
    "        print(\"Model\", i+1, \"loss\", model.val_loss)\n"
   ]
  },
  {
   "cell_type": "code",
   "execution_count": 6,
   "metadata": {},
   "outputs": [],
   "source": [
    "masks = {\n",
    "    'vanilla': None,\n",
    "    'basic_mask': BasicMask(),\n",
    "    'lhs': LHSMask(config['nn_runs']),\n",
    "    'lhs_shuffled': LHSMask(config['nn_runs'], shuffle=True),\n",
    "    'mirror_random': MirrorMask(),\n",
    "    'decorrelating': DecorrelationMask(),\n",
    "    'decorr_sc': DecorrelationMask(scaling=True, dry_run=False)\n",
    "}"
   ]
  },
  {
   "cell_type": "code",
   "execution_count": 7,
   "metadata": {},
   "outputs": [],
   "source": [
    "# Evaluate masks on models\n",
    "mask_results = []\n",
    "\n",
    "for model_run in range(config['model_runs']):\n",
    "    print(f\"===Estimate on model {model_run+1}====\")\n",
    "    model = get_model(\n",
    "        config['layers'], model_paths[model_run],\n",
    "        (x_train, y_train), (x_val, y_val), epochs=config['epochs'])   \n",
    "    predictions = model(x_val).cpu().numpy()\n",
    "    errors = np.abs(predictions - y_val)\n",
    "\n",
    "    for name, mask in masks.items():\n",
    "        estimator = build_estimator(\n",
    "            'mcdue_masked', model, nn_runs=config['nn_runs'], dropout_mask=mask,\n",
    "            dropout_rate=config['dropout_uq'])\n",
    "\n",
    "        for run in range(config['runs']):\n",
    "            estimations = estimator.estimate(x_val)\n",
    "            acc = uq_accuracy(estimations, errors, config['acc_percentile'])\n",
    "            ndcg = uq_ndcg(errors, estimations)\n",
    "            nll = uq_nll(errors, estimations)\n",
    "            mask_results.append([acc, ndcg, nll, name])\n",
    "\n",
    "            if hasattr(mask, 'reset'):\n",
    "                mask.reset()\n",
    "                \n",
    "    nngp = build_estimator('nngp', model, nn_runs=config['nn_runs'], dropout_rate=config['dropout_uq'])\n",
    "    for run in range(config['runs']):\n",
    "        estimations = estimator.estimate(x_val, x_train, y_train)\n",
    "        acc = uq_accuracy(estimations, errors, config['acc_percentile'])\n",
    "        ndcg = uq_ndcg(errors, estimations)\n",
    "        nll = uq_nll(errors, estimations)\n",
    "        mask_results.append([acc, ndcg, nll, 'nngp'])"
   ]
  },
  {
   "cell_type": "code",
   "execution_count": 8,
   "metadata": {},
   "outputs": [],
   "source": [
    "# Plot results\n",
    "mask_df = pd.DataFrame(mask_results, columns = ['acc', 'ndcg', 'nll', 'mask'])\n",
    "\n",
    "plt.figure(figsize=(16, 6))\n",
    "def boxplot(df, x_label, y_label, i, bottom=0, top=1):\n",
    "#     plt.figure()\n",
    "    plt.subplot(1, 3, i)\n",
    "    plt.xticks(rotation=45)\n",
    "    if bottom is not None:\n",
    "        plt.ylim(bottom, top)\n",
    "    sns.boxplot(data=mask_df, x=x_label, y=y_label)\n",
    "    \n",
    "boxplot(mask_df, 'mask', 'acc', 1, 0, 0.8)\n",
    "boxplot(mask_df, 'mask', 'ndcg', 2, 0, 0.9)\n",
    "boxplot(mask_df, 'mask', 'nll', 3, None)"
   ]
  },
  {
   "cell_type": "markdown",
   "metadata": {},
   "source": [
    "### Visualizing on toy data"
   ]
  },
  {
   "cell_type": "code",
   "execution_count": 9,
   "metadata": {},
   "outputs": [],
   "source": [
    "# Generate dataset\n",
    "# dataset = 'qubic'\n",
    "dataset = 'sin'\n",
    "\n",
    "if dataset == 'qubic':\n",
    "    x_train, y_train = ToyQubicData(use_cache=config['use_cache']).dataset('train')\n",
    "    x_val, y_val = ToyQubicData(use_cache=config['use_cache']).dataset('val')\n",
    "    x_true, y_true = ToyQubicData().dataset('ground_truth')\n",
    "else:\n",
    "    x_train, y_train = ToySinData(use_cache=config['use_cache']).dataset('train')\n",
    "    x_val, y_val = ToySinData(use_cache=config['use_cache']).dataset('val')\n",
    "    x_true, y_true = ToySinData().dataset('ground_truth')\n",
    "    \n",
    "plt.plot(x_true, y_true)\n",
    "plt.scatter(x_train, y_train, color='red')\n",
    "plt.scatter(x_val, y_val, color='green')"
   ]
  },
  {
   "cell_type": "code",
   "execution_count": 11,
   "metadata": {
    "scrolled": true
   },
   "outputs": [],
   "source": [
    "# Train model\n",
    "layers = config['layers']\n",
    "layers[0] = 1\n",
    "model = get_model(\n",
    "    layers, 'model/data/toy.ckpt',\n",
    "    (x_train, y_train), (x_train, y_train), retrain=True, l2_reg=1e-5,\n",
    "    verbose=True, patience=10, validation_step=50, batch_size=5, dropout_rate=config['dropout_train'])\n",
    "\n",
    "y_pred = model(x_true).cpu().numpy()\n",
    "plt.figure(figsize=(12, 8))\n",
    "plt.plot(x_true, y_true, alpha=0.5)\n",
    "plt.scatter(x_train, y_train, color='red')\n",
    "plt.scatter(x_true, y_pred, color='green', marker='+')"
   ]
  },
  {
   "cell_type": "code",
   "execution_count": 13,
   "metadata": {
    "scrolled": false
   },
   "outputs": [],
   "source": [
    "# Evaluate UQ and plot the results\n",
    "plt.figure(figsize=(16, 25))\n",
    "\n",
    "def make_uq_graph(name, estimations):\n",
    "    plt.title(name)\n",
    "    plt.plot(x_true, y_true, alpha=0.5)\n",
    "    plt.scatter(x_true, y_pred, color='green', marker='+')\n",
    "    plt.fill_between(np.ravel(x_true), np.ravel(y_pred)-estimations, np.ravel(y_pred)+estimations, alpha=0.3, color='green')\n",
    "    plt.scatter(x_train, y_train, color='red')\n",
    "\n",
    "\n",
    "for i, (name, mask) in enumerate(masks.items()):\n",
    "    if hasattr(mask, 'reset'):\n",
    "        mask.reset()\n",
    "    estimator = build_estimator(\n",
    "                'mcdue_masked', model, nn_runs=config['nn_runs'], dropout_mask=mask,\n",
    "                dropout_rate=config['dropout_uq'])\n",
    "\n",
    "    estimations = estimator.estimate(x_true)\n",
    "    plt.subplot(4, 2, i+1)\n",
    "    make_uq_graph(name, estimations)\n",
    "\n",
    "    \n",
    "nngp = build_estimator('nngp', model, nn_runs=config['nn_runs'], dropout_rate=config['dropout_uq'])\n",
    "estimations = nngp.estimate(x_true, x_train)\n",
    "plt.subplot(4, 2, len(masks)+1)\n",
    "make_uq_graph('nngp', estimations)"
   ]
  },
  {
   "cell_type": "code",
   "execution_count": null,
   "metadata": {},
   "outputs": [],
   "source": []
  }
 ],
 "metadata": {
  "kernelspec": {
   "display_name": "Python 3",
   "language": "python",
   "name": "python3"
  },
  "language_info": {
   "codemirror_mode": {
    "name": "ipython",
    "version": 3
   },
   "file_extension": ".py",
   "mimetype": "text/x-python",
   "name": "python",
   "nbconvert_exporter": "python",
   "pygments_lexer": "ipython3",
   "version": "3.7.4"
  },
  "pycharm": {
   "stem_cell": {
    "cell_type": "raw",
    "metadata": {
     "collapsed": false
    },
    "source": []
   }
  }
 },
 "nbformat": 4,
 "nbformat_minor": 1
}