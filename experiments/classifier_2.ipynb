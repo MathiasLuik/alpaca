{
 "cells": [
  {
   "cell_type": "code",
   "execution_count": null,
   "metadata": {
    "collapsed": true,
    "jupyter": {
     "outputs_hidden": true
    },
    "pycharm": {
     "is_executing": false
    }
   },
   "outputs": [],
   "source": [
    "import sys\n",
    "sys.path.append('..')\n",
    "%load_ext autoreload\n",
    "%autoreload 2\n",
    "%matplotlib inline"
   ]
  },
  {
   "cell_type": "code",
   "execution_count": null,
   "metadata": {
    "collapsed": false,
    "jupyter": {
     "outputs_hidden": false
    },
    "pycharm": {
     "is_executing": false,
     "name": "#%%\n"
    }
   },
   "outputs": [],
   "source": [
    "import os\n",
    "from pathlib import Path\n",
    "\n",
    "import torch\n",
    "import numpy as np\n",
    "import numpy.linalg as la\n",
    "import pandas as pd\n",
    "import seaborn as sns\n",
    "from sklearn.metrics import accuracy_score\n",
    "from scipy.special import softmax as softmax\n",
    "import matplotlib.pyplot as plt\n",
    "from sklearn.cluster import SpectralCoclustering\n",
    "from dppy.finite_dpps import FiniteDPP\n",
    "\n",
    "from dataloader.builder import build_dataset\n",
    "from experiment_setup import build_estimator\n",
    "from uncertainty_estimator.masks import build_masks, DEFAULT_MASKS\n",
    "from analysis.metrics import uq_ndcg\n",
    "\n",
    "from model.cnn import SimpleConv, MediumConv, StrongConv\n",
    "from model.trainer import Trainer, EnsembleTrainer\n",
    "\n",
    "\n",
    "# torch.cuda.set_device(1)\n",
    "#"
   ]
  },
  {
   "cell_type": "code",
   "execution_count": null,
   "metadata": {
    "collapsed": false,
    "jupyter": {
     "outputs_hidden": false
    },
    "pycharm": {
     "is_executing": false,
     "name": "#%%\n"
    }
   },
   "outputs": [],
   "source": [
    "\n",
    "plt.rcParams['figure.facecolor'] = 'white'\n",
    "config = {\n",
    "    'use_cuda': True,\n",
    "    'seed': 1,\n",
    "    \n",
    "    'nn_runs': 150,\n",
    "    'patience': 5,\n",
    "    'dropout_uq': 0.5,\n",
    "    'dropout_train': 0.3,\n",
    "    \n",
    "    'n_models': 10, \n",
    "    \n",
    "    # 'dataset': 'mnist',\n",
    "    'dataset': 'cifar_10',\n",
    "   \n",
    "    'model_class': StrongConv,\n",
    "    'train_samples': 45_000,\n",
    "    'epochs': 50,\n",
    "    'batch_size': 256,\n",
    "    'log_interval': 150,\n",
    "    'lr': 1e-2,\n",
    "    'num_classes': 9\n",
    "}\n",
    "restore_model = False \n"
   ]
  },
  {
   "cell_type": "code",
   "execution_count": null,
   "metadata": {
    "collapsed": false,
    "jupyter": {
     "outputs_hidden": false
    },
    "pycharm": {
     "is_executing": false,
     "name": "#%%\n"
    }
   },
   "outputs": [],
   "source": [
    "dataset = build_dataset(config['dataset'], val_size=10_000)\n",
    "x_train, y_train = dataset.dataset('train')\n",
    "x_val, y_val = dataset.dataset('val')\n",
    "\n",
    "def cut_class(x, y, class_num):\n",
    "    new_x = x[np.where(y!=class_num)]\n",
    "    new_y = y[np.where(y!=class_num)]\n",
    "    ood = x[np.where(y==class_num)]\n",
    "    return new_x, new_y, ood\n",
    "\n",
    "x_train, y_train, x_ood = cut_class(x_train, y_train, '9')\n",
    "x_val, y_val, _ = cut_class(x_val, y_val, '9')\n",
    "\n"
   ]
  },
  {
   "cell_type": "code",
   "execution_count": null,
   "metadata": {
    "collapsed": false,
    "jupyter": {
     "outputs_hidden": false
    },
    "pycharm": {
     "is_executing": false,
     "name": "#%%\n"
    }
   },
   "outputs": [],
   "source": [
    "def scale(images):\n",
    "    return (images - 128) / 128\n",
    "x_train = scale(x_train)\n",
    "x_val = scale(x_val)\n",
    "x_ood = scale(x_ood)"
   ]
  },
  {
   "cell_type": "code",
   "execution_count": null,
   "metadata": {
    "collapsed": false,
    "jupyter": {
     "outputs_hidden": false
    },
    "pycharm": {
     "is_executing": false,
     "name": "#%%\n"
    }
   },
   "outputs": [],
   "source": [
    "if config['dataset'] == 'mnist':\n",
    "    input_shape = (-1, 1, 28, 28)\n",
    "elif config['dataset'] == 'cifar_10':\n",
    "    input_shape = (-1, 3, 32, 32)\n",
    "x_train = x_train.reshape(input_shape)\n",
    "x_val = x_val.reshape(input_shape)\n",
    "x_ood = x_ood.reshape(input_shape)\n",
    "\n",
    "y_train = y_train.astype('long').reshape(-1)\n",
    "y_val = y_val.astype('long').reshape(-1)\n",
    "\n"
   ]
  },
  {
   "cell_type": "code",
   "execution_count": null,
   "metadata": {
    "collapsed": false,
    "jupyter": {
     "outputs_hidden": false
    },
    "pycharm": {
     "is_executing": false,
     "name": "#%%\n"
    }
   },
   "outputs": [],
   "source": []
  },
  {
   "cell_type": "code",
   "execution_count": null,
   "outputs": [],
   "source": [
    "train_samples = config['train_samples']\n",
    "epochs = config['epochs']\n",
    "val_samples = 2000\n",
    "patience = config['patience']\n",
    "\n",
    "idxs = np.random.choice(len(x_train), train_samples, replace=False)\n",
    "train_set = (x_train[idxs], y_train[idxs])\n",
    "\n",
    "idxs = np.random.choice(len(x_val), val_samples, replace=False)\n",
    "val_set = (x_val[idxs], y_val[idxs]) \n",
    "print(train_set[0].shape)\n",
    "print(val_set[0].shape)"
   ],
   "metadata": {
    "collapsed": false,
    "pycharm": {
     "name": "#%%\n",
     "is_executing": false
    }
   }
  },
  {
   "cell_type": "code",
   "execution_count": null,
   "metadata": {
    "collapsed": false,
    "jupyter": {
     "outputs_hidden": false
    },
    "pycharm": {
     "is_executing": false,
     "name": "#%%\n"
    }
   },
   "outputs": [],
   "source": [
    "model_class = config['model_class'] \n",
    "model = model_class(config['num_classes'], activation=torch.nn.functional.celu)\n",
    "\n",
    "# model_dir = Path('experiments') / 'data'\n",
    "model_dir = Path('data')\n",
    "model_path = model_dir / f\"model_{config['dataset']}_{config['model_class'].__name__}.pt\"\n"
   ]
  },
  {
   "cell_type": "code",
   "execution_count": null,
   "metadata": {
    "collapsed": false,
    "jupyter": {
     "outputs_hidden": false
    },
    "pycharm": {
     "is_executing": false,
     "name": "#%%\n"
    }
   },
   "outputs": [],
   "source": [
    "trainer = Trainer(model, dropout_train=config['dropout_train'])\n",
    "\n",
    "if restore_model and os.path.exists(model_path):\n",
    "    model.load_state_dict(torch.load(model_path))\n",
    "else:\n",
    "    trainer.fit(\n",
    "        train_set, val_set , epochs=epochs, verbose=True, patience=patience)\n",
    "    torch.save(model.state_dict(), model_path)"
   ]
  },
  {
   "cell_type": "code",
   "execution_count": null,
   "metadata": {
    "collapsed": false,
    "jupyter": {
     "outputs_hidden": false
    },
    "pycharm": {
     "is_executing": false,
     "name": "#%%\n"
    }
   },
   "outputs": [],
   "source": [
    "mask_type = 'l_dpp_htnorm'\n",
    "masks = build_masks([mask_type])\n",
    "mask = masks[mask_type]\n",
    "estimator = build_estimator(\n",
    "    'bald_masked', trainer, nn_runs=config['nn_runs'], dropout_mask=mask,\n",
    "    dropout_rate=config['dropout_uq'], num_classes=config['num_classes'])\n"
   ]
  },
  {
   "cell_type": "code",
   "execution_count": null,
   "outputs": [],
   "source": [],
   "metadata": {
    "collapsed": false,
    "pycharm": {
     "name": "#%%\n",
     "is_executing": false
    }
   }
  },
  {
   "cell_type": "code",
   "execution_count": null,
   "outputs": [],
   "source": [
    "estimator.estimate(val_set[0])"
   ],
   "metadata": {
    "collapsed": false,
    "pycharm": {
     "name": "#%%\n",
     "is_executing": false
    }
   }
  },
  {
   "cell_type": "code",
   "execution_count": null,
   "outputs": [],
   "source": [
    "corr = mask.layer_correlations[1]\n",
    "corr.shape"
   ],
   "metadata": {
    "collapsed": false,
    "pycharm": {
     "name": "#%%\n",
     "is_executing": false
    }
   }
  },
  {
   "cell_type": "code",
   "execution_count": null,
   "outputs": [],
   "source": [
    "norm = mask.norm[1].detach().cpu().numpy()\n",
    "norm.shape\n"
   ],
   "metadata": {
    "collapsed": false,
    "pycharm": {
     "name": "#%%\n",
     "is_executing": false
    }
   }
  },
  {
   "cell_type": "code",
   "execution_count": null,
   "metadata": {
    "collapsed": false,
    "jupyter": {
     "outputs_hidden": false
    },
    "pycharm": {
     "is_executing": false,
     "name": "#%%\n"
    }
   },
   "outputs": [],
   "source": [
    "plt.figure(figsize=(20, 14))\n",
    "sns.heatmap(corr)"
   ]
  },
  {
   "cell_type": "code",
   "execution_count": null,
   "metadata": {
    "collapsed": false,
    "jupyter": {
     "outputs_hidden": false
    },
    "pycharm": {
     "is_executing": false,
     "name": "#%%\n"
    }
   },
   "outputs": [],
   "source": [
    "for n in range(10, 11):\n",
    "    plt.figure(figsize=(14, 12))\n",
    "    plt.title(n)\n",
    "    model = SpectralCoclustering(n_clusters=n, random_state=0)\n",
    "    model.fit(corr)\n",
    "    fit_data = corr[np.argsort(model.row_labels_)]\n",
    "    fit_data = fit_data[:, np.argsort(model.column_labels_)]\n",
    "    sns.heatmap(fit_data)\n",
    "    plt.show()"
   ]
  },
  {
   "cell_type": "code",
   "execution_count": null,
   "outputs": [],
   "source": [
    "def get_averages(samples, values, norm=None):\n",
    "    avgs = []\n",
    "    for sample in samples:\n",
    "        sample_mask = np.zeros_like(values)\n",
    "        if norm is None:\n",
    "            sample_mask[sample] = len(values) / len(sample)\n",
    "        else:\n",
    "            sample_mask[sample] = norm[sample] \n",
    "        sample_values = values * sample_mask\n",
    "        avgs.append(np.average(sample_values))\n",
    "    return avgs\n"
   ],
   "metadata": {
    "collapsed": false,
    "pycharm": {
     "name": "#%%\n",
     "is_executing": false
    }
   }
  },
  {
   "cell_type": "code",
   "execution_count": null,
   "outputs": [],
   "source": [
    "layer_runs = mask.layer_runs[1]\n",
    "\n",
    "true_avgs, naive_avgs, ht_avgs, bern_avgs = [], [], [], []\n",
    "naive_stds, ht_stds, bern_stds = [], [], []\n",
    "\n",
    "norm = mask.norm[1].detach().cpu().numpy()\n",
    "bern_mask = build_masks(['basic_bern'])['basic_bern']\n",
    "\n",
    "ht_raws, bern_raws = [], []\n",
    "\n",
    "\n",
    "for i in range(75):\n",
    "    print(i, end=' ')\n",
    "    values = layer_runs[0][i]\n",
    "\n",
    "    dpp_1 = FiniteDPP('likelihood', **{'L': corr})\n",
    "    [dpp_1.sample_exact() for _ in range(100)]\n",
    "    samples = dpp_1.list_of_samples\n",
    "\n",
    "    true_avgs.append(np.average(values))\n",
    "\n",
    "    naive_avgs.append(np.average(get_averages(samples, values)))\n",
    "    naive_stds.append(np.std(get_averages(samples, values)))\n",
    "    \n",
    "    ht_average = get_averages(samples, values, norm)\n",
    "    ht_avgs.append(np.average(ht_average))\n",
    "    ht_stds.append(np.std(ht_average))\n",
    "    ht_raws.append(ht_average)\n",
    "    \n",
    "    bern_average = [\n",
    "        np.average(torch.Tensor(values) * bern_mask(torch.Tensor(values)))\n",
    "        for _ in range(100)]\n",
    "    bern_avgs.append(np.average(bern_average))\n",
    "    bern_stds.append(np.std(bern_average))\n",
    "    bern_raws.append(bern_average)\n"
   ],
   "metadata": {
    "collapsed": false,
    "pycharm": {
     "name": "#%%\n",
     "is_executing": false
    }
   }
  },
  {
   "cell_type": "code",
   "execution_count": null,
   "outputs": [],
   "source": [
    "import pandas as pd\n",
    "df = pd.DataFrame({\n",
    "    'DPP naive norm': np.array(naive_avgs) - np.array(true_avgs),\n",
    "    'DPP HT norm': np.array(ht_avgs) - np.array(true_avgs),\n",
    "    'Bernoulli': np.array(bern_avgs) - np.array(true_avgs),\n",
    "})\n",
    "plt.figure(figsize=(12, 8))\n",
    "plt.title(\"Deviation of average for different normalizations, cifar\")\n",
    "sns.barplot(data=df)\n"
   ],
   "metadata": {
    "collapsed": false,
    "pycharm": {
     "name": "#%%\n",
     "is_executing": false
    }
   }
  },
  {
   "cell_type": "code",
   "execution_count": null,
   "outputs": [],
   "source": [
    "df = pd.DataFrame({\n",
    "    'DPP naive norm': np.array(naive_stds),\n",
    "    'DPP HT norm': np.array(ht_stds),\n",
    "    'Bernoulli': np.array(bern_stds)\n",
    "})\n",
    "plt.figure(figsize=(12, 8))\n",
    "plt.title(\"Deviation std of average for different normalizations, cifar\")\n",
    "sns.barplot(data=df)\n"
   ],
   "metadata": {
    "collapsed": false,
    "pycharm": {
     "name": "#%%\n",
     "is_executing": false
    }
   }
  },
  {
   "cell_type": "code",
   "execution_count": null,
   "outputs": [],
   "source": [
    "plt.figure(figsize=(12, 8))\n",
    "plt.title('Std, ht vs bern')\n",
    "plt.xlabel('Point std by HT')\n",
    "plt.ylabel('Point std by Benroulli')\n",
    "plt.scatter(np.std(ht_raws, axis=1), np.std(bern_raws, axis=1))\n"
   ],
   "metadata": {
    "collapsed": false,
    "pycharm": {
     "name": "#%%\n",
     "is_executing": false
    }
   }
  },
  {
   "cell_type": "code",
   "execution_count": null,
   "outputs": [],
   "source": [
    "for i in range(6, 7):\n",
    "    ht_points = ht_raws[i]\n",
    "    bern_points = bern_raws[i]\n",
    "    plt.figure(figsize=(12, 8))\n",
    "    plt.title('Sample averages, ht vs bern')\n",
    "    plt.xlabel('Sample average by HT')\n",
    "    plt.ylabel('Sample average by Benroulli')\n",
    "    plt.scatter(ht_points, bern_points)\n",
    "    plt.show()\n"
   ],
   "metadata": {
    "collapsed": false,
    "pycharm": {
     "name": "#%%\n",
     "is_executing": false
    }
   }
  },
  {
   "cell_type": "code",
   "execution_count": null,
   "outputs": [],
   "source": [
    "np.argmax(np.std(ht_raws, axis=1) - np.std(bern_raws, axis=1))\n"
   ],
   "metadata": {
    "collapsed": false,
    "pycharm": {
     "name": "#%%\n",
     "is_executing": false
    }
   }
  },
  {
   "cell_type": "code",
   "execution_count": null,
   "outputs": [],
   "source": [
    "\n"
   ],
   "metadata": {
    "collapsed": false,
    "pycharm": {
     "name": "#%%\n"
    }
   }
  }
 ],
 "metadata": {
  "kernelspec": {
   "display_name": "Python 3",
   "language": "python",
   "name": "python3"
  },
  "language_info": {
   "codemirror_mode": {
    "name": "ipython",
    "version": 3
   },
   "file_extension": ".py",
   "mimetype": "text/x-python",
   "name": "python",
   "nbconvert_exporter": "python",
   "pygments_lexer": "ipython3",
   "version": "3.7.3"
  },
  "pycharm": {
   "stem_cell": {
    "cell_type": "raw",
    "source": [],
    "metadata": {
     "collapsed": false
    }
   }
  }
 },
 "nbformat": 4,
 "nbformat_minor": 4
}