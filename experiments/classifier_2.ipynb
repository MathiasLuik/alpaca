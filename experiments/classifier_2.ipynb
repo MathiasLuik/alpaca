{
 "cells": [
  {
   "cell_type": "code",
   "execution_count": null,
   "metadata": {
    "collapsed": true,
    "pycharm": {
     "is_executing": false
    }
   },
   "outputs": [],
   "source": [
    "import sys\n",
    "sys.path.append('..')\n",
    "%load_ext autoreload\n",
    "%autoreload 2\n",
    "%matplotlib inline"
   ]
  },
  {
   "cell_type": "code",
   "execution_count": null,
   "outputs": [],
   "source": [
    "import os\n",
    "from pathlib import Path\n",
    "import torch\n",
    "import numpy as np\n",
    "import pandas as pd\n",
    "import seaborn as sns\n",
    "from sklearn.metrics import accuracy_score\n",
    "from scipy.special import softmax as softmax\n",
    "import matplotlib.pyplot as plt\n",
    "from sklearn.cluster import SpectralCoclustering\n",
    "from dppy.finite_dpps import FiniteDPP\n",
    "\n",
    "from dataloader.builder import build_dataset\n",
    "from experiment_setup import build_estimator\n",
    "from uncertainty_estimator.masks import build_masks, DEFAULT_MASKS\n",
    "from analysis.metrics import uq_ndcg\n",
    "\n",
    "from model.cnn import SimpleConv, MediumConv, StrongConv\n",
    "from model.trainer import Trainer, EnsembleTrainer\n",
    "\n",
    "# torch.cuda.set_device(1)\n",
    "#"
   ],
   "metadata": {
    "collapsed": false,
    "pycharm": {
     "name": "#%%\n",
     "is_executing": false
    }
   }
  },
  {
   "cell_type": "code",
   "execution_count": null,
   "outputs": [],
   "source": [
    "\n",
    "plt.rcParams['figure.facecolor'] = 'white'\n",
    "config = {\n",
    "    'use_cuda': True,\n",
    "    'seed': 1,\n",
    "    \n",
    "    'nn_runs': 150,\n",
    "    'patience': 5,\n",
    "    'dropout_uq': 0.5,\n",
    "    \n",
    "    'n_models': 10, \n",
    "    \n",
    "    # 'dataset': 'mnist',\n",
    "    'dataset': 'cifar_10',\n",
    "   \n",
    "    'model_class': StrongConv,\n",
    "    'train_samples': 45_000,\n",
    "    'epochs': 50,\n",
    "    'batch_size': 256,\n",
    "    'log_interval': 150,\n",
    "    'lr': 1e-2,\n",
    "    'num_classes': 9\n",
    "}\n",
    "restore_model = True\n"
   ],
   "metadata": {
    "collapsed": false,
    "pycharm": {
     "name": "#%%\n",
     "is_executing": false
    }
   }
  },
  {
   "cell_type": "code",
   "execution_count": null,
   "outputs": [],
   "source": [
    "dataset = build_dataset(config['dataset'], val_size=10_000)\n",
    "x_train, y_train = dataset.dataset('train')\n",
    "x_val, y_val = dataset.dataset('val')\n",
    "\n",
    "def cut_class(x, y, class_num):\n",
    "    new_x = x[np.where(y!=class_num)]\n",
    "    new_y = y[np.where(y!=class_num)]\n",
    "    ood = x[np.where(y==class_num)]\n",
    "    return new_x, new_y, ood\n",
    "\n",
    "x_train, y_train, x_ood = cut_class(x_train, y_train, '9')\n",
    "x_val, y_val, _ = cut_class(x_val, y_val, '9')\n",
    "\n"
   ],
   "metadata": {
    "collapsed": false,
    "pycharm": {
     "name": "#%%\n",
     "is_executing": false
    }
   }
  },
  {
   "cell_type": "code",
   "execution_count": null,
   "outputs": [],
   "source": [
    "def scale(images):\n",
    "    return (images - 128) / 128\n",
    "x_train = scale(x_train)\n",
    "x_val = scale(x_val)\n",
    "x_ood = scale(x_ood)"
   ],
   "metadata": {
    "collapsed": false,
    "pycharm": {
     "name": "#%%\n",
     "is_executing": false
    }
   }
  },
  {
   "cell_type": "code",
   "execution_count": null,
   "outputs": [],
   "source": [
    "if config['dataset'] == 'mnist':\n",
    "    input_shape = (-1, 1, 28, 28)\n",
    "elif config['dataset'] == 'cifar_10':\n",
    "    input_shape = (-1, 3, 32, 32)\n",
    "x_train = x_train.reshape(input_shape)\n",
    "x_val = x_val.reshape(input_shape)\n",
    "x_ood = x_ood.reshape(input_shape)\n",
    "\n",
    "y_train = y_train.astype('long').reshape(-1)\n",
    "y_val = y_val.astype('long').reshape(-1)\n",
    "\n"
   ],
   "metadata": {
    "collapsed": false,
    "pycharm": {
     "name": "#%%\n",
     "is_executing": false
    }
   }
  },
  {
   "cell_type": "code",
   "execution_count": null,
   "outputs": [],
   "source": [
    "train_samples = config['train_samples']\n",
    "epochs = config['epochs']\n",
    "val_samples = 2000\n",
    "patience = config['patience']\n",
    "\n",
    "idxs = np.random.choice(len(x_train), train_samples, replace=False)\n",
    "train_set = (x_train[idxs], y_train[idxs])\n",
    "\n",
    "idxs = np.random.choice(len(x_val), val_samples, replace=False)\n",
    "val_set = (x_val[idxs], y_val[idxs]) \n",
    "print(train_set[0].shape)\n",
    "print(val_set[0].shape)"
   ],
   "metadata": {
    "collapsed": false,
    "pycharm": {
     "name": "#%%\n",
     "is_executing": false
    }
   }
  },
  {
   "cell_type": "code",
   "execution_count": null,
   "outputs": [],
   "source": [
    "model_class = config['model_class'] \n",
    "model = model_class(config['num_classes'])\n",
    "\n",
    "model_dir = Path('experiments') / 'data'\n",
    "model_path = model_dir / f\"model_{config['dataset']}_{config['model_class'].__name__}.pt\"\n",
    "\n",
    "trainer = Trainer(model, dropout_train=config['dropout_train'])\n",
    "\n",
    "if restore_model and os.path.exists(model_path):\n",
    "    model.load_state_dict(torch.load(model_path))\n",
    "else:\n",
    "    trainer.fit(\n",
    "        train_set, val_set , epochs=epochs, verbose=True, patience=patience)\n",
    "    torch.save(model.state_dict(), model_path)"
   ],
   "metadata": {
    "collapsed": false,
    "pycharm": {
     "name": "#%%\n",
     "is_executing": false
    }
   }
  },
  {
   "cell_type": "code",
   "execution_count": null,
   "outputs": [],
   "source": [
    "trainer.predict(val_set[0][:5])"
   ],
   "metadata": {
    "collapsed": false,
    "pycharm": {
     "name": "#%%\n",
     "is_executing": false
    }
   }
  },
  {
   "cell_type": "code",
   "execution_count": null,
   "outputs": [],
   "source": [
    "mask_type = 'dpp'\n",
    "masks = build_masks([mask_type])\n",
    "mask = masks[mask_type]\n",
    "estimator = build_estimator(\n",
    "    'bald_masked', trainer, nn_runs=config['nn_runs'], dropout_mask=mask,\n",
    "    dropout_rate=config['dropout_uq'], num_classes=config['num_classes'])"
   ],
   "metadata": {
    "collapsed": false,
    "pycharm": {
     "name": "#%%\n",
     "is_executing": false
    }
   }
  },
  {
   "cell_type": "code",
   "execution_count": null,
   "outputs": [],
   "source": [
    "estimator.estimate(val_set[0][:5])"
   ],
   "metadata": {
    "collapsed": false,
    "pycharm": {
     "name": "#%%\n",
     "is_executing": false
    }
   }
  },
  {
   "cell_type": "code",
   "execution_count": null,
   "outputs": [],
   "source": [
    "corr = mask.layer_correlations[1]"
   ],
   "metadata": {
    "collapsed": false,
    "pycharm": {
     "name": "#%%\n",
     "is_executing": false
    }
   }
  },
  {
   "cell_type": "code",
   "execution_count": null,
   "outputs": [],
   "source": [
    "plt.figure(figsize=(20, 14))\n",
    "sns.heatmap(corr)"
   ],
   "metadata": {
    "collapsed": false,
    "pycharm": {
     "name": "#%%\n",
     "is_executing": false
    }
   }
  },
  {
   "cell_type": "code",
   "execution_count": null,
   "outputs": [],
   "source": [
    "for n in range(2, 12):\n",
    "    plt.figure(figsize=(14, 12))\n",
    "    plt.title(n)\n",
    "    model = SpectralCoclustering(n_clusters=n, random_state=0)\n",
    "    model.fit(corr)\n",
    "    fit_data = corr[np.argsort(model.row_labels_)]\n",
    "    fit_data = fit_data[:, np.argsort(model.column_labels_)]\n",
    "    sns.heatmap(fit_data)\n",
    "    plt.show()"
   ],
   "metadata": {
    "collapsed": false,
    "pycharm": {
     "name": "#%%\n",
     "is_executing": false
    }
   }
  },
  {
   "cell_type": "code",
   "execution_count": null,
   "outputs": [],
   "source": [
    "model = SpectralCoclustering(n_clusters=5, random_state=0)\n",
    "model.fit(corr)\n",
    "corr_5 = corr[np.argsort(model.row_labels_)]\n",
    "corr_5 = corr_5[:, np.argsort(model.column_labels_)]"
   ],
   "metadata": {
    "collapsed": false,
    "pycharm": {
     "name": "#%%\n",
     "is_executing": false
    }
   }
  },
  {
   "cell_type": "code",
   "execution_count": null,
   "outputs": [],
   "source": [
    "dpp = FiniteDPP('correlation', **{'K': corr})"
   ],
   "metadata": {
    "collapsed": false,
    "pycharm": {
     "name": "#%%\n",
     "is_executing": false
    }
   }
  },
  {
   "cell_type": "code",
   "execution_count": null,
   "outputs": [],
   "source": [
    "[dpp.sample_exact() for _ in range(100)]"
   ],
   "metadata": {
    "collapsed": false,
    "pycharm": {
     "name": "#%%\n",
     "is_executing": false
    }
   }
  },
  {
   "cell_type": "code",
   "execution_count": null,
   "outputs": [],
   "source": [
    "[len(sample) for sample in dpp.list_of_samples]"
   ],
   "metadata": {
    "collapsed": false,
    "pycharm": {
     "name": "#%%\n",
     "is_executing": false
    }
   }
  },
  {
   "cell_type": "code",
   "execution_count": null,
   "outputs": [],
   "source": [
    "def rank(dpp):\n",
    "    N = dpp.eig_vecs.shape[0]\n",
    "    tol = np.max(dpp.L_eig_vals) * N * np.finfo(np.float).eps\n",
    "    rank = np.count_nonzero(dpp.L_eig_vals > tol)\n",
    "    return rank"
   ],
   "metadata": {
    "collapsed": false,
    "pycharm": {
     "name": "#%%\n",
     "is_executing": false
    }
   }
  },
  {
   "cell_type": "code",
   "execution_count": null,
   "outputs": [],
   "source": [
    "dpp.sample_exact_k_dpp(1)\n",
    "rank(dpp)"
   ],
   "metadata": {
    "collapsed": false,
    "pycharm": {
     "name": "#%%\n",
     "is_executing": false
    }
   }
  },
  {
   "cell_type": "code",
   "execution_count": null,
   "outputs": [],
   "source": [
    "dpp.sample_exact()\n",
    "dpp.list_of_samples"
   ],
   "metadata": {
    "collapsed": false,
    "pycharm": {
     "name": "#%%\n",
     "is_executing": false
    }
   }
  },
  {
   "cell_type": "code",
   "execution_count": null,
   "outputs": [],
   "source": [],
   "metadata": {
    "collapsed": false,
    "pycharm": {
     "name": "#%%\n"
    }
   }
  }
 ],
 "metadata": {
  "kernelspec": {
   "display_name": "Python 3",
   "language": "python",
   "name": "python3"
  },
  "language_info": {
   "codemirror_mode": {
    "name": "ipython",
    "version": 2
   },
   "file_extension": ".py",
   "mimetype": "text/x-python",
   "name": "python",
   "nbconvert_exporter": "python",
   "pygments_lexer": "ipython2",
   "version": "2.7.6"
  },
  "pycharm": {
   "stem_cell": {
    "cell_type": "raw",
    "source": [],
    "metadata": {
     "collapsed": false
    }
   }
  }
 },
 "nbformat": 4,
 "nbformat_minor": 0
}