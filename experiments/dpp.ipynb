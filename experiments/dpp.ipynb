{
 "cells": [
  {
   "cell_type": "code",
   "execution_count": 1,
   "metadata": {},
   "outputs": [],
   "source": [
    "import sys\n",
    "sys.path.append('..')\n",
    "%load_ext autoreload\n",
    "%autoreload 2"
   ]
  },
  {
   "cell_type": "code",
   "execution_count": 2,
   "metadata": {},
   "outputs": [],
   "source": [
    "import numpy as np\n",
    "import pandas as pd\n",
    "import seaborn as sns\n",
    "import matplotlib.pyplot as plt\n",
    "from sklearn.preprocessing import StandardScaler\n",
    "\n",
    "from dataloader.boston_housing import BostonHousingData\n",
    "from dataloader.concrete import ConcreteData\n",
    "from dataloader.energy_efficiency import EnergyEfficiencyData\n",
    "from experiment_setup import get_model, build_estimator\n",
    "from analysis.metrics import uq_accuracy, uq_ndcg, uq_nll\n",
    "from uncertainty_estimator.masks import BasicMask, LHSMask, MirrorMask, DecorrelationMask, DPPMask\n",
    "\n",
    "plt.rcParams['figure.facecolor'] = 'white'"
   ]
  },
  {
   "cell_type": "code",
   "execution_count": 3,
   "metadata": {},
   "outputs": [],
   "source": [
    "config = {\n",
    "    'random_seed': 43,\n",
    "    'nn_runs': 10,\n",
    "    'runs': 1,\n",
    "    'model_runs': 1,\n",
    "    'verbose': False,\n",
    "    'use_cache': False,\n",
    "    'layers': [13, 256, 128, 64, 1],\n",
    "    'epochs': 30_000,\n",
    "    'acc_percentile': 0.1,\n",
    "    'patience': 3,\n",
    "    'dropout_train': 0.2,\n",
    "    'dropout_uq': 0.3,\n",
    "    'batch_size': 32,\n",
    "    'dataset': 'boston_housing',\n",
    "    'scale': True\n",
    "}"
   ]
  },
  {
   "cell_type": "code",
   "execution_count": 4,
   "metadata": {},
   "outputs": [],
   "source": [
    "# Load data\n",
    "datasets = {\n",
    "    'boston_housing': BostonHousingData,\n",
    "    'concrete': ConcreteData,\n",
    "    'energy_efficiency': EnergyEfficiencyData}\n",
    "\n",
    "dataset = datasets[config['dataset']]()\n",
    "    \n",
    "model_paths = [\"model/data/{}_{}.ckpt\".format(config['dataset'], i) for i in range(config['model_runs'])]  \n",
    "x_train, y_train = dataset.dataset('train')\n",
    "x_val, y_val = dataset.dataset('val')"
   ]
  },
  {
   "cell_type": "code",
   "execution_count": 5,
   "metadata": {},
   "outputs": [],
   "source": [
    "# Normalize dataset\n",
    "def scale(train, val):\n",
    "    scaler = StandardScaler()\n",
    "    scaler.fit(train)\n",
    "    train = scaler.transform(train)\n",
    "    val = scaler.transform(val)\n",
    "    return train, val, scaler\n",
    "\n",
    "if config['scale']:\n",
    "    x_train, x_val, _ = scale(x_train, x_val)\n",
    "    y_train, y_val, y_scaler = scale(y_train, y_val)\n",
    "else:\n",
    "    y_scaler = None"
   ]
  },
  {
   "cell_type": "markdown",
   "metadata": {},
   "source": [
    "#### Try the dpp"
   ]
  },
  {
   "cell_type": "code",
   "execution_count": 6,
   "metadata": {},
   "outputs": [],
   "source": [
    "from numpy.random import rand, randn\n",
    "from scipy.linalg import qr\n",
    "\n",
    "from dppy.finite_dpps import FiniteDPP"
   ]
  },
  {
   "cell_type": "code",
   "execution_count": 7,
   "metadata": {},
   "outputs": [],
   "source": [
    "model = get_model(config['layers'], model_paths[0])\n",
    "# model = get_model(\n",
    "#     config['layers'], model_paths[0], (x_train, y_train), (x_val, y_val),\n",
    "#     retrain=True, verbose=config['verbose'], patience=config['patience'],\n",
    "#     dropout_rate=config['dropout_train'], epochs=config['epochs'], batch_size=config['batch_size'])"
   ]
  },
  {
   "cell_type": "code",
   "execution_count": 14,
   "metadata": {},
   "outputs": [],
   "source": [
    "config['nn_runs'] = 1\n",
    "\n",
    "mask = DPPMask()\n",
    "\n",
    "estimator = build_estimator(\n",
    "            'mcdue_masked', model, nn_runs=config['nn_runs'], dropout_mask=mask,\n",
    "            dropout_rate=config['dropout_uq'])"
   ]
  },
  {
   "cell_type": "code",
   "execution_count": 15,
   "metadata": {},
   "outputs": [],
   "source": [
    "estimator.estimate(x_val)"
   ]
  },
  {
   "cell_type": "code",
   "execution_count": 16,
   "metadata": {},
   "outputs": [],
   "source": [
    "K = mask.corrs"
   ]
  },
  {
   "cell_type": "code",
   "execution_count": 18,
   "metadata": {},
   "outputs": [],
   "source": [
    "plt.figure(figsize=(7, 6))\n",
    "sns.heatmap(K)"
   ]
  },
  {
   "cell_type": "code",
   "execution_count": 22,
   "metadata": {},
   "outputs": [],
   "source": [
    "DPP = FiniteDPP('correlation', **{'K': K})\n",
    "for _ in range(100):\n",
    "    result = DPP.sample_exact_k_dpp(16)\n",
    "print(DPP.list_of_samples)"
   ]
  }
 ],
 "metadata": {
  "kernelspec": {
   "display_name": "Python 3",
   "language": "python",
   "name": "python3"
  },
  "language_info": {
   "codemirror_mode": {
    "name": "ipython",
    "version": 3
   },
   "file_extension": ".py",
   "mimetype": "text/x-python",
   "name": "python",
   "nbconvert_exporter": "python",
   "pygments_lexer": "ipython3",
   "version": "3.7.4"
  }
 },
 "nbformat": 4,
 "nbformat_minor": 4
}