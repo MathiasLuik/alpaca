{
 "cells": [
  {
   "cell_type": "code",
   "execution_count": 15,
   "metadata": {
    "collapsed": false,
    "jupyter": {
     "outputs_hidden": false
    },
    "pycharm": {
     "is_executing": false,
     "name": "#%%\n"
    }
   },
   "outputs": [
    {
     "name": "stdout",
     "text": [
      "The autoreload extension is already loaded. To reload it, use:\n  %reload_ext autoreload\n"
     ],
     "output_type": "stream"
    }
   ],
   "source": [
    "import sys\n",
    "sys.path.append('..')\n",
    "%load_ext autoreload\n",
    "%autoreload 2\n"
   ]
  },
  {
   "cell_type": "code",
   "execution_count": 16,
   "metadata": {
    "collapsed": false,
    "jupyter": {
     "outputs_hidden": false
    },
    "pycharm": {
     "is_executing": false,
     "name": "#%%\n"
    }
   },
   "outputs": [],
   "source": [
    "import matplotlib.pyplot as plt\n",
    "import numpy as np\n",
    "from dppy.finite_dpps import FiniteDPP\n",
    "\n",
    "from dataloader.builder import build_dataset\n",
    "from uncertainty_estimator.mcdue import MCDUEMasked\n",
    "from uncertainty_estimator.masks import build_masks\n",
    "from model.mlp import MLP\n",
    "from experiments.utils.data import scale"
   ]
  },
  {
   "cell_type": "code",
   "execution_count": 17,
   "metadata": {
    "collapsed": false,
    "jupyter": {
     "outputs_hidden": false
    },
    "pycharm": {
     "is_executing": false,
     "name": "#%%\n"
    }
   },
   "outputs": [],
   "source": [
    "config = {\n",
    "    'dataset': 'concrete',\n",
    "    'layers': [8, 128, 128, 64, 1]\n",
    "}\n"
   ]
  },
  {
   "cell_type": "code",
   "execution_count": 18,
   "metadata": {
    "collapsed": false,
    "jupyter": {
     "outputs_hidden": false
    },
    "pycharm": {
     "is_executing": false,
     "name": "#%%\n"
    }
   },
   "outputs": [],
   "source": [
    "dataset = build_dataset(config['dataset'])\n",
    "x_train, y_train = dataset.dataset('train')\n",
    "x_val, y_val = dataset.dataset('val')\n",
    "\n",
    "x_train, x_val, _ = scale(x_train, x_val)\n",
    "y_train, y_val, y_scaler = scale(y_train, y_val)\n"
   ]
  },
  {
   "cell_type": "code",
   "execution_count": 19,
   "metadata": {
    "collapsed": false,
    "jupyter": {
     "outputs_hidden": false
    },
    "pycharm": {
     "is_executing": false,
     "name": "#%%\n"
    }
   },
   "outputs": [
    {
     "name": "stdout",
     "text": [
      "Epoch [100/10000], Loss: 0.1652, Validation loss: 0.1549\n",
      "Epoch [200/10000], Loss: 0.1415, Validation loss: 0.1457\n",
      "Epoch [300/10000], Loss: 0.0875, Validation loss: 0.1431\n",
      "Epoch [400/10000], Loss: 0.1036, Validation loss: 0.1521\n",
      "Epoch [500/10000], Loss: 0.0857, Validation loss: 0.1129\n",
      "Epoch [600/10000], Loss: 0.0735, Validation loss: 0.1259\n",
      "Epoch [700/10000], Loss: 0.0569, Validation loss: 0.0874\n",
      "Epoch [800/10000], Loss: 0.0762, Validation loss: 0.1260\n",
      "Epoch [900/10000], Loss: 0.0810, Validation loss: 0.0869\n",
      "Epoch [1000/10000], Loss: 0.0457, Validation loss: 0.0734\n",
      "Epoch [1100/10000], Loss: 0.0766, Validation loss: 0.1615\n",
      "Epoch [1200/10000], Loss: 0.0546, Validation loss: 0.1030\n",
      "Epoch [1300/10000], Loss: 0.0490, Validation loss: 0.1009\n",
      "Epoch [1400/10000], Loss: 0.0450, Validation loss: 0.0685\n",
      "Epoch [1500/10000], Loss: 0.0604, Validation loss: 0.1157\n",
      "Epoch [1600/10000], Loss: 0.0586, Validation loss: 0.1023\n",
      "Epoch [1700/10000], Loss: 0.0515, Validation loss: 0.0786\n",
      "Epoch [1800/10000], Loss: 0.0485, Validation loss: 0.0991\n",
      "Epoch [1900/10000], Loss: 0.0369, Validation loss: 0.0627\n",
      "Epoch [2000/10000], Loss: 0.0547, Validation loss: 0.0702\n",
      "Epoch [2100/10000], Loss: 0.0392, Validation loss: 0.0667\n",
      "Epoch [2200/10000], Loss: 0.0286, Validation loss: 0.0812\n",
      "Epoch [2300/10000], Loss: 0.0413, Validation loss: 0.0674\n",
      "Epoch [2400/10000], Loss: 0.0358, Validation loss: 0.0758\n"
     ],
     "output_type": "stream"
    }
   ],
   "source": [
    "model = MLP(config['layers'])\n",
    "model.fit((x_train, y_train), (x_val, y_val), dropout_rate=0.3)\n"
   ]
  },
  {
   "cell_type": "code",
   "execution_count": 20,
   "metadata": {
    "collapsed": false,
    "jupyter": {
     "outputs_hidden": false
    },
    "pycharm": {
     "is_executing": false,
     "name": "#%%\n"
    }
   },
   "outputs": [],
   "source": [
    "mask = build_masks(['dpp'])['dpp']\n",
    "estimator = MCDUEMasked(model, nn_runs=100, dropout_mask=mask)\n",
    "uncertainty = estimator.estimate(x_val)"
   ]
  },
  {
   "cell_type": "code",
   "execution_count": 21,
   "metadata": {
    "collapsed": false,
    "jupyter": {
     "outputs_hidden": false
    },
    "pycharm": {
     "is_executing": false,
     "name": "#%%\n"
    }
   },
   "outputs": [],
   "source": [
    "def rank(dpp):\n",
    "    N = dpp.eig_vecs.shape[0]\n",
    "    tol = np.max(dpp.L_eig_vals) * N * np.finfo(np.float).eps\n",
    "    rank = np.count_nonzero(dpp.L_eig_vals > tol)\n",
    "    return rank\n"
   ]
  },
  {
   "cell_type": "code",
   "execution_count": 42,
   "metadata": {
    "collapsed": false,
    "jupyter": {
     "outputs_hidden": false
    },
    "pycharm": {
     "is_executing": false,
     "name": "#%%\n"
    }
   },
   "outputs": [],
   "source": [
    "k_matrix = mask.layer_correlations[1]\n",
    "dpp = FiniteDPP('correlation', **{'K': np.abs(k_matrix)})\n",
    "# dpp.sample_exact_k_dpp(10)"
   ]
  },
  {
   "cell_type": "code",
   "execution_count": 44,
   "metadata": {
    "collapsed": false,
    "jupyter": {
     "outputs_hidden": false
    },
    "pycharm": {
     "is_executing": false,
     "name": "#%%\n"
    }
   },
   "outputs": [],
   "source": [
    "for i in range(4):\n",
    "    dpp.sample_exact()\n",
    "# print(rank(dpp))"
   ]
  },
  {
   "cell_type": "code",
   "execution_count": 45,
   "outputs": [
    {
     "name": "stdout",
     "text": [
      "[ 0  1  8 54 12]\n[32 36 53  8 63]\n[38 12  8 62]\n[56  8 43 31 20  9]\n[21 15  5 23  8 52 36]\n[10  0  8 34]\n[17 30 44 48 56 45  8 55]\n[53 16  8 47 37 63 54]\n"
     ],
     "output_type": "stream"
    }
   ],
   "source": [
    "for sample in dpp.list_of_samples:\n",
    "    print(sample)\n"
   ],
   "metadata": {
    "collapsed": false,
    "pycharm": {
     "name": "#%%\n",
     "is_executing": false
    }
   }
  },
  {
   "cell_type": "code",
   "execution_count": 23,
   "metadata": {
    "collapsed": false,
    "jupyter": {
     "outputs_hidden": false
    },
    "pycharm": {
     "is_executing": false,
     "name": "#%%\n"
    }
   },
   "outputs": [],
   "source": [
    "# compare rans for the original and positive correlation matrices\n",
    "# ranks = []\n",
    "# ranks_abs = []\n",
    "# for i in range(2):\n",
    "#     print(i)\n",
    "#     model = MLP(config['layers'])\n",
    "#     model.fit((x_train, y_train), (x_val, y_val), verbose=False, epochs=2000)\n",
    "#     mask = build_masks(['dpp'])['dpp']\n",
    "#     estimator = MCDUEMasked(model, nn_runs=100, dropout_mask=mask)\n",
    "#     uncertainty = estimator.estimate(x_val)\n",
    "#     k_matrix = mask.layer_correlations[0]\n",
    "#     dpp = FiniteDPP('correlation', **{'K': k_matrix})\n",
    "#     dpp.sample_exact_k_dpp(1)\n",
    "#     ranks.append(rank(dpp))\n",
    "#     dpp = FiniteDPP('correlation', **{'K': np.abs(k_matrix)})\n",
    "#     dpp.sample_exact_k_dpp(1)\n",
    "#     ranks_abs.append(rank(dpp))"
   ]
  },
  {
   "cell_type": "code",
   "execution_count": 24,
   "metadata": {
    "collapsed": false,
    "jupyter": {
     "outputs_hidden": false
    },
    "pycharm": {
     "is_executing": false,
     "name": "#%%\n"
    }
   },
   "outputs": [],
   "source": [
    "# plt.scatter(ranks, ranks_abs)\n",
    "# plt.plot((0, max(ranks)), (0, max(ranks)))\n",
    "# plt.xlabel('full range ranks')\n",
    "# plt.ylabel('abs ranks')"
   ]
  },
  {
   "cell_type": "code",
   "execution_count": 24,
   "metadata": {
    "collapsed": false,
    "jupyter": {
     "outputs_hidden": false
    },
    "pycharm": {
     "name": "#%%\n",
     "is_executing": false
    }
   },
   "outputs": [],
   "source": [
    "\n"
   ]
  }
 ],
 "metadata": {
  "kernelspec": {
   "display_name": "Python 3",
   "language": "python",
   "name": "python3"
  },
  "language_info": {
   "codemirror_mode": {
    "name": "ipython",
    "version": 3
   },
   "file_extension": ".py",
   "mimetype": "text/x-python",
   "name": "python",
   "nbconvert_exporter": "python",
   "pygments_lexer": "ipython3",
   "version": "3.7.4"
  },
  "pycharm": {
   "stem_cell": {
    "cell_type": "raw",
    "source": [],
    "metadata": {
     "collapsed": false
    }
   }
  }
 },
 "nbformat": 4,
 "nbformat_minor": 4
}