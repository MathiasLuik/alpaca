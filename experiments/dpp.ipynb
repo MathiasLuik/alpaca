{
 "cells": [
  {
   "cell_type": "code",
   "execution_count": 1,
   "metadata": {
    "collapsed": false,
    "jupyter": {
     "outputs_hidden": false
    },
    "pycharm": {
     "is_executing": false,
     "name": "#%%\n"
    }
   },
   "outputs": [],
   "source": [
    "import sys\n",
    "sys.path.append('..')\n",
    "%load_ext autoreload\n",
    "%autoreload 2\n"
   ]
  },
  {
   "cell_type": "code",
   "execution_count": null,
   "metadata": {
    "collapsed": false,
    "jupyter": {
     "outputs_hidden": false
    },
    "pycharm": {
     "is_executing": false,
     "name": "#%%\n"
    }
   },
   "outputs": [],
   "source": [
    "import matplotlib.pyplot as plt\n",
    "import numpy as np\n",
    "from sklearn.preprocessing import StandardScaler\n",
    "import seaborn as sns\n",
    "from dppy.finite_dpps import FiniteDPP\n",
    "from tqdm import tqdm\n",
    "\n",
    "from uncertainty_estimator.masks import DPPMask\n",
    "from dataloader.builder import build_dataset\n",
    "from uncertainty_estimator.mcdue import MCDUEMasked\n",
    "from uncertainty_estimator.masks import build_masks\n",
    "from model.mlp import MLP\n",
    "from experiments.utils.data import scale"
   ]
  },
  {
   "cell_type": "code",
   "execution_count": null,
   "metadata": {
    "collapsed": false,
    "jupyter": {
     "outputs_hidden": false
    },
    "pycharm": {
     "is_executing": false,
     "name": "#%%\n"
    }
   },
   "outputs": [],
   "source": [
    "config = {\n",
    "    'dataset': 'concrete',\n",
    "    'layers': [8, 128, 128, 64, 1]\n",
    "}\n"
   ]
  },
  {
   "cell_type": "code",
   "execution_count": null,
   "metadata": {
    "collapsed": false,
    "jupyter": {
     "outputs_hidden": false
    },
    "pycharm": {
     "is_executing": false,
     "name": "#%%\n"
    }
   },
   "outputs": [],
   "source": [
    "dataset = build_dataset(config['dataset'])\n",
    "x_train, y_train = dataset.dataset('train')\n",
    "x_val, y_val = dataset.dataset('val')\n",
    "\n",
    "x_train, x_val, _ = scale(x_train, x_val)\n",
    "y_train, y_val, y_scaler = scale(y_train, y_val)\n"
   ]
  },
  {
   "cell_type": "code",
   "execution_count": null,
   "metadata": {
    "collapsed": false,
    "jupyter": {
     "outputs_hidden": false
    },
    "pycharm": {
     "is_executing": false,
     "name": "#%%\n"
    }
   },
   "outputs": [],
   "source": [
    "model = MLP(config['layers'])\n",
    "model.fit((x_train, y_train), (x_val, y_val))\n"
   ]
  },
  {
   "cell_type": "code",
   "execution_count": null,
   "metadata": {
    "collapsed": false,
    "jupyter": {
     "outputs_hidden": false
    },
    "pycharm": {
     "is_executing": false,
     "name": "#%%\n"
    }
   },
   "outputs": [],
   "source": [
    "mask = build_masks(['dpp'])['dpp']\n",
    "estimator = MCDUEMasked(model, nn_runs=100, dropout_mask=mask)\n",
    "uncertainty = estimator.estimate(x_val)"
   ]
  },
  {
   "cell_type": "code",
   "execution_count": null,
   "metadata": {
    "collapsed": false,
    "jupyter": {
     "outputs_hidden": false
    },
    "pycharm": {
     "is_executing": false,
     "name": "#%%\n"
    }
   },
   "outputs": [],
   "source": [
    "def rank(dpp):\n",
    "    N = dpp.eig_vecs.shape[0]\n",
    "    tol = np.max(dpp.L_eig_vals) * N * np.finfo(np.float).eps\n",
    "    rank = np.count_nonzero(dpp.L_eig_vals > tol)\n",
    "    return rank\n"
   ]
  },
  {
   "cell_type": "code",
   "execution_count": null,
   "metadata": {
    "collapsed": false,
    "jupyter": {
     "outputs_hidden": false
    },
    "pycharm": {
     "is_executing": false,
     "name": "#%%\n"
    }
   },
   "outputs": [],
   "source": [
    "k_matrix = mask.layer_correlations[0]\n",
    "dpp = FiniteDPP('correlation', **{'K': k_matrix})\n",
    "dpp.sample_exact_k_dpp(1)\n",
    "rank(dpp)"
   ]
  },
  {
   "cell_type": "code",
   "execution_count": null,
   "metadata": {
    "collapsed": false,
    "jupyter": {
     "outputs_hidden": false
    },
    "pycharm": {
     "is_executing": false,
     "name": "#%%\n"
    }
   },
   "outputs": [],
   "source": []
  },
  {
   "cell_type": "code",
   "execution_count": null,
   "metadata": {
    "collapsed": false,
    "jupyter": {
     "outputs_hidden": false
    },
    "pycharm": {
     "is_executing": false,
     "name": "#%%\n"
    }
   },
   "outputs": [],
   "source": [
    "ranks = []\n",
    "ranks_abs = []\n",
    "for i in range(20):\n",
    "    print(i)\n",
    "    model = MLP(config['layers'])\n",
    "    model.fit((x_train, y_train), (x_val, y_val), verbose=False, epochs=2000)\n",
    "    mask = build_masks(['dpp'])['dpp']\n",
    "    estimator = MCDUEMasked(model, nn_runs=100, dropout_mask=mask)\n",
    "    uncertainty = estimator.estimate(x_val)\n",
    "    k_matrix = mask.layer_correlations[0]\n",
    "    dpp = FiniteDPP('correlation', **{'K': k_matrix})\n",
    "    dpp.sample_exact_k_dpp(1)\n",
    "    ranks.append(rank(dpp))\n",
    "    dpp = FiniteDPP('correlation', **{'K': np.abs(k_matrix)})\n",
    "    dpp.sample_exact_k_dpp(1)\n",
    "    ranks_abs.append(rank(dpp))"
   ]
  },
  {
   "cell_type": "code",
   "execution_count": null,
   "metadata": {
    "collapsed": false,
    "jupyter": {
     "outputs_hidden": false
    },
    "pycharm": {
     "is_executing": false,
     "name": "#%%\n"
    }
   },
   "outputs": [],
   "source": [
    "plt.scatter(ranks, ranks_abs)\n",
    "plt.plot((0, max(ranks)), (0, max(ranks)))\n",
    "plt.xlabel('full range ranks')\n",
    "plt.ylabel('abs ranks')"
   ]
  },
  {
   "cell_type": "code",
   "execution_count": null,
   "metadata": {
    "collapsed": false,
    "jupyter": {
     "outputs_hidden": false
    },
    "pycharm": {
     "name": "#%%\n"
    }
   },
   "outputs": [],
   "source": [
    "\n"
   ]
  }
 ],
 "metadata": {
  "kernelspec": {
   "display_name": "Python 3",
   "language": "python",
   "name": "python3"
  },
  "language_info": {
   "codemirror_mode": {
    "name": "ipython",
    "version": 3
   },
   "file_extension": ".py",
   "mimetype": "text/x-python",
   "name": "python",
   "nbconvert_exporter": "python",
   "pygments_lexer": "ipython3",
   "version": "3.7.4"
  },
  "pycharm": {
   "stem_cell": {
    "cell_type": "raw",
    "source": [],
    "metadata": {
     "collapsed": false
    }
   }
  }
 },
 "nbformat": 4,
 "nbformat_minor": 4
}