{
 "cells": [
  {
   "cell_type": "code",
   "execution_count": 1,
   "outputs": [],
   "source": [
    "import sys\n",
    "sys.path.append('..')\n",
    "%load_ext autoreload\n",
    "%autoreload 2\n"
   ],
   "metadata": {
    "collapsed": false,
    "pycharm": {
     "name": "#%%\n",
     "is_executing": false
    }
   }
  },
  {
   "cell_type": "code",
   "execution_count": 80,
   "outputs": [],
   "source": [
    "import matplotlib.pyplot as plt\n",
    "import numpy as np\n",
    "from sklearn.preprocessing import StandardScaler\n",
    "import seaborn as sns\n",
    "from dppy.finite_dpps import FiniteDPP\n",
    "from tqdm import tqdm\n",
    "\n",
    "from uncertainty_estimator.masks import DPPMask\n",
    "from dataloader.builder import build_dataset\n",
    "from uncertainty_estimator.mcdue import MCDUEMasked\n",
    "from uncertainty_estimator.masks import build_masks\n",
    "from model.mlp import MLP\n",
    "from experiments.utils.data import scale"
   ],
   "metadata": {
    "collapsed": false,
    "pycharm": {
     "name": "#%%\n",
     "is_executing": false
    }
   }
  },
  {
   "cell_type": "code",
   "execution_count": 3,
   "outputs": [],
   "source": [
    "config = {\n",
    "    'dataset': 'concrete',\n",
    "    'layers': [8, 128, 128, 64, 1]\n",
    "}\n"
   ],
   "metadata": {
    "collapsed": false,
    "pycharm": {
     "name": "#%%\n",
     "is_executing": false
    }
   }
  },
  {
   "cell_type": "code",
   "execution_count": 77,
   "outputs": [],
   "source": [
    "dataset = build_dataset(config['dataset'])\n",
    "x_train, y_train = dataset.dataset('train')\n",
    "x_val, y_val = dataset.dataset('val')\n",
    "\n",
    "x_train, x_val, _ = scale(x_train, x_val)\n",
    "y_train, y_val, y_scaler = scale(y_train, y_val)\n"
   ],
   "metadata": {
    "collapsed": false,
    "pycharm": {
     "name": "#%%\n",
     "is_executing": false
    }
   }
  },
  {
   "cell_type": "code",
   "execution_count": 10,
   "outputs": [],
   "source": [
    "model = MLP(config['layers'])\n",
    "model.fit((x_train, y_train), (x_val, y_val))\n"
   ],
   "metadata": {
    "collapsed": false,
    "pycharm": {
     "name": "#%%\n",
     "is_executing": false
    }
   }
  },
  {
   "cell_type": "code",
   "execution_count": 58,
   "outputs": [],
   "source": [
    "mask = build_masks(['dpp'])['dpp']\n",
    "estimator = MCDUEMasked(model, nn_runs=100, dropout_mask=mask)\n",
    "uncertainty = estimator.estimate(x_val)"
   ],
   "metadata": {
    "collapsed": false,
    "pycharm": {
     "name": "#%%\n",
     "is_executing": false
    }
   }
  },
  {
   "cell_type": "code",
   "execution_count": 40,
   "outputs": [],
   "source": [
    "def rank(dpp):\n",
    "    N = dpp.eig_vecs.shape[0]\n",
    "    tol = np.max(dpp.L_eig_vals) * N * np.finfo(np.float).eps\n",
    "    rank = np.count_nonzero(dpp.L_eig_vals > tol)\n",
    "    return rank\n"
   ],
   "metadata": {
    "collapsed": false,
    "pycharm": {
     "name": "#%%\n",
     "is_executing": false
    }
   }
  },
  {
   "cell_type": "code",
   "execution_count": 73,
   "outputs": [
    {
     "data": {
      "text/plain": "110"
     },
     "metadata": {},
     "output_type": "execute_result",
     "execution_count": 73
    }
   ],
   "source": [
    "k_matrix = mask.layer_correlations[0]\n",
    "dpp = FiniteDPP('correlation', **{'K': k_matrix})\n",
    "dpp.sample_exact_k_dpp(1)\n",
    "rank(dpp)"
   ],
   "metadata": {
    "collapsed": false,
    "pycharm": {
     "name": "#%%\n",
     "is_executing": false
    }
   }
  },
  {
   "cell_type": "code",
   "execution_count": 65,
   "outputs": [
    {
     "data": {
      "text/plain": "1934"
     },
     "metadata": {},
     "output_type": "execute_result",
     "execution_count": 65
    }
   ],
   "source": [],
   "metadata": {
    "collapsed": false,
    "pycharm": {
     "name": "#%%\n",
     "is_executing": false
    }
   }
  },
  {
   "cell_type": "code",
   "execution_count": 95,
   "outputs": [
    {
     "name": "stdout",
     "text": [
      "0\n",
      "1\n",
      "2\n",
      "3\n",
      "4\n",
      "5\n",
      "6\n",
      "7\n",
      "8\n",
      "9\n",
      "10\n",
      "11\n",
      "12\n",
      "13\n",
      "14\n",
      "15\n",
      "16\n",
      "17\n",
      "18\n",
      "19\n"
     ],
     "output_type": "stream"
    }
   ],
   "source": [
    "ranks = []\n",
    "ranks_abs = []\n",
    "for i in range(20):\n",
    "    print(i)\n",
    "    model = MLP(config['layers'])\n",
    "    model.fit((x_train, y_train), (x_val, y_val), verbose=False, epochs=2000)\n",
    "    mask = build_masks(['dpp'])['dpp']\n",
    "    estimator = MCDUEMasked(model, nn_runs=100, dropout_mask=mask)\n",
    "    uncertainty = estimator.estimate(x_val)\n",
    "    k_matrix = mask.layer_correlations[0]\n",
    "    dpp = FiniteDPP('correlation', **{'K': k_matrix})\n",
    "    dpp.sample_exact_k_dpp(1)\n",
    "    ranks.append(rank(dpp))\n",
    "    dpp = FiniteDPP('correlation', **{'K': np.abs(k_matrix)})\n",
    "    dpp.sample_exact_k_dpp(1)\n",
    "    ranks_abs.append(rank(dpp))"
   ],
   "metadata": {
    "collapsed": false,
    "pycharm": {
     "name": "#%%\n",
     "is_executing": false
    }
   }
  },
  {
   "cell_type": "code",
   "execution_count": 97,
   "outputs": [
    {
     "data": {
      "text/plain": "<Figure size 432x288 with 1 Axes>",
      "image/png": "[encoded data removed]"
     },
     "metadata": {
      "needs_background": "light"
     },
     "output_type": "display_data"
    }
   ],
   "source": [
    "plt.scatter(ranks, ranks_abs)\n",
    "plt.plot((0, max(ranks)), (0, max(ranks)))\n",
    "plt.xlabel('full range ranks')\n",
    "plt.ylabel('abs ranks')"
   ],
   "metadata": {
    "collapsed": false,
    "pycharm": {
     "name": "#%%\n",
     "is_executing": false
    }
   }
  },
  {
   "cell_type": "code",
   "execution_count": null,
   "outputs": [],
   "source": [
    "\n"
   ],
   "metadata": {
    "collapsed": false,
    "pycharm": {
     "name": "#%%\n"
    }
   }
  }
 ],
 "metadata": {
  "kernelspec": {
   "display_name": "Python 3",
   "language": "python",
   "name": "python3"
  },
  "language_info": {
   "codemirror_mode": {
    "name": "ipython",
    "version": 3
   },
   "file_extension": ".py",
   "mimetype": "text/x-python",
   "name": "python",
   "nbconvert_exporter": "python",
   "pygments_lexer": "ipython3",
   "version": "3.7.4"
  },
  "pycharm": {
   "stem_cell": {
    "cell_type": "raw",
    "source": [],
    "metadata": {
     "collapsed": false
    }
   }
  }
 },
 "nbformat": 4,
 "nbformat_minor": 4
}