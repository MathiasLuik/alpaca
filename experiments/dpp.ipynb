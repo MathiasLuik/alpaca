{
 "cells": [
  {
   "cell_type": "code",
   "execution_count": 15,
   "metadata": {
    "collapsed": false,
    "jupyter": {
     "outputs_hidden": false
    },
    "pycharm": {
     "is_executing": false,
     "name": "#%%\n"
    }
   },
   "outputs": [
    {
     "name": "stdout",
     "text": [
      "The autoreload extension is already loaded. To reload it, use:\n  %reload_ext autoreload\n"
     ],
     "output_type": "stream"
    }
   ],
   "source": [
    "import sys\n",
    "sys.path.append('..')\n",
    "%load_ext autoreload\n",
    "%autoreload 2\n"
   ]
  },
  {
   "cell_type": "code",
   "execution_count": 16,
   "metadata": {
    "collapsed": false,
    "jupyter": {
     "outputs_hidden": false
    },
    "pycharm": {
     "is_executing": false,
     "name": "#%%\n"
    }
   },
   "outputs": [],
   "source": [
    "import matplotlib.pyplot as plt\n",
    "import numpy as np\n",
    "from dppy.finite_dpps import FiniteDPP\n",
    "\n",
    "from dataloader.builder import build_dataset\n",
    "from uncertainty_estimator.mcdue import MCDUEMasked\n",
    "from uncertainty_estimator.masks import build_masks\n",
    "from model.mlp import MLP\n",
    "from experiments.utils.data import scale"
   ]
  },
  {
   "cell_type": "code",
   "execution_count": 17,
   "metadata": {
    "collapsed": false,
    "jupyter": {
     "outputs_hidden": false
    },
    "pycharm": {
     "is_executing": false,
     "name": "#%%\n"
    }
   },
   "outputs": [],
   "source": [
    "config = {\n",
    "    'dataset': 'concrete',\n",
    "    'layers': [8, 256, 256, 128, 1]\n",
    "}\n"
   ]
  },
  {
   "cell_type": "code",
   "execution_count": null,
   "outputs": [],
   "source": [
    "def rank(dpp):\n",
    "    N = dpp.eig_vecs.shape[0]\n",
    "    tol = np.max(dpp.L_eig_vals) * N * np.finfo(np.float).eps\n",
    "    rank = np.count_nonzero(dpp.L_eig_vals > tol)\n",
    "    return rank"
   ],
   "metadata": {
    "collapsed": false,
    "pycharm": {
     "name": "#%%\n"
    }
   }
  },
  {
   "cell_type": "code",
   "execution_count": 94,
   "metadata": {
    "collapsed": false,
    "jupyter": {
     "outputs_hidden": false
    },
    "pycharm": {
     "is_executing": false,
     "name": "#%%\n"
    }
   },
   "outputs": [],
   "source": [
    "dataset = build_dataset(config['dataset'])\n",
    "x_train, y_train = dataset.dataset('train')\n",
    "x_val, y_val = dataset.dataset('val')\n",
    "\n",
    "x_train, x_val, _ = scale(x_train, x_val)\n",
    "y_train, y_val, y_scaler = scale(y_train, y_val)\n"
   ]
  },
  {
   "cell_type": "code",
   "execution_count": 95,
   "outputs": [],
   "source": [
    "mask = build_masks(['adpp'])['adpp']"
   ],
   "metadata": {
    "collapsed": false,
    "pycharm": {
     "name": "#%%\n",
     "is_executing": false
    }
   }
  },
  {
   "cell_type": "code",
   "execution_count": 96,
   "metadata": {
    "collapsed": false,
    "jupyter": {
     "outputs_hidden": false
    },
    "pycharm": {
     "is_executing": false,
     "name": "#%%\n"
    }
   },
   "outputs": [
    {
     "name": "stdout",
     "text": [
      "Epoch [100/500], Loss: 0.1832, Validation loss: 0.1144\n",
      "Epoch [200/500], Loss: 0.0940, Validation loss: 0.1437\n",
      "Epoch [300/500], Loss: 0.0783, Validation loss: 0.0928\n",
      "Epoch [400/500], Loss: 0.0903, Validation loss: 0.1388\n",
      "Epoch [500/500], Loss: 0.0597, Validation loss: 0.0863\n"
     ],
     "output_type": "stream"
    }
   ],
   "source": [
    "mask.reset()\n",
    "model = MLP(config['layers'])\n",
    "model.fit((x_train, y_train), (x_val, y_val), dropout_rate=0.2, epochs=500)\n",
    "\n",
    "estimator = MCDUEMasked(model, nn_runs=100, dropout_mask=mask)\n",
    "uncertainty = estimator.estimate(x_val)\n"
   ]
  },
  {
   "cell_type": "code",
   "execution_count": 97,
   "metadata": {
    "collapsed": false,
    "jupyter": {
     "outputs_hidden": false
    },
    "pycharm": {
     "is_executing": false,
     "name": "#%%\n"
    }
   },
   "outputs": [
    {
     "name": "stdout",
     "text": [
      "[33  9 10 40 13 27 34 28 41 32]\n[54 10 31 30  7 50  0 13 33 14]\n[33  0 26 13 11 41 28 58 44 46]\n[61 50  8 51 25 13 48 34 32 37]\n[32 10 28  9 21 63  0  7 12 44]\n[33 44  0 34 21 13 54  7 12  4]\n[41 33  3 60 32  2 59 31 25  9]\n[31  0  8 54 32 58 34 11 50 12]\n[12  4 34  8 13 32 33 20 44  6]\n[ 9 21 54 12 18 43 31 20  5  4]\n[43 57 23 39  8 13 28  6 11  9]\n[59 58 42 63 32 37  9 25 13 34]\n[51 62  0 63 25 13 43  8  2 48]\n[ 0 30 54 32 13 59  7 34 43 44]\n[43 57 31 12  0 33 54 32 28  2]\n[21 44 55  5  8 12 14 54 31  9]\n[32 26 31  8 44 34 50 14  9 12]\n[ 0 33 25 32 41 34 26 17 28 21]\n[33 50 46 59 37 55 32 54  8  0]\n[10 12 15  8 62 44 28 25 43 58]\n[25 40  8 14 44 31 50  0  4 33]\n[50 33 49 54  8 25 13 21 57 16]\n[54 12 23 10  8 21  9 13 50 43]\n[27  2  0  5 13 33 54 63 12 31]\n[29 33 18  8 58 24 52 21 12  0]\n[23 15 17 31 33 21  0 43 54 48]\n[54  7 32 60 30 13 25 31 39 19]\n[20 17  9 29 53 21 33 41 31 44]\n[12 32 28 22 62 21 30  5 34 13]\n[38 12 33  0 43 59  7 44 32 56]\n[33 31 11 32 49 12 13  9 16 29]\n[43 13  6 61 33 44 12  7 62 11]\n[ 9 45 13 32 28 33 21 25 51 18]\n[ 8 32 12 50 25 13 14 31  0  5]\n[17 25  9 33 21  7 12 51  6 31]\n[12 24 42 41 21  9  7 25 54 31]\n[55  9 31 50 11 38 43 56  7 33]\n[37  3 32  1 44 38  9 31 33 10]\n[57 54 34 44 37  2 63 13  8 28]\n[37 35  9 41  7 28  0 48 31 46]\n[31 44 48 21 11 19  6 32 50  9]\n[12 53  0 45 54 43 57  8 26 34]\n[36 40 21 61  6 31 44 28 11 58]\n[10  5  8 54 32 38 17 44 43 41]\n[53 57 12  3 21  7 11 33 56 20]\n[31 61 32  5 45 25 35  7 43 24]\n[28  0 12 44 37  8 48 10 46 25]\n[13 21  0  9  1 32 12 38 25 42]\n[34 43 15  3 33 25  8 61 54 13]\n[43 13 44 45 25 12 33 35 30  3]\n"
     ],
     "output_type": "stream"
    }
   ],
   "source": [
    "k_matrix = mask.layer_correlations[1]\n",
    "dpp = FiniteDPP('likelihood', **{'L': np.abs(k_matrix)})\n",
    "# dpp.sample_exact_k_dpp(10)\n",
    "for i in range(50):\n",
    "    dpp.sample_exact_k_dpp(10)\n",
    "for sample in dpp.list_of_samples:\n",
    "    print(sample)\n"
   ]
  },
  {
   "cell_type": "code",
   "execution_count": 23,
   "metadata": {
    "collapsed": false,
    "jupyter": {
     "outputs_hidden": false
    },
    "pycharm": {
     "is_executing": false,
     "name": "#%%\n"
    }
   },
   "outputs": [],
   "source": [
    "# compare rans for the original and positive correlation matrices\n",
    "# ranks = []\n",
    "# ranks_abs = []\n",
    "# for i in range(2):\n",
    "#     print(i)\n",
    "#     model = MLP(config['layers'])\n",
    "#     model.fit((x_train, y_train), (x_val, y_val), verbose=False, epochs=2000)\n",
    "#     mask = build_masks(['dpp'])['dpp']\n",
    "#     estimator = MCDUEMasked(model, nn_runs=100, dropout_mask=mask)\n",
    "#     uncertainty = estimator.estimate(x_val)\n",
    "#     k_matrix = mask.layer_correlations[0]\n",
    "#     dpp = FiniteDPP('correlation', **{'K': k_matrix})\n",
    "#     dpp.sample_exact_k_dpp(1)\n",
    "#     ranks.append(rank(dpp))\n",
    "#     dpp = FiniteDPP('correlation', **{'K': np.abs(k_matrix)})\n",
    "#     dpp.sample_exact_k_dpp(1)\n",
    "#     ranks_abs.append(rank(dpp))"
   ]
  },
  {
   "cell_type": "code",
   "execution_count": 24,
   "metadata": {
    "collapsed": false,
    "jupyter": {
     "outputs_hidden": false
    },
    "pycharm": {
     "is_executing": false,
     "name": "#%%\n"
    }
   },
   "outputs": [],
   "source": [
    "# plt.scatter(ranks, ranks_abs)\n",
    "# plt.plot((0, max(ranks)), (0, max(ranks)))\n",
    "# plt.xlabel('full range ranks')\n",
    "# plt.ylabel('abs ranks')"
   ]
  },
  {
   "cell_type": "code",
   "execution_count": 24,
   "metadata": {
    "collapsed": false,
    "jupyter": {
     "outputs_hidden": false
    },
    "pycharm": {
     "name": "#%%\n",
     "is_executing": false
    }
   },
   "outputs": [],
   "source": [
    "\n"
   ]
  }
 ],
 "metadata": {
  "kernelspec": {
   "display_name": "Python 3",
   "language": "python",
   "name": "python3"
  },
  "language_info": {
   "codemirror_mode": {
    "name": "ipython",
    "version": 3
   },
   "file_extension": ".py",
   "mimetype": "text/x-python",
   "name": "python",
   "nbconvert_exporter": "python",
   "pygments_lexer": "ipython3",
   "version": "3.7.4"
  },
  "pycharm": {
   "stem_cell": {
    "cell_type": "raw",
    "source": [],
    "metadata": {
     "collapsed": false
    }
   }
  }
 },
 "nbformat": 4,
 "nbformat_minor": 4
}