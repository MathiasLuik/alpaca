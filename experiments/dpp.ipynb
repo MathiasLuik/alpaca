{
 "cells": [
  {
   "cell_type": "code",
   "execution_count": null,
   "metadata": {},
   "outputs": [],
   "source": [
    "import sys\n",
    "sys.path.append('..')\n",
    "%load_ext autoreload\n",
    "%autoreload 2"
   ]
  },
  {
   "cell_type": "code",
   "execution_count": null,
   "metadata": {},
   "outputs": [],
   "source": [
    "import numpy as np\n",
    "import pandas as pd\n",
    "import seaborn as sns\n",
    "import matplotlib.pyplot as plt\n",
    "from sklearn.preprocessing import StandardScaler\n",
    "import scipy.linalg as la\n",
    "from dppy.finite_dpps import FiniteDPP\n",
    "\n",
    "from dataloader.builder import build_dataset\n",
    "from model.mlp import MLP\n",
    "from experiment_setup import get_model, build_estimator\n",
    "from analysis.metrics import uq_accuracy, uq_ndcg, uq_nll\n",
    "from uncertainty_estimator.masks import BasicMask, LHSMask, MirrorMask, DecorrelationMask, DPPMask, DPPAdaptiveMask\n",
    "from uncertainty_estimator.masks import build_masks \n",
    "from analysis.metrics import get_uq_metrics\n",
    "\n",
    "plt.rcParams['figure.facecolor'] = 'white'"
   ]
  },
  {
   "cell_type": "code",
   "execution_count": null,
   "metadata": {},
   "outputs": [],
   "source": [
    "config = {\n",
    "    'random_seed': 43,\n",
    "    'nn_runs': 10,\n",
    "    'runs': 3,\n",
    "    'model_runs': 1,\n",
    "    'verbose': False,\n",
    "    'use_cache': False,\n",
    "    'layers': [13, 128, 128, 64, 1],\n",
    "#     'layers': [8, 256, 256, 128, 1],\n",
    "    'epochs': 30_000,\n",
    "    'acc_percentile': 0.1,\n",
    "    'patience': 3,\n",
    "    'dropout_train': 0.2,\n",
    "    'dropout_uq': 0.5,\n",
    "    'batch_size': 32,\n",
    "    'dataset': 'boston_housing',\n",
    "    'scale': True,\n",
    "    'l2_reg': 1e-5\n",
    "}"
   ]
  },
  {
   "cell_type": "code",
   "execution_count": null,
   "metadata": {},
   "outputs": [],
   "source": [
    "# Helper functions\n",
    "def scale(train, val):\n",
    "    scaler = StandardScaler()\n",
    "    scaler.fit(train)\n",
    "    train = scaler.transform(train)\n",
    "    val = scaler.transform(val)\n",
    "    return train, val, scaler"
   ]
  },
  {
   "cell_type": "markdown",
   "metadata": {},
   "source": [
    "#### Try the dpp"
   ]
  },
  {
   "cell_type": "code",
   "execution_count": null,
   "metadata": {},
   "outputs": [],
   "source": [
    "dataset = build_dataset('boston_housing')"
   ]
  },
  {
   "cell_type": "code",
   "execution_count": null,
   "metadata": {},
   "outputs": [],
   "source": [
    "x_train, y_train = dataset.dataset('train')\n",
    "x_val, y_val = dataset.dataset('val')\n",
    "if config['scale']:\n",
    "    x_train, x_val, _ = scale(x_train, x_val)\n",
    "    y_train, y_val, y_scaler = scale(y_train, y_val)\n",
    "else:\n",
    "    y_scaler = None"
   ]
  },
  {
   "cell_type": "code",
   "execution_count": null,
   "metadata": {},
   "outputs": [],
   "source": [
    "config['dropout_uq'] = 0.5\n",
    "config['patience'] = 5\n",
    "\n",
    "\n",
    "model = MLP(config['layers'], l2_reg=config['l2_reg'])\n",
    "train_opts = ['patience', 'dropout_rate', 'epochs', 'batch_size', 'validation_step']\n",
    "train_config = {k: config[k] for k in config if k in train_opts}\n",
    "model.fit((x_train, y_train), (x_val, y_val), **train_config)"
   ]
  },
  {
   "cell_type": "code",
   "execution_count": null,
   "metadata": {},
   "outputs": [],
   "source": [
    "masks = build_masks(['vanilla', 'mirror_random', 'decorrelating'], nn_runs=config['nn_runs'])\n",
    "masks['dpp_adaptive'] = DPPAdaptiveMask()"
   ]
  },
  {
   "cell_type": "code",
   "execution_count": null,
   "metadata": {},
   "outputs": [],
   "source": [
    "# config['dropout_uq'] = 0.95"
   ]
  },
  {
   "cell_type": "code",
   "execution_count": null,
   "metadata": {},
   "outputs": [],
   "source": [
    "def evaluate_masks(model, masks, x_val, y_val, y_scaler):\n",
    "    predictions = model(x_val).cpu().numpy()\n",
    "    errors = np.abs(predictions - y_val)\n",
    "    scaled_errors = y_scaler.inverse_transform(predictions) - y_scaler.inverse_transform(y_val)\n",
    "    rmse = np.sqrt(np.mean(np.square(scaled_errors)))\n",
    "    results = []\n",
    "\n",
    "    for name, mask in masks.items():\n",
    "        estimator = build_estimator(\n",
    "            'mcdue_masked', model, nn_runs=config['nn_runs'], dropout_mask=mask,\n",
    "            dropout_rate=config['dropout_uq'])\n",
    "\n",
    "        for run in range(config['runs']):\n",
    "            if name == 'dpp_adaptive':\n",
    "                print(mask.ranks)\n",
    "            estimations = estimator.estimate(x_val)\n",
    "            acc, ndcg, nll = get_uq_metrics(estimations, errors, config['acc_percentile'])\n",
    "            results.append([acc, ndcg, nll, rmse, name])\n",
    "\n",
    "            if hasattr(mask, 'reset'):\n",
    "                mask.reset()\n",
    "\n",
    "    return results\n",
    "mask_results = evaluate_masks(model, masks, x_val, y_val, y_scaler)"
   ]
  },
  {
   "cell_type": "code",
   "execution_count": null,
   "metadata": {},
   "outputs": [],
   "source": [
    "mask = masks['dpp_adaptive']\n",
    "estimator = build_estimator(\n",
    "    'mcdue_masked', model, nn_runs=config['nn_runs'], dropout_mask=mask,\n",
    "    dropout_rate=config['dropout_uq'])\n",
    "\n",
    "estimator.estimate(x_val)"
   ]
  },
  {
   "cell_type": "code",
   "execution_count": null,
   "metadata": {},
   "outputs": [],
   "source": [
    "# Plot the results\n",
    "mask_df = pd.DataFrame(mask_results, columns=['acc', 'ndcg', 'nll', 'rmse', 'mask'])\n",
    "\n",
    "fig = plt.figure(figsize=(16, 16))\n",
    "plt.suptitle(config['dataset'], fontsize=16)\n",
    "fig.subplots_adjust(top=0.95)\n",
    "\n",
    "\n",
    "def boxplot(df, x_label, y_label, i, bottom=0, top=1):\n",
    "    plt.subplot(2, 2, i)\n",
    "    plt.xticks(rotation=45)\n",
    "    if bottom is not None:\n",
    "        plt.ylim(bottom, top)\n",
    "    sns.boxplot(data=df, x=x_label, y=y_label)\n",
    "\n",
    "boxplot(mask_df, 'mask', 'acc', 1, 0, 0.8)\n",
    "boxplot(mask_df, 'mask', 'ndcg', 2, 0, 0.9)\n",
    "boxplot(mask_df, 'mask', 'nll', 3, None)\n",
    "boxplot(mask_df, None, 'rmse', 4, 0, 1.2*mask_df.rmse.max())\n"
   ]
  },
  {
   "cell_type": "code",
   "execution_count": null,
   "metadata": {},
   "outputs": [],
   "source": []
  }
 ],
 "metadata": {
  "kernelspec": {
   "display_name": "Python 3",
   "language": "python",
   "name": "python3"
  },
  "language_info": {
   "codemirror_mode": {
    "name": "ipython",
    "version": 3
   },
   "file_extension": ".py",
   "mimetype": "text/x-python",
   "name": "python",
   "nbconvert_exporter": "python",
   "pygments_lexer": "ipython3",
   "version": "3.7.4"
  }
 },
 "nbformat": 4,
 "nbformat_minor": 4
}
