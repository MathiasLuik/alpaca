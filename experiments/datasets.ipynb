{
 "cells": [
  {
   "cell_type": "code",
   "execution_count": null,
   "metadata": {},
   "outputs": [],
   "source": [
    "import sys\n",
    "sys.path.append('..')\n",
    "%load_ext autoreload\n",
    "%autoreload 2\n",
    "%matplotlib inline"
   ]
  },
  {
   "cell_type": "code",
   "execution_count": null,
   "metadata": {},
   "outputs": [],
   "source": [
    "import numpy as np\n",
    "import matplotlib.pyplot as plt\n",
    "from sklearn.model_selection import KFold \n",
    "import pandas as pd\n",
    "import seaborn as sns\n",
    "from sklearn.preprocessing import StandardScaler\n",
    "from sklearn.utils import shuffle\n",
    "\n",
    "from dataloader.builder import build_dataset\n",
    "from model.mlp import MLP\n",
    "from uncertainty_estimator.masks import build_masks \n",
    "from experiment_setup import build_estimator\n",
    "from analysis.metrics import get_uq_metrics\n",
    "\n",
    "plt.rcParams['figure.facecolor'] = 'white'"
   ]
  },
  {
   "cell_type": "code",
   "execution_count": null,
   "metadata": {},
   "outputs": [],
   "source": [
    "config = {\n",
    "    'random_seed': 43,\n",
    "    'nn_runs': 100,\n",
    "    'runs': 2,\n",
    "    'max_runs': 20,\n",
    "    'k_folds': 10,\n",
    "    'verbose': False,\n",
    "    'use_cache': False,\n",
    "    'layers': [13, 64, 32, 32, 1],\n",
    "    'epochs': 10_000,\n",
    "    'acc_percentile': 0.1,\n",
    "    'patience': 3,\n",
    "    'dropout_train': 0.2,\n",
    "    'dropout_uq': 0.5,\n",
    "    'batch_size': 32,\n",
    "    'dataset': 'energy_efficiency',\n",
    "    'scale': True,\n",
    "    'l2_reg': 1e-5\n",
    "}\n"
   ]
  },
  {
   "cell_type": "code",
   "execution_count": null,
   "metadata": {},
   "outputs": [],
   "source": [
    "# Get data\n",
    "dataset = build_dataset(config['dataset']) \n",
    "x_set, y_set = dataset.dataset('train')\n",
    "x_test, y_test = dataset.dataset('val')\n",
    "config['layers'][0] = x_set.shape[-1]"
   ]
  },
  {
   "cell_type": "code",
   "execution_count": null,
   "metadata": {},
   "outputs": [],
   "source": [
    "# masks = build_masks(['vanilla', 'mirror_random', 'decorrelating', 'dpp'])\n",
    "masks = build_masks(nn_runs=config['nn_runs'])"
   ]
  },
  {
   "cell_type": "code",
   "execution_count": null,
   "metadata": {},
   "outputs": [],
   "source": [
    "# Helper functions\n",
    "def scale(train, val):\n",
    "    scaler = StandardScaler()\n",
    "    scaler.fit(train)\n",
    "    train = scaler.transform(train)\n",
    "    val = scaler.transform(val)\n",
    "    return train, val, scaler\n",
    "\n",
    "\n",
    "def plot_evaluations(model, x, y, x_, y_):\n",
    "    plt.figure(figsize=(10, 10))\n",
    "    plt.plot((min(y), max(y)), (min(y), max(y)))\n",
    "    plt.scatter(model(x).cpu().numpy(), y)\n",
    "    plt.scatter(model(x_).cpu().numpy(), y_)\n",
    "    plt.show()\n",
    "\n",
    "\n",
    "# Evaluate different masks\n",
    "def evaluate_masks(model, masks, x_val, y_val):\n",
    "    predictions = model(x_val).cpu().numpy()\n",
    "    errors = np.abs(predictions - y_val)\n",
    "    results = []\n",
    "\n",
    "    for name, mask in masks.items():\n",
    "        estimator = build_estimator(\n",
    "            'mcdue_masked', model, nn_runs=config['nn_runs'], dropout_mask=mask,\n",
    "            dropout_rate=config['dropout_uq'])\n",
    "\n",
    "        for run in range(config['runs']):\n",
    "            estimations = estimator.estimate(x_val)\n",
    "            acc, ndcg, nll = get_uq_metrics(estimations, errors, config['acc_percentile'])\n",
    "            results.append([acc, ndcg, nll, name])\n",
    "\n",
    "            if hasattr(mask, 'reset'):\n",
    "                mask.reset()\n",
    "\n",
    "    return results\n"
   ]
  },
  {
   "cell_type": "code",
   "execution_count": null,
   "metadata": {},
   "outputs": [],
   "source": [
    "def multiple_kfold(k, data_size, max_iterations):\n",
    "    kfold = KFold(k)\n",
    "    for i in range(max_iterations):\n",
    "        if i % k == 0:\n",
    "            data_idx = np.random.permutation(data_size)\n",
    "            idx_generator = kfold.split(data_idx)\n",
    "        train_idx, val_idx = next(idx_generator)\n",
    "        yield data_idx[train_idx], data_idx[val_idx]"
   ]
  },
  {
   "cell_type": "code",
   "execution_count": null,
   "metadata": {},
   "outputs": [],
   "source": [
    "layer_sizes = [\n",
    "    [8, 64, 64, 32, 1],\n",
    "    [8, 128, 128, 64, 1],\n",
    "    [8, 256, 256, 128, 1],\n",
    "    [8, 512, 512, 256, 1],\n",
    "    [8, 1024, 1024, 512, 1]\n",
    "]\n",
    "# Train models and evaluate masks\n",
    "config['epochs'] = 10_000 \n",
    "config['max_runs'] = 20\n",
    "\n",
    "mask_results = [] \n",
    "\n",
    "for layer_size in layer_sizes:\n",
    "    config['layers'] = layer_size\n",
    "    kfold_iterator = multiple_kfold(config['k_folds'], len(x_set), config['max_runs'])\n",
    "    for m, (train_idx, val_idx) in enumerate(kfold_iterator):\n",
    "        x_train, y_train = x_set[train_idx], y_set[train_idx]\n",
    "        x_val, y_val = x_set[val_idx], y_set[val_idx]\n",
    "        print(x_train.shape, y_train.shape, x_val.shape)\n",
    "        print(\"Model\", m+1)\n",
    "\n",
    "        if config['scale']:\n",
    "            x_train, x_val, _ = scale(x_train, x_val)\n",
    "            y_train, y_val, y_scaler = scale(y_train, y_val)\n",
    "        else:\n",
    "            y_scaler = None\n",
    "\n",
    "\n",
    "        model = MLP(config['layers'], l2_reg=config['l2_reg'])\n",
    "        train_config = {k: config[k] for k in config if k in ['patience', 'dropout_rate', 'epochs', 'batch_size']}\n",
    "        model.fit((x_train, y_train), (x_val, y_val), **train_config)\n",
    "        if config['verbose']:\n",
    "            plot_evaluations(model, x_train, y_train, x_val, y_val)\n",
    "        results = evaluate_masks(model, masks, x_val, y_val)\n",
    "        for result in results:\n",
    "            result.append(layer_size[1])\n",
    "        mask_results.extend(results)"
   ]
  },
  {
   "cell_type": "code",
   "execution_count": null,
   "metadata": {},
   "outputs": [],
   "source": [
    "# Plot the results\n",
    "mask_df = pd.DataFrame(mask_results, columns=['acc', 'ndcg', 'nll', 'mask', 'layer_size'])\n",
    "\n",
    "plt.figure(figsize=(16, 18))\n",
    "\n",
    "def boxplot(df, x_label, y_label, i, bottom=0, top=1):\n",
    "    plt.subplot(3, 1, i)\n",
    "    plt.xticks(rotation=45)\n",
    "    if bottom is not None:\n",
    "        plt.ylim(bottom, top)\n",
    "    sns.boxplot(data=df, x=x_label, y=y_label, hue='layer_size')\n",
    "\n",
    "boxplot(mask_df, 'mask', 'acc', 1, 0, 0.8)\n",
    "boxplot(mask_df, 'mask', 'ndcg', 2, 0, 0.9)\n",
    "boxplot(mask_df, 'mask', 'nll', 3, None)"
   ]
  }
 ],
 "metadata": {
  "kernelspec": {
   "display_name": "Python 3",
   "language": "python",
   "name": "python3"
  },
  "language_info": {
   "codemirror_mode": {
    "name": "ipython",
    "version": 3
   },
   "file_extension": ".py",
   "mimetype": "text/x-python",
   "name": "python",
   "nbconvert_exporter": "python",
   "pygments_lexer": "ipython3",
   "version": "3.7.4"
  },
  "pycharm": {
   "stem_cell": {
    "cell_type": "raw",
    "metadata": {
     "collapsed": false
    },
    "source": []
   }
  }
 },
 "nbformat": 4,
 "nbformat_minor": 4
}
