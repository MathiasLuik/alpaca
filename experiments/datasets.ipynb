{
 "cells": [
  {
   "cell_type": "code",
   "execution_count": 1,
   "metadata": {},
   "outputs": [],
   "source": [
    "import sys\n",
    "sys.path.append('..')\n",
    "%load_ext autoreload\n",
    "%autoreload 2\n",
    "%matplotlib inline"
   ]
  },
  {
   "cell_type": "code",
   "execution_count": 2,
   "metadata": {},
   "outputs": [],
   "source": [
    "import numpy as np\n",
    "import pandas as pd\n",
    "import seaborn as sns\n",
    "import matplotlib.pyplot as plt\n",
    "\n",
    "from dataloader.boston_housing import BostonHousingData\n",
    "from dataloader.concrete import ConcreteData\n",
    "from experiment_setup import get_model, build_estimator\n",
    "from analysis.metrics import uq_accuracy, uq_ndcg, uq_nll\n",
    "from uncertainty_estimator.masks import BasicMask, LHSMask, MirrorMask, DecorrelationMask\n",
    "\n",
    "plt.rcParams['figure.facecolor'] = 'white'"
   ]
  },
  {
   "cell_type": "code",
   "execution_count": 3,
   "metadata": {},
   "outputs": [],
   "source": [
    "config = {\n",
    "    'random_seed': 43,\n",
    "    'nn_runs': 100,\n",
    "    'runs': 3,\n",
    "    'model_runs': 5,\n",
    "    'verbose': True,\n",
    "    'use_cache': False,\n",
    "    'layers': [13, 512, 512, 256, 1],\n",
    "    'epochs': 30_0,\n",
    "    'acc_percentile': 0.1,\n",
    "    'patience': 10,\n",
    "    'dropout_train': 0.2,\n",
    "    'dropout_uq': 0.3,\n",
    "    'batch_size': 100\n",
    "}"
   ]
  },
  {
   "cell_type": "markdown",
   "metadata": {},
   "source": [
    "## Boston Housing"
   ]
  },
  {
   "cell_type": "code",
   "execution_count": 4,
   "metadata": {},
   "outputs": [],
   "source": [
    "dataset_name = 'concrete'\n",
    "\n",
    "if dataset_name == 'boston_housing':\n",
    "    dataset = BostonHousingData()\n",
    "    config['layers'][0] = 13\n",
    "    model_paths = [f\"model/data/boston_housing_{i}.ckpt\" for i in range(config['model_runs'])]\n",
    "elif dataset_name == 'concrete':\n",
    "    dataset = ConcreteData()\n",
    "    config['layers'][0] = 8\n",
    "    model_paths = [f\"model/data/concrete_{i}.ckpt\" for i in range(config['model_runs'])]\n",
    "    \n",
    "x_train, y_train = dataset.dataset('train')\n",
    "x_val, y_val = dataset.dataset('val')"
   ]
  },
  {
   "cell_type": "code",
   "execution_count": 5,
   "metadata": {
    "scrolled": false
   },
   "outputs": [],
   "source": [
    "if not config['use_cache']:\n",
    "    for i in range(config['model_runs']):\n",
    "        model = get_model(\n",
    "            config['layers'], model_paths[i], (x_train, y_train), (x_val, y_val),\n",
    "            retrain=True, verbose=config['verbose'], patience=config['patience'],\n",
    "            dropout_rate=config['dropout_train'], epochs=config['epochs'], batch_size=config['batch_size'])\n",
    "        predictions = model(x_val).cpu().numpy()\n",
    "        plt.figure(figsize=(10, 10))\n",
    "        plt.plot((0, max(predictions)), (0, max(predictions)))\n",
    "        plt.scatter(predictions, y_val)\n",
    "        print(\"Model\", i+1, \"loss\", model.val_loss)"
   ]
  },
  {
   "cell_type": "code",
   "execution_count": 6,
   "metadata": {},
   "outputs": [],
   "source": [
    "masks = {\n",
    "    'vanilla': None,\n",
    "    'basic_mask': BasicMask(),\n",
    "    'lhs': LHSMask(config['nn_runs']),\n",
    "    'lhs_shuffled': LHSMask(config['nn_runs'], shuffle=True),\n",
    "    'mirror_random': MirrorMask(),\n",
    "    'decorrelating': DecorrelationMask(),\n",
    "    'decorr_sc': DecorrelationMask(scaling=True, dry_run=False)\n",
    "}\n"
   ]
  },
  {
   "cell_type": "code",
   "execution_count": 7,
   "metadata": {},
   "outputs": [],
   "source": [
    "mask_results = []\n",
    "\n",
    "for model_run in range(config['model_runs']):\n",
    "    print(f\"===Estimate on model {model_run+1}====\")\n",
    "    model = get_model(\n",
    "        config['layers'], model_paths[model_run],\n",
    "        (x_train, y_train), (x_val, y_val), epochs=config['epochs'])   \n",
    "    predictions = model(x_val).cpu().numpy()\n",
    "    errors = np.abs(predictions - y_val)\n",
    "\n",
    "    for name, mask in masks.items():\n",
    "        estimator = build_estimator(\n",
    "            'mcdue_masked', model, nn_runs=config['nn_runs'], dropout_mask=mask,\n",
    "            dropout_rate=config['dropout_uq'])\n",
    "\n",
    "        for run in range(config['runs']):\n",
    "            estimations = estimator.estimate(x_val)\n",
    "            acc = uq_accuracy(estimations, errors, config['acc_percentile'])\n",
    "            ndcg = uq_ndcg(errors, estimations)\n",
    "            nll = uq_nll(errors, estimations)\n",
    "            mask_results.append([acc, ndcg, nll, name])\n",
    "\n",
    "            if hasattr(mask, 'reset'):\n",
    "                mask.reset()\n",
    "                \n",
    "    nngp = build_estimator('nngp', model, nn_runs=config['nn_runs'], dropout_rate=config['dropout_uq'])\n",
    "    for run in range(config['runs']):\n",
    "        estimations = estimator.estimate(x_val, x_train, y_train)\n",
    "        acc = uq_accuracy(estimations, errors, config['acc_percentile'])\n",
    "        ndcg = uq_ndcg(errors, estimations)\n",
    "        nll = uq_nll(errors, estimations)\n",
    "        mask_results.append([acc, ndcg, nll, 'nngp'])\n"
   ]
  },
  {
   "cell_type": "code",
   "execution_count": 8,
   "metadata": {},
   "outputs": [],
   "source": [
    "\n",
    "mask_df = pd.DataFrame(mask_results, columns = ['acc', 'ndcg', 'nll', 'mask'])\n",
    "\n",
    "plt.figure(figsize=(16, 6))\n",
    "def boxplot(df, x_label, y_label, i, bottom=0, top=1):\n",
    "#     plt.figure()\n",
    "    plt.subplot(1, 3, i)\n",
    "    plt.xticks(rotation=45)\n",
    "    if bottom is not None:\n",
    "        plt.ylim(bottom, top)\n",
    "    sns.boxplot(data=mask_df, x=x_label, y=y_label)\n",
    "    \n",
    "boxplot(mask_df, 'mask', 'acc', 1, 0, 0.8)\n",
    "boxplot(mask_df, 'mask', 'ndcg', 2, 0, 0.9)\n",
    "boxplot(mask_df, 'mask', 'nll', 3, None)"
   ]
  },
  {
   "cell_type": "code",
   "execution_count": null,
   "metadata": {},
   "outputs": [],
   "source": []
  },
  {
   "cell_type": "code",
   "execution_count": null,
   "metadata": {},
   "outputs": [],
   "source": []
  },
  {
   "cell_type": "code",
   "execution_count": null,
   "metadata": {},
   "outputs": [],
   "source": []
  }
 ],
 "metadata": {
  "kernelspec": {
   "display_name": "Python 3",
   "language": "python",
   "name": "python3"
  },
  "language_info": {
   "codemirror_mode": {
    "name": "ipython",
    "version": 3
   },
   "file_extension": ".py",
   "mimetype": "text/x-python",
   "name": "python",
   "nbconvert_exporter": "python",
   "pygments_lexer": "ipython3",
   "version": "3.7.4"
  }
 },
 "nbformat": 4,
 "nbformat_minor": 1
}