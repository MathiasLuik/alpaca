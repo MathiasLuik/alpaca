{
 "cells": [
  {
   "cell_type": "code",
   "execution_count": 1,
   "metadata": {
    "pycharm": {
     "is_executing": false
    }
   },
   "outputs": [],
   "source": [
    "import sys\n",
    "sys.path.append('..')\n",
    "%load_ext autoreload\n",
    "%autoreload 2\n",
    "%matplotlib inline\n"
   ]
  },
  {
   "cell_type": "code",
   "execution_count": 2,
   "metadata": {
    "jupyter": {
     "outputs_hidden": false
    },
    "pycharm": {
     "is_executing": false,
     "name": "#%%\n"
    }
   },
   "outputs": [],
   "source": [
    "import pickle\n",
    "from datetime import datetime\n",
    "\n",
    "import numpy as np\n",
    "import matplotlib.pyplot as plt\n",
    "import pandas as pd\n",
    "import seaborn as sns\n",
    "\n",
    "\n",
    "from dataloader.builder import build_dataset\n",
    "from model.mlp import MLP\n",
    "from model.ensemble import MLPEnsemble\n",
    "from uncertainty_estimator.masks import build_masks, DEFAULT_MASKS\n",
    "from experiment_setup import build_estimator\n",
    "from analysis.metrics import get_uq_metrics\n",
    "from experiments.utils.data import scale, split_ood, multiple_kfold\n",
    "import torch\n",
    "\n",
    "plt.rcParams['figure.facecolor'] = 'white'\n",
    "torch.cuda.set_device(1)"
   ]
  },
  {
   "cell_type": "code",
   "execution_count": 3,
   "metadata": {
    "jupyter": {
     "outputs_hidden": false
    },
    "pycharm": {
     "is_executing": false,
     "name": "#%%\n"
    }
   },
   "outputs": [],
   "source": [
    "config = {\n",
    "    'nn_runs': 100,\n",
    "    'runs': 2,\n",
    "    'max_runs': 20,\n",
    "    'k_folds': 10,\n",
    "    'verbose': False,\n",
    "    'layers': [8, 256, 256, 128, 1],\n",
    "    'epochs': 10_000,\n",
    "    'validation_step': 100,\n",
    "    'acc_percentile': 0.1,\n",
    "    'patience': 3,\n",
    "    'dropout_rate': 0.2,\n",
    "    'dropout_uq': 0.5,\n",
    "    'batch_size': 256,\n",
    "    'dataset': 'kin8nm',\n",
    "    'l2_reg': 1e-4,\n",
    "    'ood_percentile': 90,\n",
    "    'with_ensembles': True\n",
    "}"
   ]
  },
  {
   "cell_type": "code",
   "execution_count": 4,
   "metadata": {
    "jupyter": {
     "outputs_hidden": false
    },
    "pycharm": {
     "is_executing": false,
     "name": "#%%\n"
    }
   },
   "outputs": [],
   "source": [
    "train_opts = ['patience', 'dropout_rate', 'epochs', 'batch_size', 'validation_step']\n",
    "config['train_opts'] = {k: config[k] for k in config if k in train_opts}\n"
   ]
  },
  {
   "cell_type": "markdown",
   "metadata": {
    "pycharm": {
     "name": "#%% md\n"
    }
   },
   "source": [
    "### Get data"
   ]
  },
  {
   "cell_type": "code",
   "execution_count": 5,
   "metadata": {
    "jupyter": {
     "outputs_hidden": false
    },
    "pycharm": {
     "is_executing": false,
     "name": "#%%\n"
    }
   },
   "outputs": [],
   "source": [
    "dataset = build_dataset(config['dataset'], val_split=0.01) \n",
    "x_all, y_all = dataset.dataset('train')\n",
    "x_set, y_set, x_ood, y_ood = split_ood(x_all, y_all, config['ood_percentile'])\n",
    "config['layers'][0] = x_all.shape[-1]"
   ]
  },
  {
   "cell_type": "markdown",
   "metadata": {
    "pycharm": {
     "name": "#%% md\n"
    }
   },
   "source": [
    "### Defining support functions\n"
   ]
  },
  {
   "cell_type": "code",
   "execution_count": 6,
   "metadata": {
    "jupyter": {
     "outputs_hidden": false
    },
    "pycharm": {
     "is_executing": false,
     "name": "#%% \n"
    }
   },
   "outputs": [],
   "source": [
    "masks = build_masks(DEFAULT_MASKS)\n",
    "\n",
    "def construct_estimator(model, model_type, name):\n",
    "    if model_type == 'mask': \n",
    "        mask = masks[name]\n",
    "        return build_estimator(\n",
    "            'mcdue_masked', model, nn_runs=config['nn_runs'], dropout_mask=mask,\n",
    "            dropout_rate=config['dropout_uq'])\n",
    "    else:\n",
    "        return build_estimator(name, model)\n",
    "\n",
    "\n",
    "class Evaluator:    \n",
    "    def __init__(self, x_test, y_test, y_scaler, tag='standard'):\n",
    "        self.x_test = x_test\n",
    "        self.y_test = y_test\n",
    "        self.unscale = lambda y : y_scaler.inverse_transform(y) \n",
    "        self.tag = tag\n",
    "        self.results = []\n",
    "\n",
    "    def bench(self, model, name, model_type='mask'): \n",
    "        predictions = model(self.x_test).cpu().numpy()\n",
    "        \n",
    "        errors = np.abs(predictions - self.y_test)\n",
    "        \n",
    "        scaled_errors = self.unscale(predictions) - self.unscale(self.y_test)\n",
    "        rmse = np.sqrt(np.mean(np.square(scaled_errors)))\n",
    "\n",
    "        estimator = construct_estimator(model, model_type, name)\n",
    "\n",
    "        for run in range(config['runs']):\n",
    "            estimations = estimator.estimate(self.x_test)\n",
    "            acc, ndcg, ll = get_uq_metrics(estimations, errors, config['acc_percentile'])\n",
    "            self.results.append([acc, ndcg, ll, rmse, name, self.tag])\n",
    "            if hasattr(estimator, 'reset'):\n",
    "                estimator.reset()\n",
    "            \n"
   ]
  },
  {
   "cell_type": "markdown",
   "metadata": {
    "pycharm": {
     "name": "#%% md\n"
    }
   },
   "source": [
    "### Train and generate results"
   ]
  },
  {
   "cell_type": "code",
   "execution_count": 8,
   "metadata": {
    "jupyter": {
     "outputs_hidden": false
    },
    "pycharm": {
     "is_executing": false,
     "name": "#%%\n"
    }
   },
   "outputs": [
    {
     "name": "stdout",
     "output_type": "stream",
     "text": [
      "Iteration 1\n",
      "Epoch [100/10000], Loss: 0.0798, Validation loss: 0.1180\n",
      "Epoch [200/10000], Loss: 0.0521, Validation loss: 0.1031\n",
      "Epoch [300/10000], Loss: 0.0547, Validation loss: 0.1125\n",
      "Epoch [400/10000], Loss: 0.0519, Validation loss: 0.1067\n",
      "Epoch [500/10000], Loss: 0.0499, Validation loss: 0.1281\n",
      "Fit [0/5] model:\n",
      "Epoch [100/10000], Loss: 0.1060, Validation loss: 0.1187\n",
      "Epoch [200/10000], Loss: 0.0472, Validation loss: 0.0963\n",
      "Epoch [300/10000], Loss: 0.0509, Validation loss: 0.1099\n",
      "Epoch [400/10000], Loss: 0.0428, Validation loss: 0.1027\n",
      "Epoch [500/10000], Loss: 0.0454, Validation loss: 0.1127\n",
      "Fit [1/5] model:\n",
      "Epoch [100/10000], Loss: 0.0641, Validation loss: 0.0996\n",
      "Epoch [200/10000], Loss: 0.0550, Validation loss: 0.1065\n",
      "Epoch [300/10000], Loss: 0.0580, Validation loss: 0.1077\n",
      "Epoch [400/10000], Loss: 0.0476, Validation loss: 0.1034\n",
      "Fit [2/5] model:\n",
      "Epoch [100/10000], Loss: 0.0787, Validation loss: 0.1049\n",
      "Epoch [200/10000], Loss: 0.0488, Validation loss: 0.1048\n",
      "Epoch [300/10000], Loss: 0.0395, Validation loss: 0.1022\n",
      "Epoch [400/10000], Loss: 0.0328, Validation loss: 0.0976\n",
      "Epoch [500/10000], Loss: 0.0273, Validation loss: 0.1009\n",
      "Epoch [600/10000], Loss: 0.0246, Validation loss: 0.1042\n",
      "Epoch [700/10000], Loss: 0.0215, Validation loss: 0.1031\n",
      "Fit [3/5] model:\n",
      "Epoch [100/10000], Loss: 0.0615, Validation loss: 0.1050\n",
      "Epoch [200/10000], Loss: 0.0329, Validation loss: 0.0964\n",
      "Epoch [300/10000], Loss: 0.0470, Validation loss: 0.1217\n",
      "Epoch [400/10000], Loss: 0.0336, Validation loss: 0.1050\n",
      "Epoch [500/10000], Loss: 0.0358, Validation loss: 0.1043\n",
      "Fit [4/5] model:\n",
      "Epoch [100/10000], Loss: 0.0658, Validation loss: 0.1033\n",
      "Epoch [200/10000], Loss: 0.0767, Validation loss: 0.1081\n",
      "Epoch [300/10000], Loss: 0.0381, Validation loss: 0.1037\n",
      "Epoch [400/10000], Loss: 0.0394, Validation loss: 0.1006\n",
      "Epoch [500/10000], Loss: 0.0270, Validation loss: 0.1030\n",
      "Epoch [600/10000], Loss: 0.0386, Validation loss: 0.1053\n",
      "Epoch [700/10000], Loss: 0.0250, Validation loss: 0.1003\n",
      "Epoch [800/10000], Loss: 0.0246, Validation loss: 0.1061\n",
      "Epoch [900/10000], Loss: 0.0253, Validation loss: 0.1046\n",
      "Epoch [1000/10000], Loss: 0.0306, Validation loss: 0.1058\n",
      "Iteration 2\n",
      "Epoch [100/10000], Loss: 0.0724, Validation loss: 0.1096\n",
      "Epoch [200/10000], Loss: 0.0481, Validation loss: 0.0987\n",
      "Epoch [300/10000], Loss: 0.0617, Validation loss: 0.1054\n",
      "Epoch [400/10000], Loss: 0.0503, Validation loss: 0.1331\n",
      "Epoch [500/10000], Loss: 0.0597, Validation loss: 0.1332\n",
      "Fit [0/5] model:\n",
      "Epoch [100/10000], Loss: 0.0676, Validation loss: 0.1095\n",
      "Epoch [200/10000], Loss: 0.0558, Validation loss: 0.1134\n",
      "Epoch [300/10000], Loss: 0.0439, Validation loss: 0.0990\n",
      "Epoch [400/10000], Loss: 0.0318, Validation loss: 0.1048\n",
      "Epoch [500/10000], Loss: 0.0376, Validation loss: 0.1168\n",
      "Epoch [600/10000], Loss: 0.0282, Validation loss: 0.1153\n",
      "Fit [1/5] model:\n",
      "Epoch [100/10000], Loss: 0.0898, Validation loss: 0.1029\n",
      "Epoch [200/10000], Loss: 0.0414, Validation loss: 0.0953\n",
      "Epoch [300/10000], Loss: 0.0439, Validation loss: 0.1001\n",
      "Epoch [400/10000], Loss: 0.0535, Validation loss: 0.1148\n",
      "Epoch [500/10000], Loss: 0.0324, Validation loss: 0.1086\n",
      "Fit [2/5] model:\n",
      "Epoch [100/10000], Loss: 0.0933, Validation loss: 0.1192\n",
      "Epoch [200/10000], Loss: 0.0510, Validation loss: 0.1036\n",
      "Epoch [300/10000], Loss: 0.0605, Validation loss: 0.1121\n",
      "Epoch [400/10000], Loss: 0.0274, Validation loss: 0.1004\n",
      "Epoch [500/10000], Loss: 0.0327, Validation loss: 0.1053\n",
      "Epoch [600/10000], Loss: 0.0369, Validation loss: 0.1093\n",
      "Epoch [700/10000], Loss: 0.0306, Validation loss: 0.1099\n",
      "Fit [3/5] model:\n",
      "Epoch [100/10000], Loss: 0.0896, Validation loss: 0.1042\n",
      "Epoch [200/10000], Loss: 0.0501, Validation loss: 0.1005\n",
      "Epoch [300/10000], Loss: 0.0407, Validation loss: 0.1046\n",
      "Epoch [400/10000], Loss: 0.0289, Validation loss: 0.1036\n",
      "Epoch [500/10000], Loss: 0.0251, Validation loss: 0.1047\n",
      "Fit [4/5] model:\n",
      "Epoch [100/10000], Loss: 0.0797, Validation loss: 0.0957\n",
      "Epoch [200/10000], Loss: 0.0501, Validation loss: 0.1049\n",
      "Epoch [300/10000], Loss: 0.0358, Validation loss: 0.1065\n",
      "Epoch [400/10000], Loss: 0.0486, Validation loss: 0.1171\n",
      "Iteration 3\n",
      "Epoch [100/10000], Loss: 0.0729, Validation loss: 0.1235\n",
      "Epoch [200/10000], Loss: 0.0543, Validation loss: 0.1160\n",
      "Epoch [300/10000], Loss: 0.0675, Validation loss: 0.1381\n",
      "Epoch [400/10000], Loss: 0.0444, Validation loss: 0.1226\n",
      "Epoch [500/10000], Loss: 0.0388, Validation loss: 0.1220\n",
      "Fit [0/5] model:\n",
      "Epoch [100/10000], Loss: 0.0598, Validation loss: 0.1186\n",
      "Epoch [200/10000], Loss: 0.0480, Validation loss: 0.1104\n",
      "Epoch [300/10000], Loss: 0.0539, Validation loss: 0.1316\n",
      "Epoch [400/10000], Loss: 0.0283, Validation loss: 0.1108\n",
      "Epoch [500/10000], Loss: 0.0306, Validation loss: 0.1092\n",
      "Epoch [600/10000], Loss: 0.0264, Validation loss: 0.1100\n",
      "Epoch [700/10000], Loss: 0.0278, Validation loss: 0.1171\n",
      "Epoch [800/10000], Loss: 0.0470, Validation loss: 0.1352\n",
      "Fit [1/5] model:\n",
      "Epoch [100/10000], Loss: 0.1100, Validation loss: 0.1394\n",
      "Epoch [200/10000], Loss: 0.0481, Validation loss: 0.1125\n",
      "Epoch [300/10000], Loss: 0.0578, Validation loss: 0.1169\n",
      "Epoch [400/10000], Loss: 0.0362, Validation loss: 0.1163\n",
      "Epoch [500/10000], Loss: 0.0311, Validation loss: 0.1118\n",
      "Epoch [600/10000], Loss: 0.0370, Validation loss: 0.1206\n",
      "Epoch [700/10000], Loss: 0.0265, Validation loss: 0.1133\n",
      "Epoch [800/10000], Loss: 0.0324, Validation loss: 0.1190\n",
      "Fit [2/5] model:\n",
      "Epoch [100/10000], Loss: 0.0829, Validation loss: 0.1129\n",
      "Epoch [200/10000], Loss: 0.0616, Validation loss: 0.1214\n",
      "Epoch [300/10000], Loss: 0.0464, Validation loss: 0.1164\n",
      "Epoch [400/10000], Loss: 0.0489, Validation loss: 0.1277\n",
      "Fit [3/5] model:\n",
      "Epoch [100/10000], Loss: 0.0625, Validation loss: 0.1121\n",
      "Epoch [200/10000], Loss: 0.0597, Validation loss: 0.1216\n",
      "Epoch [300/10000], Loss: 0.0339, Validation loss: 0.1096\n",
      "Epoch [400/10000], Loss: 0.0493, Validation loss: 0.1174\n",
      "Epoch [500/10000], Loss: 0.0258, Validation loss: 0.1114\n",
      "Epoch [600/10000], Loss: 0.0232, Validation loss: 0.1125\n",
      "Fit [4/5] model:\n",
      "Epoch [100/10000], Loss: 0.1235, Validation loss: 0.1605\n",
      "Epoch [200/10000], Loss: 0.0403, Validation loss: 0.1135\n",
      "Epoch [300/10000], Loss: 0.0476, Validation loss: 0.1123\n",
      "Epoch [400/10000], Loss: 0.0615, Validation loss: 0.1310\n",
      "Epoch [500/10000], Loss: 0.0400, Validation loss: 0.1163\n",
      "Epoch [600/10000], Loss: 0.0315, Validation loss: 0.1198\n",
      "Iteration 4\n",
      "Epoch [100/10000], Loss: 0.0894, Validation loss: 0.1268\n",
      "Epoch [200/10000], Loss: 0.0553, Validation loss: 0.1051\n",
      "Epoch [300/10000], Loss: 0.0492, Validation loss: 0.1112\n",
      "Epoch [400/10000], Loss: 0.0553, Validation loss: 0.1264\n",
      "Epoch [500/10000], Loss: 0.0337, Validation loss: 0.1159\n",
      "Fit [0/5] model:\n",
      "Epoch [100/10000], Loss: 0.0706, Validation loss: 0.1120\n",
      "Epoch [200/10000], Loss: 0.0762, Validation loss: 0.1345\n",
      "Epoch [300/10000], Loss: 0.0466, Validation loss: 0.1133\n",
      "Epoch [400/10000], Loss: 0.0321, Validation loss: 0.1059\n",
      "Epoch [500/10000], Loss: 0.0288, Validation loss: 0.1058\n",
      "Epoch [600/10000], Loss: 0.0267, Validation loss: 0.1129\n",
      "Epoch [700/10000], Loss: 0.0332, Validation loss: 0.1084\n",
      "Epoch [800/10000], Loss: 0.0279, Validation loss: 0.1110\n",
      "Fit [1/5] model:\n",
      "Epoch [100/10000], Loss: 0.0694, Validation loss: 0.1151\n",
      "Epoch [200/10000], Loss: 0.0519, Validation loss: 0.1189\n",
      "Epoch [300/10000], Loss: 0.0391, Validation loss: 0.1235\n",
      "Epoch [400/10000], Loss: 0.0337, Validation loss: 0.1216\n",
      "Fit [2/5] model:\n",
      "Epoch [100/10000], Loss: 0.0915, Validation loss: 0.1318\n",
      "Epoch [200/10000], Loss: 0.0507, Validation loss: 0.1077\n",
      "Epoch [300/10000], Loss: 0.0694, Validation loss: 0.1160\n",
      "Epoch [400/10000], Loss: 0.0363, Validation loss: 0.1144\n",
      "Epoch [500/10000], Loss: 0.0408, Validation loss: 0.1178\n",
      "Fit [3/5] model:\n",
      "Epoch [100/10000], Loss: 0.0893, Validation loss: 0.1207\n",
      "Epoch [200/10000], Loss: 0.0509, Validation loss: 0.1049\n",
      "Epoch [300/10000], Loss: 0.0408, Validation loss: 0.1075\n",
      "Epoch [400/10000], Loss: 0.0414, Validation loss: 0.1296\n",
      "Epoch [500/10000], Loss: 0.0333, Validation loss: 0.1152\n",
      "Fit [4/5] model:\n",
      "Epoch [100/10000], Loss: 0.0695, Validation loss: 0.1132\n",
      "Epoch [200/10000], Loss: 0.0511, Validation loss: 0.1191\n",
      "Epoch [300/10000], Loss: 0.0394, Validation loss: 0.1091\n",
      "Epoch [400/10000], Loss: 0.0575, Validation loss: 0.1464\n",
      "Epoch [500/10000], Loss: 0.0374, Validation loss: 0.1181\n"
     ]
    },
    {
     "name": "stdout",
     "output_type": "stream",
     "text": [
      "Epoch [600/10000], Loss: 0.0307, Validation loss: 0.1158\n",
      "Iteration 5\n"
     ]
    },
    {
     "ename": "KeyboardInterrupt",
     "evalue": "",
     "output_type": "error",
     "traceback": [
      "\u001b[0;31m---------------------------------------------------------------------------\u001b[0m",
      "\u001b[0;31mKeyboardInterrupt\u001b[0m                         Traceback (most recent call last)",
      "\u001b[0;32m<ipython-input-8-f1709431049e>\u001b[0m in \u001b[0;36m<module>\u001b[0;34m\u001b[0m\n\u001b[1;32m     19\u001b[0m     \u001b[0moptimizer\u001b[0m\u001b[0;34m=\u001b[0m\u001b[0;34m{\u001b[0m\u001b[0;34m'type'\u001b[0m\u001b[0;34m:\u001b[0m \u001b[0;34m'Adadelta'\u001b[0m\u001b[0;34m,\u001b[0m \u001b[0;34m'weight_decay'\u001b[0m\u001b[0;34m:\u001b[0m \u001b[0mconfig\u001b[0m\u001b[0;34m[\u001b[0m\u001b[0;34m'l2_reg'\u001b[0m\u001b[0;34m]\u001b[0m\u001b[0;34m}\u001b[0m\u001b[0;34m\u001b[0m\u001b[0;34m\u001b[0m\u001b[0m\n\u001b[1;32m     20\u001b[0m     \u001b[0mmodel\u001b[0m \u001b[0;34m=\u001b[0m \u001b[0mMLP\u001b[0m\u001b[0;34m(\u001b[0m\u001b[0mconfig\u001b[0m\u001b[0;34m[\u001b[0m\u001b[0;34m'layers'\u001b[0m\u001b[0;34m]\u001b[0m\u001b[0;34m,\u001b[0m \u001b[0moptimizer\u001b[0m\u001b[0;34m=\u001b[0m\u001b[0moptimizer\u001b[0m\u001b[0;34m)\u001b[0m\u001b[0;34m\u001b[0m\u001b[0;34m\u001b[0m\u001b[0m\n\u001b[0;32m---> 21\u001b[0;31m     \u001b[0mmodel\u001b[0m\u001b[0;34m.\u001b[0m\u001b[0mfit\u001b[0m\u001b[0;34m(\u001b[0m\u001b[0;34m(\u001b[0m\u001b[0mx_train\u001b[0m\u001b[0;34m,\u001b[0m \u001b[0my_train\u001b[0m\u001b[0;34m)\u001b[0m\u001b[0;34m,\u001b[0m \u001b[0;34m(\u001b[0m\u001b[0mx_val\u001b[0m\u001b[0;34m,\u001b[0m \u001b[0my_val\u001b[0m\u001b[0;34m)\u001b[0m\u001b[0;34m,\u001b[0m \u001b[0;34m**\u001b[0m\u001b[0mconfig\u001b[0m\u001b[0;34m[\u001b[0m\u001b[0;34m'train_opts'\u001b[0m\u001b[0;34m]\u001b[0m\u001b[0;34m)\u001b[0m\u001b[0;34m\u001b[0m\u001b[0;34m\u001b[0m\u001b[0m\n\u001b[0m\u001b[1;32m     22\u001b[0m \u001b[0;34m\u001b[0m\u001b[0m\n\u001b[1;32m     23\u001b[0m     \u001b[0;32mfor\u001b[0m \u001b[0mname\u001b[0m \u001b[0;32min\u001b[0m \u001b[0mmasks\u001b[0m\u001b[0;34m:\u001b[0m\u001b[0;34m\u001b[0m\u001b[0;34m\u001b[0m\u001b[0m\n",
      "\u001b[0;32m~/git/alpaca/model/mlp.py\u001b[0m in \u001b[0;36mfit\u001b[0;34m(self, train_set, val_set, epochs, verbose, validation_step, patience, batch_size, dropout_rate)\u001b[0m\n\u001b[1;32m     54\u001b[0m \u001b[0;34m\u001b[0m\u001b[0m\n\u001b[1;32m     55\u001b[0m                 \u001b[0;31m# Forward pass\u001b[0m\u001b[0;34m\u001b[0m\u001b[0;34m\u001b[0m\u001b[0;34m\u001b[0m\u001b[0m\n\u001b[0;32m---> 56\u001b[0;31m                 \u001b[0moutputs\u001b[0m \u001b[0;34m=\u001b[0m \u001b[0mself\u001b[0m\u001b[0;34m(\u001b[0m\u001b[0mpoints\u001b[0m\u001b[0;34m,\u001b[0m \u001b[0mtrain\u001b[0m\u001b[0;34m=\u001b[0m\u001b[0;32mTrue\u001b[0m\u001b[0;34m,\u001b[0m \u001b[0mdropout_rate\u001b[0m\u001b[0;34m=\u001b[0m\u001b[0mdropout_rate\u001b[0m\u001b[0;34m)\u001b[0m\u001b[0;34m\u001b[0m\u001b[0;34m\u001b[0m\u001b[0m\n\u001b[0m\u001b[1;32m     57\u001b[0m                 \u001b[0mloss\u001b[0m \u001b[0;34m=\u001b[0m \u001b[0mself\u001b[0m\u001b[0;34m.\u001b[0m\u001b[0mcriterion\u001b[0m\u001b[0;34m(\u001b[0m\u001b[0moutputs\u001b[0m\u001b[0;34m,\u001b[0m \u001b[0mlabels\u001b[0m\u001b[0;34m)\u001b[0m\u001b[0;34m\u001b[0m\u001b[0;34m\u001b[0m\u001b[0m\n\u001b[1;32m     58\u001b[0m \u001b[0;34m\u001b[0m\u001b[0m\n",
      "\u001b[0;32m~/.local/lib/python3.7/site-packages/torch/nn/modules/module.py\u001b[0m in \u001b[0;36m__call__\u001b[0;34m(self, *input, **kwargs)\u001b[0m\n\u001b[1;32m    491\u001b[0m             \u001b[0mresult\u001b[0m \u001b[0;34m=\u001b[0m \u001b[0mself\u001b[0m\u001b[0;34m.\u001b[0m\u001b[0m_slow_forward\u001b[0m\u001b[0;34m(\u001b[0m\u001b[0;34m*\u001b[0m\u001b[0minput\u001b[0m\u001b[0;34m,\u001b[0m \u001b[0;34m**\u001b[0m\u001b[0mkwargs\u001b[0m\u001b[0;34m)\u001b[0m\u001b[0;34m\u001b[0m\u001b[0;34m\u001b[0m\u001b[0m\n\u001b[1;32m    492\u001b[0m         \u001b[0;32melse\u001b[0m\u001b[0;34m:\u001b[0m\u001b[0;34m\u001b[0m\u001b[0;34m\u001b[0m\u001b[0m\n\u001b[0;32m--> 493\u001b[0;31m             \u001b[0mresult\u001b[0m \u001b[0;34m=\u001b[0m \u001b[0mself\u001b[0m\u001b[0;34m.\u001b[0m\u001b[0mforward\u001b[0m\u001b[0;34m(\u001b[0m\u001b[0;34m*\u001b[0m\u001b[0minput\u001b[0m\u001b[0;34m,\u001b[0m \u001b[0;34m**\u001b[0m\u001b[0mkwargs\u001b[0m\u001b[0;34m)\u001b[0m\u001b[0;34m\u001b[0m\u001b[0;34m\u001b[0m\u001b[0m\n\u001b[0m\u001b[1;32m    494\u001b[0m         \u001b[0;32mfor\u001b[0m \u001b[0mhook\u001b[0m \u001b[0;32min\u001b[0m \u001b[0mself\u001b[0m\u001b[0;34m.\u001b[0m\u001b[0m_forward_hooks\u001b[0m\u001b[0;34m.\u001b[0m\u001b[0mvalues\u001b[0m\u001b[0;34m(\u001b[0m\u001b[0;34m)\u001b[0m\u001b[0;34m:\u001b[0m\u001b[0;34m\u001b[0m\u001b[0;34m\u001b[0m\u001b[0m\n\u001b[1;32m    495\u001b[0m             \u001b[0mhook_result\u001b[0m \u001b[0;34m=\u001b[0m \u001b[0mhook\u001b[0m\u001b[0;34m(\u001b[0m\u001b[0mself\u001b[0m\u001b[0;34m,\u001b[0m \u001b[0minput\u001b[0m\u001b[0;34m,\u001b[0m \u001b[0mresult\u001b[0m\u001b[0;34m)\u001b[0m\u001b[0;34m\u001b[0m\u001b[0;34m\u001b[0m\u001b[0m\n",
      "\u001b[0;32m~/git/alpaca/model/mlp.py\u001b[0m in \u001b[0;36mforward\u001b[0;34m(self, x, dropout_rate, train, dropout_mask)\u001b[0m\n\u001b[1;32m     26\u001b[0m     \u001b[0;32mdef\u001b[0m \u001b[0mforward\u001b[0m\u001b[0;34m(\u001b[0m\u001b[0mself\u001b[0m\u001b[0;34m,\u001b[0m \u001b[0mx\u001b[0m\u001b[0;34m,\u001b[0m \u001b[0mdropout_rate\u001b[0m\u001b[0;34m=\u001b[0m\u001b[0;36m0\u001b[0m\u001b[0;34m,\u001b[0m \u001b[0mtrain\u001b[0m\u001b[0;34m=\u001b[0m\u001b[0;32mFalse\u001b[0m\u001b[0;34m,\u001b[0m \u001b[0mdropout_mask\u001b[0m\u001b[0;34m=\u001b[0m\u001b[0;32mNone\u001b[0m\u001b[0;34m)\u001b[0m\u001b[0;34m:\u001b[0m\u001b[0;34m\u001b[0m\u001b[0;34m\u001b[0m\u001b[0m\n\u001b[1;32m     27\u001b[0m         \u001b[0mout\u001b[0m \u001b[0;34m=\u001b[0m \u001b[0mtorch\u001b[0m\u001b[0;34m.\u001b[0m\u001b[0mDoubleTensor\u001b[0m\u001b[0;34m(\u001b[0m\u001b[0mx\u001b[0m\u001b[0;34m)\u001b[0m\u001b[0;34m.\u001b[0m\u001b[0mto\u001b[0m\u001b[0;34m(\u001b[0m\u001b[0mself\u001b[0m\u001b[0;34m.\u001b[0m\u001b[0mdevice\u001b[0m\u001b[0;34m)\u001b[0m \u001b[0;32mif\u001b[0m \u001b[0misinstance\u001b[0m\u001b[0;34m(\u001b[0m\u001b[0mx\u001b[0m\u001b[0;34m,\u001b[0m \u001b[0mnp\u001b[0m\u001b[0;34m.\u001b[0m\u001b[0mndarray\u001b[0m\u001b[0;34m)\u001b[0m \u001b[0;32melse\u001b[0m \u001b[0mx\u001b[0m\u001b[0;34m\u001b[0m\u001b[0;34m\u001b[0m\u001b[0m\n\u001b[0;32m---> 28\u001b[0;31m         \u001b[0mout\u001b[0m \u001b[0;34m=\u001b[0m \u001b[0mF\u001b[0m\u001b[0;34m.\u001b[0m\u001b[0mleaky_relu\u001b[0m\u001b[0;34m(\u001b[0m\u001b[0mself\u001b[0m\u001b[0;34m.\u001b[0m\u001b[0mfcs\u001b[0m\u001b[0;34m[\u001b[0m\u001b[0;36m0\u001b[0m\u001b[0;34m]\u001b[0m\u001b[0;34m(\u001b[0m\u001b[0mout\u001b[0m\u001b[0;34m)\u001b[0m\u001b[0;34m)\u001b[0m\u001b[0;34m\u001b[0m\u001b[0;34m\u001b[0m\u001b[0m\n\u001b[0m\u001b[1;32m     29\u001b[0m \u001b[0;34m\u001b[0m\u001b[0m\n\u001b[1;32m     30\u001b[0m         \u001b[0;32mfor\u001b[0m \u001b[0mlayer_num\u001b[0m\u001b[0;34m,\u001b[0m \u001b[0mfc\u001b[0m \u001b[0;32min\u001b[0m \u001b[0menumerate\u001b[0m\u001b[0;34m(\u001b[0m\u001b[0mself\u001b[0m\u001b[0;34m.\u001b[0m\u001b[0mfcs\u001b[0m\u001b[0;34m[\u001b[0m\u001b[0;36m1\u001b[0m\u001b[0;34m:\u001b[0m\u001b[0;34m-\u001b[0m\u001b[0;36m1\u001b[0m\u001b[0;34m]\u001b[0m\u001b[0;34m)\u001b[0m\u001b[0;34m:\u001b[0m\u001b[0;34m\u001b[0m\u001b[0;34m\u001b[0m\u001b[0m\n",
      "\u001b[0;32m~/.local/lib/python3.7/site-packages/torch/nn/modules/module.py\u001b[0m in \u001b[0;36m__call__\u001b[0;34m(self, *input, **kwargs)\u001b[0m\n\u001b[1;32m    491\u001b[0m             \u001b[0mresult\u001b[0m \u001b[0;34m=\u001b[0m \u001b[0mself\u001b[0m\u001b[0;34m.\u001b[0m\u001b[0m_slow_forward\u001b[0m\u001b[0;34m(\u001b[0m\u001b[0;34m*\u001b[0m\u001b[0minput\u001b[0m\u001b[0;34m,\u001b[0m \u001b[0;34m**\u001b[0m\u001b[0mkwargs\u001b[0m\u001b[0;34m)\u001b[0m\u001b[0;34m\u001b[0m\u001b[0;34m\u001b[0m\u001b[0m\n\u001b[1;32m    492\u001b[0m         \u001b[0;32melse\u001b[0m\u001b[0;34m:\u001b[0m\u001b[0;34m\u001b[0m\u001b[0;34m\u001b[0m\u001b[0m\n\u001b[0;32m--> 493\u001b[0;31m             \u001b[0mresult\u001b[0m \u001b[0;34m=\u001b[0m \u001b[0mself\u001b[0m\u001b[0;34m.\u001b[0m\u001b[0mforward\u001b[0m\u001b[0;34m(\u001b[0m\u001b[0;34m*\u001b[0m\u001b[0minput\u001b[0m\u001b[0;34m,\u001b[0m \u001b[0;34m**\u001b[0m\u001b[0mkwargs\u001b[0m\u001b[0;34m)\u001b[0m\u001b[0;34m\u001b[0m\u001b[0;34m\u001b[0m\u001b[0m\n\u001b[0m\u001b[1;32m    494\u001b[0m         \u001b[0;32mfor\u001b[0m \u001b[0mhook\u001b[0m \u001b[0;32min\u001b[0m \u001b[0mself\u001b[0m\u001b[0;34m.\u001b[0m\u001b[0m_forward_hooks\u001b[0m\u001b[0;34m.\u001b[0m\u001b[0mvalues\u001b[0m\u001b[0;34m(\u001b[0m\u001b[0;34m)\u001b[0m\u001b[0;34m:\u001b[0m\u001b[0;34m\u001b[0m\u001b[0;34m\u001b[0m\u001b[0m\n\u001b[1;32m    495\u001b[0m             \u001b[0mhook_result\u001b[0m \u001b[0;34m=\u001b[0m \u001b[0mhook\u001b[0m\u001b[0;34m(\u001b[0m\u001b[0mself\u001b[0m\u001b[0;34m,\u001b[0m \u001b[0minput\u001b[0m\u001b[0;34m,\u001b[0m \u001b[0mresult\u001b[0m\u001b[0;34m)\u001b[0m\u001b[0;34m\u001b[0m\u001b[0;34m\u001b[0m\u001b[0m\n",
      "\u001b[0;32m~/.local/lib/python3.7/site-packages/torch/nn/modules/linear.py\u001b[0m in \u001b[0;36mforward\u001b[0;34m(self, input)\u001b[0m\n\u001b[1;32m     90\u001b[0m     \u001b[0;34m@\u001b[0m\u001b[0mweak_script_method\u001b[0m\u001b[0;34m\u001b[0m\u001b[0;34m\u001b[0m\u001b[0m\n\u001b[1;32m     91\u001b[0m     \u001b[0;32mdef\u001b[0m \u001b[0mforward\u001b[0m\u001b[0;34m(\u001b[0m\u001b[0mself\u001b[0m\u001b[0;34m,\u001b[0m \u001b[0minput\u001b[0m\u001b[0;34m)\u001b[0m\u001b[0;34m:\u001b[0m\u001b[0;34m\u001b[0m\u001b[0;34m\u001b[0m\u001b[0m\n\u001b[0;32m---> 92\u001b[0;31m         \u001b[0;32mreturn\u001b[0m \u001b[0mF\u001b[0m\u001b[0;34m.\u001b[0m\u001b[0mlinear\u001b[0m\u001b[0;34m(\u001b[0m\u001b[0minput\u001b[0m\u001b[0;34m,\u001b[0m \u001b[0mself\u001b[0m\u001b[0;34m.\u001b[0m\u001b[0mweight\u001b[0m\u001b[0;34m,\u001b[0m \u001b[0mself\u001b[0m\u001b[0;34m.\u001b[0m\u001b[0mbias\u001b[0m\u001b[0;34m)\u001b[0m\u001b[0;34m\u001b[0m\u001b[0;34m\u001b[0m\u001b[0m\n\u001b[0m\u001b[1;32m     93\u001b[0m \u001b[0;34m\u001b[0m\u001b[0m\n\u001b[1;32m     94\u001b[0m     \u001b[0;32mdef\u001b[0m \u001b[0mextra_repr\u001b[0m\u001b[0;34m(\u001b[0m\u001b[0mself\u001b[0m\u001b[0;34m)\u001b[0m\u001b[0;34m:\u001b[0m\u001b[0;34m\u001b[0m\u001b[0;34m\u001b[0m\u001b[0m\n",
      "\u001b[0;32m~/.local/lib/python3.7/site-packages/torch/nn/functional.py\u001b[0m in \u001b[0;36mlinear\u001b[0;34m(input, weight, bias)\u001b[0m\n\u001b[1;32m   1404\u001b[0m     \u001b[0;32mif\u001b[0m \u001b[0minput\u001b[0m\u001b[0;34m.\u001b[0m\u001b[0mdim\u001b[0m\u001b[0;34m(\u001b[0m\u001b[0;34m)\u001b[0m \u001b[0;34m==\u001b[0m \u001b[0;36m2\u001b[0m \u001b[0;32mand\u001b[0m \u001b[0mbias\u001b[0m \u001b[0;32mis\u001b[0m \u001b[0;32mnot\u001b[0m \u001b[0;32mNone\u001b[0m\u001b[0;34m:\u001b[0m\u001b[0;34m\u001b[0m\u001b[0;34m\u001b[0m\u001b[0m\n\u001b[1;32m   1405\u001b[0m         \u001b[0;31m# fused op is marginally faster\u001b[0m\u001b[0;34m\u001b[0m\u001b[0;34m\u001b[0m\u001b[0;34m\u001b[0m\u001b[0m\n\u001b[0;32m-> 1406\u001b[0;31m         \u001b[0mret\u001b[0m \u001b[0;34m=\u001b[0m \u001b[0mtorch\u001b[0m\u001b[0;34m.\u001b[0m\u001b[0maddmm\u001b[0m\u001b[0;34m(\u001b[0m\u001b[0mbias\u001b[0m\u001b[0;34m,\u001b[0m \u001b[0minput\u001b[0m\u001b[0;34m,\u001b[0m \u001b[0mweight\u001b[0m\u001b[0;34m.\u001b[0m\u001b[0mt\u001b[0m\u001b[0;34m(\u001b[0m\u001b[0;34m)\u001b[0m\u001b[0;34m)\u001b[0m\u001b[0;34m\u001b[0m\u001b[0;34m\u001b[0m\u001b[0m\n\u001b[0m\u001b[1;32m   1407\u001b[0m     \u001b[0;32melse\u001b[0m\u001b[0;34m:\u001b[0m\u001b[0;34m\u001b[0m\u001b[0;34m\u001b[0m\u001b[0m\n\u001b[1;32m   1408\u001b[0m         \u001b[0moutput\u001b[0m \u001b[0;34m=\u001b[0m \u001b[0minput\u001b[0m\u001b[0;34m.\u001b[0m\u001b[0mmatmul\u001b[0m\u001b[0;34m(\u001b[0m\u001b[0mweight\u001b[0m\u001b[0;34m.\u001b[0m\u001b[0mt\u001b[0m\u001b[0;34m(\u001b[0m\u001b[0;34m)\u001b[0m\u001b[0;34m)\u001b[0m\u001b[0;34m\u001b[0m\u001b[0;34m\u001b[0m\u001b[0m\n",
      "\u001b[0;31mKeyboardInterrupt\u001b[0m: "
     ]
    }
   ],
   "source": [
    "mask_results = [] \n",
    "kfold_iterator = multiple_kfold(config['k_folds'], len(x_set), config['max_runs'])\n",
    "\n",
    "for m, (train_idx, val_idx) in enumerate(kfold_iterator):\n",
    "    x_train, y_train = x_set[train_idx], y_set[train_idx]\n",
    "    x_val, y_val = x_set[val_idx], y_set[val_idx]\n",
    "    print(\"Iteration\", m+1)\n",
    "\n",
    "    x_train, x_val, x_scaler = scale(x_train, x_val)\n",
    "    y_train, y_val, y_scaler = scale(y_train, y_val)\n",
    "    x_ood_scaled = x_scaler.transform(x_ood)\n",
    "    y_ood_scaled = y_scaler.transform(y_ood)\n",
    "    \n",
    "    standard_evaluator = Evaluator(x_val, y_val, y_scaler, 'standard')\n",
    "    ood_evaluator = Evaluator(x_ood_scaled, y_ood_scaled, y_scaler, 'ood')\n",
    "    \n",
    "    \n",
    "    #Dropout \n",
    "    optimizer={'type': 'Adadelta', 'weight_decay': config['l2_reg']}\n",
    "    model = MLP(config['layers'], optimizer=optimizer)\n",
    "    model.fit((x_train, y_train), (x_val, y_val), **config['train_opts'])\n",
    "    \n",
    "    for name in masks: \n",
    "        standard_evaluator.bench(model, name, 'mask')\n",
    "        ood_evaluator.bench(model, name, 'mask')\n",
    "    \n",
    "    # RMSE ensemble\n",
    "    train_opts = config['train_opts'].copy()\n",
    "    model = MLPEnsemble(config['layers'], n_models=5, reduction='mean')\n",
    "    model.fit((x_train, y_train), (x_val, y_val), **train_opts)\n",
    "\n",
    "    standard_evaluator.bench(model, 'eue', 'ensemble')\n",
    "    ood_evaluator.bench(model, 'eue', 'ensemble')\n",
    "    \n",
    "    mask_results += standard_evaluator.results\n",
    "    mask_results += ood_evaluator.results\n",
    "    "
   ]
  },
  {
   "cell_type": "markdown",
   "metadata": {
    "pycharm": {
     "is_executing": false,
     "name": "#%% md\n"
    }
   },
   "source": [
    "### Plot the results "
   ]
  },
  {
   "cell_type": "code",
   "execution_count": 9,
   "metadata": {
    "jupyter": {
     "outputs_hidden": false
    },
    "pycharm": {
     "is_executing": false,
     "name": "#%%\n"
    }
   },
   "outputs": [
    {
     "data": {
      "image/png": "[encoded data removed]",
      "text/plain": [
       "<Figure size 1152x1152 with 5 Axes>"
      ]
     },
     "metadata": {},
     "output_type": "display_data"
    }
   ],
   "source": [
    "mask_df = pd.DataFrame(mask_results, columns=['Acc', 'NDCG', 'LL', 'RMSE', 'Mask', 'Tag'])\n",
    "\n",
    "fig = plt.figure(figsize=(16, 16))\n",
    "plt.suptitle(config['dataset'], fontsize=16)\n",
    "fig.subplots_adjust(top=0.95)\n",
    "\n",
    "\n",
    "def boxplot(df, x_label, y_label, i, bottom=0, top=1):\n",
    "    plt.subplot(4, 2, i)\n",
    "    plt.xticks(rotation=45)\n",
    "    if bottom is not None:\n",
    "        plt.ylim(bottom, top)\n",
    "    sns.boxplot(data=df, x=x_label, y=y_label, hue='Tag')\n",
    "\n",
    "boxplot(mask_df, 'Mask', 'Acc', 1, 0, 1)\n",
    "boxplot(mask_df, 'Mask', 'NDCG', 2, 0, 1)\n",
    "boxplot(mask_df[mask_df.Tag=='standard'], 'Mask', 'LL', 3, None)\n",
    "boxplot(mask_df[mask_df.Tag=='ood'], 'Mask', 'LL', 4, None)\n",
    "boxplot(mask_df, None, 'RMSE', 5, 0, 1.2*mask_df.RMSE.max())\n"
   ]
  },
  {
   "cell_type": "code",
   "execution_count": null,
   "metadata": {
    "jupyter": {
     "outputs_hidden": false
    },
    "pycharm": {
     "is_executing": false,
     "name": "#%%\n"
    }
   },
   "outputs": [],
   "source": [
    "timestamp = datetime.now().strftime(\"%y-%m-%d__%H_%M\")\n",
    "with open(f\"data/results_{config['dataset']}_{timestamp}.pkl\", 'wb') as f:\n",
    "    pickle.dump(mask_results, f)\n",
    "    "
   ]
  },
  {
   "cell_type": "code",
   "execution_count": null,
   "metadata": {
    "jupyter": {
     "outputs_hidden": false
    },
    "pycharm": {
     "is_executing": false,
     "name": "#%%\n"
    }
   },
   "outputs": [],
   "source": [
    "\n"
   ]
  }
 ],
 "metadata": {
  "kernelspec": {
   "display_name": "Python 3",
   "language": "python",
   "name": "python3"
  },
  "language_info": {
   "codemirror_mode": {
    "name": "ipython",
    "version": 3
   },
   "file_extension": ".py",
   "mimetype": "text/x-python",
   "name": "python",
   "nbconvert_exporter": "python",
   "pygments_lexer": "ipython3",
   "version": "3.7.3"
  },
  "pycharm": {
   "stem_cell": {
    "cell_type": "raw",
    "metadata": {
     "collapsed": false
    },
    "source": []
   }
  }
 },
 "nbformat": 4,
 "nbformat_minor": 4
}
