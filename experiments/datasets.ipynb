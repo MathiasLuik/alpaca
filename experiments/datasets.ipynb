{
 "cells": [
  {
   "cell_type": "code",
   "execution_count": 1,
   "metadata": {},
   "outputs": [],
   "source": [
    "import sys\n",
    "sys.path.append('..')\n",
    "%load_ext autoreload\n",
    "%autoreload 2\n",
    "%matplotlib inline"
   ]
  },
  {
   "cell_type": "code",
   "execution_count": 2,
   "metadata": {},
   "outputs": [],
   "source": [
    "import numpy as np\n",
    "import pandas as pd\n",
    "import seaborn as sns\n",
    "import matplotlib.pyplot as plt\n",
    "from sklearn.preprocessing import StandardScaler\n",
    "\n",
    "from dataloader.boston_housing import BostonHousingData\n",
    "from dataloader.concrete import ConcreteData\n",
    "from dataloader.energy_efficiency import EnergyEfficiencyData\n",
    "from experiment_setup import get_model, build_estimator\n",
    "from analysis.metrics import uq_accuracy, uq_ndcg, uq_nll\n",
    "from uncertainty_estimator.masks import BasicMask, LHSMask, MirrorMask, DecorrelationMask\n",
    "\n",
    "plt.rcParams['figure.facecolor'] = 'white'"
   ]
  },
  {
   "cell_type": "code",
   "execution_count": 3,
   "metadata": {},
   "outputs": [],
   "source": [
    "config = {\n",
    "    'random_seed': 43,\n",
    "    'nn_runs': 100,\n",
    "    'runs': 3,\n",
    "    'model_runs': 10,\n",
    "    'verbose': False,\n",
    "    'use_cache': False,\n",
    "    'layers': [13, 512, 512, 256, 1],\n",
    "    'epochs': 30_000,\n",
    "    'acc_percentile': 0.1,\n",
    "    'patience': 3,\n",
    "    'dropout_train': 0.2,\n",
    "    'dropout_uq': 0.3,\n",
    "    'batch_size': 32,\n",
    "    'dataset': 'boston_housing',\n",
    "    'scale': True\n",
    "}"
   ]
  },
  {
   "cell_type": "code",
   "execution_count": 4,
   "metadata": {
    "scrolled": false
   },
   "outputs": [],
   "source": [
    "# Load data\n",
    "datasets = {\n",
    "    'boston_housing': BostonHousingData,\n",
    "    'concrete': ConcreteData,\n",
    "    'energy_efficiency': EnergyEfficiencyData}\n",
    "\n",
    "dataset = datasets[config['dataset']]()\n",
    "    \n",
    "model_paths = [\"model/data/{}_{}.ckpt\".format(config['dataset'], i) for i in range(config['model_runs'])]  \n",
    "x_train, y_train = dataset.dataset('train')\n",
    "x_val, y_val = dataset.dataset('val')"
   ]
  },
  {
   "cell_type": "code",
   "execution_count": 5,
   "metadata": {},
   "outputs": [],
   "source": [
    "# Normalize dataset\n",
    "def scale(train, val):\n",
    "    scaler = StandardScaler()\n",
    "    scaler.fit(train)\n",
    "    train = scaler.transform(train)\n",
    "    val = scaler.transform(val)\n",
    "    return train, val, scaler\n",
    "\n",
    "if config['scale']:\n",
    "    x_train, x_val, _ = scale(x_train, x_val)\n",
    "    y_train, y_val, y_scaler = scale(y_train, y_val)\n",
    "else:\n",
    "    y_scaler = None"
   ]
  },
  {
   "cell_type": "code",
   "execution_count": null,
   "metadata": {
    "scrolled": false
   },
   "outputs": [],
   "source": [
    "# Train models\n",
    "def plot_evaluations(model, x, y, x_, y_):\n",
    "    predictions = model(x).cpu().numpy()\n",
    "    plt.figure(figsize=(10, 10))\n",
    "    plt.plot((min(y), max(y)), (min(y), max(y)))\n",
    "    plt.scatter(model(x).cpu().numpy(), y)\n",
    "    plt.scatter(model(x_).cpu().numpy(), y_)\n",
    "\n",
    "\n",
    "for i in range(config['model_runs']):\n",
    "    model = get_model(\n",
    "        config['layers'], model_paths[i], (x_train, y_train), (x_val, y_val),\n",
    "        retrain=True, verbose=config['verbose'], patience=config['patience'],\n",
    "        dropout_rate=config['dropout_train'], epochs=config['epochs'], batch_size=config['batch_size'])\n",
    "    plot_evaluations(model, x_val, y_val, x_train, y_train)\n",
    "    print(\"Model\", i+1, \"loss\", model.evaluate((x_val, y_val), y_scaler))"
   ]
  },
  {
   "cell_type": "code",
   "execution_count": null,
   "metadata": {},
   "outputs": [],
   "source": [
    "masks = {\n",
    "    'vanilla': None,\n",
    "    'basic_mask': BasicMask(),\n",
    "    'lhs': LHSMask(config['nn_runs']),\n",
    "    'lhs_shuffled': LHSMask(config['nn_runs'], shuffle=True),\n",
    "    'mirror_random': MirrorMask(),\n",
    "    'decorrelating': DecorrelationMask(),\n",
    "    'decorr_sc': DecorrelationMask(scaling=True, dry_run=False)\n",
    "}\n"
   ]
  },
  {
   "cell_type": "code",
   "execution_count": null,
   "metadata": {},
   "outputs": [],
   "source": [
    "# Evaluate different masks\n",
    "\n",
    "def get_metrics(estimations, errors, acc_percentile=0.1):\n",
    "    acc = uq_accuracy(estimations, errors, acc_percentile)\n",
    "    ndcg = uq_ndcg(errors, estimations)\n",
    "    nll = uq_nll(errors, estimations)\n",
    "    return acc, ndcg, nll\n",
    "\n",
    "def evaluate_masks(model, masks, x_val, y_val, y_scaler=None):\n",
    "    predictions = model(x_val).cpu().numpy()\n",
    "    errors = np.abs(predictions - y_val)\n",
    "    results = []\n",
    "\n",
    "    for name, mask in masks.items():\n",
    "        estimator = build_estimator(\n",
    "            'mcdue_masked', model, nn_runs=config['nn_runs'], dropout_mask=mask,\n",
    "            dropout_rate=config['dropout_uq'])\n",
    "\n",
    "        for run in range(config['runs']):\n",
    "            estimations = estimator.estimate(x_val)\n",
    "            acc, ndcg, nll = get_metrics(estimations, errors, config['acc_percentile'])\n",
    "            results.append([acc, ndcg, nll, name])\n",
    "\n",
    "            if hasattr(mask, 'reset'):\n",
    "                mask.reset()\n",
    "                \n",
    "    return results\n",
    "\n",
    "mask_results = []\n",
    "for model_run in range(config['model_runs']):\n",
    "    print(f\"===Estimate on model {model_run+1}====\")\n",
    "    model = get_model(config['layers'], model_paths[model_run]) \n",
    "    results = evaluate_masks(model, masks, x_val, y_val)\n",
    "    mask_results.extend(results)\n",
    "    \n"
   ]
  },
  {
   "cell_type": "code",
   "execution_count": null,
   "metadata": {},
   "outputs": [],
   "source": [
    "# Plot the results\n",
    "\n",
    "mask_df = pd.DataFrame(mask_results, columns = ['acc', 'ndcg', 'nll', 'mask'])\n",
    "\n",
    "plt.figure(figsize=(16, 6))\n",
    "def boxplot(df, x_label, y_label, i, bottom=0, top=1):\n",
    "    plt.subplot(1, 3, i)\n",
    "    plt.xticks(rotation=45)\n",
    "    if bottom is not None:\n",
    "        plt.ylim(bottom, top)\n",
    "    sns.boxplot(data=df, x=x_label, y=y_label)\n",
    "    \n",
    "boxplot(mask_df, 'mask', 'acc', 1, 0, 0.8)\n",
    "boxplot(mask_df, 'mask', 'ndcg', 2, 0, 0.9)\n",
    "boxplot(mask_df, 'mask', 'nll', 3, None)"
   ]
  },
  {
   "cell_type": "code",
   "execution_count": null,
   "metadata": {},
   "outputs": [],
   "source": []
  }
 ],
 "metadata": {
  "kernelspec": {
   "display_name": "Python 3",
   "language": "python",
   "name": "python3"
  },
  "language_info": {
   "codemirror_mode": {
    "name": "ipython",
    "version": 3
   },
   "file_extension": ".py",
   "mimetype": "text/x-python",
   "name": "python",
   "nbconvert_exporter": "python",
   "pygments_lexer": "ipython3",
   "version": "3.7.4"
  }
 },
 "nbformat": 4,
 "nbformat_minor": 1
}