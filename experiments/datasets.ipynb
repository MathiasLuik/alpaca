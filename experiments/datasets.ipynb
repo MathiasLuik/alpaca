{
 "cells": [
  {
   "cell_type": "code",
   "execution_count": 1,
   "metadata": {},
   "outputs": [],
   "source": [
    "import sys\n",
    "sys.path.append('..')\n",
    "%load_ext autoreload\n",
    "%autoreload 2\n",
    "%matplotlib inline"
   ]
  },
  {
   "cell_type": "code",
   "execution_count": 2,
   "metadata": {},
   "outputs": [],
   "source": [
    "import numpy as np\n",
    "import pandas as pd\n",
    "import seaborn as sns\n",
    "import matplotlib.pyplot as plt\n",
    "\n",
    "from dataloader.boston_housing import BostonHousingData\n",
    "from dataloader.concrete import ConcreteData\n",
    "from dataloader.energy_efficiency import EnergyEfficiencyData\n",
    "from experiment_setup import get_model, build_estimator\n",
    "from analysis.metrics import uq_accuracy, uq_ndcg, uq_nll\n",
    "from uncertainty_estimator.masks import BasicMask, LHSMask, MirrorMask, DecorrelationMask\n",
    "\n",
    "plt.rcParams['figure.facecolor'] = 'white'"
   ]
  },
  {
   "cell_type": "code",
   "execution_count": 3,
   "metadata": {},
   "outputs": [],
   "source": [
    "config = {\n",
    "    'random_seed': 43,\n",
    "    'nn_runs': 100,\n",
    "    'runs': 3,\n",
    "    'model_runs': 10,\n",
    "    'verbose': False,\n",
    "    'use_cache': False,\n",
    "    'layers': [13, 512, 512, 256, 1],\n",
    "    'epochs': 30_000,\n",
    "    'acc_percentile': 0.1,\n",
    "    'patience': 10,\n",
    "    'dropout_train': 0.2,\n",
    "    'dropout_uq': 0.3,\n",
    "    'batch_size': 32\n",
    "}"
   ]
  },
  {
   "cell_type": "markdown",
   "metadata": {},
   "source": [
    "## Boston Housing"
   ]
  },
  {
   "cell_type": "code",
   "execution_count": 6,
   "metadata": {
    "scrolled": false
   },
   "outputs": [],
   "source": [
    "datasets_name = ['boston_housing', 'concrete', 'energy_efficiency']\n",
    "dataset_name = datasets_name[0]\n",
    "\n",
    "if dataset_name == 'boston_housing':\n",
    "    dataset = BostonHousingData()\n",
    "    config['layers'][0] = 13\n",
    "elif dataset_name == 'concrete':\n",
    "    dataset = ConcreteData()\n",
    "    config['layers'][0] = 8\n",
    "elif dataset_name == 'energy_efficiency':\n",
    "    dataset = EnergyEfficiencyData()\n",
    "    config['layers'][0] = 8\n",
    "    \n",
    "model_paths = [f\"model/data/{dataset_name}_{i}.ckpt\" for i in range(config['model_runs'])]  \n",
    "x_train, y_train = dataset.dataset('train')\n",
    "x_val, y_val = dataset.dataset('val')"
   ]
  },
  {
   "cell_type": "code",
   "execution_count": 7,
   "metadata": {
    "scrolled": false
   },
   "outputs": [],
   "source": [
    "def plot_evaluations(model, x, y):\n",
    "    predictions = model(x).cpu().numpy()\n",
    "    plt.figure(figsize=(10, 10))\n",
    "    plt.plot((0, max(predictions)), (0, max(predictions)))\n",
    "    plt.scatter(predictions, y)\n",
    "\n",
    "if not config['use_cache']:\n",
    "    for i in range(config['model_runs']):\n",
    "        model = get_model(\n",
    "            config['layers'], model_paths[i], (x_train, y_train), (x_val, y_val),\n",
    "            retrain=True, verbose=config['verbose'], patience=config['patience'],\n",
    "            dropout_rate=config['dropout_train'], epochs=config['epochs'], batch_size=config['batch_size'])\n",
    "        plot_evaluations(model, x, y)\n",
    "        print(\"Model\", i+1, \"loss\", model.val_loss)"
   ]
  },
  {
   "cell_type": "code",
   "execution_count": 8,
   "metadata": {},
   "outputs": [],
   "source": [
    "masks = {\n",
    "    'vanilla': None,\n",
    "    'basic_mask': BasicMask(),\n",
    "    'lhs': LHSMask(config['nn_runs']),\n",
    "    'lhs_shuffled': LHSMask(config['nn_runs'], shuffle=True),\n",
    "    'mirror_random': MirrorMask(),\n",
    "    'decorrelating': DecorrelationMask(),\n",
    "    'decorr_sc': DecorrelationMask(scaling=True, dry_run=False)\n",
    "}\n"
   ]
  },
  {
   "cell_type": "code",
   "execution_count": 9,
   "metadata": {},
   "outputs": [],
   "source": [
    "def get_metrics(estimations, errors, acc_percentile=0.1):\n",
    "    acc = uq_accuracy(estimations, errors, acc_percentile)\n",
    "    ndcg = uq_ndcg(errors, estimations)\n",
    "    nll = uq_nll(errors, estimations)\n",
    "    return acc, ndcg, nll\n",
    "\n",
    "def evaluate_masks(model, x_val, y_val):\n",
    "    predictions = model(x_val).cpu().numpy()\n",
    "    errors = np.abs(predictions - y_val)\n",
    "    results = []\n",
    "\n",
    "    for name, mask in masks.items():\n",
    "        estimator = build_estimator(\n",
    "            'mcdue_masked', model, nn_runs=config['nn_runs'], dropout_mask=mask,\n",
    "            dropout_rate=config['dropout_uq'])\n",
    "\n",
    "        for run in range(config['runs']):\n",
    "            estimations = estimator.estimate(x_val)\n",
    "            acc, ndcg, nll = get_metrics(estimations, errors, config['acc_percentile'])\n",
    "            results.append([acc, ndcg, nll, name])\n",
    "\n",
    "            if hasattr(mask, 'reset'):\n",
    "                mask.reset()\n",
    "                \n",
    "    return results\n",
    "\n",
    "mask_results = []\n",
    "for model_run in range(config['model_runs']):\n",
    "    print(f\"===Estimate on model {model_run+1}====\")\n",
    "    model = get_model(config['layers'], model_paths[model_run]) \n",
    "    results = evaluate_masks(model, x_val, y_val)\n",
    "    mask_results.extend(results)\n",
    "    \n"
   ]
  },
  {
   "cell_type": "code",
   "execution_count": 10,
   "metadata": {},
   "outputs": [],
   "source": [
    "mask_df = pd.DataFrame(mask_results, columns = ['acc', 'ndcg', 'nll', 'mask'])\n",
    "\n",
    "plt.figure(figsize=(16, 6))\n",
    "def boxplot(df, x_label, y_label, i, bottom=0, top=1):\n",
    "    plt.subplot(1, 3, i)\n",
    "    plt.xticks(rotation=45)\n",
    "    if bottom is not None:\n",
    "        plt.ylim(bottom, top)\n",
    "    sns.boxplot(data=df, x=x_label, y=y_label)\n",
    "    \n",
    "boxplot(mask_df, 'mask', 'acc', 1, 0, 0.8)\n",
    "boxplot(mask_df, 'mask', 'ndcg', 2, 0, 0.9)\n",
    "boxplot(mask_df, 'mask', 'nll', 3, None)"
   ]
  },
  {
   "cell_type": "code",
   "execution_count": null,
   "metadata": {},
   "outputs": [],
   "source": []
  }
 ],
 "metadata": {
  "kernelspec": {
   "display_name": "Python 3",
   "language": "python",
   "name": "python3"
  },
  "language_info": {
   "codemirror_mode": {
    "name": "ipython",
    "version": 3
   },
   "file_extension": ".py",
   "mimetype": "text/x-python",
   "name": "python",
   "nbconvert_exporter": "python",
   "pygments_lexer": "ipython3",
   "version": "3.7.4"
  }
 },
 "nbformat": 4,
 "nbformat_minor": 1
}