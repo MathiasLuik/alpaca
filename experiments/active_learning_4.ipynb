{
 "cells": [
  {
   "cell_type": "code",
   "execution_count": 1,
   "outputs": [],
   "source": [
    "import sys\n",
    "sys.path.append('..')\n",
    "%load_ext autoreload\n",
    "%autoreload 2\n",
    "%matplotlib inline"
   ],
   "metadata": {
    "collapsed": false,
    "pycharm": {
     "name": "#%%\n",
     "is_executing": false
    }
   }
  },
  {
   "cell_type": "code",
   "execution_count": 2,
   "outputs": [],
   "source": [
    "from collections import defaultdict\n",
    "\n",
    "import torch\n",
    "import numpy as np\n",
    "import pandas as pd\n",
    "import seaborn as sns\n",
    "from sklearn.model_selection import train_test_split\n",
    "from sklearn.metrics import accuracy_score\n",
    "from scipy.special import softmax as softmax\n",
    "import matplotlib.pyplot as plt\n",
    "\n",
    "from dataloader.builder import build_dataset\n",
    "from experiment_setup import build_estimator\n",
    "from uncertainty_estimator.masks import build_masks, DEFAULT_MASKS\n",
    "from analysis.metrics import uq_ndcg\n",
    "\n",
    "from model.cnn import SimpleConv, MediumConv, StrongConv\n",
    "from model.trainer import Trainer, EnsembleTrainer\n",
    "from active_learning.al_trainer import ALTrainer\n",
    "from active_learning.sample_selector import EagerSampleSelector, StochasticSampleSelector\n",
    "\n",
    "torch.cuda.set_device(1)"
   ],
   "metadata": {
    "collapsed": false,
    "pycharm": {
     "name": "#%%\n",
     "is_executing": false
    }
   }
  },
  {
   "cell_type": "code",
   "execution_count": 3,
   "outputs": [],
   "source": [
    "\n",
    "config = {\n",
    "    'use_cuda': True,\n",
    "    'seed': 1,\n",
    "    \n",
    "    'nn_runs': 100,\n",
    "    'patience': 5,\n",
    "    'dropout_uq': 0.5,\n",
    "    \n",
    "    'n_models': 10, \n",
    "    \n",
    "    'dataset': 'mnist',\n",
    "    # 'dataset': 'cifar_10',\n",
    "    \n",
    "    'model_runs': 3,   \n",
    "    \n",
    "    'al_iterations': 20,\n",
    "    'sampler_type': 'eager'\n",
    "    # 'sampler_type': 'stochastic'\n",
    "}\n",
    "\n",
    "\n",
    "model_setups = {\n",
    "    'mnist': {\n",
    "        'model_class': SimpleConv,\n",
    "        'train_samples': 5000,\n",
    "        'epochs': 5,\n",
    "        'batch_size': 32,\n",
    "        'log_interval': 10,\n",
    "        'lr': 1e-2,\n",
    "        'num_classes': 10,\n",
    "        'input_shape': (-1, 1, 28, 28),\n",
    "        'al_start': 300,\n",
    "        'al_step': 200,\n",
    "        'pool_size': 5_000\n",
    "    },\n",
    "    'cifar_10': {\n",
    "        'model_class': MediumConv,\n",
    "        'train_samples': 45_000,\n",
    "        'epochs': 50,\n",
    "        'batch_size': 256,\n",
    "        'log_interval': 150,\n",
    "        'lr': 1e-2,\n",
    "        'num_classes': 10,\n",
    "        'input_shape': (-1, 3, 32, 32),\n",
    "        'al_start': 3_000,\n",
    "        'al_step': 500,\n",
    "        'pool_size': 20_000\n",
    "    }\n",
    "}\n",
    "\n",
    "config.update(model_setups[config['dataset']])\n"
   ],
   "metadata": {
    "collapsed": false,
    "pycharm": {
     "name": "#%%\n",
     "is_executing": false
    }
   }
  },
  {
   "cell_type": "markdown",
   "source": [
    "\n",
    "#### Load data and preprocess"
   ],
   "metadata": {
    "collapsed": false
   }
  },
  {
   "cell_type": "code",
   "execution_count": 4,
   "outputs": [],
   "source": [
    "dataset = build_dataset(config['dataset'], val_size=10_000)\n",
    "x_set, y_set = dataset.dataset('train')\n",
    "x_val, y_val = dataset.dataset('val')\n",
    "\n"
   ],
   "metadata": {
    "collapsed": false,
    "pycharm": {
     "name": "#%%\n",
     "is_executing": false
    }
   }
  },
  {
   "cell_type": "code",
   "execution_count": 5,
   "outputs": [],
   "source": [
    "def scale(images):\n",
    "    return (images - 128) / 128\n",
    "x_set = scale(x_set)\n",
    "x_val = scale(x_val)"
   ],
   "metadata": {
    "collapsed": false,
    "pycharm": {
     "name": "#%%\n",
     "is_executing": false
    }
   }
  },
  {
   "cell_type": "code",
   "execution_count": 6,
   "outputs": [],
   "source": [
    "x_set = x_set.reshape(config['input_shape'])\n",
    "x_val = x_val.reshape(config['input_shape'])\n",
    "\n",
    "y_set = y_set.astype('long').reshape(-1)\n",
    "y_val = y_val.astype('long').reshape(-1)\n",
    "\n"
   ],
   "metadata": {
    "collapsed": false,
    "pycharm": {
     "name": "#%%\n",
     "is_executing": false
    }
   }
  },
  {
   "cell_type": "markdown",
   "source": [
    "#### Train model"
   ],
   "metadata": {
    "collapsed": false
   }
  },
  {
   "cell_type": "code",
   "execution_count": 7,
   "outputs": [],
   "source": [
    "def al_evaluate(model, estimator, x_train, y_train, x_val, y_val, x_pool):\n",
    "    \"\"\"Train \"\"\"\n",
    "    if config['sampler_type'] == 'eager':\n",
    "        sampler = EagerSampleSelector()\n",
    "    else:\n",
    "        sampler = StochasticSampleSelector()\n",
    "        \n",
    "    active_teacher = ALTrainer(\n",
    "        model, estimator, y_pool=y_pool.copy(), patience=3, update_size=200,\n",
    "        iterations=config['al_iterations'], verbose=False, sampler=sampler)\n",
    "    errors = active_teacher.train(\n",
    "        x_train.copy(), y_train.copy(), x_val.copy(), y_val.copy(), x_pool.copy())\n",
    "    return errors"
   ],
   "metadata": {
    "collapsed": false,
    "pycharm": {
     "name": "#%%\n",
     "is_executing": false
    }
   }
  },
  {
   "cell_type": "code",
   "execution_count": 8,
   "outputs": [
    {
     "name": "stdout",
     "text": [
      "\nrandom\n\n",
      "Iteration 1\n",
      "Validation error after training: 1.724\nIteration 2\n",
      "Validation error after training: 1.899\nIteration 3\n",
      "Validation error after training: 2.184\nIteration 4\n",
      "Validation error after training: 2.620\nIteration 5\n",
      "Validation error after training: 2.678\nIteration 6\n",
      "Validation error after training: 2.826\nIteration 7\n",
      "Validation error after training: 3.016\nIteration 8\n",
      "Validation error after training: 3.261\nIteration 9\n",
      "Validation error after training: 3.259\nIteration 10\n",
      "Validation error after training: 3.223\nIteration 11\n",
      "Validation error after training: 3.228\nIteration 12\n",
      "Validation error after training: 3.221\nIteration 13\n",
      "Validation error after training: 3.271\nIteration 14\n",
      "Validation error after training: 3.533\nIteration 15\n",
      "Validation error after training: 3.348\nIteration 16\n",
      "Validation error after training: 3.746\nIteration 17\n",
      "Validation error after training: 3.530\nIteration 18\n",
      "Validation error after training: 3.413\nIteration 19\n",
      "Validation error after training: 3.377\nIteration 20\n",
      "Validation error after training: 3.603\n\nensemble\n\n",
      "Iteration 1\n",
      "Validation error after training: 1.773\n",
      "Iteration 2\n",
      "Validation error after training: 2.014\n",
      "Iteration 3\n",
      "Validation error after training: 2.289\n",
      "Iteration 4\n",
      "Validation error after training: 2.699\n",
      "Iteration 5\n",
      "Validation error after training: 2.608\n",
      "Iteration 6\n",
      "Validation error after training: 2.797\n",
      "Iteration 7\n",
      "Validation error after training: 2.934\n",
      "Iteration 8\n",
      "Validation error after training: 3.069\n",
      "Iteration 9\n",
      "Validation error after training: 2.865\n",
      "Iteration 10\n",
      "Validation error after training: 2.982\n",
      "Iteration 11\n",
      "Validation error after training: 2.968\n",
      "Iteration 12\n",
      "Validation error after training: 3.098\n",
      "Iteration 13\n",
      "Validation error after training: 3.270\n",
      "Iteration 14\n",
      "Validation error after training: 3.119\n",
      "Iteration 15\n",
      "Validation error after training: 3.152\n",
      "Iteration 16\n",
      "Validation error after training: 3.086\n",
      "Iteration 17\n",
      "Validation error after training: 3.215\n",
      "Iteration 18\n",
      "Validation error after training: 3.064\n",
      "Iteration 19\n",
      "Validation error after training: 3.063\n",
      "Iteration 20\n",
      "Validation error after training: 3.245\n",
      "\nbasic_bern\n\nIteration 1\n",
      "Validation error after training: 1.884\n",
      "Iteration 2\n",
      "Validation error after training: 2.286\n",
      "Iteration 3\n",
      "Validation error after training: 2.439\n",
      "Iteration 4\n",
      "Validation error after training: 2.874\n",
      "Iteration 5\n",
      "Validation error after training: 2.609\n",
      "Iteration 6\n",
      "Validation error after training: 2.694\n",
      "Iteration 7\n",
      "Validation error after training: 2.792\n",
      "Iteration 8\n",
      "Validation error after training: 2.851\n",
      "Iteration 9\n",
      "Validation error after training: 2.948\n",
      "Iteration 10\n",
      "Validation error after training: 2.921\n",
      "Iteration 11\n",
      "Validation error after training: 3.043\n",
      "Iteration 12\n",
      "Validation error after training: 3.038\n",
      "Iteration 13\n",
      "Validation error after training: 3.448\n",
      "Iteration 14\n",
      "Validation error after training: 2.995\n",
      "Iteration 15\n",
      "Validation error after training: 3.077\n",
      "Iteration 16\n",
      "Validation error after training: 3.079\n",
      "Iteration 17\n",
      "Validation error after training: 3.161\n",
      "Iteration 18\n",
      "Validation error after training: 3.134\n",
      "Iteration 19\n",
      "Validation error after training: 3.083\n",
      "Iteration 20\n",
      "Validation error after training: 3.033\n",
      "\ndecorrelating_sc\n\nIteration 1\n",
      "Validation error after training: 1.875\n",
      "Iteration 2\n",
      "Validation error after training: 2.381\n",
      "Iteration 3\n",
      "Validation error after training: 2.642\n",
      "Iteration 4\n",
      "Validation error after training: 2.910\n",
      "Iteration 5\n",
      "Validation error after training: 2.717\n",
      "Iteration 6\n",
      "Validation error after training: 2.907\n",
      "Iteration 7\n",
      "Validation error after training: 3.153\n",
      "Iteration 8\n",
      "Validation error after training: 3.224\n",
      "Iteration 9\n",
      "Validation error after training: 3.053\n",
      "Iteration 10\n",
      "Validation error after training: 2.930\n",
      "Iteration 11\n",
      "Validation error after training: 3.153\n",
      "Iteration 12\n",
      "Validation error after training: 3.225\n",
      "Iteration 13\n",
      "Validation error after training: 3.149\n",
      "Iteration 14\n",
      "Validation error after training: 3.148\n",
      "Iteration 15\n",
      "Validation error after training: 3.101\n",
      "Iteration 16\n",
      "Validation error after training: 2.963\n",
      "Iteration 17\n",
      "Validation error after training: 3.451\n",
      "Iteration 18\n",
      "Validation error after training: 3.114\n",
      "Iteration 19\n",
      "Validation error after training: 3.273\n",
      "Iteration 20\n",
      "Validation error after training: 3.147\n",
      "\ndpp\n\nIteration 1\n",
      "Validation error after training: 1.773\n",
      "Iteration 2\n",
      "Validation error after training: 2.105\n",
      "Iteration 3\n",
      "Validation error after training: 2.344\n",
      "Iteration 4\n",
      "Validation error after training: 2.893\n",
      "Iteration 5\n",
      "Validation error after training: 2.736\n",
      "Iteration 6\n",
      "Validation error after training: 2.823\n",
      "Iteration 7\n",
      "Validation error after training: 2.901\n",
      "Iteration 8\n",
      "Validation error after training: 2.997\n",
      "Iteration 9\n",
      "Validation error after training: 2.917\n",
      "Iteration 10\n",
      "Validation error after training: 3.101\n",
      "Iteration 11\n",
      "Validation error after training: 2.959\n",
      "Iteration 12\n",
      "Validation error after training: 2.970\n",
      "Iteration 13\n",
      "Validation error after training: 3.213\n",
      "Iteration 14\n",
      "Validation error after training: 3.153\n",
      "Iteration 15\n",
      "Validation error after training: 3.090\n",
      "Iteration 16\n",
      "Validation error after training: 3.201\n",
      "Iteration 17\n",
      "Validation error after training: 3.252\n",
      "Iteration 18\n",
      "Validation error after training: 2.951\n",
      "Iteration 19\n",
      "Validation error after training: 2.919\n",
      "Iteration 20\n",
      "Validation error after training: 3.190\n",
      "\nrank_dpp\n\nIteration 1\n",
      "Validation error after training: 1.722\n",
      "Iteration 2\n",
      "Validation error after training: 2.119\n",
      "Iteration 3\n",
      "Validation error after training: 2.367\n",
      "Iteration 4\n",
      "Validation error after training: 2.668\n",
      "Iteration 5\n",
      "Validation error after training: 2.537\n",
      "Iteration 6\n",
      "Validation error after training: 2.674\n",
      "Iteration 7\n",
      "Validation error after training: 2.627\n",
      "Iteration 8\n",
      "Validation error after training: 2.938\n",
      "Iteration 9\n",
      "Validation error after training: 2.921\n",
      "Iteration 10\n",
      "Validation error after training: 2.711\n",
      "Iteration 11\n",
      "Validation error after training: 3.075\n",
      "Iteration 12\n",
      "Validation error after training: 3.003\n",
      "Iteration 13\n",
      "Validation error after training: 3.454\n"
     ],
     "output_type": "stream"
    },
    {
     "traceback": [
      "\u001b[0;31m---------------------------------------------------------------------------\u001b[0m",
      "\u001b[0;31mKeyboardInterrupt\u001b[0m                         Traceback (most recent call last)",
      "\u001b[0;32m<ipython-input-8-70a20d9287ef>\u001b[0m in \u001b[0;36m<module>\u001b[0;34m\u001b[0m\n\u001b[1;32m     36\u001b[0m \u001b[0;34m\u001b[0m\u001b[0m\n\u001b[1;32m     37\u001b[0m         model_errors = al_evaluate(\n\u001b[0;32m---> 38\u001b[0;31m             trainer, estimator, x_train, y_train, x_val, y_val, x_pool)\n\u001b[0m\u001b[1;32m     39\u001b[0m         \u001b[0merrors\u001b[0m\u001b[0;34m[\u001b[0m\u001b[0mname\u001b[0m\u001b[0;34m]\u001b[0m\u001b[0;34m.\u001b[0m\u001b[0mappend\u001b[0m\u001b[0;34m(\u001b[0m\u001b[0mmodel_errors\u001b[0m\u001b[0;34m)\u001b[0m\u001b[0;34m\u001b[0m\u001b[0;34m\u001b[0m\u001b[0m\n\u001b[1;32m     40\u001b[0m \u001b[0;34m\u001b[0m\u001b[0m\n",
      "\u001b[0;32m<ipython-input-7-cdf570656e8c>\u001b[0m in \u001b[0;36mal_evaluate\u001b[0;34m(model, estimator, x_train, y_train, x_val, y_val, x_pool)\u001b[0m\n\u001b[1;32m     10\u001b[0m         iterations=config['al_iterations'], verbose=False, sampler=sampler)\n\u001b[1;32m     11\u001b[0m     errors = active_teacher.train(\n\u001b[0;32m---> 12\u001b[0;31m         x_train.copy(), y_train.copy(), x_val.copy(), y_val.copy(), x_pool.copy())\n\u001b[0m\u001b[1;32m     13\u001b[0m     \u001b[0;32mreturn\u001b[0m \u001b[0merrors\u001b[0m\u001b[0;34m\u001b[0m\u001b[0;34m\u001b[0m\u001b[0m\n",
      "\u001b[0;32m~/apps/alpaca/active_learning/al_trainer.py\u001b[0m in \u001b[0;36mtrain\u001b[0;34m(self, x_train, y_train, x_val, y_val, x_pool)\u001b[0m\n\u001b[1;32m     52\u001b[0m             \u001b[0;32mif\u001b[0m \u001b[0mhasattr\u001b[0m\u001b[0;34m(\u001b[0m\u001b[0mself\u001b[0m\u001b[0;34m.\u001b[0m\u001b[0mestimator\u001b[0m\u001b[0;34m,\u001b[0m \u001b[0;34m'reset'\u001b[0m\u001b[0;34m)\u001b[0m\u001b[0;34m:\u001b[0m\u001b[0;34m\u001b[0m\u001b[0;34m\u001b[0m\u001b[0m\n\u001b[1;32m     53\u001b[0m                 \u001b[0mself\u001b[0m\u001b[0;34m.\u001b[0m\u001b[0mestimator\u001b[0m\u001b[0;34m.\u001b[0m\u001b[0mreset\u001b[0m\u001b[0;34m(\u001b[0m\u001b[0;34m)\u001b[0m\u001b[0;34m\u001b[0m\u001b[0;34m\u001b[0m\u001b[0m\n\u001b[0;32m---> 54\u001b[0;31m             \u001b[0muncertainties\u001b[0m \u001b[0;34m=\u001b[0m \u001b[0mself\u001b[0m\u001b[0;34m.\u001b[0m\u001b[0mestimator\u001b[0m\u001b[0;34m.\u001b[0m\u001b[0mestimate\u001b[0m\u001b[0;34m(\u001b[0m\u001b[0mx_pool\u001b[0m\u001b[0;34m,\u001b[0m \u001b[0mx_train\u001b[0m\u001b[0;34m)\u001b[0m\u001b[0;34m\u001b[0m\u001b[0;34m\u001b[0m\u001b[0m\n\u001b[0m\u001b[1;32m     55\u001b[0m             x_train, y_train, x_pool = self.sampler.update_sets(\n\u001b[1;32m     56\u001b[0m                 \u001b[0mx_train\u001b[0m\u001b[0;34m,\u001b[0m \u001b[0my_train\u001b[0m\u001b[0;34m,\u001b[0m \u001b[0mx_pool\u001b[0m\u001b[0;34m,\u001b[0m \u001b[0muncertainties\u001b[0m\u001b[0;34m,\u001b[0m \u001b[0mself\u001b[0m\u001b[0;34m.\u001b[0m\u001b[0mupdate_size\u001b[0m\u001b[0;34m,\u001b[0m \u001b[0mself\u001b[0m\u001b[0;34m.\u001b[0m\u001b[0moracle\u001b[0m\u001b[0;34m\u001b[0m\u001b[0;34m\u001b[0m\u001b[0m\n",
      "\u001b[0;32m~/apps/alpaca/uncertainty_estimator/bald.py\u001b[0m in \u001b[0;36mestimate\u001b[0;34m(self, X_pool, *args)\u001b[0m\n\u001b[1;32m     50\u001b[0m             \u001b[0;32mfor\u001b[0m \u001b[0mnn_run\u001b[0m \u001b[0;32min\u001b[0m \u001b[0mrange\u001b[0m\u001b[0;34m(\u001b[0m\u001b[0mself\u001b[0m\u001b[0;34m.\u001b[0m\u001b[0mnn_runs\u001b[0m\u001b[0;34m)\u001b[0m\u001b[0;34m:\u001b[0m\u001b[0;34m\u001b[0m\u001b[0;34m\u001b[0m\u001b[0m\n\u001b[1;32m     51\u001b[0m                 prediction = self.net(\n\u001b[0;32m---> 52\u001b[0;31m                     \u001b[0mX_pool\u001b[0m\u001b[0;34m,\u001b[0m \u001b[0mdropout_rate\u001b[0m\u001b[0;34m=\u001b[0m\u001b[0mself\u001b[0m\u001b[0;34m.\u001b[0m\u001b[0mdropout_rate\u001b[0m\u001b[0;34m,\u001b[0m \u001b[0mdropout_mask\u001b[0m\u001b[0;34m=\u001b[0m\u001b[0mself\u001b[0m\u001b[0;34m.\u001b[0m\u001b[0mdropout_mask\u001b[0m\u001b[0;34m\u001b[0m\u001b[0;34m\u001b[0m\u001b[0m\n\u001b[0m\u001b[1;32m     53\u001b[0m                 ).to('cpu')\n\u001b[1;32m     54\u001b[0m                 \u001b[0mmcd_runs\u001b[0m\u001b[0;34m[\u001b[0m\u001b[0;34m:\u001b[0m\u001b[0;34m,\u001b[0m \u001b[0mnn_run\u001b[0m\u001b[0;34m]\u001b[0m \u001b[0;34m=\u001b[0m \u001b[0mprediction\u001b[0m\u001b[0;34m\u001b[0m\u001b[0;34m\u001b[0m\u001b[0m\n",
      "\u001b[0;32m~/apps/alpaca/model/trainer.py\u001b[0m in \u001b[0;36m__call__\u001b[0;34m(self, x, dropout_rate, dropout_mask)\u001b[0m\n\u001b[1;32m    100\u001b[0m \u001b[0;34m\u001b[0m\u001b[0m\n\u001b[1;32m    101\u001b[0m     \u001b[0;32mdef\u001b[0m \u001b[0m__call__\u001b[0m\u001b[0;34m(\u001b[0m\u001b[0mself\u001b[0m\u001b[0;34m,\u001b[0m \u001b[0mx\u001b[0m\u001b[0;34m,\u001b[0m \u001b[0mdropout_rate\u001b[0m\u001b[0;34m=\u001b[0m\u001b[0;36m0.\u001b[0m\u001b[0;34m,\u001b[0m \u001b[0mdropout_mask\u001b[0m\u001b[0;34m=\u001b[0m\u001b[0;32mNone\u001b[0m\u001b[0;34m)\u001b[0m\u001b[0;34m:\u001b[0m\u001b[0;34m\u001b[0m\u001b[0;34m\u001b[0m\u001b[0m\n\u001b[0;32m--> 102\u001b[0;31m         \u001b[0mx\u001b[0m \u001b[0;34m=\u001b[0m \u001b[0mtorch\u001b[0m\u001b[0;34m.\u001b[0m\u001b[0mFloatTensor\u001b[0m\u001b[0;34m(\u001b[0m\u001b[0mx\u001b[0m\u001b[0;34m)\u001b[0m\u001b[0;34m.\u001b[0m\u001b[0mto\u001b[0m\u001b[0;34m(\u001b[0m\u001b[0mself\u001b[0m\u001b[0;34m.\u001b[0m\u001b[0mdevice\u001b[0m\u001b[0;34m)\u001b[0m\u001b[0;34m\u001b[0m\u001b[0;34m\u001b[0m\u001b[0m\n\u001b[0m\u001b[1;32m    103\u001b[0m         \u001b[0;32mreturn\u001b[0m \u001b[0mself\u001b[0m\u001b[0;34m.\u001b[0m\u001b[0mmodel\u001b[0m\u001b[0;34m(\u001b[0m\u001b[0mx\u001b[0m\u001b[0;34m,\u001b[0m \u001b[0mdropout_rate\u001b[0m\u001b[0;34m=\u001b[0m\u001b[0mdropout_rate\u001b[0m\u001b[0;34m,\u001b[0m \u001b[0mdropout_mask\u001b[0m\u001b[0;34m=\u001b[0m\u001b[0mdropout_mask\u001b[0m\u001b[0;34m)\u001b[0m\u001b[0;34m\u001b[0m\u001b[0;34m\u001b[0m\u001b[0m\n\u001b[1;32m    104\u001b[0m \u001b[0;34m\u001b[0m\u001b[0m\n",
      "\u001b[0;31mKeyboardInterrupt\u001b[0m: "
     ],
     "ename": "KeyboardInterrupt",
     "evalue": "",
     "output_type": "error"
    }
   ],
   "source": [
    "errors = defaultdict(list) \n",
    "\n",
    "for i in range(config['model_runs']):\n",
    "    x_train, x_pool, y_train, y_pool= train_test_split(\n",
    "        x_set, y_set, train_size=config['al_start'], stratify=y_set)\n",
    "    x_pool, _, y_pool, _ = train_test_split(x_pool, y_pool, train_size=config['pool_size'])\n",
    "    masks = build_masks(DEFAULT_MASKS)\n",
    "\n",
    "    # Random estimator\n",
    "    print(f\"\\nrandom\\n\")\n",
    "    model = config['model_class'](num_classes=config['num_classes'])\n",
    "    trainer = Trainer(model, batch_size=config['batch_size'])\n",
    "    estimator = build_estimator('random', trainer)\n",
    "    model_errors = al_evaluate(\n",
    "        trainer, estimator, x_train, y_train, x_val, y_val, x_pool)\n",
    "    errors['random'].append(model_errors)\n",
    "    \n",
    "    # # Ensemble\n",
    "    # print(f\"\\nensemble\\n\")\n",
    "    # ensemble = EnsembleTrainer(\n",
    "    #     config['model_class'], {'num_classes': config['num_classes']}, config['n_models'],\n",
    "    #     batch_size=config['batch_size'])\n",
    "    # estimator = build_estimator('bald_ensemble', ensemble, num_classes=config['num_classes'])\n",
    "    # model_errors = al_evaluate(\n",
    "    #     ensemble, estimator, x_train, y_train, x_val, y_val, x_pool)\n",
    "    # errors['ensemble'].append(model_errors)\n",
    "    # \n",
    "    # # Masks\n",
    "    # for name, mask in masks.items():\n",
    "    #     print(f\"\\n{name}\\n\")\n",
    "    #     model = config['model_class'](num_classes=config['num_classes'])\n",
    "    #     trainer = Trainer(model, batch_size=config['batch_size'])\n",
    "    #     estimator = build_estimator(\n",
    "    #         'bald_masked', trainer, nn_runs=config['nn_runs'], dropout_mask=mask,\n",
    "    #         dropout_rate=config['dropout_uq'], num_classes=config['num_classes'])\n",
    "    #     \n",
    "    #     model_errors = al_evaluate(\n",
    "    #         trainer, estimator, x_train, y_train, x_val, y_val, x_pool)\n",
    "    #     errors[name].append(model_errors)\n",
    "        "
   ],
   "metadata": {
    "collapsed": false,
    "pycharm": {
     "name": "#%%\n",
     "is_executing": false
    }
   }
  },
  {
   "cell_type": "code",
   "execution_count": null,
   "outputs": [],
   "source": [
    "plt.figure(figsize=(16, 10))\n",
    "for name, err_values in errors.items():\n",
    "    err_values = np.stack(err_values)\n",
    "    means = np.mean(err_values, axis=0)\n",
    "    stds = np.std(err_values, axis=0)\n",
    "    plt.plot(means, label=name)\n",
    "    plt.fill_between(\n",
    "        np.arange(len(means)), means-stds, means+stds, alpha=.1)\n",
    "plt.ylabel(\"Error\")\n",
    "plt.xlabel(\"Step\")\n",
    "title = f\"Active learning with {config['al_start']} starting samples\"\n",
    "title += f\"and {config['al_step']} samples per step\"\n",
    "plt.title(title)\n",
    "plt.legend()\n"
   ],
   "metadata": {
    "collapsed": false,
    "pycharm": {
     "name": "#%%\n",
     "is_executing": false
    }
   }
  },
  {
   "cell_type": "code",
   "execution_count": null,
   "outputs": [],
   "source": [
    "\n"
   ],
   "metadata": {
    "collapsed": false,
    "pycharm": {
     "name": "#%%\n",
     "is_executing": false
    }
   }
  }
 ],
 "metadata": {
  "kernelspec": {
   "display_name": "Python 3",
   "language": "python",
   "name": "python3"
  },
  "language_info": {
   "codemirror_mode": {
    "name": "ipython",
    "version": 3
   },
   "file_extension": ".py",
   "mimetype": "text/x-python",
   "name": "python",
   "nbconvert_exporter": "python",
   "pygments_lexer": "ipython3",
   "version": "3.7.3"
  },
  "pycharm": {
   "stem_cell": {
    "cell_type": "raw",
    "source": [],
    "metadata": {
     "collapsed": false
    }
   }
  }
 },
 "nbformat": 4,
 "nbformat_minor": 4
}