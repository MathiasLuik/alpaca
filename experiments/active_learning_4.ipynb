{
 "cells": [
  {
   "cell_type": "code",
   "execution_count": 1,
   "outputs": [],
   "source": [
    "import sys\n",
    "sys.path.append('..')\n",
    "%load_ext autoreload\n",
    "%autoreload 2\n",
    "%matplotlib inline"
   ],
   "metadata": {
    "collapsed": false,
    "pycharm": {
     "name": "#%%\n",
     "is_executing": false
    }
   }
  },
  {
   "cell_type": "code",
   "execution_count": 2,
   "outputs": [],
   "source": [
    "from collections import defaultdict\n",
    "\n",
    "import torch\n",
    "import numpy as np\n",
    "import pandas as pd\n",
    "import seaborn as sns\n",
    "from sklearn.model_selection import train_test_split\n",
    "from sklearn.metrics import accuracy_score\n",
    "from scipy.special import softmax as softmax\n",
    "import matplotlib.pyplot as plt\n",
    "\n",
    "from dataloader.builder import build_dataset\n",
    "from experiment_setup import build_estimator\n",
    "from uncertainty_estimator.masks import build_masks, DEFAULT_MASKS\n",
    "from analysis.metrics import uq_ndcg\n",
    "\n",
    "from model.cnn import SimpleConv, MediumConv, StrongConv\n",
    "from model.trainer import Trainer, EnsembleTrainer\n",
    "from active_learning.al_trainer import ALTrainer\n",
    "from active_learning.sample_selector import EagerSampleSelector, StochasticSampleSelector\n",
    "\n",
    "torch.cuda.set_device(1)"
   ],
   "metadata": {
    "collapsed": false,
    "pycharm": {
     "name": "#%%\n",
     "is_executing": false
    }
   }
  },
  {
   "cell_type": "code",
   "execution_count": 3,
   "outputs": [],
   "source": [
    "\n",
    "config = {\n",
    "    'use_cuda': True,\n",
    "    'seed': 1,\n",
    "    \n",
    "    'nn_runs': 100,\n",
    "    'patience': 2,\n",
    "    'dropout_uq': 0.5,\n",
    "    \n",
    "    'n_models': 10, \n",
    "    \n",
    "    # 'dataset': 'mnist',\n",
    "    'dataset': 'cifar_10',\n",
    "    \n",
    "    'model_runs': 1,   \n",
    "    \n",
    "    'al_iterations': 7,\n",
    "    'sampler_type': 'eager'\n",
    "    # 'sampler_type': 'stochastic'\n",
    "}\n",
    "\n",
    "\n",
    "model_setups = {\n",
    "    'mnist': {\n",
    "        'model_class': SimpleConv,\n",
    "        'train_samples': 5000,\n",
    "        'epochs': 5,\n",
    "        'batch_size': 32,\n",
    "        'log_interval': 10,\n",
    "        'lr': 1e-2,\n",
    "        'num_classes': 10,\n",
    "        'input_shape': (-1, 1, 28, 28),\n",
    "        'al_start': 300,\n",
    "        'al_step': 200,\n",
    "        'pool_size': 5_000\n",
    "    },\n",
    "    'cifar_10': {\n",
    "        'model_class': StrongConv,\n",
    "        'train_samples': 45_000,\n",
    "        'epochs': 50,\n",
    "        'batch_size': 256,\n",
    "        'log_interval': 150,\n",
    "        'lr': 1e-2,\n",
    "        'num_classes': 10,\n",
    "        'input_shape': (-1, 3, 32, 32),\n",
    "        'al_start': 3000,\n",
    "        'al_step': 2000,\n",
    "        'pool_size': 20_000 \n",
    "    }\n",
    "}\n",
    "\n",
    "config.update(model_setups[config['dataset']])\n"
   ],
   "metadata": {
    "collapsed": false,
    "pycharm": {
     "name": "#%%\n",
     "is_executing": false
    }
   }
  },
  {
   "cell_type": "markdown",
   "source": [
    "\n",
    "#### Load data and preprocess"
   ],
   "metadata": {
    "collapsed": false
   }
  },
  {
   "cell_type": "code",
   "execution_count": 4,
   "outputs": [],
   "source": [
    "dataset = build_dataset(config['dataset'], val_size=10_000)\n",
    "x_set, y_set = dataset.dataset('train')\n",
    "x_val, y_val = dataset.dataset('val')\n",
    "\n"
   ],
   "metadata": {
    "collapsed": false,
    "pycharm": {
     "name": "#%%\n",
     "is_executing": false
    }
   }
  },
  {
   "cell_type": "code",
   "execution_count": 5,
   "outputs": [],
   "source": [
    "def scale(images):\n",
    "    return (images - 128) / 128\n",
    "x_set = scale(x_set)\n",
    "x_val = scale(x_val)"
   ],
   "metadata": {
    "collapsed": false,
    "pycharm": {
     "name": "#%%\n",
     "is_executing": false
    }
   }
  },
  {
   "cell_type": "code",
   "execution_count": 6,
   "outputs": [],
   "source": [
    "x_set = x_set.reshape(config['input_shape'])\n",
    "x_val = x_val.reshape(config['input_shape'])\n",
    "\n",
    "y_set = y_set.astype('long').reshape(-1)\n",
    "y_val = y_val.astype('long').reshape(-1)\n",
    "\n"
   ],
   "metadata": {
    "collapsed": false,
    "pycharm": {
     "name": "#%%\n",
     "is_executing": false
    }
   }
  },
  {
   "cell_type": "markdown",
   "source": [
    "#### Train model"
   ],
   "metadata": {
    "collapsed": false
   }
  },
  {
   "cell_type": "code",
   "execution_count": 7,
   "outputs": [],
   "source": [
    "def al_evaluate(model, estimator, x_train, y_train, x_val, y_val, x_pool):\n",
    "    \"\"\"Train \"\"\"\n",
    "    if config['sampler_type'] == 'eager':\n",
    "        sampler = EagerSampleSelector()\n",
    "    else:\n",
    "        sampler = StochasticSampleSelector()\n",
    "        \n",
    "    active_teacher = ALTrainer(\n",
    "        model, estimator, y_pool=y_pool.copy(), patience=3, update_size=config['al_step'],\n",
    "        iterations=config['al_iterations'], verbose=False, sampler=sampler)\n",
    "    errors = active_teacher.train(\n",
    "        x_train.copy(), y_train.copy(), x_val.copy(), y_val.copy(), x_pool.copy())\n",
    "    return errors\n"
   ],
   "metadata": {
    "collapsed": false,
    "pycharm": {
     "name": "#%%\n",
     "is_executing": false
    }
   }
  },
  {
   "cell_type": "code",
   "execution_count": 8,
   "outputs": [
    {
     "name": "stdout",
     "text": [
      "\n",
      "random\n",
      "\n",
      "Iteration 1\n",
      "(20000, 3, 32, 32)\n",
      "Validation error after training: 1.830\n",
      "Iteration 2\n",
      "(18000, 3, 32, 32)\n",
      "Validation error after training: 1.627\n",
      "Iteration 3\n",
      "(16000, 3, 32, 32)\n",
      "Validation error after training: 1.556\n",
      "Iteration 4\n",
      "(14000, 3, 32, 32)\n",
      "Validation error after training: 1.517\n",
      "Iteration 5\n",
      "(12000, 3, 32, 32)\n",
      "Validation error after training: 1.528\n",
      "Iteration 6\n",
      "(10000, 3, 32, 32)\n",
      "Validation error after training: 1.552\n",
      "Iteration 7\n",
      "(8000, 3, 32, 32)\n",
      "Validation error after training: 1.564\n",
      "\n",
      "ensemble\n",
      "\n",
      "Iteration 1\n",
      "(20000, 3, 32, 32)\n",
      "Validation error after training: 1.893\n",
      "Iteration 2\n",
      "(18000, 3, 32, 32)\n",
      "Validation error after training: 1.661\n",
      "Iteration 3\n",
      "(16000, 3, 32, 32)\n",
      "Validation error after training: 1.611\n",
      "Iteration 4\n",
      "(14000, 3, 32, 32)\n",
      "Validation error after training: 1.715\n",
      "Iteration 5\n",
      "(12000, 3, 32, 32)\n",
      "Validation error after training: 1.590\n",
      "Iteration 6\n",
      "(10000, 3, 32, 32)\n",
      "Validation error after training: 1.567\n",
      "Iteration 7\n",
      "(8000, 3, 32, 32)\n",
      "Validation error after training: 1.605\n",
      "\n",
      "l_dpp\n",
      "\n",
      "Iteration 1\n",
      "(20000, 3, 32, 32)\n",
      "Validation error after training: 2.076\n",
      "[[ 1.00000000e+00 -7.21252252e-04  1.89725269e-02 ... -4.75983356e-04\n",
      "  -4.03560312e-03 -1.91429987e-03]\n",
      " [-7.21252252e-04  1.00000000e+00  2.48165208e-01 ... -6.05413194e-03\n",
      "  -7.90300078e-03  3.41854937e-02]\n",
      " [ 1.89725269e-02  2.48165208e-01  1.00000000e+00 ...  3.49373885e-02\n",
      "   2.66361983e-01 -2.59309922e-01]\n",
      " ...\n",
      " [-4.75983356e-04 -6.05413194e-03  3.49373885e-02 ...  1.00000000e+00\n",
      "  -2.66843724e-02 -3.63767910e-02]\n",
      " [-4.03560312e-03 -7.90300078e-03  2.66361983e-01 ... -2.66843724e-02\n",
      "   1.00000000e+00 -5.81216466e-01]\n",
      " [-1.91429987e-03  3.41854937e-02 -2.59309922e-01 ... -3.63767910e-02\n",
      "  -5.81216466e-01  1.00000000e+00]]\n"
     ],
     "output_type": "stream"
    },
    {
     "name": "stderr",
     "text": [
      "/home/mephody_bro/anaconda3/envs/uq/lib/python3.7/site-packages/numpy/lib/function_base.py:2534: RuntimeWarning: divide by zero encountered in true_divide\n",
      "  c /= stddev[:, None]\n",
      "/home/mephody_bro/anaconda3/envs/uq/lib/python3.7/site-packages/numpy/lib/function_base.py:2534: RuntimeWarning: invalid value encountered in true_divide\n",
      "  c /= stddev[:, None]\n",
      "/home/mephody_bro/anaconda3/envs/uq/lib/python3.7/site-packages/numpy/lib/function_base.py:2535: RuntimeWarning: divide by zero encountered in true_divide\n",
      "  c /= stddev[None, :]\n",
      "/home/mephody_bro/anaconda3/envs/uq/lib/python3.7/site-packages/numpy/lib/function_base.py:2535: RuntimeWarning: invalid value encountered in true_divide\n",
      "  c /= stddev[None, :]\n"
     ],
     "output_type": "stream"
    },
    {
     "traceback": [
      "\u001b[0;31m---------------------------------------------------------------------------\u001b[0m",
      "\u001b[0;31mValueError\u001b[0m                                Traceback (most recent call last)",
      "\u001b[0;32m<ipython-input-8-503c07e0a2fb>\u001b[0m in \u001b[0;36m<module>\u001b[0;34m\u001b[0m\n\u001b[1;32m     38\u001b[0m \u001b[0;34m\u001b[0m\u001b[0m\n\u001b[1;32m     39\u001b[0m         model_errors = al_evaluate(\n\u001b[0;32m---> 40\u001b[0;31m             trainer, estimator, x_train, y_train, x_val, y_val, x_pool)\n\u001b[0m\u001b[1;32m     41\u001b[0m         \u001b[0merrors\u001b[0m\u001b[0;34m[\u001b[0m\u001b[0mname\u001b[0m\u001b[0;34m]\u001b[0m\u001b[0;34m.\u001b[0m\u001b[0mappend\u001b[0m\u001b[0;34m(\u001b[0m\u001b[0mmodel_errors\u001b[0m\u001b[0;34m)\u001b[0m\u001b[0;34m\u001b[0m\u001b[0;34m\u001b[0m\u001b[0m\n\u001b[1;32m     42\u001b[0m \u001b[0;34m\u001b[0m\u001b[0m\n",
      "\u001b[0;32m<ipython-input-7-7ba09511cf9c>\u001b[0m in \u001b[0;36mal_evaluate\u001b[0;34m(model, estimator, x_train, y_train, x_val, y_val, x_pool)\u001b[0m\n\u001b[1;32m     10\u001b[0m         iterations=config['al_iterations'], verbose=False, sampler=sampler)\n\u001b[1;32m     11\u001b[0m     errors = active_teacher.train(\n\u001b[0;32m---> 12\u001b[0;31m         x_train.copy(), y_train.copy(), x_val.copy(), y_val.copy(), x_pool.copy())\n\u001b[0m\u001b[1;32m     13\u001b[0m     \u001b[0;32mreturn\u001b[0m \u001b[0merrors\u001b[0m\u001b[0;34m\u001b[0m\u001b[0;34m\u001b[0m\u001b[0m\n\u001b[1;32m     14\u001b[0m \u001b[0;34m\u001b[0m\u001b[0m\n",
      "\u001b[0;32m~/apps/alpaca/active_learning/al_trainer.py\u001b[0m in \u001b[0;36mtrain\u001b[0;34m(self, x_train, y_train, x_val, y_val, x_pool)\u001b[0m\n\u001b[1;32m     53\u001b[0m             \u001b[0;32mif\u001b[0m \u001b[0mhasattr\u001b[0m\u001b[0;34m(\u001b[0m\u001b[0mself\u001b[0m\u001b[0;34m.\u001b[0m\u001b[0mestimator\u001b[0m\u001b[0;34m,\u001b[0m \u001b[0;34m'reset'\u001b[0m\u001b[0;34m)\u001b[0m\u001b[0;34m:\u001b[0m\u001b[0;34m\u001b[0m\u001b[0;34m\u001b[0m\u001b[0m\n\u001b[1;32m     54\u001b[0m                 \u001b[0mself\u001b[0m\u001b[0;34m.\u001b[0m\u001b[0mestimator\u001b[0m\u001b[0;34m.\u001b[0m\u001b[0mreset\u001b[0m\u001b[0;34m(\u001b[0m\u001b[0;34m)\u001b[0m\u001b[0;34m\u001b[0m\u001b[0;34m\u001b[0m\u001b[0m\n\u001b[0;32m---> 55\u001b[0;31m             \u001b[0muncertainties\u001b[0m \u001b[0;34m=\u001b[0m \u001b[0mself\u001b[0m\u001b[0;34m.\u001b[0m\u001b[0mestimator\u001b[0m\u001b[0;34m.\u001b[0m\u001b[0mestimate\u001b[0m\u001b[0;34m(\u001b[0m\u001b[0mx_pool\u001b[0m\u001b[0;34m,\u001b[0m \u001b[0mx_train\u001b[0m\u001b[0;34m)\u001b[0m\u001b[0;34m\u001b[0m\u001b[0;34m\u001b[0m\u001b[0m\n\u001b[0m\u001b[1;32m     56\u001b[0m             x_train, y_train, x_pool = self.sampler.update_sets(\n\u001b[1;32m     57\u001b[0m                 \u001b[0mx_train\u001b[0m\u001b[0;34m,\u001b[0m \u001b[0my_train\u001b[0m\u001b[0;34m,\u001b[0m \u001b[0mx_pool\u001b[0m\u001b[0;34m,\u001b[0m \u001b[0muncertainties\u001b[0m\u001b[0;34m,\u001b[0m \u001b[0mself\u001b[0m\u001b[0;34m.\u001b[0m\u001b[0mupdate_size\u001b[0m\u001b[0;34m,\u001b[0m \u001b[0mself\u001b[0m\u001b[0;34m.\u001b[0m\u001b[0moracle\u001b[0m\u001b[0;34m\u001b[0m\u001b[0;34m\u001b[0m\u001b[0m\n",
      "\u001b[0;32m~/apps/alpaca/uncertainty_estimator/bald.py\u001b[0m in \u001b[0;36mestimate\u001b[0;34m(self, X_pool, *args)\u001b[0m\n\u001b[1;32m     45\u001b[0m             \u001b[0;31m# Some mask needs first run without dropout, i.e. decorrelation mask\u001b[0m\u001b[0;34m\u001b[0m\u001b[0;34m\u001b[0m\u001b[0;34m\u001b[0m\u001b[0m\n\u001b[1;32m     46\u001b[0m             \u001b[0;32mif\u001b[0m \u001b[0mhasattr\u001b[0m\u001b[0;34m(\u001b[0m\u001b[0mself\u001b[0m\u001b[0;34m.\u001b[0m\u001b[0mdropout_mask\u001b[0m\u001b[0;34m,\u001b[0m \u001b[0;34m'dry_run'\u001b[0m\u001b[0;34m)\u001b[0m \u001b[0;32mand\u001b[0m \u001b[0mself\u001b[0m\u001b[0;34m.\u001b[0m\u001b[0mdropout_mask\u001b[0m\u001b[0;34m.\u001b[0m\u001b[0mdry_run\u001b[0m\u001b[0;34m:\u001b[0m\u001b[0;34m\u001b[0m\u001b[0;34m\u001b[0m\u001b[0m\n\u001b[0;32m---> 47\u001b[0;31m                 \u001b[0mself\u001b[0m\u001b[0;34m.\u001b[0m\u001b[0mnet\u001b[0m\u001b[0;34m(\u001b[0m\u001b[0mX_pool\u001b[0m\u001b[0;34m,\u001b[0m \u001b[0mdropout_rate\u001b[0m\u001b[0;34m=\u001b[0m\u001b[0mself\u001b[0m\u001b[0;34m.\u001b[0m\u001b[0mdropout_rate\u001b[0m\u001b[0;34m,\u001b[0m \u001b[0mdropout_mask\u001b[0m\u001b[0;34m=\u001b[0m\u001b[0mself\u001b[0m\u001b[0;34m.\u001b[0m\u001b[0mdropout_mask\u001b[0m\u001b[0;34m)\u001b[0m\u001b[0;34m\u001b[0m\u001b[0;34m\u001b[0m\u001b[0m\n\u001b[0m\u001b[1;32m     48\u001b[0m \u001b[0;34m\u001b[0m\u001b[0m\n\u001b[1;32m     49\u001b[0m             \u001b[0;31m# Get mcdue estimation\u001b[0m\u001b[0;34m\u001b[0m\u001b[0;34m\u001b[0m\u001b[0;34m\u001b[0m\u001b[0m\n",
      "\u001b[0;32m~/apps/alpaca/model/trainer.py\u001b[0m in \u001b[0;36m__call__\u001b[0;34m(self, x, dropout_rate, dropout_mask)\u001b[0m\n\u001b[1;32m    117\u001b[0m     \u001b[0;32mdef\u001b[0m \u001b[0m__call__\u001b[0m\u001b[0;34m(\u001b[0m\u001b[0mself\u001b[0m\u001b[0;34m,\u001b[0m \u001b[0mx\u001b[0m\u001b[0;34m,\u001b[0m \u001b[0mdropout_rate\u001b[0m\u001b[0;34m=\u001b[0m\u001b[0;36m0.\u001b[0m\u001b[0;34m,\u001b[0m \u001b[0mdropout_mask\u001b[0m\u001b[0;34m=\u001b[0m\u001b[0;32mNone\u001b[0m\u001b[0;34m)\u001b[0m\u001b[0;34m:\u001b[0m\u001b[0;34m\u001b[0m\u001b[0;34m\u001b[0m\u001b[0m\n\u001b[1;32m    118\u001b[0m         \u001b[0mx\u001b[0m \u001b[0;34m=\u001b[0m \u001b[0mtorch\u001b[0m\u001b[0;34m.\u001b[0m\u001b[0mFloatTensor\u001b[0m\u001b[0;34m(\u001b[0m\u001b[0mx\u001b[0m\u001b[0;34m)\u001b[0m\u001b[0;34m.\u001b[0m\u001b[0mto\u001b[0m\u001b[0;34m(\u001b[0m\u001b[0mself\u001b[0m\u001b[0;34m.\u001b[0m\u001b[0mdevice\u001b[0m\u001b[0;34m)\u001b[0m\u001b[0;34m\u001b[0m\u001b[0;34m\u001b[0m\u001b[0m\n\u001b[0;32m--> 119\u001b[0;31m         \u001b[0;32mreturn\u001b[0m \u001b[0mself\u001b[0m\u001b[0;34m.\u001b[0m\u001b[0mmodel\u001b[0m\u001b[0;34m(\u001b[0m\u001b[0mx\u001b[0m\u001b[0;34m,\u001b[0m \u001b[0mdropout_rate\u001b[0m\u001b[0;34m=\u001b[0m\u001b[0mdropout_rate\u001b[0m\u001b[0;34m,\u001b[0m \u001b[0mdropout_mask\u001b[0m\u001b[0;34m=\u001b[0m\u001b[0mdropout_mask\u001b[0m\u001b[0;34m)\u001b[0m\u001b[0;34m\u001b[0m\u001b[0;34m\u001b[0m\u001b[0m\n\u001b[0m\u001b[1;32m    120\u001b[0m \u001b[0;34m\u001b[0m\u001b[0m\n\u001b[1;32m    121\u001b[0m     \u001b[0;32mdef\u001b[0m \u001b[0mtrain\u001b[0m\u001b[0;34m(\u001b[0m\u001b[0mself\u001b[0m\u001b[0;34m)\u001b[0m\u001b[0;34m:\u001b[0m\u001b[0;34m\u001b[0m\u001b[0;34m\u001b[0m\u001b[0m\n",
      "\u001b[0;32m~/anaconda3/envs/uq/lib/python3.7/site-packages/torch/nn/modules/module.py\u001b[0m in \u001b[0;36m__call__\u001b[0;34m(self, *input, **kwargs)\u001b[0m\n\u001b[1;32m    539\u001b[0m             \u001b[0mresult\u001b[0m \u001b[0;34m=\u001b[0m \u001b[0mself\u001b[0m\u001b[0;34m.\u001b[0m\u001b[0m_slow_forward\u001b[0m\u001b[0;34m(\u001b[0m\u001b[0;34m*\u001b[0m\u001b[0minput\u001b[0m\u001b[0;34m,\u001b[0m \u001b[0;34m**\u001b[0m\u001b[0mkwargs\u001b[0m\u001b[0;34m)\u001b[0m\u001b[0;34m\u001b[0m\u001b[0;34m\u001b[0m\u001b[0m\n\u001b[1;32m    540\u001b[0m         \u001b[0;32melse\u001b[0m\u001b[0;34m:\u001b[0m\u001b[0;34m\u001b[0m\u001b[0;34m\u001b[0m\u001b[0m\n\u001b[0;32m--> 541\u001b[0;31m             \u001b[0mresult\u001b[0m \u001b[0;34m=\u001b[0m \u001b[0mself\u001b[0m\u001b[0;34m.\u001b[0m\u001b[0mforward\u001b[0m\u001b[0;34m(\u001b[0m\u001b[0;34m*\u001b[0m\u001b[0minput\u001b[0m\u001b[0;34m,\u001b[0m \u001b[0;34m**\u001b[0m\u001b[0mkwargs\u001b[0m\u001b[0;34m)\u001b[0m\u001b[0;34m\u001b[0m\u001b[0;34m\u001b[0m\u001b[0m\n\u001b[0m\u001b[1;32m    542\u001b[0m         \u001b[0;32mfor\u001b[0m \u001b[0mhook\u001b[0m \u001b[0;32min\u001b[0m \u001b[0mself\u001b[0m\u001b[0;34m.\u001b[0m\u001b[0m_forward_hooks\u001b[0m\u001b[0;34m.\u001b[0m\u001b[0mvalues\u001b[0m\u001b[0;34m(\u001b[0m\u001b[0;34m)\u001b[0m\u001b[0;34m:\u001b[0m\u001b[0;34m\u001b[0m\u001b[0;34m\u001b[0m\u001b[0m\n\u001b[1;32m    543\u001b[0m             \u001b[0mhook_result\u001b[0m \u001b[0;34m=\u001b[0m \u001b[0mhook\u001b[0m\u001b[0;34m(\u001b[0m\u001b[0mself\u001b[0m\u001b[0;34m,\u001b[0m \u001b[0minput\u001b[0m\u001b[0;34m,\u001b[0m \u001b[0mresult\u001b[0m\u001b[0;34m)\u001b[0m\u001b[0;34m\u001b[0m\u001b[0;34m\u001b[0m\u001b[0m\n",
      "\u001b[0;32m~/apps/alpaca/model/cnn.py\u001b[0m in \u001b[0;36mforward\u001b[0;34m(self, x, dropout_rate, dropout_mask)\u001b[0m\n\u001b[1;32m     69\u001b[0m         \u001b[0mx\u001b[0m \u001b[0;34m=\u001b[0m \u001b[0mx\u001b[0m\u001b[0;34m.\u001b[0m\u001b[0mview\u001b[0m\u001b[0;34m(\u001b[0m\u001b[0;34m-\u001b[0m\u001b[0;36m1\u001b[0m\u001b[0;34m,\u001b[0m \u001b[0mself\u001b[0m\u001b[0;34m.\u001b[0m\u001b[0mlinear_size\u001b[0m\u001b[0;34m)\u001b[0m\u001b[0;34m\u001b[0m\u001b[0;34m\u001b[0m\u001b[0m\n\u001b[1;32m     70\u001b[0m         \u001b[0mx\u001b[0m \u001b[0;34m=\u001b[0m \u001b[0mF\u001b[0m\u001b[0;34m.\u001b[0m\u001b[0mrelu\u001b[0m\u001b[0;34m(\u001b[0m\u001b[0mself\u001b[0m\u001b[0;34m.\u001b[0m\u001b[0mfc1\u001b[0m\u001b[0;34m(\u001b[0m\u001b[0mx\u001b[0m\u001b[0;34m)\u001b[0m\u001b[0;34m)\u001b[0m\u001b[0;34m\u001b[0m\u001b[0;34m\u001b[0m\u001b[0m\n\u001b[0;32m---> 71\u001b[0;31m         \u001b[0mx\u001b[0m \u001b[0;34m=\u001b[0m \u001b[0mself\u001b[0m\u001b[0;34m.\u001b[0m\u001b[0m_dropout\u001b[0m\u001b[0;34m(\u001b[0m\u001b[0mx\u001b[0m\u001b[0;34m,\u001b[0m \u001b[0mdropout_mask\u001b[0m\u001b[0;34m,\u001b[0m \u001b[0mdropout_rate\u001b[0m\u001b[0;34m,\u001b[0m \u001b[0;36m1\u001b[0m\u001b[0;34m)\u001b[0m\u001b[0;34m\u001b[0m\u001b[0;34m\u001b[0m\u001b[0m\n\u001b[0m\u001b[1;32m     72\u001b[0m         \u001b[0mx\u001b[0m \u001b[0;34m=\u001b[0m \u001b[0mself\u001b[0m\u001b[0;34m.\u001b[0m\u001b[0mfc2\u001b[0m\u001b[0;34m(\u001b[0m\u001b[0mx\u001b[0m\u001b[0;34m)\u001b[0m\u001b[0;34m\u001b[0m\u001b[0;34m\u001b[0m\u001b[0m\n\u001b[1;32m     73\u001b[0m         \u001b[0;32mreturn\u001b[0m \u001b[0mx\u001b[0m\u001b[0;34m\u001b[0m\u001b[0;34m\u001b[0m\u001b[0m\n",
      "\u001b[0;32m~/apps/alpaca/model/cnn.py\u001b[0m in \u001b[0;36m_dropout\u001b[0;34m(self, x, dropout_mask, dropout_rate, layer_num)\u001b[0m\n\u001b[1;32m     77\u001b[0m             \u001b[0mx\u001b[0m \u001b[0;34m=\u001b[0m \u001b[0mself\u001b[0m\u001b[0;34m.\u001b[0m\u001b[0mdropout\u001b[0m\u001b[0;34m(\u001b[0m\u001b[0mx\u001b[0m\u001b[0;34m)\u001b[0m\u001b[0;34m\u001b[0m\u001b[0;34m\u001b[0m\u001b[0m\n\u001b[1;32m     78\u001b[0m         \u001b[0;32melse\u001b[0m\u001b[0;34m:\u001b[0m\u001b[0;34m\u001b[0m\u001b[0;34m\u001b[0m\u001b[0m\n\u001b[0;32m---> 79\u001b[0;31m             \u001b[0mx\u001b[0m \u001b[0;34m=\u001b[0m \u001b[0mx\u001b[0m \u001b[0;34m*\u001b[0m \u001b[0mdropout_mask\u001b[0m\u001b[0;34m(\u001b[0m\u001b[0mx\u001b[0m\u001b[0;34m,\u001b[0m \u001b[0mdropout_rate\u001b[0m\u001b[0;34m,\u001b[0m \u001b[0mlayer_num\u001b[0m\u001b[0;34m)\u001b[0m\u001b[0;34m\u001b[0m\u001b[0;34m\u001b[0m\u001b[0m\n\u001b[0m\u001b[1;32m     80\u001b[0m         \u001b[0;32mreturn\u001b[0m \u001b[0mx\u001b[0m\u001b[0;34m\u001b[0m\u001b[0;34m\u001b[0m\u001b[0m\n\u001b[1;32m     81\u001b[0m \u001b[0;34m\u001b[0m\u001b[0m\n",
      "\u001b[0;32m~/apps/alpaca/uncertainty_estimator/masks.py\u001b[0m in \u001b[0;36m__call__\u001b[0;34m(self, x, dropout_rate, layer_num)\u001b[0m\n\u001b[1;32m    179\u001b[0m \u001b[0;34m\u001b[0m\u001b[0m\n\u001b[1;32m    180\u001b[0m             \u001b[0;32mif\u001b[0m \u001b[0mself\u001b[0m\u001b[0;34m.\u001b[0m\u001b[0mlikelihood\u001b[0m\u001b[0;34m:\u001b[0m\u001b[0;34m\u001b[0m\u001b[0;34m\u001b[0m\u001b[0m\n\u001b[0;32m--> 181\u001b[0;31m                 \u001b[0mself\u001b[0m\u001b[0;34m.\u001b[0m\u001b[0mdpps\u001b[0m\u001b[0;34m[\u001b[0m\u001b[0mlayer_num\u001b[0m\u001b[0;34m]\u001b[0m \u001b[0;34m=\u001b[0m \u001b[0mFiniteDPP\u001b[0m\u001b[0;34m(\u001b[0m\u001b[0;34m'likelihood'\u001b[0m\u001b[0;34m,\u001b[0m \u001b[0;34m**\u001b[0m\u001b[0;34m{\u001b[0m\u001b[0;34m'L'\u001b[0m\u001b[0;34m:\u001b[0m \u001b[0mcorrelations\u001b[0m\u001b[0;34m}\u001b[0m\u001b[0;34m)\u001b[0m\u001b[0;34m\u001b[0m\u001b[0;34m\u001b[0m\u001b[0m\n\u001b[0m\u001b[1;32m    182\u001b[0m             \u001b[0;32melse\u001b[0m\u001b[0;34m:\u001b[0m\u001b[0;34m\u001b[0m\u001b[0;34m\u001b[0m\u001b[0m\n\u001b[1;32m    183\u001b[0m                 \u001b[0mself\u001b[0m\u001b[0;34m.\u001b[0m\u001b[0mdpps\u001b[0m\u001b[0;34m[\u001b[0m\u001b[0mlayer_num\u001b[0m\u001b[0;34m]\u001b[0m \u001b[0;34m=\u001b[0m \u001b[0mFiniteDPP\u001b[0m\u001b[0;34m(\u001b[0m\u001b[0;34m'correlation'\u001b[0m\u001b[0;34m,\u001b[0m \u001b[0;34m**\u001b[0m\u001b[0;34m{\u001b[0m\u001b[0;34m'K'\u001b[0m\u001b[0;34m:\u001b[0m \u001b[0mcorrelations\u001b[0m\u001b[0;34m}\u001b[0m\u001b[0;34m)\u001b[0m\u001b[0;34m\u001b[0m\u001b[0;34m\u001b[0m\u001b[0m\n",
      "\u001b[0;32m~/anaconda3/envs/uq/lib/python3.7/site-packages/dppy/finite_dpps.py\u001b[0m in \u001b[0;36m__init__\u001b[0;34m(self, kernel_type, projection, **params)\u001b[0m\n\u001b[1;32m    133\u001b[0m         \u001b[0;31m# Attributes relative to L likelihood kernel:\u001b[0m\u001b[0;34m\u001b[0m\u001b[0;34m\u001b[0m\u001b[0;34m\u001b[0m\u001b[0m\n\u001b[1;32m    134\u001b[0m         \u001b[0;31m# L, L_eig_vals, L_eig_vecs, L_gram_factor, L_dual, L_dual_eig_vals, L_dual_eig_vecs\u001b[0m\u001b[0;34m\u001b[0m\u001b[0;34m\u001b[0m\u001b[0;34m\u001b[0m\u001b[0m\n\u001b[0;32m--> 135\u001b[0;31m         \u001b[0mself\u001b[0m\u001b[0;34m.\u001b[0m\u001b[0mL\u001b[0m \u001b[0;34m=\u001b[0m \u001b[0mis_symmetric\u001b[0m\u001b[0;34m(\u001b[0m\u001b[0mparams\u001b[0m\u001b[0;34m.\u001b[0m\u001b[0mget\u001b[0m\u001b[0;34m(\u001b[0m\u001b[0;34m'L'\u001b[0m\u001b[0;34m,\u001b[0m \u001b[0;32mNone\u001b[0m\u001b[0;34m)\u001b[0m\u001b[0;34m)\u001b[0m\u001b[0;34m\u001b[0m\u001b[0;34m\u001b[0m\u001b[0m\n\u001b[0m\u001b[1;32m    136\u001b[0m         \u001b[0;32mif\u001b[0m \u001b[0mself\u001b[0m\u001b[0;34m.\u001b[0m\u001b[0mprojection\u001b[0m\u001b[0;34m:\u001b[0m\u001b[0;34m\u001b[0m\u001b[0;34m\u001b[0m\u001b[0m\n\u001b[1;32m    137\u001b[0m             \u001b[0mself\u001b[0m\u001b[0;34m.\u001b[0m\u001b[0mL\u001b[0m \u001b[0;34m=\u001b[0m \u001b[0mis_projection\u001b[0m\u001b[0;34m(\u001b[0m\u001b[0mself\u001b[0m\u001b[0;34m.\u001b[0m\u001b[0mL\u001b[0m\u001b[0;34m)\u001b[0m\u001b[0;34m\u001b[0m\u001b[0;34m\u001b[0m\u001b[0m\n",
      "\u001b[0;32m~/anaconda3/envs/uq/lib/python3.7/site-packages/dppy/utils.py\u001b[0m in \u001b[0;36mis_symmetric\u001b[0;34m(array)\u001b[0m\n\u001b[1;32m    112\u001b[0m         \u001b[0;32mreturn\u001b[0m \u001b[0marray\u001b[0m\u001b[0;34m\u001b[0m\u001b[0;34m\u001b[0m\u001b[0m\n\u001b[1;32m    113\u001b[0m     \u001b[0;32melse\u001b[0m\u001b[0;34m:\u001b[0m\u001b[0;34m\u001b[0m\u001b[0;34m\u001b[0m\u001b[0m\n\u001b[0;32m--> 114\u001b[0;31m         \u001b[0;32mraise\u001b[0m \u001b[0mValueError\u001b[0m\u001b[0;34m(\u001b[0m\u001b[0;34m'array not symmetric: M.T != M'\u001b[0m\u001b[0;34m)\u001b[0m\u001b[0;34m\u001b[0m\u001b[0;34m\u001b[0m\u001b[0m\n\u001b[0m\u001b[1;32m    115\u001b[0m \u001b[0;34m\u001b[0m\u001b[0m\n\u001b[1;32m    116\u001b[0m \u001b[0;34m\u001b[0m\u001b[0m\n",
      "\u001b[0;31mValueError\u001b[0m: array not symmetric: M.T != M"
     ],
     "ename": "ValueError",
     "evalue": "array not symmetric: M.T != M",
     "output_type": "error"
    }
   ],
   "source": [
    "errors = defaultdict(list) \n",
    "\n",
    "for i in range(config['model_runs']):\n",
    "    x_train, x_pool, y_train, y_pool= train_test_split(\n",
    "        x_set, y_set, train_size=config['al_start'], stratify=y_set)\n",
    "    x_pool, _, y_pool, _ = train_test_split(x_pool, y_pool, train_size=config['pool_size'], stratify=y_pool)\n",
    "    masks = build_masks(DEFAULT_MASKS)\n",
    "\n",
    "    # Random estimator\n",
    "    print(f\"\\nrandom\\n\")\n",
    "    model = config['model_class'](num_classes=config['num_classes'], activation=torch.nn.functional.celu)\n",
    "    trainer = Trainer(model, batch_size=config['batch_size'])\n",
    "    estimator = build_estimator('random', trainer)\n",
    "    model_errors = al_evaluate(\n",
    "        trainer, estimator, x_train, y_train, x_val, y_val, x_pool)\n",
    "    errors['random'].append(model_errors)\n",
    "\n",
    "    # Ensemble\n",
    "    print(f\"\\nensemble\\n\")\n",
    "    ensemble = EnsembleTrainer(\n",
    "        config['model_class'], {'num_classes': config['num_classes'], 'activation': torch.nn.functional.celu}, config['n_models'],\n",
    "        batch_size=config['batch_size'])\n",
    "    estimator = build_estimator('bald_ensemble', ensemble, num_classes=config['num_classes'])\n",
    "    model_errors = al_evaluate(\n",
    "        ensemble, estimator, x_train, y_train, x_val, y_val, x_pool)\n",
    "    errors['ensemble'].append(model_errors)\n",
    "\n",
    "    # Masks\n",
    "    mask = masks['l_dpp']\n",
    "    for name, mask in {'l_dpp': mask}.items():\n",
    "    # for name, mask in masks.items():\n",
    "        print(f\"\\n{name}\\n\")\n",
    "        model = config['model_class'](num_classes=config['num_classes'], activation=torch.nn.functional.celu)\n",
    "        trainer = Trainer(model, batch_size=config['batch_size'])\n",
    "        estimator = build_estimator(\n",
    "            'bald_masked', trainer, nn_runs=config['nn_runs'], dropout_mask=mask,\n",
    "            dropout_rate=config['dropout_uq'], num_classes=config['num_classes'])\n",
    "\n",
    "        model_errors = al_evaluate(\n",
    "            trainer, estimator, x_train, y_train, x_val, y_val, x_pool)\n",
    "        errors[name].append(model_errors)\n"
   ],
   "metadata": {
    "collapsed": false,
    "pycharm": {
     "name": "#%%\n",
     "is_executing": false
    }
   }
  },
  {
   "cell_type": "code",
   "execution_count": null,
   "outputs": [],
   "source": [
    "plt.figure(figsize=(16, 10))\n",
    "for name, err_values in errors.items():\n",
    "    err_values = np.stack(err_values)\n",
    "    means = np.mean(err_values, axis=0)\n",
    "    stds = np.std(err_values, axis=0)\n",
    "    plt.plot(means, label=name)\n",
    "    plt.fill_between(\n",
    "        np.arange(len(means)), means-stds, means+stds, alpha=.1)\n",
    "plt.ylabel(\"Error\")\n",
    "plt.xlabel(\"Step\")\n",
    "title = f\"Active learning with {config['al_start']} starting samples\"\n",
    "title += f\"and {config['al_step']} samples per step\"\n",
    "plt.title(title)\n",
    "plt.legend()\n"
   ],
   "metadata": {
    "collapsed": false,
    "pycharm": {
     "name": "#%%\n",
     "is_executing": false
    }
   }
  },
  {
   "cell_type": "code",
   "execution_count": null,
   "outputs": [],
   "source": [
    "\n"
   ],
   "metadata": {
    "collapsed": false,
    "pycharm": {
     "name": "#%%\n",
     "is_executing": false
    }
   }
  }
 ],
 "metadata": {
  "kernelspec": {
   "display_name": "Python 3",
   "language": "python",
   "name": "python3"
  },
  "language_info": {
   "codemirror_mode": {
    "name": "ipython",
    "version": 3
   },
   "file_extension": ".py",
   "mimetype": "text/x-python",
   "name": "python",
   "nbconvert_exporter": "python",
   "pygments_lexer": "ipython3",
   "version": "3.7.3"
  },
  "pycharm": {
   "stem_cell": {
    "cell_type": "raw",
    "source": [],
    "metadata": {
     "collapsed": false
    }
   }
  }
 },
 "nbformat": 4,
 "nbformat_minor": 4
}