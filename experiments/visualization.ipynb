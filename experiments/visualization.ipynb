{
 "cells": [
  {
   "cell_type": "code",
   "execution_count": null,
   "metadata": {
    "collapsed": false,
    "jupyter": {
     "outputs_hidden": false
    },
    "pycharm": {
     "is_executing": false,
     "name": "#%%\n"
    }
   },
   "outputs": [],
   "source": [
    "import sys\n",
    "sys.path.append('..')\n",
    "%load_ext autoreload\n",
    "%autoreload 2"
   ]
  },
  {
   "cell_type": "code",
   "execution_count": null,
   "metadata": {
    "collapsed": false,
    "jupyter": {
     "outputs_hidden": false
    },
    "pycharm": {
     "is_executing": false,
     "name": "#%%\n"
    }
   },
   "outputs": [],
   "source": [
    "import pickle\n",
    "from datetime import datetime\n",
    "import os\n",
    "\n",
    "import numpy as np\n",
    "import matplotlib.pyplot as plt\n",
    "import pandas as pd\n",
    "import seaborn as sns\n",
    "\n",
    "from dataloader.builder import build_dataset\n",
    "\n",
    "from model.mlp import MLP\n",
    "from model.ensemble import MLPEnsemble\n",
    "from uncertainty_estimator.masks import build_masks, DEFAULT_MASKS\n",
    "from experiment_setup import build_estimator, get_model\n",
    "from analysis.metrics import get_uq_metrics\n",
    "from experiments.utils.data import scale, split_ood, multiple_kfold\n",
    "import torch\n",
    "\n",
    "from analysis.autoencoder import VAE\n",
    "\n",
    "from loss.nll_loss import NLLRegLoss\n",
    "from torch.nn import functional as F\n",
    "\n",
    "def nll_postprocessing(x):\n",
    "    return torch.cat([x[:, [0]], F.softplus(x[:, [1]])], dim=1)\n",
    "\n",
    "plt.rcParams['figure.facecolor'] = 'white'\n",
    "torch.cuda.set_device(1)\n",
    "\n",
    "\n",
    "config = {\n",
    "    'nn_runs': 100,\n",
    "    'runs': 2,\n",
    "    'max_runs': 20,\n",
    "    'k_folds': 10,\n",
    "    'verbose': False,\n",
    "    'layers': [8, 256, 256, 128, 1],\n",
    "    'epochs': 10_000,\n",
    "    'validation_step': 50,\n",
    "    'acc_percentile': 0.1,\n",
    "    'patience': 3,\n",
    "    'dropout_rate': 0.2,\n",
    "    'dropout_uq': 0.5,\n",
    "    'batch_size': 256,\n",
    "    'dataset': 'concrete',\n",
    "    'ood_percentile': 90,\n",
    "    'with_ensembles': True,\n",
    "    'optimizer': {'type': 'Adadelta', 'weight_decay':1e-3}\n",
    "}\n"
   ]
  },
  {
   "cell_type": "code",
   "execution_count": null,
   "metadata": {
    "collapsed": false,
    "jupyter": {
     "outputs_hidden": false
    },
    "pycharm": {
     "is_executing": false,
     "name": "#%%\n"
    }
   },
   "outputs": [],
   "source": [
    "\n",
    "# Load dataset\n",
    "dataset = build_dataset(config['dataset'])\n",
    "\n",
    "x_train, y_train = dataset.dataset('train')\n",
    "x_val, y_val = dataset.dataset('val')\n"
   ]
  },
  {
   "cell_type": "code",
   "execution_count": null,
   "metadata": {
    "collapsed": false,
    "jupyter": {
     "outputs_hidden": false
    },
    "pycharm": {
     "is_executing": false,
     "name": "#%%\n"
    }
   },
   "outputs": [],
   "source": [
    "autoencoder = VAE(8, 64, 2)\n",
    "autoencoder.train()\n",
    "autoencoder.fit(x_train)\n"
   ]
  },
  {
   "cell_type": "code",
   "execution_count": null,
   "metadata": {
    "collapsed": false,
    "jupyter": {
     "outputs_hidden": false
    },
    "pycharm": {
     "is_executing": false,
     "name": "#%%\n"
    }
   },
   "outputs": [],
   "source": [
    "np.unique(x_train).shape"
   ]
  },
  {
   "cell_type": "code",
   "execution_count": null,
   "metadata": {
    "collapsed": false,
    "jupyter": {
     "outputs_hidden": false
    },
    "pycharm": {
     "is_executing": false,
     "name": "#%%\n"
    }
   },
   "outputs": [],
   "source": [
    "autoencoder.eval()\n",
    "def encode(x):\n",
    "    samples = torch.DoubleTensor(x).to('cuda')\n",
    "    encoded, _ = autoencoder.encode(samples)\n",
    "    return encoded.cpu().detach().numpy()\n",
    "encoded_train = encode(x_train)\n",
    "encoded_val = encode(x_val)"
   ]
  },
  {
   "cell_type": "code",
   "execution_count": null,
   "metadata": {
    "collapsed": false,
    "jupyter": {
     "outputs_hidden": false
    },
    "pycharm": {
     "is_executing": false,
     "name": "#%%\n"
    }
   },
   "outputs": [],
   "source": [
    "\n",
    "sns.scatterplot(\n",
    "    x=encoded_train[:, 0], y=encoded_train[:, 1], hue=y_train.squeeze(),\n",
    "    # palette=sns.color_palette(\"Blues\", 1282))\n",
    "    palette=\"Blues\")\n",
    "sns.scatterplot(\n",
    "    x=encoded_val[:, 0], y=encoded_val[:, 1], hue=y_val.squeeze(),\n",
    "    # palette=sns.color_palette(\"Blues\", 1282))\n",
    "    palette=\"Reds\")\n"
   ]
  },
  {
   "cell_type": "code",
   "execution_count": null,
   "metadata": {
    "collapsed": false,
    "jupyter": {
     "outputs_hidden": false
    },
    "pycharm": {
     "is_executing": false,
     "name": "#%%\n"
    }
   },
   "outputs": [],
   "source": [
    "# Train or load model\n",
    "model = MLP(config['layers'], optimizer=config['optimizer'])\n",
    "model_path = f\"experiments/data/model_{config['dataset']}.ckpt\"\n",
    "model = get_model(model, model_path, (x_train, y_train), (x_val, y_val))\n",
    "\n",
    "# UE\n",
    "masks = build_masks(['vanilla', 'rank_dpp', 'dpp'])\n",
    "estimator = build_estimator('mcdue_masked', model, dropout_mask=masks['dpp'])\n",
    "estimations = estimator.estimate(x_val)\n",
    "print(estimations)\n",
    "print(estimations.shape)\n",
    "\n",
    "\n",
    "\n"
   ]
  },
  {
   "cell_type": "code",
   "execution_count": null,
   "metadata": {
    "collapsed": false,
    "jupyter": {
     "outputs_hidden": false
    },
    "pycharm": {
     "is_executing": false,
     "name": "#%%\n"
    }
   },
   "outputs": [],
   "source": [
    "import matplotlib.tri as tri\n",
    "import numpy as np\n",
    "from scipy.interpolate import griddata\n",
    "\n",
    "np.random.seed(19680801)\n",
    "npts = 200\n",
    "ngridx = 200\n",
    "ngridy = 200\n",
    "# x = np.random.uniform(-2, 2, npts)\n",
    "# y = np.random.uniform(-2, 2, npts)\n",
    "# z = x * np.exp(-x**2 - y**2)\n",
    "x = encoded_val[:, 0]\n",
    "y = encoded_val[:, 1]\n",
    "z = estimations\n",
    "\n",
    "fig, ax1 = plt.subplots(figsize=(16, 9))\n",
    "\n",
    "x1, x2 = 30, 120\n",
    "y1, y2 = -80, 60\n",
    "xi = np.linspace(x1, x2, ngridx)\n",
    "yi = np.linspace(y1, y2, ngridy)\n",
    "zi = griddata((x, y), z, (xi[None,:], yi[:,None]), method='linear')\n",
    "\n",
    "\n",
    "ax1.contour(xi, yi, zi, levels=14, linewidths=0.5, colors='k')\n",
    "cntr1 = ax1.contourf(xi, yi, zi, levels=14, cmap=\"gray\")\n",
    "\n",
    "fig.colorbar(cntr1, ax=ax1)\n",
    "ax1.plot(x, y, 'ko', ms=3, color='red', alpha=0.3)\n",
    "ax1.set(xlim=(x1, x2), ylim=(y1, y2))\n",
    "ax1.set_title('grid and contour (%d points, %d grid points)' %\n",
    "              (npts, ngridx * ngridy))\n",
    "\n"
   ]
  },
  {
   "cell_type": "code",
   "execution_count": null,
   "metadata": {
    "collapsed": false,
    "jupyter": {
     "outputs_hidden": false
    },
    "pycharm": {
     "name": "#%%\n"
    }
   },
   "outputs": [],
   "source": []
  }
 ],
 "metadata": {
  "kernelspec": {
   "display_name": "Python 3",
   "language": "python",
   "name": "python3"
  },
  "language_info": {
   "codemirror_mode": {
    "name": "ipython",
    "version": 3
   },
   "file_extension": ".py",
   "mimetype": "text/x-python",
   "name": "python",
   "nbconvert_exporter": "python",
   "pygments_lexer": "ipython3",
   "version": "3.7.3"
  },
  "pycharm": {
   "stem_cell": {
    "cell_type": "raw",
    "metadata": {
     "collapsed": false
    },
    "source": []
   }
  }
 },
 "nbformat": 4,
 "nbformat_minor": 4
}
