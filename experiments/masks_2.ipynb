{
 "cells": [
  {
   "cell_type": "code",
   "execution_count": 1,
   "metadata": {
    "pycharm": {
     "is_executing": false
    }
   },
   "outputs": [],
   "source": [
    "import sys\n",
    "sys.path.append('..')\n",
    "%load_ext autoreload\n",
    "%autoreload 2"
   ]
  },
  {
   "cell_type": "code",
   "execution_count": 2,
   "metadata": {
    "pycharm": {
     "is_executing": false,
     "name": "#%%\n"
    }
   },
   "outputs": [],
   "source": [
    "import numpy as np\n",
    "import matplotlib.pyplot as plt\n",
    "import pickle\n",
    "\n",
    "from experiment_setup import get_model, set_random, build_estimator\n",
    "from uncertainty_estimator.masks import build_masks, DEFAULT_MASKS, BASIC_MASKS\n",
    "from dataloader.toy import ToyQubicData, ToySinData\n",
    "from model.mlp import MLP\n",
    "from model.dense import Dense\n",
    "from model.trainer import Trainer\n",
    "import torch\n",
    "torch.cuda.set_device(1)"
   ]
  },
  {
   "cell_type": "code",
   "execution_count": 3,
   "metadata": {
    "collapsed": false,
    "jupyter": {
     "outputs_hidden": false
    },
    "pycharm": {
     "is_executing": false,
     "name": "#%%\n"
    }
   },
   "outputs": [],
   "source": [
    "plt.rcParams['figure.facecolor'] = 'white'"
   ]
  },
  {
   "cell_type": "code",
   "execution_count": 3,
   "outputs": [],
   "source": [],
   "metadata": {
    "collapsed": false,
    "pycharm": {
     "name": "#%%\n",
     "is_executing": false
    }
   }
  },
  {
   "cell_type": "code",
   "execution_count": 4,
   "metadata": {
    "collapsed": false,
    "jupyter": {
     "outputs_hidden": false
    },
    "pycharm": {
     "is_executing": false,
     "name": "#%%\n"
    }
   },
   "outputs": [],
   "source": [
    "config = {\n",
    "    'nn_runs': 50,\n",
    "    'verbose': False,\n",
    "    'use_cache': True, \n",
    "    'layers': [1, 64, 64, 32, 1],\n",
    "    'patience': 50,\n",
    "    'dropout_train': 0,\n",
    "    'dropout_uq': 0\n",
    "}"
   ]
  },
  {
   "cell_type": "markdown",
   "metadata": {},
   "source": [
    "### Visualizing on toy data\n",
    "\n",
    "#### Generate dataset\n"
   ]
  },
  {
   "cell_type": "code",
   "execution_count": 5,
   "metadata": {
    "collapsed": false,
    "jupyter": {
     "outputs_hidden": false
    },
    "pycharm": {
     "is_executing": false,
     "name": "#%%\n"
    }
   },
   "outputs": [
    {
     "data": {
      "text/plain": "<matplotlib.collections.PathCollection at 0x7f9f16065b10>"
     },
     "metadata": {},
     "output_type": "execute_result",
     "execution_count": 5
    },
    {
     "data": {
      "text/plain": "<Figure size 432x288 with 1 Axes>",
      "image/png": "[encoded data removed]"
     },
     "metadata": {},
     "output_type": "display_data"
    }
   ],
   "source": [
    "dataset = 'sin'\n",
    "\n",
    "data_class = ToyQubicData\n",
    "\n",
    "x_train, y_train = data_class(use_cache=config['use_cache']).dataset('train')\n",
    "x_val, y_val = data_class(use_cache=config['use_cache']).dataset('val')\n",
    "x_true, y_true = data_class().dataset('ground_truth')\n",
    "    \n",
    "plt.plot(x_true, y_true)\n",
    "plt.scatter(x_train, y_train, color='red')\n",
    "plt.scatter(x_val, y_val, color='green')"
   ]
  },
  {
   "cell_type": "markdown",
   "metadata": {
    "pycharm": {
     "is_executing": false,
     "name": "#%% md\n"
    }
   },
   "source": [
    "\n",
    "#### Train model\n"
   ]
  },
  {
   "cell_type": "code",
   "execution_count": 6,
   "metadata": {
    "collapsed": false,
    "jupyter": {
     "outputs_hidden": false
    },
    "pycharm": {
     "is_executing": false,
     "name": "#%%\n"
    }
   },
   "outputs": [],
   "source": [
    "# model = MLP(config['layers'], l2_reg=1e-5)\n",
    "# model.fit(\n",
    "#     (x_train, y_train), (x_train, y_train),\n",
    "#     patience=config['patience'], validation_step=10, batch_size=15,\n",
    "#     dropout_rate=config['dropout_train'])\n",
    "# x_ = np.concatenate((x_true, x_train))\n",
    "# y_ = model(x_).cpu().numpy()\n",
    "# plt.figure(figsize=(22, 12))\n",
    "# plt.plot(x_true, y_true, alpha=0.5)\n",
    "# plt.scatter(x_train, y_train, color='red')\n",
    "# plt.scatter(x_, y_, color='green', marker='+')\n"
   ]
  },
  {
   "cell_type": "code",
   "execution_count": 7,
   "outputs": [
    {
     "name": "stdout",
     "text": [
      "Dense(\n",
      "  (fc0): Linear(in_features=1, out_features=64, bias=True)\n",
      "  (fc1): Linear(in_features=64, out_features=64, bias=True)\n",
      "  (fc2): Linear(in_features=64, out_features=32, bias=True)\n",
      "  (fc3): Linear(in_features=32, out_features=1, bias=True)\n",
      ")\n"
     ],
     "output_type": "stream"
    }
   ],
   "source": [
    "model = Dense(config['layers']).float()\n",
    "print(model)"
   ],
   "metadata": {
    "collapsed": false,
    "pycharm": {
     "name": "#%%\n",
     "is_executing": false
    }
   }
  },
  {
   "cell_type": "code",
   "execution_count": 8,
   "outputs": [],
   "source": [
    "trainer = Trainer(\n",
    "    model, batch_size=15, dropout_train=config['dropout_train'],\n",
    "    loss=torch.nn.functional.mse_loss, regression=True)"
   ],
   "metadata": {
    "collapsed": false,
    "pycharm": {
     "name": "#%%\n",
     "is_executing": false
    }
   }
  },
  {
   "cell_type": "code",
   "execution_count": 9,
   "outputs": [],
   "source": [
    "trainer.fit((x_train, y_train), (x_val, y_val), patience=config['patience'])"
   ],
   "metadata": {
    "collapsed": false,
    "pycharm": {
     "name": "#%%\n",
     "is_executing": false
    }
   }
  },
  {
   "cell_type": "code",
   "execution_count": 9,
   "outputs": [],
   "source": [
    "\n"
   ],
   "metadata": {
    "collapsed": false,
    "pycharm": {
     "name": "#%%\n",
     "is_executing": false
    }
   }
  }
 ],
 "metadata": {
  "kernelspec": {
   "display_name": "Python 3",
   "language": "python",
   "name": "python3"
  },
  "language_info": {
   "codemirror_mode": {
    "name": "ipython",
    "version": 3
   },
   "file_extension": ".py",
   "mimetype": "text/x-python",
   "name": "python",
   "nbconvert_exporter": "python",
   "pygments_lexer": "ipython3",
   "version": "3.7.3"
  },
  "pycharm": {
   "stem_cell": {
    "cell_type": "raw",
    "source": [],
    "metadata": {
     "collapsed": false
    }
   }
  }
 },
 "nbformat": 4,
 "nbformat_minor": 4
}