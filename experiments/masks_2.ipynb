{
 "cells": [
  {
   "cell_type": "code",
   "execution_count": null,
   "metadata": {
    "pycharm": {
     "is_executing": false
    }
   },
   "outputs": [],
   "source": [
    "import sys\n",
    "sys.path.append('..')\n",
    "%load_ext autoreload\n",
    "%autoreload 2"
   ]
  },
  {
   "cell_type": "code",
   "execution_count": null,
   "metadata": {
    "pycharm": {
     "is_executing": false,
     "name": "#%%\n"
    }
   },
   "outputs": [],
   "source": [
    "import pickle\n",
    "\n",
    "import numpy as np\n",
    "import matplotlib.pyplot as plt\n",
    "from dppy.finite_dpps import FiniteDPP\n",
    "\n",
    "from experiment_setup import get_model, set_random, build_estimator\n",
    "from uncertainty_estimator.masks import build_masks, DEFAULT_MASKS, BASIC_MASKS\n",
    "from dataloader.toy import ToyQubicData, ToySinData\n",
    "from model.mlp import MLP\n",
    "from model.dense import Dense\n",
    "from model.trainer import Trainer\n",
    "import seaborn as sns\n",
    "import torch\n",
    "\n",
    "from sklearn.cluster import SpectralCoclustering\n",
    "\n",
    "# torch.cuda.set_device(1)"
   ]
  },
  {
   "cell_type": "code",
   "execution_count": null,
   "metadata": {
    "collapsed": false,
    "jupyter": {
     "outputs_hidden": false
    },
    "pycharm": {
     "is_executing": false,
     "name": "#%%\n"
    }
   },
   "outputs": [],
   "source": [
    "plt.rcParams['figure.facecolor'] = 'white'"
   ]
  },
  {
   "cell_type": "code",
   "execution_count": null,
   "outputs": [],
   "source": [],
   "metadata": {
    "collapsed": false,
    "pycharm": {
     "name": "#%%\n",
     "is_executing": false
    }
   }
  },
  {
   "cell_type": "code",
   "execution_count": null,
   "metadata": {
    "collapsed": false,
    "jupyter": {
     "outputs_hidden": false
    },
    "pycharm": {
     "is_executing": false,
     "name": "#%%\n"
    }
   },
   "outputs": [],
   "source": [
    "config = {\n",
    "    'nn_runs': 50,\n",
    "    'verbose': False,\n",
    "    'use_cache': True, \n",
    "    'layers': [1, 64, 64, 32, 1],\n",
    "    'patience': 500,\n",
    "    'dropout_train': 0.3,\n",
    "    'dropout_uq': 0.5\n",
    "}"
   ]
  },
  {
   "cell_type": "markdown",
   "metadata": {},
   "source": [
    "### Visualizing on toy data\n",
    "\n",
    "#### Generate dataset\n"
   ]
  },
  {
   "cell_type": "code",
   "execution_count": null,
   "metadata": {
    "collapsed": false,
    "jupyter": {
     "outputs_hidden": false
    },
    "pycharm": {
     "is_executing": false,
     "name": "#%%\n"
    }
   },
   "outputs": [],
   "source": [
    "dataset = 'sin'\n",
    "\n",
    "data_class = ToySinData\n",
    "\n",
    "x_train, y_train = data_class(use_cache=config['use_cache']).dataset('train')\n",
    "x_val, y_val = data_class(use_cache=config['use_cache']).dataset('val')\n",
    "x_true, y_true = data_class().dataset('ground_truth')\n",
    "    \n",
    "plt.plot(x_true, y_true)\n",
    "plt.scatter(x_train, y_train, color='red')\n",
    "plt.scatter(x_val, y_val, color='green')"
   ]
  },
  {
   "cell_type": "markdown",
   "metadata": {
    "pycharm": {
     "is_executing": false,
     "name": "#%% md\n"
    }
   },
   "source": [
    "\n",
    "#### Train model\n"
   ]
  },
  {
   "cell_type": "code",
   "execution_count": null,
   "metadata": {
    "collapsed": false,
    "jupyter": {
     "outputs_hidden": false
    },
    "pycharm": {
     "is_executing": false,
     "name": "#%%\n"
    }
   },
   "outputs": [],
   "source": [
    "model = Dense(config['layers']).float()\n",
    "\n",
    "trainer = Trainer(\n",
    "    model, batch_size=15, dropout_train=config['dropout_train'],\n",
    "    loss=torch.nn.functional.mse_loss, regression=True)\n",
    "trainer.fit(\n",
    "    (x_train, y_train), (x_val, y_val), patience=config['patience'],\n",
    "     verbose=False, epochs=10000)\n",
    "\n",
    "x_ = np.concatenate((x_true, x_train))\n",
    "y_ = trainer.predict(x_)\n",
    "plt.figure(figsize=(22, 12))\n",
    "plt.plot(x_true, y_true, alpha=0.5)\n",
    "plt.scatter(x_train, y_train, color='red')\n",
    "plt.scatter(x_, y_, color='green', marker='+')\n"
   ]
  },
  {
   "cell_type": "code",
   "execution_count": null,
   "outputs": [],
   "source": [
    "masks = build_masks(['l_dpp_htnorm'])"
   ],
   "metadata": {
    "collapsed": false,
    "pycharm": {
     "name": "#%%\n",
     "is_executing": false
    }
   }
  },
  {
   "cell_type": "code",
   "execution_count": null,
   "outputs": [],
   "source": [
    "y_pred = trainer.predict(x_true)"
   ],
   "metadata": {
    "collapsed": false,
    "pycharm": {
     "name": "#%%\n",
     "is_executing": false
    }
   }
  },
  {
   "cell_type": "code",
   "execution_count": null,
   "outputs": [],
   "source": [
    "plt.figure(figsize=(16, 30))\n",
    "\n",
    "def make_uq_graph(name, estimations):\n",
    "    plt.title(name)\n",
    "    plt.plot(x_true, y_true, alpha=0.5)\n",
    "    plt.scatter(x_true, y_pred, color='green', marker='+')\n",
    "    plt.fill_between(np.ravel(x_true), np.ravel(y_pred)-estimations, np.ravel(y_pred)+estimations, alpha=0.3, color='green')\n",
    "    plt.scatter(x_train, y_train, color='red')\n",
    "\n",
    "dropout_runs = {}\n",
    "\n",
    "for i, (name, mask) in enumerate(masks.items()):\n",
    "    if hasattr(mask, 'reset'):\n",
    "        mask.reset()\n",
    "    trainer.train()\n",
    "    estimator = build_estimator(\n",
    "        'mcdue_masked', trainer, keep_runs=True, nn_runs=config['nn_runs'],\n",
    "        dropout_mask=mask, dropout_rate=config['dropout_uq'])\n",
    "    \n",
    "    estimations = estimator.estimate(x_true)\n",
    "    dropout_runs[name] = estimator.last_mcd_runs()\n",
    "    plt.subplot(6, 2, i+1)\n",
    "    make_uq_graph(name, estimations)\n"
   ],
   "metadata": {
    "collapsed": false,
    "pycharm": {
     "name": "#%%\n",
     "is_executing": false
    }
   }
  },
  {
   "cell_type": "markdown",
   "source": [
    "\n",
    "### Dropout predictions\n"
   ],
   "metadata": {
    "collapsed": false
   }
  },
  {
   "cell_type": "code",
   "execution_count": null,
   "outputs": [],
   "source": [
    "def plot_dropout_runs(name, predictions, n=50):\n",
    "    plt.figure(figsize=(20, 10))\n",
    "    plt.title(name)\n",
    "    plt.plot(x_true, y_true)\n",
    "    plt.scatter(x_train, y_train, color='red')\n",
    "    for prediction_line in predictions[:n]:\n",
    "        plt.plot(x_true, prediction_line, alpha=0.5)"
   ],
   "metadata": {
    "collapsed": false,
    "pycharm": {
     "name": "#%%\n",
     "is_executing": false
    }
   }
  },
  {
   "cell_type": "code",
   "execution_count": null,
   "outputs": [],
   "source": [
    "for name, runs in dropout_runs.items():\n",
    "    plot_dropout_runs(name, runs.T, 200)\n"
   ],
   "metadata": {
    "collapsed": false,
    "pycharm": {
     "name": "#%%\n",
     "is_executing": false
    }
   }
  },
  {
   "cell_type": "code",
   "execution_count": null,
   "outputs": [],
   "source": [
    "dpp = masks[list(masks.keys())[-1]]"
   ],
   "metadata": {
    "collapsed": false,
    "pycharm": {
     "name": "#%%\n",
     "is_executing": false
    }
   }
  },
  {
   "cell_type": "code",
   "execution_count": null,
   "outputs": [],
   "source": [
    "samples = dpp.dpps[0].list_of_samples\n",
    "lengths = [len(sample) for sample in samples]\n",
    "print(sum(lengths)/len(lengths)/config['layers'][1])\n",
    "samples\n",
    "\n"
   ],
   "metadata": {
    "collapsed": false,
    "pycharm": {
     "name": "#%%\n",
     "is_executing": false
    }
   }
  },
  {
   "cell_type": "markdown",
   "source": [
    "### Drawing correlations"
   ],
   "metadata": {
    "collapsed": false
   }
  },
  {
   "cell_type": "code",
   "execution_count": null,
   "outputs": [],
   "source": [
    "corr = dpp.layer_correlations[0]"
   ],
   "metadata": {
    "collapsed": false,
    "pycharm": {
     "name": "#%%\n",
     "is_executing": false
    }
   }
  },
  {
   "cell_type": "code",
   "execution_count": null,
   "outputs": [],
   "source": [
    "plt.figure(figsize=(10, 8))\n",
    "sns.heatmap(corr)"
   ],
   "metadata": {
    "collapsed": false,
    "pycharm": {
     "name": "#%%\n",
     "is_executing": false
    }
   }
  },
  {
   "cell_type": "code",
   "execution_count": null,
   "outputs": [],
   "source": [
    "for n in range(30, 30):\n",
    "    plt.figure(figsize=(14, 12))\n",
    "    model = SpectralCoclustering(n_clusters=n, random_state=0)\n",
    "    model.fit(corr)\n",
    "    fit_data = corr[np.argsort(model.row_labels_)]\n",
    "    fit_data = fit_data[:, np.argsort(model.column_labels_)]\n",
    "    sns.heatmap(fit_data)\n"
   ],
   "metadata": {
    "collapsed": false,
    "pycharm": {
     "name": "#%%\n",
     "is_executing": false
    }
   }
  },
  {
   "cell_type": "markdown",
   "source": [
    "### Check normalization\n",
    "You need to re-imlement layer_runs to use it\n",
    "(Just save values on middle layer in attribute dictionary layer_runs)"
   ],
   "metadata": {
    "collapsed": false,
    "pycharm": {
     "name": "#%% md\n"
    }
   }
  },
  {
   "cell_type": "code",
   "execution_count": null,
   "outputs": [],
   "source": [
    "def get_norm(corr):\n",
    "    E = np.eye(len(corr))\n",
    "    L = corr \n",
    "    K = np.dot(L, np.linalg.inv(L + E))\n",
    "    return np.reciprocal(np.diag(K))\n",
    "\n",
    "def get_averages(samples, values, norm=None):\n",
    "    avgs = []\n",
    "    for sample in samples:\n",
    "        sample_mask = np.zeros_like(values)\n",
    "        if norm is None:\n",
    "            sample_mask[sample] = len(values) / len(sample)\n",
    "        else:\n",
    "            sample_mask[sample] = norm[sample] \n",
    "        sample_values = values * sample_mask\n",
    "        avgs.append(np.average(sample_values))\n",
    "    return avgs\n"
   ],
   "metadata": {
    "collapsed": false,
    "pycharm": {
     "name": "#%%\n",
     "is_executing": false
    }
   }
  },
  {
   "cell_type": "code",
   "execution_count": null,
   "outputs": [],
   "source": [
    "corr = dpp.layer_correlations[0]\n",
    "layer_runs = mask.layer_runs[0]\n",
    "true_avgs, naive_avgs, ht_avgs = [], [], []\n",
    "naive_stds, ht_stds = [], []\n",
    "\n",
    "norm = mask.norm[0].detach().cpu().numpy()\n",
    "\n",
    "for i in range(75):\n",
    "    print(i, end=' ')\n",
    "    values = layer_runs[0][i]\n",
    "\n",
    "    dpp_1 = FiniteDPP('likelihood', **{'L': corr})\n",
    "    [dpp_1.sample_exact() for _ in range(20)]\n",
    "    samples = dpp_1.list_of_samples\n",
    "\n",
    "    true_avgs.append(np.average(values))\n",
    "    \n",
    "    naive_avgs.append(np.average(get_averages(samples, values)))\n",
    "    naive_stds.append(np.std(get_averages(samples, values)))\n",
    "    \n",
    "    ht_avgs.append(np.average(get_averages(samples, values, norm)))\n",
    "    ht_stds.append(np.std(get_averages(samples, values, norm)))\n"
   ],
   "metadata": {
    "collapsed": false,
    "pycharm": {
     "name": "#%%\n",
     "is_executing": false
    }
   }
  },
  {
   "cell_type": "code",
   "execution_count": null,
   "outputs": [],
   "source": [
    "import pandas as pd\n",
    "df = pd.DataFrame({\n",
    "    'Naive': np.array(naive_avgs) - np.array(true_avgs),\n",
    "    'HT': np.array(ht_avgs) - np.array(true_avgs)})\n",
    "plt.figure(figsize=(12, 8))\n",
    "plt.title(\"Deviation of average for different normalizations, toy sinus\")\n",
    "sns.barplot(data=df)\n"
   ],
   "metadata": {
    "collapsed": false,
    "pycharm": {
     "name": "#%%\n",
     "is_executing": false
    }
   }
  },
  {
   "cell_type": "code",
   "execution_count": null,
   "outputs": [],
   "source": [
    "df = pd.DataFrame({\n",
    "    'Naive': np.array(naive_stds),\n",
    "    'HT': np.array(ht_stds)})\n",
    "plt.figure(figsize=(12, 8))\n",
    "plt.title(\"Deviation std of average for different normalizations, toy sinus\")\n",
    "sns.barplot(data=df)\n",
    "\n",
    "\n",
    "\n",
    "\n",
    "\n"
   ],
   "metadata": {
    "collapsed": false,
    "pycharm": {
     "name": "#%%\n",
     "is_executing": false
    }
   }
  }
 ],
 "metadata": {
  "kernelspec": {
   "display_name": "Python 3",
   "language": "python",
   "name": "python3"
  },
  "language_info": {
   "codemirror_mode": {
    "name": "ipython",
    "version": 3
   },
   "file_extension": ".py",
   "mimetype": "text/x-python",
   "name": "python",
   "nbconvert_exporter": "python",
   "pygments_lexer": "ipython3",
   "version": "3.7.3"
  },
  "pycharm": {
   "stem_cell": {
    "cell_type": "raw",
    "source": [],
    "metadata": {
     "collapsed": false
    }
   }
  }
 },
 "nbformat": 4,
 "nbformat_minor": 4
}