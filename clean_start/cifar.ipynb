{
 "cells": [
  {
   "cell_type": "code",
   "execution_count": null,
   "outputs": [],
   "source": [
    "import sys\n",
    "sys.path.append('..')\n",
    "%load_ext autoreload\n",
    "%autoreload 2\n",
    "%matplotlib inline\n"
   ],
   "metadata": {
    "collapsed": false,
    "pycharm": {
     "name": "#%%\n",
     "is_executing": false
    }
   }
  },
  {
   "cell_type": "code",
   "execution_count": null,
   "outputs": [],
   "source": [
    "import os\n",
    "from pathlib import Path\n",
    "\n",
    "import torch\n",
    "import numpy as np\n",
    "import seaborn as sns\n",
    "from sklearn.metrics import accuracy_score\n",
    "import matplotlib.pyplot as plt\n",
    "\n",
    "from dataloader.builder import build_dataset\n",
    "\n",
    "from model.cnn import SimpleConv, MediumConv, StrongConv\n",
    "from model.trainer import Trainer, EnsembleTrainer\n",
    "\n",
    "\n",
    "# torch.cuda.set_device(1)\n",
    "#"
   ],
   "metadata": {
    "collapsed": false,
    "pycharm": {
     "name": "#%%\n",
     "is_executing": false
    }
   }
  },
  {
   "cell_type": "code",
   "execution_count": null,
   "outputs": [],
   "source": [
    "plt.rcParams['figure.facecolor'] = 'white'\n",
    "config = {\n",
    "    'use_cuda': True,\n",
    "    'seed': 1,\n",
    "    \n",
    "    'nn_runs': 150,\n",
    "    'patience': 5,\n",
    "    'dropout_train': 0.5,\n",
    "    \n",
    "    'dataset': 'cifar_10',\n",
    "   \n",
    "    'model_class': StrongConv,\n",
    "    'train_samples': 20_000,\n",
    "    'epochs': 10,\n",
    "    'batch_size': 256,\n",
    "    'log_interval': 150,\n",
    "    'lr': 1e-2,\n",
    "    'num_classes': 10\n",
    "}\n",
    "restore_model = False \n"
   ],
   "metadata": {
    "collapsed": false,
    "pycharm": {
     "name": "#%%\n",
     "is_executing": false
    }
   }
  },
  {
   "cell_type": "code",
   "execution_count": null,
   "outputs": [],
   "source": [
    "dataset = build_dataset(config['dataset'], val_size=10_000)\n",
    "x_train, y_train = dataset.dataset('train')\n",
    "x_val, y_val = dataset.dataset('val')\n",
    "\n"
   ],
   "metadata": {
    "collapsed": false,
    "pycharm": {
     "name": "#%%\n",
     "is_executing": false
    }
   }
  },
  {
   "cell_type": "code",
   "execution_count": null,
   "outputs": [],
   "source": [
    "def scale(images):\n",
    "    return (images - 128) / 128\n",
    "x_train = scale(x_train)\n",
    "x_val = scale(x_val)"
   ],
   "metadata": {
    "collapsed": false,
    "pycharm": {
     "name": "#%%\n",
     "is_executing": false
    }
   }
  },
  {
   "cell_type": "code",
   "execution_count": null,
   "outputs": [],
   "source": [
    "input_shape = (-1, 3, 32, 32)\n",
    "x_train = x_train.reshape(input_shape)[:config['train_samples']]\n",
    "x_val = x_val.reshape(input_shape)\n",
    "\n",
    "y_train = y_train.astype('long').reshape(-1)[:config['train_samples']]\n",
    "y_val = y_val.astype('long').reshape(-1)\n",
    "\n",
    "train_set = (x_train, y_train)\n",
    "val_set = (x_val, y_val)\n"
   ],
   "metadata": {
    "collapsed": false,
    "pycharm": {
     "name": "#%%\n",
     "is_executing": false
    }
   }
  },
  {
   "cell_type": "code",
   "execution_count": null,
   "outputs": [],
   "source": [
    "model_class = config['model_class'] \n",
    "model = model_class(config['num_classes'], activation=torch.nn.functional.celu)\n",
    "\n",
    "model_dir = Path('data')\n",
    "model_path = model_dir / f\"model_{config['dataset']}_{config['model_class'].__name__}.pt\"\n"
   ],
   "metadata": {
    "collapsed": false,
    "pycharm": {
     "name": "#%%\n",
     "is_executing": false
    }
   }
  },
  {
   "cell_type": "code",
   "execution_count": null,
   "outputs": [],
   "source": [
    "trainer = Trainer(model, dropout_train=config['dropout_train'])\n",
    "\n",
    "if restore_model and os.path.exists(model_path):\n",
    "    model.load_state_dict(torch.load(model_path))\n",
    "else:\n",
    "    trainer.fit(\n",
    "        train_set, val_set , epochs=config['epochs'], verbose=True,\n",
    "        patience=config['patience'])\n",
    "    torch.save(model.state_dict(), model_path)\n",
    "\n"
   ],
   "metadata": {
    "collapsed": false,
    "pycharm": {
     "name": "#%%\n",
     "is_executing": false
    }
   }
  },
  {
   "cell_type": "code",
   "execution_count": null,
   "outputs": [],
   "source": [
    "accuracy_score(trainer.predict(train_set[0]), train_set[1])\n"
   ],
   "metadata": {
    "collapsed": false,
    "pycharm": {
     "name": "#%%\n",
     "is_executing": false
    }
   }
  },
  {
   "cell_type": "code",
   "execution_count": null,
   "outputs": [],
   "source": [
    "accuracy_score(trainer.predict(val_set[0]), val_set[1])\n"
   ],
   "metadata": {
    "collapsed": false,
    "pycharm": {
     "name": "#%%\n",
     "is_executing": false
    }
   }
  },
  {
   "cell_type": "code",
   "execution_count": null,
   "outputs": [],
   "source": [
    "plt.figure(figsize=(16, 9))\n",
    "plt.plot(trainer.train_loss_history)\n",
    "plt.plot(trainer.val_loss_history)"
   ],
   "metadata": {
    "collapsed": false,
    "pycharm": {
     "name": "#%%\n",
     "is_executing": false
    }
   }
  },
  {
   "cell_type": "code",
   "execution_count": null,
   "outputs": [],
   "source": [
    "\n"
   ],
   "metadata": {
    "collapsed": false,
    "pycharm": {
     "name": "#%%\n",
     "is_executing": false
    }
   }
  }
 ],
 "metadata": {
  "kernelspec": {
   "display_name": "Python 3",
   "language": "python",
   "name": "python3"
  },
  "language_info": {
   "codemirror_mode": {
    "name": "ipython",
    "version": 2
   },
   "file_extension": ".py",
   "mimetype": "text/x-python",
   "name": "python",
   "nbconvert_exporter": "python",
   "pygments_lexer": "ipython2",
   "version": "2.7.6"
  },
  "pycharm": {
   "stem_cell": {
    "cell_type": "raw",
    "source": [],
    "metadata": {
     "collapsed": false
    }
   }
  }
 },
 "nbformat": 4,
 "nbformat_minor": 0
}